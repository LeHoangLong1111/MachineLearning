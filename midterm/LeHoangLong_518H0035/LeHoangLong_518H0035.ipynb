{
  "nbformat": 4,
  "nbformat_minor": 0,
  "metadata": {
    "colab": {
      "name": "demo_btl1_(1) (1).ipynb",
      "provenance": [],
      "collapsed_sections": []
    },
    "kernelspec": {
      "name": "python3",
      "display_name": "Python 3"
    }
  },
  "cells": [
    {
      "cell_type": "code",
      "metadata": {
        "id": "UjLfyDhM-KbD"
      },
      "source": [
        "import pandas as pd\r\n",
        "import matplotlib.pyplot as plt\r\n",
        "import numpy as np"
      ],
      "execution_count": 1,
      "outputs": []
    },
    {
      "cell_type": "code",
      "metadata": {
        "colab": {
          "resources": {
            "http://localhost:8080/nbextensions/google.colab/files.js": {
              "data": "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",
              "ok": true,
              "headers": [
                [
                  "content-type",
                  "application/javascript"
                ]
              ],
              "status": 200,
              "status_text": ""
            }
          },
          "base_uri": "https://localhost:8080/",
          "height": 72
        },
        "id": "hnGFhPA5C1iP",
        "outputId": "32e3a05c-4259-479b-9edf-468a6cdf0106"
      },
      "source": [
        "from google.colab import files\r\n",
        "uploaded = files.upload()"
      ],
      "execution_count": 3,
      "outputs": [
        {
          "output_type": "display_data",
          "data": {
            "text/html": [
              "\n",
              "     <input type=\"file\" id=\"files-6aa057e9-9638-4e7e-852a-e86346e6dd62\" name=\"files[]\" multiple disabled\n",
              "        style=\"border:none\" />\n",
              "     <output id=\"result-6aa057e9-9638-4e7e-852a-e86346e6dd62\">\n",
              "      Upload widget is only available when the cell has been executed in the\n",
              "      current browser session. Please rerun this cell to enable.\n",
              "      </output>\n",
              "      <script src=\"/nbextensions/google.colab/files.js\"></script> "
            ],
            "text/plain": [
              "<IPython.core.display.HTML object>"
            ]
          },
          "metadata": {
            "tags": []
          }
        },
        {
          "output_type": "stream",
          "text": [
            "Saving post-operative.data to post-operative.data\n"
          ],
          "name": "stdout"
        }
      ]
    },
    {
      "cell_type": "code",
      "metadata": {
        "colab": {
          "base_uri": "https://localhost:8080/",
          "height": 419
        },
        "id": "1_G2FFzhDXii",
        "outputId": "1dc17152-391a-4a2f-bf0b-4228bfbce156"
      },
      "source": [
        "import pandas as pd\r\n",
        "import io\r\n",
        "\r\n",
        "dataframe = pd.read_csv(io.StringIO(uploaded['post-operative.data'].decode('utf-8')), names=[\"L-CORE\", \"L-SURF\", \"L-O2\", \"L-BP\", \"SURF-STBL\", \"CORE-STBL\", \"BP-STBL\", \"COMFORT\", \"ADM-DECS\"])\r\n",
        "dataframe"
      ],
      "execution_count": 4,
      "outputs": [
        {
          "output_type": "execute_result",
          "data": {
            "text/html": [
              "<div>\n",
              "<style scoped>\n",
              "    .dataframe tbody tr th:only-of-type {\n",
              "        vertical-align: middle;\n",
              "    }\n",
              "\n",
              "    .dataframe tbody tr th {\n",
              "        vertical-align: top;\n",
              "    }\n",
              "\n",
              "    .dataframe thead th {\n",
              "        text-align: right;\n",
              "    }\n",
              "</style>\n",
              "<table border=\"1\" class=\"dataframe\">\n",
              "  <thead>\n",
              "    <tr style=\"text-align: right;\">\n",
              "      <th></th>\n",
              "      <th>L-CORE</th>\n",
              "      <th>L-SURF</th>\n",
              "      <th>L-O2</th>\n",
              "      <th>L-BP</th>\n",
              "      <th>SURF-STBL</th>\n",
              "      <th>CORE-STBL</th>\n",
              "      <th>BP-STBL</th>\n",
              "      <th>COMFORT</th>\n",
              "      <th>ADM-DECS</th>\n",
              "    </tr>\n",
              "  </thead>\n",
              "  <tbody>\n",
              "    <tr>\n",
              "      <th>0</th>\n",
              "      <td>mid</td>\n",
              "      <td>low</td>\n",
              "      <td>excellent</td>\n",
              "      <td>mid</td>\n",
              "      <td>stable</td>\n",
              "      <td>stable</td>\n",
              "      <td>stable</td>\n",
              "      <td>15</td>\n",
              "      <td>A</td>\n",
              "    </tr>\n",
              "    <tr>\n",
              "      <th>1</th>\n",
              "      <td>mid</td>\n",
              "      <td>high</td>\n",
              "      <td>excellent</td>\n",
              "      <td>high</td>\n",
              "      <td>stable</td>\n",
              "      <td>stable</td>\n",
              "      <td>stable</td>\n",
              "      <td>10</td>\n",
              "      <td>S</td>\n",
              "    </tr>\n",
              "    <tr>\n",
              "      <th>2</th>\n",
              "      <td>high</td>\n",
              "      <td>low</td>\n",
              "      <td>excellent</td>\n",
              "      <td>high</td>\n",
              "      <td>stable</td>\n",
              "      <td>stable</td>\n",
              "      <td>mod-stable</td>\n",
              "      <td>10</td>\n",
              "      <td>A</td>\n",
              "    </tr>\n",
              "    <tr>\n",
              "      <th>3</th>\n",
              "      <td>mid</td>\n",
              "      <td>low</td>\n",
              "      <td>good</td>\n",
              "      <td>high</td>\n",
              "      <td>stable</td>\n",
              "      <td>unstable</td>\n",
              "      <td>mod-stable</td>\n",
              "      <td>15</td>\n",
              "      <td>A</td>\n",
              "    </tr>\n",
              "    <tr>\n",
              "      <th>4</th>\n",
              "      <td>mid</td>\n",
              "      <td>mid</td>\n",
              "      <td>excellent</td>\n",
              "      <td>high</td>\n",
              "      <td>stable</td>\n",
              "      <td>stable</td>\n",
              "      <td>stable</td>\n",
              "      <td>10</td>\n",
              "      <td>A</td>\n",
              "    </tr>\n",
              "    <tr>\n",
              "      <th>...</th>\n",
              "      <td>...</td>\n",
              "      <td>...</td>\n",
              "      <td>...</td>\n",
              "      <td>...</td>\n",
              "      <td>...</td>\n",
              "      <td>...</td>\n",
              "      <td>...</td>\n",
              "      <td>...</td>\n",
              "      <td>...</td>\n",
              "    </tr>\n",
              "    <tr>\n",
              "      <th>85</th>\n",
              "      <td>mid</td>\n",
              "      <td>mid</td>\n",
              "      <td>excellent</td>\n",
              "      <td>mid</td>\n",
              "      <td>unstable</td>\n",
              "      <td>stable</td>\n",
              "      <td>stable</td>\n",
              "      <td>10</td>\n",
              "      <td>A</td>\n",
              "    </tr>\n",
              "    <tr>\n",
              "      <th>86</th>\n",
              "      <td>mid</td>\n",
              "      <td>mid</td>\n",
              "      <td>excellent</td>\n",
              "      <td>mid</td>\n",
              "      <td>unstable</td>\n",
              "      <td>stable</td>\n",
              "      <td>stable</td>\n",
              "      <td>15</td>\n",
              "      <td>S</td>\n",
              "    </tr>\n",
              "    <tr>\n",
              "      <th>87</th>\n",
              "      <td>mid</td>\n",
              "      <td>mid</td>\n",
              "      <td>good</td>\n",
              "      <td>mid</td>\n",
              "      <td>unstable</td>\n",
              "      <td>stable</td>\n",
              "      <td>stable</td>\n",
              "      <td>15</td>\n",
              "      <td>A</td>\n",
              "    </tr>\n",
              "    <tr>\n",
              "      <th>88</th>\n",
              "      <td>mid</td>\n",
              "      <td>mid</td>\n",
              "      <td>excellent</td>\n",
              "      <td>mid</td>\n",
              "      <td>unstable</td>\n",
              "      <td>stable</td>\n",
              "      <td>stable</td>\n",
              "      <td>10</td>\n",
              "      <td>A</td>\n",
              "    </tr>\n",
              "    <tr>\n",
              "      <th>89</th>\n",
              "      <td>mid</td>\n",
              "      <td>mid</td>\n",
              "      <td>good</td>\n",
              "      <td>mid</td>\n",
              "      <td>unstable</td>\n",
              "      <td>stable</td>\n",
              "      <td>stable</td>\n",
              "      <td>15</td>\n",
              "      <td>S</td>\n",
              "    </tr>\n",
              "  </tbody>\n",
              "</table>\n",
              "<p>90 rows × 9 columns</p>\n",
              "</div>"
            ],
            "text/plain": [
              "   L-CORE L-SURF       L-O2  L-BP  ... CORE-STBL     BP-STBL COMFORT ADM-DECS\n",
              "0     mid    low  excellent   mid  ...    stable      stable      15        A\n",
              "1     mid   high  excellent  high  ...    stable      stable      10        S\n",
              "2    high    low  excellent  high  ...    stable  mod-stable      10        A\n",
              "3     mid    low       good  high  ...  unstable  mod-stable      15       A \n",
              "4     mid    mid  excellent  high  ...    stable      stable      10        A\n",
              "..    ...    ...        ...   ...  ...       ...         ...     ...      ...\n",
              "85    mid    mid  excellent   mid  ...    stable      stable      10        A\n",
              "86    mid    mid  excellent   mid  ...    stable      stable      15        S\n",
              "87    mid    mid       good   mid  ...    stable      stable      15        A\n",
              "88    mid    mid  excellent   mid  ...    stable      stable      10        A\n",
              "89    mid    mid       good   mid  ...    stable      stable      15        S\n",
              "\n",
              "[90 rows x 9 columns]"
            ]
          },
          "metadata": {
            "tags": []
          },
          "execution_count": 4
        }
      ]
    },
    {
      "cell_type": "code",
      "metadata": {
        "id": "XQ5FOr2QPPKD"
      },
      "source": [
        "**1) Mô tả dữ liệu, vẽ đồ thị về dữ liệu?**\r\n",
        "  *1.1) Mô tả dữ liệu:\r\n",
        "    - L-CORE (nhiệt độ bên trong cơ thể của bệnh nhân tính bằng C):\r\n",
        "      high (> 37), mid (>= 36 and <= 37), low (< 36)\r\n",
        "    - L-SURF (nhiệt độ bề mặt da của bệnh nhân tính bằng C):\r\n",
        "      high (> 36.5), mid (>= 36.5 and <= 35), low (< 35)\r\n",
        "    - L-O2 (độ bão hòa oxy theo%):\r\n",
        "      excellent (>= 98), good (>= 90 and < 98), fair (>= 80 and < 90), poor (< 80)\r\n",
        "    - L-BP (lần đo huyết áp cuối cùng):\r\n",
        "      high (> 130/90), mid (<= 130/90 and >= 90/70), low (< 90/70)\r\n",
        "    - SURF-STBL (ổn định nhiệt độ bề mặt của bệnh nhân):\r\n",
        "       stable, mod-stable, unstable\r\n",
        "    - CORE-STBL (ổn định thân nhiệt của bệnh nhân):\r\n",
        "       stable, mod-stable, unstable\r\n",
        "    - BP-STBL (ổn định huyết áp của bệnh nhân):\r\n",
        "      stable, mod-stable, unstable\r\n",
        "    - COMFORT(cảm giác thoải mái của bệnh nhân khi xuất viện, được đo bằng một số nguyên từ 0 đến 20)\r\n",
        "    - quyết định ADM-DECS (quyết định xuất viện):\r\n",
        "      I (bệnh nhân được đưa đến Đơn vị Chăm sóc Đặc biệt),\r\n",
        "      S (bệnh nhân chuẩn bị về nhà),\r\n",
        "      A (bệnh nhân được đưa đến bệnh viện đa khoa sàn)"
      ],
      "execution_count": null,
      "outputs": []
    },
    {
      "cell_type": "code",
      "metadata": {
        "id": "Xu0LLp5ox7fy"
      },
      "source": [
        "  *1.2)Vẽ đồ thị dữ liệu"
      ],
      "execution_count": null,
      "outputs": []
    },
    {
      "cell_type": "code",
      "metadata": {
        "colab": {
          "base_uri": "https://localhost:8080/",
          "height": 295
        },
        "id": "-6wWF82QxSaM",
        "outputId": "0beecece-3d58-4f47-db0b-d5b5c7e5b92b"
      },
      "source": [
        "dataframe['L-CORE'].value_counts().plot(kind='bar')"
      ],
      "execution_count": null,
      "outputs": [
        {
          "output_type": "execute_result",
          "data": {
            "text/plain": [
              "<matplotlib.axes._subplots.AxesSubplot at 0x7fd4e710efd0>"
            ]
          },
          "metadata": {
            "tags": []
          },
          "execution_count": 5
        },
        {
          "output_type": "display_data",
          "data": {
            "image/png": "[encoded data removed]",
            "text/plain": [
              "<Figure size 432x288 with 1 Axes>"
            ]
          },
          "metadata": {
            "tags": [],
            "needs_background": "light"
          }
        }
      ]
    },
    {
      "cell_type": "code",
      "metadata": {
        "colab": {
          "base_uri": "https://localhost:8080/",
          "height": 297
        },
        "id": "grk7pC-vyDww",
        "outputId": "b4360e5b-78e5-4cdf-c109-a9b70af4d26f"
      },
      "source": [
        "dataframe['L-SURF'].value_counts().plot(kind='bar')"
      ],
      "execution_count": null,
      "outputs": [
        {
          "output_type": "execute_result",
          "data": {
            "text/plain": [
              "<matplotlib.axes._subplots.AxesSubplot at 0x7fd4e7054c18>"
            ]
          },
          "metadata": {
            "tags": []
          },
          "execution_count": 6
        },
        {
          "output_type": "display_data",
          "data": {
            "image/png": "[encoded data removed]",
            "text/plain": [
              "<Figure size 432x288 with 1 Axes>"
            ]
          },
          "metadata": {
            "tags": [],
            "needs_background": "light"
          }
        }
      ]
    },
    {
      "cell_type": "code",
      "metadata": {
        "colab": {
          "base_uri": "https://localhost:8080/",
          "height": 318
        },
        "id": "W5kQgkxhyOWw",
        "outputId": "560c8735-723c-4202-cf3f-44830b828793"
      },
      "source": [
        "dataframe['L-O2'].value_counts().plot(kind='bar')"
      ],
      "execution_count": null,
      "outputs": [
        {
          "output_type": "execute_result",
          "data": {
            "text/plain": [
              "<matplotlib.axes._subplots.AxesSubplot at 0x7fd4e6b44160>"
            ]
          },
          "metadata": {
            "tags": []
          },
          "execution_count": 7
        },
        {
          "output_type": "display_data",
          "data": {
            "image/png": "[encoded data removed]",
            "text/plain": [
              "<Figure size 432x288 with 1 Axes>"
            ]
          },
          "metadata": {
            "tags": [],
            "needs_background": "light"
          }
        }
      ]
    },
    {
      "cell_type": "code",
      "metadata": {
        "colab": {
          "base_uri": "https://localhost:8080/",
          "height": 294
        },
        "id": "QgMO9Hn9yTgQ",
        "outputId": "c1552aa8-73c0-470b-a7f0-efa9916193fc"
      },
      "source": [
        "dataframe['L-BP'].value_counts().plot(kind='bar')"
      ],
      "execution_count": null,
      "outputs": [
        {
          "output_type": "execute_result",
          "data": {
            "text/plain": [
              "<matplotlib.axes._subplots.AxesSubplot at 0x7fd4e6aab198>"
            ]
          },
          "metadata": {
            "tags": []
          },
          "execution_count": 8
        },
        {
          "output_type": "display_data",
          "data": {
            "image/png": "[encoded data removed]",
            "text/plain": [
              "<Figure size 432x288 with 1 Axes>"
            ]
          },
          "metadata": {
            "tags": [],
            "needs_background": "light"
          }
        }
      ]
    },
    {
      "cell_type": "code",
      "metadata": {
        "colab": {
          "base_uri": "https://localhost:8080/",
          "height": 316
        },
        "id": "Zoex6QF1yZ88",
        "outputId": "9f9d8dc9-d935-41f4-e9a8-b3289e888a04"
      },
      "source": [
        "dataframe['SURF-STBL'].value_counts().plot(kind='bar')"
      ],
      "execution_count": null,
      "outputs": [
        {
          "output_type": "execute_result",
          "data": {
            "text/plain": [
              "<matplotlib.axes._subplots.AxesSubplot at 0x7fd4e709c978>"
            ]
          },
          "metadata": {
            "tags": []
          },
          "execution_count": 9
        },
        {
          "output_type": "display_data",
          "data": {
            "image/png": "[encoded data removed]",
            "text/plain": [
              "<Figure size 432x288 with 1 Axes>"
            ]
          },
          "metadata": {
            "tags": [],
            "needs_background": "light"
          }
        }
      ]
    },
    {
      "cell_type": "code",
      "metadata": {
        "colab": {
          "base_uri": "https://localhost:8080/",
          "height": 328
        },
        "id": "C_z5CBu2ykD5",
        "outputId": "bb690a39-e829-414c-baae-b7a7cd8906ad"
      },
      "source": [
        "dataframe['CORE-STBL'].value_counts().plot(kind='bar')"
      ],
      "execution_count": null,
      "outputs": [
        {
          "output_type": "execute_result",
          "data": {
            "text/plain": [
              "<matplotlib.axes._subplots.AxesSubplot at 0x7fd4e6b4e240>"
            ]
          },
          "metadata": {
            "tags": []
          },
          "execution_count": 10
        },
        {
          "output_type": "display_data",
          "data": {
            "image/png": "[encoded data removed]",
            "text/plain": [
              "<Figure size 432x288 with 1 Axes>"
            ]
          },
          "metadata": {
            "tags": [],
            "needs_background": "light"
          }
        }
      ]
    },
    {
      "cell_type": "code",
      "metadata": {
        "colab": {
          "base_uri": "https://localhost:8080/",
          "height": 328
        },
        "id": "023C24SWyrDr",
        "outputId": "0a063f73-e869-4b35-d2eb-36049ccc4ae4"
      },
      "source": [
        "dataframe['BP-STBL'].value_counts().plot(kind='bar')"
      ],
      "execution_count": null,
      "outputs": [
        {
          "output_type": "execute_result",
          "data": {
            "text/plain": [
              "<matplotlib.axes._subplots.AxesSubplot at 0x7fd4e69ca6d8>"
            ]
          },
          "metadata": {
            "tags": []
          },
          "execution_count": 11
        },
        {
          "output_type": "display_data",
          "data": {
            "image/png": "[encoded data removed]",
            "text/plain": [
              "<Figure size 432x288 with 1 Axes>"
            ]
          },
          "metadata": {
            "tags": [],
            "needs_background": "light"
          }
        }
      ]
    },
    {
      "cell_type": "code",
      "metadata": {
        "colab": {
          "base_uri": "https://localhost:8080/",
          "height": 285
        },
        "id": "xlERAUqsyvIs",
        "outputId": "9a51a472-ecf2-4af8-a47f-b715c8068e3d"
      },
      "source": [
        "dataframe['COMFORT'].value_counts().plot(kind='bar')"
      ],
      "execution_count": null,
      "outputs": [
        {
          "output_type": "execute_result",
          "data": {
            "text/plain": [
              "<matplotlib.axes._subplots.AxesSubplot at 0x7fd4e693df28>"
            ]
          },
          "metadata": {
            "tags": []
          },
          "execution_count": 12
        },
        {
          "output_type": "display_data",
          "data": {
            "image/png": "[encoded data removed]",
            "text/plain": [
              "<Figure size 432x288 with 1 Axes>"
            ]
          },
          "metadata": {
            "tags": [],
            "needs_background": "light"
          }
        }
      ]
    },
    {
      "cell_type": "code",
      "metadata": {
        "colab": {
          "base_uri": "https://localhost:8080/",
          "height": 282
        },
        "id": "cXHOcrdty1h9",
        "outputId": "4390748c-1855-4c00-fd95-4eb42b7cc7ab"
      },
      "source": [
        "dataframe['ADM-DECS'].value_counts().plot(kind='bar')"
      ],
      "execution_count": null,
      "outputs": [
        {
          "output_type": "execute_result",
          "data": {
            "text/plain": [
              "<matplotlib.axes._subplots.AxesSubplot at 0x7fd4e6922f28>"
            ]
          },
          "metadata": {
            "tags": []
          },
          "execution_count": 13
        },
        {
          "output_type": "display_data",
          "data": {
            "image/png": "[encoded data removed]",
            "text/plain": [
              "<Figure size 432x288 with 1 Axes>"
            ]
          },
          "metadata": {
            "tags": [],
            "needs_background": "light"
          }
        }
      ]
    },
    {
      "cell_type": "code",
      "metadata": {
        "id": "PLNm4KF00Cm2"
      },
      "source": [
        "2) Chuẩn hoá dữ liệu trước khi đưa vào mô hình, xử lý missing data nếu có"
      ],
      "execution_count": null,
      "outputs": []
    },
    {
      "cell_type": "code",
      "metadata": {
        "id": "6gxs3kpyPMtv"
      },
      "source": [
        "  2.1) Xử lí missing data"
      ],
      "execution_count": null,
      "outputs": []
    },
    {
      "cell_type": "code",
      "metadata": {
        "colab": {
          "base_uri": "https://localhost:8080/"
        },
        "id": "2kmbCEPe1PAX",
        "outputId": "9fc80210-2578-4fc4-db30-0044d8e5d328"
      },
      "source": [
        "countLcore=0\r\n",
        "for i in dataframe['L-CORE']:\r\n",
        "  if i == '?':\r\n",
        "    countLcore = countLcore + 1\r\n",
        "print ('Count of \"?\" in L-CORE: ' + str(countLcore))\r\n",
        "\r\n",
        "countLsurf=0\r\n",
        "for i in dataframe['L-SURF']:\r\n",
        "  if i == '?':\r\n",
        "    countLsurf = countLcore + 1\r\n",
        "print ('Count of \"?\" in L-SURF: ' + str(countLsurf))\r\n",
        "\r\n",
        "countLo2=0\r\n",
        "for i in dataframe['L-O2']:\r\n",
        "  if i == '?':\r\n",
        "    countLo2 = countLo2 + 1\r\n",
        "print ('Count of \"?\" in L-O2: ' + str(countLo2))\r\n",
        "\r\n",
        "countLbp=0\r\n",
        "for i in dataframe['L-BP']:\r\n",
        "  if i == '?':\r\n",
        "    countLbp = countLbp + 1\r\n",
        "print ('Count of \"?\" in L-BP: ' + str(countLbp))\r\n",
        "\r\n",
        "countSurfStbl=0\r\n",
        "for i in dataframe['SURF-STBL']:\r\n",
        "  if i == '?':\r\n",
        "    countSurfStbl = countSurfStbl + 1\r\n",
        "print ('Count of \"?\" in SURF-STBL: ' + str(countSurfStbl))\r\n",
        "\r\n",
        "countCoreStbl=0\r\n",
        "for i in dataframe['CORE-STBL']:\r\n",
        "  if i == '?':\r\n",
        "    countCoreStbl = countCoreStbl + 1\r\n",
        "print ('Count of \"?\" in CORE-STBL: ' + str(countCoreStbl))\r\n",
        "\r\n",
        "\r\n",
        "countBpStbl=0\r\n",
        "for i in dataframe['BP-STBL']:\r\n",
        "  if i == '?':\r\n",
        "    countBpStbl = countBpStbl + 1\r\n",
        "print ('Count of \"?\" in BP-STBL: ' + str(countBpStbl))\r\n",
        "\r\n",
        "countComfort=0\r\n",
        "for i in dataframe['COMFORT']:\r\n",
        "  if i == '?':\r\n",
        "    countComfort = countComfort + 1\r\n",
        "print ('Count of \"?\" in COMFORT: ' + str(countComfort))\r\n",
        "\r\n",
        "countAdmDecs=0\r\n",
        "for i in dataframe['ADM-DECS']:\r\n",
        "  if i == '?':\r\n",
        "    countAdmDecs = countAdmDecs + 1\r\n",
        "print ('Count of \"?\" in ADM-DECS: ' + str(countAdmDecs))"
      ],
      "execution_count": null,
      "outputs": [
        {
          "output_type": "stream",
          "text": [
            "Count of \"?\" in L-CORE: 0\n",
            "Count of \"?\" in L-SURF: 0\n",
            "Count of \"?\" in L-O2: 0\n",
            "Count of \"?\" in L-BP: 0\n",
            "Count of \"?\" in SURF-STBL: 0\n",
            "Count of \"?\" in CORE-STBL: 0\n",
            "Count of \"?\" in BP-STBL: 0\n",
            "Count of \"?\" in COMFORT: 3\n",
            "Count of \"?\" in ADM-DECS: 0\n"
          ],
          "name": "stdout"
        }
      ]
    },
    {
      "cell_type": "code",
      "metadata": {
        "colab": {
          "base_uri": "https://localhost:8080/"
        },
        "id": "MK0jSb5B6Lhh",
        "outputId": "3cb1ddee-bd41-4d5e-9647-d41fa84f1f01"
      },
      "source": [
        "index=0\r\n",
        "print('Các dòng bị missing data: ')\r\n",
        "for row in dataframe.itertuples():\r\n",
        "  for column in row:\r\n",
        "    if column=='?':\r\n",
        "      print(index)\r\n",
        "  index = index+1"
      ],
      "execution_count": null,
      "outputs": [
        {
          "output_type": "stream",
          "text": [
            "Các dòng bị missing data: \n",
            "46\n",
            "48\n",
            "70\n"
          ],
          "name": "stdout"
        }
      ]
    },
    {
      "cell_type": "code",
      "metadata": {
        "colab": {
          "base_uri": "https://localhost:8080/",
          "height": 80
        },
        "id": "qi6TkHY_-uLu",
        "outputId": "1114c66b-dcd8-4874-a9bc-9bc87827466e"
      },
      "source": [
        "dataframe.iloc[[46]]"
      ],
      "execution_count": null,
      "outputs": [
        {
          "output_type": "execute_result",
          "data": {
            "text/html": [
              "<div>\n",
              "<style scoped>\n",
              "    .dataframe tbody tr th:only-of-type {\n",
              "        vertical-align: middle;\n",
              "    }\n",
              "\n",
              "    .dataframe tbody tr th {\n",
              "        vertical-align: top;\n",
              "    }\n",
              "\n",
              "    .dataframe thead th {\n",
              "        text-align: right;\n",
              "    }\n",
              "</style>\n",
              "<table border=\"1\" class=\"dataframe\">\n",
              "  <thead>\n",
              "    <tr style=\"text-align: right;\">\n",
              "      <th></th>\n",
              "      <th>L-CORE</th>\n",
              "      <th>L-SURF</th>\n",
              "      <th>L-O2</th>\n",
              "      <th>L-BP</th>\n",
              "      <th>SURF-STBL</th>\n",
              "      <th>CORE-STBL</th>\n",
              "      <th>BP-STBL</th>\n",
              "      <th>COMFORT</th>\n",
              "      <th>ADM-DECS</th>\n",
              "    </tr>\n",
              "  </thead>\n",
              "  <tbody>\n",
              "    <tr>\n",
              "      <th>46</th>\n",
              "      <td>low</td>\n",
              "      <td>mid</td>\n",
              "      <td>good</td>\n",
              "      <td>high</td>\n",
              "      <td>unstable</td>\n",
              "      <td>stable</td>\n",
              "      <td>stable</td>\n",
              "      <td>?</td>\n",
              "      <td>I</td>\n",
              "    </tr>\n",
              "  </tbody>\n",
              "</table>\n",
              "</div>"
            ],
            "text/plain": [
              "   L-CORE L-SURF  L-O2  L-BP SURF-STBL CORE-STBL BP-STBL COMFORT ADM-DECS\n",
              "46    low    mid  good  high  unstable    stable  stable       ?        I"
            ]
          },
          "metadata": {
            "tags": []
          },
          "execution_count": 23
        }
      ]
    },
    {
      "cell_type": "code",
      "metadata": {
        "colab": {
          "base_uri": "https://localhost:8080/",
          "height": 80
        },
        "id": "iUgiJTIB-0TJ",
        "outputId": "0ceb4e6c-0de3-4f00-a1e6-b91b8c5a4ead"
      },
      "source": [
        "dataframe.iloc[[48]]"
      ],
      "execution_count": null,
      "outputs": [
        {
          "output_type": "execute_result",
          "data": {
            "text/html": [
              "<div>\n",
              "<style scoped>\n",
              "    .dataframe tbody tr th:only-of-type {\n",
              "        vertical-align: middle;\n",
              "    }\n",
              "\n",
              "    .dataframe tbody tr th {\n",
              "        vertical-align: top;\n",
              "    }\n",
              "\n",
              "    .dataframe thead th {\n",
              "        text-align: right;\n",
              "    }\n",
              "</style>\n",
              "<table border=\"1\" class=\"dataframe\">\n",
              "  <thead>\n",
              "    <tr style=\"text-align: right;\">\n",
              "      <th></th>\n",
              "      <th>L-CORE</th>\n",
              "      <th>L-SURF</th>\n",
              "      <th>L-O2</th>\n",
              "      <th>L-BP</th>\n",
              "      <th>SURF-STBL</th>\n",
              "      <th>CORE-STBL</th>\n",
              "      <th>BP-STBL</th>\n",
              "      <th>COMFORT</th>\n",
              "      <th>ADM-DECS</th>\n",
              "    </tr>\n",
              "  </thead>\n",
              "  <tbody>\n",
              "    <tr>\n",
              "      <th>48</th>\n",
              "      <td>high</td>\n",
              "      <td>high</td>\n",
              "      <td>excellent</td>\n",
              "      <td>high</td>\n",
              "      <td>stable</td>\n",
              "      <td>stable</td>\n",
              "      <td>unstable</td>\n",
              "      <td>?</td>\n",
              "      <td>A</td>\n",
              "    </tr>\n",
              "  </tbody>\n",
              "</table>\n",
              "</div>"
            ],
            "text/plain": [
              "   L-CORE L-SURF       L-O2  L-BP  ... CORE-STBL   BP-STBL COMFORT ADM-DECS\n",
              "48   high   high  excellent  high  ...    stable  unstable       ?        A\n",
              "\n",
              "[1 rows x 9 columns]"
            ]
          },
          "metadata": {
            "tags": []
          },
          "execution_count": 24
        }
      ]
    },
    {
      "cell_type": "code",
      "metadata": {
        "colab": {
          "base_uri": "https://localhost:8080/",
          "height": 80
        },
        "id": "NtZ3N8ub-2JJ",
        "outputId": "2e628ce1-106e-4c9d-a8f2-b0e4c7447269"
      },
      "source": [
        "dataframe.iloc[[70]]"
      ],
      "execution_count": null,
      "outputs": [
        {
          "output_type": "execute_result",
          "data": {
            "text/html": [
              "<div>\n",
              "<style scoped>\n",
              "    .dataframe tbody tr th:only-of-type {\n",
              "        vertical-align: middle;\n",
              "    }\n",
              "\n",
              "    .dataframe tbody tr th {\n",
              "        vertical-align: top;\n",
              "    }\n",
              "\n",
              "    .dataframe thead th {\n",
              "        text-align: right;\n",
              "    }\n",
              "</style>\n",
              "<table border=\"1\" class=\"dataframe\">\n",
              "  <thead>\n",
              "    <tr style=\"text-align: right;\">\n",
              "      <th></th>\n",
              "      <th>L-CORE</th>\n",
              "      <th>L-SURF</th>\n",
              "      <th>L-O2</th>\n",
              "      <th>L-BP</th>\n",
              "      <th>SURF-STBL</th>\n",
              "      <th>CORE-STBL</th>\n",
              "      <th>BP-STBL</th>\n",
              "      <th>COMFORT</th>\n",
              "      <th>ADM-DECS</th>\n",
              "    </tr>\n",
              "  </thead>\n",
              "  <tbody>\n",
              "    <tr>\n",
              "      <th>70</th>\n",
              "      <td>mid</td>\n",
              "      <td>low</td>\n",
              "      <td>excellent</td>\n",
              "      <td>mid</td>\n",
              "      <td>unstable</td>\n",
              "      <td>unstable</td>\n",
              "      <td>unstable</td>\n",
              "      <td>?</td>\n",
              "      <td>A</td>\n",
              "    </tr>\n",
              "  </tbody>\n",
              "</table>\n",
              "</div>"
            ],
            "text/plain": [
              "   L-CORE L-SURF       L-O2 L-BP SURF-STBL CORE-STBL   BP-STBL COMFORT ADM-DECS\n",
              "70    mid    low  excellent  mid  unstable  unstable  unstable       ?        A"
            ]
          },
          "metadata": {
            "tags": []
          },
          "execution_count": 25
        }
      ]
    },
    {
      "cell_type": "code",
      "metadata": {
        "colab": {
          "base_uri": "https://localhost:8080/",
          "height": 419
        },
        "id": "LIbtCK1i-5RM",
        "outputId": "6b32ebf0-d957-4047-9858-b92cb61cb172"
      },
      "source": [
        "dataframe1=dataframe\r\n",
        "dataframe1"
      ],
      "execution_count": 5,
      "outputs": [
        {
          "output_type": "execute_result",
          "data": {
            "text/html": [
              "<div>\n",
              "<style scoped>\n",
              "    .dataframe tbody tr th:only-of-type {\n",
              "        vertical-align: middle;\n",
              "    }\n",
              "\n",
              "    .dataframe tbody tr th {\n",
              "        vertical-align: top;\n",
              "    }\n",
              "\n",
              "    .dataframe thead th {\n",
              "        text-align: right;\n",
              "    }\n",
              "</style>\n",
              "<table border=\"1\" class=\"dataframe\">\n",
              "  <thead>\n",
              "    <tr style=\"text-align: right;\">\n",
              "      <th></th>\n",
              "      <th>L-CORE</th>\n",
              "      <th>L-SURF</th>\n",
              "      <th>L-O2</th>\n",
              "      <th>L-BP</th>\n",
              "      <th>SURF-STBL</th>\n",
              "      <th>CORE-STBL</th>\n",
              "      <th>BP-STBL</th>\n",
              "      <th>COMFORT</th>\n",
              "      <th>ADM-DECS</th>\n",
              "    </tr>\n",
              "  </thead>\n",
              "  <tbody>\n",
              "    <tr>\n",
              "      <th>0</th>\n",
              "      <td>mid</td>\n",
              "      <td>low</td>\n",
              "      <td>excellent</td>\n",
              "      <td>mid</td>\n",
              "      <td>stable</td>\n",
              "      <td>stable</td>\n",
              "      <td>stable</td>\n",
              "      <td>15</td>\n",
              "      <td>A</td>\n",
              "    </tr>\n",
              "    <tr>\n",
              "      <th>1</th>\n",
              "      <td>mid</td>\n",
              "      <td>high</td>\n",
              "      <td>excellent</td>\n",
              "      <td>high</td>\n",
              "      <td>stable</td>\n",
              "      <td>stable</td>\n",
              "      <td>stable</td>\n",
              "      <td>10</td>\n",
              "      <td>S</td>\n",
              "    </tr>\n",
              "    <tr>\n",
              "      <th>2</th>\n",
              "      <td>high</td>\n",
              "      <td>low</td>\n",
              "      <td>excellent</td>\n",
              "      <td>high</td>\n",
              "      <td>stable</td>\n",
              "      <td>stable</td>\n",
              "      <td>mod-stable</td>\n",
              "      <td>10</td>\n",
              "      <td>A</td>\n",
              "    </tr>\n",
              "    <tr>\n",
              "      <th>3</th>\n",
              "      <td>mid</td>\n",
              "      <td>low</td>\n",
              "      <td>good</td>\n",
              "      <td>high</td>\n",
              "      <td>stable</td>\n",
              "      <td>unstable</td>\n",
              "      <td>mod-stable</td>\n",
              "      <td>15</td>\n",
              "      <td>A</td>\n",
              "    </tr>\n",
              "    <tr>\n",
              "      <th>4</th>\n",
              "      <td>mid</td>\n",
              "      <td>mid</td>\n",
              "      <td>excellent</td>\n",
              "      <td>high</td>\n",
              "      <td>stable</td>\n",
              "      <td>stable</td>\n",
              "      <td>stable</td>\n",
              "      <td>10</td>\n",
              "      <td>A</td>\n",
              "    </tr>\n",
              "    <tr>\n",
              "      <th>...</th>\n",
              "      <td>...</td>\n",
              "      <td>...</td>\n",
              "      <td>...</td>\n",
              "      <td>...</td>\n",
              "      <td>...</td>\n",
              "      <td>...</td>\n",
              "      <td>...</td>\n",
              "      <td>...</td>\n",
              "      <td>...</td>\n",
              "    </tr>\n",
              "    <tr>\n",
              "      <th>85</th>\n",
              "      <td>mid</td>\n",
              "      <td>mid</td>\n",
              "      <td>excellent</td>\n",
              "      <td>mid</td>\n",
              "      <td>unstable</td>\n",
              "      <td>stable</td>\n",
              "      <td>stable</td>\n",
              "      <td>10</td>\n",
              "      <td>A</td>\n",
              "    </tr>\n",
              "    <tr>\n",
              "      <th>86</th>\n",
              "      <td>mid</td>\n",
              "      <td>mid</td>\n",
              "      <td>excellent</td>\n",
              "      <td>mid</td>\n",
              "      <td>unstable</td>\n",
              "      <td>stable</td>\n",
              "      <td>stable</td>\n",
              "      <td>15</td>\n",
              "      <td>S</td>\n",
              "    </tr>\n",
              "    <tr>\n",
              "      <th>87</th>\n",
              "      <td>mid</td>\n",
              "      <td>mid</td>\n",
              "      <td>good</td>\n",
              "      <td>mid</td>\n",
              "      <td>unstable</td>\n",
              "      <td>stable</td>\n",
              "      <td>stable</td>\n",
              "      <td>15</td>\n",
              "      <td>A</td>\n",
              "    </tr>\n",
              "    <tr>\n",
              "      <th>88</th>\n",
              "      <td>mid</td>\n",
              "      <td>mid</td>\n",
              "      <td>excellent</td>\n",
              "      <td>mid</td>\n",
              "      <td>unstable</td>\n",
              "      <td>stable</td>\n",
              "      <td>stable</td>\n",
              "      <td>10</td>\n",
              "      <td>A</td>\n",
              "    </tr>\n",
              "    <tr>\n",
              "      <th>89</th>\n",
              "      <td>mid</td>\n",
              "      <td>mid</td>\n",
              "      <td>good</td>\n",
              "      <td>mid</td>\n",
              "      <td>unstable</td>\n",
              "      <td>stable</td>\n",
              "      <td>stable</td>\n",
              "      <td>15</td>\n",
              "      <td>S</td>\n",
              "    </tr>\n",
              "  </tbody>\n",
              "</table>\n",
              "<p>90 rows × 9 columns</p>\n",
              "</div>"
            ],
            "text/plain": [
              "   L-CORE L-SURF       L-O2  L-BP  ... CORE-STBL     BP-STBL COMFORT ADM-DECS\n",
              "0     mid    low  excellent   mid  ...    stable      stable      15        A\n",
              "1     mid   high  excellent  high  ...    stable      stable      10        S\n",
              "2    high    low  excellent  high  ...    stable  mod-stable      10        A\n",
              "3     mid    low       good  high  ...  unstable  mod-stable      15       A \n",
              "4     mid    mid  excellent  high  ...    stable      stable      10        A\n",
              "..    ...    ...        ...   ...  ...       ...         ...     ...      ...\n",
              "85    mid    mid  excellent   mid  ...    stable      stable      10        A\n",
              "86    mid    mid  excellent   mid  ...    stable      stable      15        S\n",
              "87    mid    mid       good   mid  ...    stable      stable      15        A\n",
              "88    mid    mid  excellent   mid  ...    stable      stable      10        A\n",
              "89    mid    mid       good   mid  ...    stable      stable      15        S\n",
              "\n",
              "[90 rows x 9 columns]"
            ]
          },
          "metadata": {
            "tags": []
          },
          "execution_count": 5
        }
      ]
    },
    {
      "cell_type": "code",
      "metadata": {
        "colab": {
          "base_uri": "https://localhost:8080/",
          "height": 419
        },
        "id": "5P3Z3amWCHXT",
        "outputId": "6d2c77c2-d160-4397-b8ad-96df3caf6ea1"
      },
      "source": [
        "# dataframe1.drop(dataframe1.index[46])\r\n",
        "dataframe1=dataframe1.drop(labels=[46,48,70], axis=0)\r\n",
        "dataframe1\r\n"
      ],
      "execution_count": 6,
      "outputs": [
        {
          "output_type": "execute_result",
          "data": {
            "text/html": [
              "<div>\n",
              "<style scoped>\n",
              "    .dataframe tbody tr th:only-of-type {\n",
              "        vertical-align: middle;\n",
              "    }\n",
              "\n",
              "    .dataframe tbody tr th {\n",
              "        vertical-align: top;\n",
              "    }\n",
              "\n",
              "    .dataframe thead th {\n",
              "        text-align: right;\n",
              "    }\n",
              "</style>\n",
              "<table border=\"1\" class=\"dataframe\">\n",
              "  <thead>\n",
              "    <tr style=\"text-align: right;\">\n",
              "      <th></th>\n",
              "      <th>L-CORE</th>\n",
              "      <th>L-SURF</th>\n",
              "      <th>L-O2</th>\n",
              "      <th>L-BP</th>\n",
              "      <th>SURF-STBL</th>\n",
              "      <th>CORE-STBL</th>\n",
              "      <th>BP-STBL</th>\n",
              "      <th>COMFORT</th>\n",
              "      <th>ADM-DECS</th>\n",
              "    </tr>\n",
              "  </thead>\n",
              "  <tbody>\n",
              "    <tr>\n",
              "      <th>0</th>\n",
              "      <td>mid</td>\n",
              "      <td>low</td>\n",
              "      <td>excellent</td>\n",
              "      <td>mid</td>\n",
              "      <td>stable</td>\n",
              "      <td>stable</td>\n",
              "      <td>stable</td>\n",
              "      <td>15</td>\n",
              "      <td>A</td>\n",
              "    </tr>\n",
              "    <tr>\n",
              "      <th>1</th>\n",
              "      <td>mid</td>\n",
              "      <td>high</td>\n",
              "      <td>excellent</td>\n",
              "      <td>high</td>\n",
              "      <td>stable</td>\n",
              "      <td>stable</td>\n",
              "      <td>stable</td>\n",
              "      <td>10</td>\n",
              "      <td>S</td>\n",
              "    </tr>\n",
              "    <tr>\n",
              "      <th>2</th>\n",
              "      <td>high</td>\n",
              "      <td>low</td>\n",
              "      <td>excellent</td>\n",
              "      <td>high</td>\n",
              "      <td>stable</td>\n",
              "      <td>stable</td>\n",
              "      <td>mod-stable</td>\n",
              "      <td>10</td>\n",
              "      <td>A</td>\n",
              "    </tr>\n",
              "    <tr>\n",
              "      <th>3</th>\n",
              "      <td>mid</td>\n",
              "      <td>low</td>\n",
              "      <td>good</td>\n",
              "      <td>high</td>\n",
              "      <td>stable</td>\n",
              "      <td>unstable</td>\n",
              "      <td>mod-stable</td>\n",
              "      <td>15</td>\n",
              "      <td>A</td>\n",
              "    </tr>\n",
              "    <tr>\n",
              "      <th>4</th>\n",
              "      <td>mid</td>\n",
              "      <td>mid</td>\n",
              "      <td>excellent</td>\n",
              "      <td>high</td>\n",
              "      <td>stable</td>\n",
              "      <td>stable</td>\n",
              "      <td>stable</td>\n",
              "      <td>10</td>\n",
              "      <td>A</td>\n",
              "    </tr>\n",
              "    <tr>\n",
              "      <th>...</th>\n",
              "      <td>...</td>\n",
              "      <td>...</td>\n",
              "      <td>...</td>\n",
              "      <td>...</td>\n",
              "      <td>...</td>\n",
              "      <td>...</td>\n",
              "      <td>...</td>\n",
              "      <td>...</td>\n",
              "      <td>...</td>\n",
              "    </tr>\n",
              "    <tr>\n",
              "      <th>85</th>\n",
              "      <td>mid</td>\n",
              "      <td>mid</td>\n",
              "      <td>excellent</td>\n",
              "      <td>mid</td>\n",
              "      <td>unstable</td>\n",
              "      <td>stable</td>\n",
              "      <td>stable</td>\n",
              "      <td>10</td>\n",
              "      <td>A</td>\n",
              "    </tr>\n",
              "    <tr>\n",
              "      <th>86</th>\n",
              "      <td>mid</td>\n",
              "      <td>mid</td>\n",
              "      <td>excellent</td>\n",
              "      <td>mid</td>\n",
              "      <td>unstable</td>\n",
              "      <td>stable</td>\n",
              "      <td>stable</td>\n",
              "      <td>15</td>\n",
              "      <td>S</td>\n",
              "    </tr>\n",
              "    <tr>\n",
              "      <th>87</th>\n",
              "      <td>mid</td>\n",
              "      <td>mid</td>\n",
              "      <td>good</td>\n",
              "      <td>mid</td>\n",
              "      <td>unstable</td>\n",
              "      <td>stable</td>\n",
              "      <td>stable</td>\n",
              "      <td>15</td>\n",
              "      <td>A</td>\n",
              "    </tr>\n",
              "    <tr>\n",
              "      <th>88</th>\n",
              "      <td>mid</td>\n",
              "      <td>mid</td>\n",
              "      <td>excellent</td>\n",
              "      <td>mid</td>\n",
              "      <td>unstable</td>\n",
              "      <td>stable</td>\n",
              "      <td>stable</td>\n",
              "      <td>10</td>\n",
              "      <td>A</td>\n",
              "    </tr>\n",
              "    <tr>\n",
              "      <th>89</th>\n",
              "      <td>mid</td>\n",
              "      <td>mid</td>\n",
              "      <td>good</td>\n",
              "      <td>mid</td>\n",
              "      <td>unstable</td>\n",
              "      <td>stable</td>\n",
              "      <td>stable</td>\n",
              "      <td>15</td>\n",
              "      <td>S</td>\n",
              "    </tr>\n",
              "  </tbody>\n",
              "</table>\n",
              "<p>87 rows × 9 columns</p>\n",
              "</div>"
            ],
            "text/plain": [
              "   L-CORE L-SURF       L-O2  L-BP  ... CORE-STBL     BP-STBL COMFORT ADM-DECS\n",
              "0     mid    low  excellent   mid  ...    stable      stable      15        A\n",
              "1     mid   high  excellent  high  ...    stable      stable      10        S\n",
              "2    high    low  excellent  high  ...    stable  mod-stable      10        A\n",
              "3     mid    low       good  high  ...  unstable  mod-stable      15       A \n",
              "4     mid    mid  excellent  high  ...    stable      stable      10        A\n",
              "..    ...    ...        ...   ...  ...       ...         ...     ...      ...\n",
              "85    mid    mid  excellent   mid  ...    stable      stable      10        A\n",
              "86    mid    mid  excellent   mid  ...    stable      stable      15        S\n",
              "87    mid    mid       good   mid  ...    stable      stable      15        A\n",
              "88    mid    mid  excellent   mid  ...    stable      stable      10        A\n",
              "89    mid    mid       good   mid  ...    stable      stable      15        S\n",
              "\n",
              "[87 rows x 9 columns]"
            ]
          },
          "metadata": {
            "tags": []
          },
          "execution_count": 6
        }
      ]
    },
    {
      "cell_type": "code",
      "metadata": {
        "id": "iIQGZJpbPRaA"
      },
      "source": [
        "  2.2) Chuẩn hóa dữ liệu\r\n",
        "    "
      ],
      "execution_count": null,
      "outputs": []
    },
    {
      "cell_type": "code",
      "metadata": {
        "colab": {
          "base_uri": "https://localhost:8080/"
        },
        "id": "3M7xO7xMG4SY",
        "outputId": "811554a6-02ea-463a-a7b0-dc06a7ef1eae"
      },
      "source": [
        "X = dataframe1.values[:,:-1]\r\n",
        "y = dataframe1.values[:,-1]\r\n",
        "print(X)\r\n",
        "print(y)"
      ],
      "execution_count": 7,
      "outputs": [
        {
          "output_type": "stream",
          "text": [
            "[['mid' 'low' 'excellent' 'mid' 'stable' 'stable' 'stable' '15']\n",
            " ['mid' 'high' 'excellent' 'high' 'stable' 'stable' 'stable' '10']\n",
            " ['high' 'low' 'excellent' 'high' 'stable' 'stable' 'mod-stable' '10']\n",
            " ['mid' 'low' 'good' 'high' 'stable' 'unstable' 'mod-stable' '15']\n",
            " ['mid' 'mid' 'excellent' 'high' 'stable' 'stable' 'stable' '10']\n",
            " ['high' 'low' 'good' 'mid' 'stable' 'stable' 'unstable' '15']\n",
            " ['mid' 'low' 'excellent' 'high' 'stable' 'stable' 'mod-stable' '05']\n",
            " ['high' 'mid' 'excellent' 'mid' 'unstable' 'unstable' 'stable' '10']\n",
            " ['mid' 'high' 'good' 'mid' 'stable' 'stable' 'stable' '10']\n",
            " ['mid' 'low' 'excellent' 'mid' 'unstable' 'stable' 'mod-stable' '10']\n",
            " ['mid' 'mid' 'good' 'mid' 'stable' 'stable' 'stable' '15']\n",
            " ['mid' 'low' 'good' 'high' 'stable' 'stable' 'mod-stable' '10']\n",
            " ['high' 'high' 'excellent' 'high' 'unstable' 'stable' 'unstable' '15']\n",
            " ['mid' 'high' 'good' 'mid' 'unstable' 'stable' 'mod-stable' '10']\n",
            " ['mid' 'low' 'good' 'high' 'unstable' 'unstable' 'stable' '15']\n",
            " ['high' 'high' 'excellent' 'high' 'unstable' 'stable' 'unstable' '10']\n",
            " ['low' 'high' 'good' 'high' 'unstable' 'stable' 'mod-stable' '15']\n",
            " ['mid' 'low' 'good' 'high' 'unstable' 'stable' 'stable' '10']\n",
            " ['mid' 'high' 'good' 'mid' 'unstable' 'stable' 'unstable' '15']\n",
            " ['mid' 'mid' 'good' 'mid' 'stable' 'stable' 'stable' '10']\n",
            " ['low' 'high' 'good' 'mid' 'unstable' 'stable' 'stable' '15']\n",
            " ['low' 'mid' 'excellent' 'high' 'unstable' 'stable' 'unstable' '10']\n",
            " ['mid' 'mid' 'good' 'mid' 'unstable' 'stable' 'unstable' '15']\n",
            " ['mid' 'mid' 'good' 'mid' 'unstable' 'stable' 'stable' '10']\n",
            " ['high' 'high' 'good' 'mid' 'stable' 'stable' 'mod-stable' '10']\n",
            " ['low' 'mid' 'good' 'mid' 'unstable' 'stable' 'stable' '10']\n",
            " ['high' 'mid' 'good' 'low' 'stable' 'stable' 'mod-stable' '10']\n",
            " ['low' 'mid' 'excellent' 'high' 'stable' 'stable' 'mod-stable' '10']\n",
            " ['mid' 'mid' 'excellent' 'mid' 'stable' 'stable' 'unstable' '15']\n",
            " ['mid' 'mid' 'good' 'mid' 'unstable' 'stable' 'unstable' '10']\n",
            " ['mid' 'mid' 'good' 'high' 'unstable' 'stable' 'stable' '10']\n",
            " ['low' 'low' 'good' 'mid' 'unstable' 'stable' 'unstable' '10']\n",
            " ['mid' 'mid' 'excellent' 'high' 'unstable' 'stable' 'mod-stable' '10']\n",
            " ['mid' 'low' 'good' 'mid' 'stable' 'stable' 'stable' '10']\n",
            " ['low' 'mid' 'excellent' 'high' 'stable' 'stable' 'mod-stable' '10']\n",
            " ['mid' 'mid' 'good' 'mid' 'stable' 'stable' 'stable' '10']\n",
            " ['low' 'mid' 'excellent' 'mid' 'stable' 'stable' 'stable' '10']\n",
            " ['low' 'low' 'good' 'mid' 'unstable' 'stable' 'unstable' '10']\n",
            " ['low' 'low' 'good' 'mid' 'stable' 'stable' 'stable' '07']\n",
            " ['mid' 'mid' 'good' 'high' 'unstable' 'stable' 'mod-stable' '10']\n",
            " ['low' 'low' 'good' 'mid' 'unstable' 'stable' 'stable' '10']\n",
            " ['low' 'mid' 'good' 'mid' 'stable' 'stable' 'stable' '15']\n",
            " ['high' 'high' 'good' 'high' 'unstable' 'stable' 'stable' '15']\n",
            " ['mid' 'mid' 'good' 'mid' 'stable' 'stable' 'stable' '10']\n",
            " ['low' 'low' 'excellent' 'mid' 'stable' 'stable' 'stable' '10']\n",
            " ['low' 'mid' 'good' 'mid' 'unstable' 'stable' 'stable' '10']\n",
            " ['mid' 'mid' 'excellent' 'mid' 'unstable' 'stable' 'stable' '10']\n",
            " ['mid' 'high' 'good' 'low' 'unstable' 'stable' 'stable' '10']\n",
            " ['mid' 'high' 'good' 'mid' 'unstable' 'mod-stable' 'mod-stable' '10']\n",
            " ['low' 'high' 'excellent' 'mid' 'unstable' 'stable' 'stable' '10']\n",
            " ['mid' 'low' 'excellent' 'high' 'unstable' 'stable' 'unstable' '10']\n",
            " ['mid' 'mid' 'good' 'mid' 'unstable' 'stable' 'mod-stable' '10']\n",
            " ['high' 'high' 'excellent' 'mid' 'unstable' 'stable' 'mod-stable' '10']\n",
            " ['mid' 'mid' 'good' 'mid' 'unstable' 'stable' 'stable' '15']\n",
            " ['high' 'mid' 'good' 'high' 'stable' 'stable' 'unstable' '15']\n",
            " ['mid' 'low' 'good' 'high' 'unstable' 'stable' 'mod-stable' '10']\n",
            " ['low' 'low' 'good' 'high' 'stable' 'stable' 'stable' '10']\n",
            " ['mid' 'high' 'good' 'mid' 'stable' 'stable' 'mod-stable' '10']\n",
            " ['mid' 'high' 'good' 'mid' 'unstable' 'stable' 'unstable' '10']\n",
            " ['mid' 'low' 'excellent' 'high' 'stable' 'stable' 'stable' '10']\n",
            " ['mid' 'mid' 'good' 'mid' 'stable' 'stable' 'unstable' '10']\n",
            " ['mid' 'low' 'excellent' 'mid' 'stable' 'stable' 'unstable' '10']\n",
            " ['high' 'mid' 'excellent' 'mid' 'unstable' 'unstable' 'unstable' '10']\n",
            " ['mid' 'mid' 'good' 'high' 'stable' 'stable' 'stable' '10']\n",
            " ['mid' 'low' 'excellent' 'mid' 'unstable' 'stable' 'stable' '10']\n",
            " ['mid' 'mid' 'excellent' 'mid' 'unstable' 'stable' 'stable' '10']\n",
            " ['mid' 'mid' 'excellent' 'high' 'stable' 'stable' 'stable' '10']\n",
            " ['mid' 'mid' 'excellent' 'low' 'stable' 'stable' 'stable' '10']\n",
            " ['low' 'low' 'excellent' 'mid' 'stable' 'stable' 'stable' '10']\n",
            " ['mid' 'mid' 'excellent' 'mid' 'stable' 'stable' 'mod-stable' '10']\n",
            " ['mid' 'mid' 'excellent' 'high' 'stable' 'stable' 'stable' '10']\n",
            " ['mid' 'low' 'excellent' 'high' 'stable' 'stable' 'mod-stable' '10']\n",
            " ['low' 'mid' 'good' 'mid' 'stable' 'stable' 'unstable' '10']\n",
            " ['mid' 'mid' 'excellent' 'mid' 'stable' 'stable' 'mod-stable' '10']\n",
            " ['mid' 'mid' 'excellent' 'mid' 'stable' 'stable' 'unstable' '10']\n",
            " ['mid' 'mid' 'excellent' 'mid' 'unstable' 'unstable' 'stable' '10']\n",
            " ['mid' 'mid' 'good' 'high' 'stable' 'stable' 'stable' '10']\n",
            " ['mid' 'mid' 'excellent' 'mid' 'stable' 'stable' 'stable' '15']\n",
            " ['mid' 'mid' 'excellent' 'mid' 'stable' 'stable' 'stable' '10']\n",
            " ['mid' 'low' 'good' 'mid' 'stable' 'stable' 'unstable' '10']\n",
            " ['high' 'mid' 'excellent' 'mid' 'unstable' 'stable' 'unstable' '05']\n",
            " ['mid' 'mid' 'excellent' 'mid' 'stable' 'stable' 'unstable' '10']\n",
            " ['mid' 'mid' 'excellent' 'mid' 'unstable' 'stable' 'stable' '10']\n",
            " ['mid' 'mid' 'excellent' 'mid' 'unstable' 'stable' 'stable' '15']\n",
            " ['mid' 'mid' 'good' 'mid' 'unstable' 'stable' 'stable' '15']\n",
            " ['mid' 'mid' 'excellent' 'mid' 'unstable' 'stable' 'stable' '10']\n",
            " ['mid' 'mid' 'good' 'mid' 'unstable' 'stable' 'stable' '15']]\n",
            "['A' 'S' 'A' 'A ' 'A' 'S' 'S' 'S' 'S' 'S' 'A' 'A' 'A' 'A' 'S' 'A' 'A' 'A'\n",
            " 'A' 'A' 'A' 'S' 'A' 'A' 'A' 'A' 'A' 'A' 'A' 'S' 'A' 'A' 'A' 'A' 'A' 'A'\n",
            " 'S' 'S' 'S' 'A' 'A' 'S' 'S' 'S' 'A' 'S' 'A' 'A' 'A' 'A' 'A' 'S' 'A' 'A'\n",
            " 'A' 'A' 'A' 'A' 'A' 'A' 'A' 'S' 'A' 'S' 'A' 'A' 'A' 'A' 'A' 'S' 'A' 'A'\n",
            " 'A' 'A' 'A' 'S' 'A' 'A' 'S' 'I' 'A' 'A' 'A' 'S' 'A' 'A' 'S']\n"
          ],
          "name": "stdout"
        }
      ]
    },
    {
      "cell_type": "code",
      "metadata": {
        "colab": {
          "base_uri": "https://localhost:8080/"
        },
        "id": "VH-lRSgkLYSn",
        "outputId": "7ca53375-85b2-4d29-faa4-c9a5c32feb83"
      },
      "source": [
        "from sklearn.preprocessing import LabelEncoder\r\n",
        "encoder = LabelEncoder()\r\n",
        "for i in range(X.shape[1]):\r\n",
        "    X[:,i] = encoder.fit_transform(X[:,i])\r\n",
        "print(X)"
      ],
      "execution_count": 8,
      "outputs": [
        {
          "output_type": "stream",
          "text": [
            "[[2 1 0 2 0 1 1 3]\n",
            " [2 0 0 0 0 1 1 2]\n",
            " [0 1 0 0 0 1 0 2]\n",
            " [2 1 1 0 0 2 0 3]\n",
            " [2 2 0 0 0 1 1 2]\n",
            " [0 1 1 2 0 1 2 3]\n",
            " [2 1 0 0 0 1 0 0]\n",
            " [0 2 0 2 1 2 1 2]\n",
            " [2 0 1 2 0 1 1 2]\n",
            " [2 1 0 2 1 1 0 2]\n",
            " [2 2 1 2 0 1 1 3]\n",
            " [2 1 1 0 0 1 0 2]\n",
            " [0 0 0 0 1 1 2 3]\n",
            " [2 0 1 2 1 1 0 2]\n",
            " [2 1 1 0 1 2 1 3]\n",
            " [0 0 0 0 1 1 2 2]\n",
            " [1 0 1 0 1 1 0 3]\n",
            " [2 1 1 0 1 1 1 2]\n",
            " [2 0 1 2 1 1 2 3]\n",
            " [2 2 1 2 0 1 1 2]\n",
            " [1 0 1 2 1 1 1 3]\n",
            " [1 2 0 0 1 1 2 2]\n",
            " [2 2 1 2 1 1 2 3]\n",
            " [2 2 1 2 1 1 1 2]\n",
            " [0 0 1 2 0 1 0 2]\n",
            " [1 2 1 2 1 1 1 2]\n",
            " [0 2 1 1 0 1 0 2]\n",
            " [1 2 0 0 0 1 0 2]\n",
            " [2 2 0 2 0 1 2 3]\n",
            " [2 2 1 2 1 1 2 2]\n",
            " [2 2 1 0 1 1 1 2]\n",
            " [1 1 1 2 1 1 2 2]\n",
            " [2 2 0 0 1 1 0 2]\n",
            " [2 1 1 2 0 1 1 2]\n",
            " [1 2 0 0 0 1 0 2]\n",
            " [2 2 1 2 0 1 1 2]\n",
            " [1 2 0 2 0 1 1 2]\n",
            " [1 1 1 2 1 1 2 2]\n",
            " [1 1 1 2 0 1 1 1]\n",
            " [2 2 1 0 1 1 0 2]\n",
            " [1 1 1 2 1 1 1 2]\n",
            " [1 2 1 2 0 1 1 3]\n",
            " [0 0 1 0 1 1 1 3]\n",
            " [2 2 1 2 0 1 1 2]\n",
            " [1 1 0 2 0 1 1 2]\n",
            " [1 2 1 2 1 1 1 2]\n",
            " [2 2 0 2 1 1 1 2]\n",
            " [2 0 1 1 1 1 1 2]\n",
            " [2 0 1 2 1 0 0 2]\n",
            " [1 0 0 2 1 1 1 2]\n",
            " [2 1 0 0 1 1 2 2]\n",
            " [2 2 1 2 1 1 0 2]\n",
            " [0 0 0 2 1 1 0 2]\n",
            " [2 2 1 2 1 1 1 3]\n",
            " [0 2 1 0 0 1 2 3]\n",
            " [2 1 1 0 1 1 0 2]\n",
            " [1 1 1 0 0 1 1 2]\n",
            " [2 0 1 2 0 1 0 2]\n",
            " [2 0 1 2 1 1 2 2]\n",
            " [2 1 0 0 0 1 1 2]\n",
            " [2 2 1 2 0 1 2 2]\n",
            " [2 1 0 2 0 1 2 2]\n",
            " [0 2 0 2 1 2 2 2]\n",
            " [2 2 1 0 0 1 1 2]\n",
            " [2 1 0 2 1 1 1 2]\n",
            " [2 2 0 2 1 1 1 2]\n",
            " [2 2 0 0 0 1 1 2]\n",
            " [2 2 0 1 0 1 1 2]\n",
            " [1 1 0 2 0 1 1 2]\n",
            " [2 2 0 2 0 1 0 2]\n",
            " [2 2 0 0 0 1 1 2]\n",
            " [2 1 0 0 0 1 0 2]\n",
            " [1 2 1 2 0 1 2 2]\n",
            " [2 2 0 2 0 1 0 2]\n",
            " [2 2 0 2 0 1 2 2]\n",
            " [2 2 0 2 1 2 1 2]\n",
            " [2 2 1 0 0 1 1 2]\n",
            " [2 2 0 2 0 1 1 3]\n",
            " [2 2 0 2 0 1 1 2]\n",
            " [2 1 1 2 0 1 2 2]\n",
            " [0 2 0 2 1 1 2 0]\n",
            " [2 2 0 2 0 1 2 2]\n",
            " [2 2 0 2 1 1 1 2]\n",
            " [2 2 0 2 1 1 1 3]\n",
            " [2 2 1 2 1 1 1 3]\n",
            " [2 2 0 2 1 1 1 2]\n",
            " [2 2 1 2 1 1 1 3]]\n"
          ],
          "name": "stdout"
        }
      ]
    },
    {
      "cell_type": "code",
      "metadata": {
        "id": "ulCK_XpULuHD"
      },
      "source": [
        "3) Xây dựng các mô hình học máy cho bài toán Classification hoặc Regression, thử nghiệm các mô hình sau: kNN, NB, SVM\r\n"
      ],
      "execution_count": null,
      "outputs": []
    },
    {
      "cell_type": "code",
      "metadata": {
        "id": "duFpY4n7DRZx"
      },
      "source": [
        "  3.1)KNN"
      ],
      "execution_count": null,
      "outputs": []
    },
    {
      "cell_type": "code",
      "metadata": {
        "colab": {
          "base_uri": "https://localhost:8080/"
        },
        "id": "DS1-4tXODUO4",
        "outputId": "c4fe8b4e-0073-4860-ee5d-8b0d86578667"
      },
      "source": [
        "yKnn=y.ravel()\r\n",
        "print(y.shape)\r\n",
        "print(y[:10])"
      ],
      "execution_count": 9,
      "outputs": [
        {
          "output_type": "stream",
          "text": [
            "(87,)\n",
            "['A' 'S' 'A' 'A ' 'A' 'S' 'S' 'S' 'S' 'S']\n"
          ],
          "name": "stdout"
        }
      ]
    },
    {
      "cell_type": "code",
      "metadata": {
        "colab": {
          "base_uri": "https://localhost:8080/"
        },
        "id": "k5OKKWwHE-uk",
        "outputId": "dc0c2ae9-9cea-4f01-d1f2-1bdc2efa9589"
      },
      "source": [
        "from sklearn.model_selection import train_test_split\r\n",
        "X_train_Knn, X_test_Knn, y_train_Knn, y_test_Knn = train_test_split(\\\r\n",
        "    X, y, test_size=0.3, random_state=42)\r\n",
        "\r\n",
        "print('Train:')\r\n",
        "print(X_train_Knn.shape)\r\n",
        "print(y_train_Knn.shape)\r\n",
        "print('Test:')\r\n",
        "print(X_test_Knn.shape)\r\n",
        "print(y_test_Knn.shape)"
      ],
      "execution_count": 10,
      "outputs": [
        {
          "output_type": "stream",
          "text": [
            "Train:\n",
            "(60, 8)\n",
            "(60,)\n",
            "Test:\n",
            "(27, 8)\n",
            "(27,)\n"
          ],
          "name": "stdout"
        }
      ]
    },
    {
      "cell_type": "code",
      "metadata": {
        "colab": {
          "base_uri": "https://localhost:8080/"
        },
        "id": "Bzhrxi11FogN",
        "outputId": "fb09158b-81e2-405a-cbcb-27676d6a1aed"
      },
      "source": [
        "from sklearn.neighbors import KNeighborsClassifier\r\n",
        "modelKnn = KNeighborsClassifier(n_neighbors=3)\r\n",
        "# training process\r\n",
        "modelKnn.fit(X_train_Knn, y_train_Knn)"
      ],
      "execution_count": 11,
      "outputs": [
        {
          "output_type": "execute_result",
          "data": {
            "text/plain": [
              "KNeighborsClassifier(algorithm='auto', leaf_size=30, metric='minkowski',\n",
              "                     metric_params=None, n_jobs=None, n_neighbors=3, p=2,\n",
              "                     weights='uniform')"
            ]
          },
          "metadata": {
            "tags": []
          },
          "execution_count": 11
        }
      ]
    },
    {
      "cell_type": "code",
      "metadata": {
        "id": "-c4d3WzAF50l"
      },
      "source": [
        "y_pred_Knn = modelKnn.predict(X_test_Knn)"
      ],
      "execution_count": 12,
      "outputs": []
    },
    {
      "cell_type": "code",
      "metadata": {
        "colab": {
          "base_uri": "https://localhost:8080/"
        },
        "id": "0xsOaBahF_xi",
        "outputId": "1080ce1f-4943-48a2-af7b-3a3ceef405dd"
      },
      "source": [
        "# in kết quả để so sánh\r\n",
        "for i in range(len(y_test_Knn)):\r\n",
        "    print(y_test_Knn[i],y_pred_Knn[i])"
      ],
      "execution_count": 13,
      "outputs": [
        {
          "output_type": "stream",
          "text": [
            "A A\n",
            "A A\n",
            "A A\n",
            "A S\n",
            "A A\n",
            "A A\n",
            "A A\n",
            "A A\n",
            "A A\n",
            "A A\n",
            "A S\n",
            "A A\n",
            "A S\n",
            "A S\n",
            "S A\n",
            "A A\n",
            "A A\n",
            "I A\n",
            "A A\n",
            "A S\n",
            "A A\n",
            "A A\n",
            "A A\n",
            "A A\n",
            "S A\n",
            "A A\n",
            "S A\n"
          ],
          "name": "stdout"
        }
      ]
    },
    {
      "cell_type": "code",
      "metadata": {
        "id": "IAB1orfmGZKR"
      },
      "source": [
        "  3.2)NB"
      ],
      "execution_count": null,
      "outputs": []
    },
    {
      "cell_type": "code",
      "metadata": {
        "id": "oJUVqhttGdNW"
      },
      "source": [
        "X_train_Nb = X[:15,:]\r\n",
        "y_train_Nb = y[:15]\r\n",
        "X_test_Nb = X[15:,:]\r\n",
        "y_test_Nb = y[15:]"
      ],
      "execution_count": 14,
      "outputs": []
    },
    {
      "cell_type": "code",
      "metadata": {
        "colab": {
          "base_uri": "https://localhost:8080/"
        },
        "id": "TCfJGdq3ImIL",
        "outputId": "54cecac9-de16-4b69-bd8a-06b68ff0efe5"
      },
      "source": [
        "from sklearn.naive_bayes import MultinomialNB\r\n",
        "model_MulNB = MultinomialNB()\r\n",
        "model_MulNB.fit(X_train_Nb,y_train_Nb)"
      ],
      "execution_count": 15,
      "outputs": [
        {
          "output_type": "execute_result",
          "data": {
            "text/plain": [
              "MultinomialNB(alpha=1.0, class_prior=None, fit_prior=True)"
            ]
          },
          "metadata": {
            "tags": []
          },
          "execution_count": 15
        }
      ]
    },
    {
      "cell_type": "code",
      "metadata": {
        "colab": {
          "base_uri": "https://localhost:8080/"
        },
        "id": "s-TuImicJl2y",
        "outputId": "cb856976-97cf-4fd2-e912-c0eca5f799b8"
      },
      "source": [
        "y_pred_MulNb = model_MulNB.predict(X_test_Nb)\r\n",
        "print(y_pred_MulNb)\r\n",
        "print(y_test_Nb)"
      ],
      "execution_count": 16,
      "outputs": [
        {
          "output_type": "stream",
          "text": [
            "['S' 'A' 'A' 'S' 'A' 'S' 'A' 'S' 'S' 'S' 'S' 'A' 'A' 'A' 'S' 'A' 'S' 'A'\n",
            " 'S' 'A' 'A' 'A' 'S' 'S' 'A' 'S' 'A' 'A' 'A' 'S' 'S' 'S' 'S' 'S' 'S' 'S'\n",
            " 'S' 'S' 'A' 'A' 'A' 'A' 'S' 'S' 'A' 'S' 'S' 'S' 'A' 'S' 'S' 'A' 'A' 'S'\n",
            " 'A' 'A' 'A' 'S' 'A' 'S' 'S' 'A' 'A' 'A' 'S' 'S' 'S' 'S' 'A' 'A' 'S' 'A']\n",
            "['A' 'A' 'A' 'A' 'A' 'A' 'S' 'A' 'A' 'A' 'A' 'A' 'A' 'A' 'S' 'A' 'A' 'A'\n",
            " 'A' 'A' 'A' 'S' 'S' 'S' 'A' 'A' 'S' 'S' 'S' 'A' 'S' 'A' 'A' 'A' 'A' 'A'\n",
            " 'S' 'A' 'A' 'A' 'A' 'A' 'A' 'A' 'A' 'A' 'S' 'A' 'S' 'A' 'A' 'A' 'A' 'A'\n",
            " 'S' 'A' 'A' 'A' 'A' 'A' 'S' 'A' 'A' 'S' 'I' 'A' 'A' 'A' 'S' 'A' 'A' 'S']\n"
          ],
          "name": "stdout"
        }
      ]
    },
    {
      "cell_type": "code",
      "metadata": {
        "colab": {
          "base_uri": "https://localhost:8080/"
        },
        "id": "IINdI71Gx2Wf",
        "outputId": "f09cd193-9359-4c28-fbe1-36babfe6f601"
      },
      "source": [
        "from sklearn.naive_bayes import GaussianNB\r\n",
        "model_GauNB = GaussianNB()\r\n",
        "model_GauNB.fit(X_train_Nb,y_train_Nb)"
      ],
      "execution_count": 17,
      "outputs": [
        {
          "output_type": "execute_result",
          "data": {
            "text/plain": [
              "GaussianNB(priors=None, var_smoothing=1e-09)"
            ]
          },
          "metadata": {
            "tags": []
          },
          "execution_count": 17
        }
      ]
    },
    {
      "cell_type": "code",
      "metadata": {
        "colab": {
          "base_uri": "https://localhost:8080/"
        },
        "id": "uwKCd3uuwwaD",
        "outputId": "3052e1c0-5952-4af7-e0a7-b89fc1aed351"
      },
      "source": [
        "y_pred_GauNB = model_GauNB.predict(X_test_Nb)\r\n",
        "print(y_pred_GauNB)\r\n",
        "print(y_test_Nb)"
      ],
      "execution_count": 18,
      "outputs": [
        {
          "output_type": "stream",
          "text": [
            "['A' 'A' 'A' 'A' 'A' 'A' 'A' 'A' 'A' 'A' 'A' 'A' 'A' 'A' 'A' 'A' 'A' 'A'\n",
            " 'A' 'A' 'A' 'A' 'A' 'A' 'A' 'A' 'A' 'A' 'A' 'A' 'A' 'A' 'A' 'S' 'A' 'A'\n",
            " 'A' 'A' 'A' 'A' 'A' 'A' 'A' 'A' 'A' 'A' 'A' 'S' 'A' 'A' 'A' 'A' 'A' 'A'\n",
            " 'A' 'A' 'A' 'A' 'A' 'A' 'S' 'A' 'A' 'A' 'A' 'A' 'A' 'A' 'A' 'A' 'A' 'A']\n",
            "['A' 'A' 'A' 'A' 'A' 'A' 'S' 'A' 'A' 'A' 'A' 'A' 'A' 'A' 'S' 'A' 'A' 'A'\n",
            " 'A' 'A' 'A' 'S' 'S' 'S' 'A' 'A' 'S' 'S' 'S' 'A' 'S' 'A' 'A' 'A' 'A' 'A'\n",
            " 'S' 'A' 'A' 'A' 'A' 'A' 'A' 'A' 'A' 'A' 'S' 'A' 'S' 'A' 'A' 'A' 'A' 'A'\n",
            " 'S' 'A' 'A' 'A' 'A' 'A' 'S' 'A' 'A' 'S' 'I' 'A' 'A' 'A' 'S' 'A' 'A' 'S']\n"
          ],
          "name": "stdout"
        }
      ]
    },
    {
      "cell_type": "code",
      "metadata": {
        "colab": {
          "base_uri": "https://localhost:8080/"
        },
        "id": "nVa5UdiayYxh",
        "outputId": "f9b2e5b7-037f-41f5-92cf-99b9a4195d00"
      },
      "source": [
        "from sklearn.naive_bayes import BernoulliNB\r\n",
        "model_BerNB = BernoulliNB()\r\n",
        "model_BerNB.fit(X_train_Nb,y_train_Nb)"
      ],
      "execution_count": 19,
      "outputs": [
        {
          "output_type": "execute_result",
          "data": {
            "text/plain": [
              "BernoulliNB(alpha=1.0, binarize=0.0, class_prior=None, fit_prior=True)"
            ]
          },
          "metadata": {
            "tags": []
          },
          "execution_count": 19
        }
      ]
    },
    {
      "cell_type": "code",
      "metadata": {
        "colab": {
          "base_uri": "https://localhost:8080/"
        },
        "id": "OM1wAwAqyhZN",
        "outputId": "35c96221-b689-478d-ec54-e9b97c06d0e3"
      },
      "source": [
        "y_pred_BerNB = model_BerNB.predict(X_test_Nb)\r\n",
        "print(y_pred_BerNB)\r\n",
        "print(y_test_Nb)"
      ],
      "execution_count": 20,
      "outputs": [
        {
          "output_type": "stream",
          "text": [
            "['S' 'A' 'S' 'S' 'S' 'S' 'S' 'S' 'S' 'A' 'S' 'A' 'A' 'S' 'S' 'S' 'S' 'A'\n",
            " 'S' 'A' 'S' 'S' 'S' 'S' 'A' 'S' 'S' 'S' 'S' 'S' 'S' 'S' 'S' 'S' 'S' 'S'\n",
            " 'S' 'S' 'S' 'A' 'A' 'A' 'A' 'S' 'A' 'S' 'S' 'S' 'A' 'S' 'S' 'A' 'S' 'S'\n",
            " 'A' 'A' 'A' 'S' 'A' 'S' 'S' 'A' 'S' 'S' 'S' 'S' 'S' 'S' 'S' 'S' 'S' 'S']\n",
            "['A' 'A' 'A' 'A' 'A' 'A' 'S' 'A' 'A' 'A' 'A' 'A' 'A' 'A' 'S' 'A' 'A' 'A'\n",
            " 'A' 'A' 'A' 'S' 'S' 'S' 'A' 'A' 'S' 'S' 'S' 'A' 'S' 'A' 'A' 'A' 'A' 'A'\n",
            " 'S' 'A' 'A' 'A' 'A' 'A' 'A' 'A' 'A' 'A' 'S' 'A' 'S' 'A' 'A' 'A' 'A' 'A'\n",
            " 'S' 'A' 'A' 'A' 'A' 'A' 'S' 'A' 'A' 'S' 'I' 'A' 'A' 'A' 'S' 'A' 'A' 'S']\n"
          ],
          "name": "stdout"
        }
      ]
    },
    {
      "cell_type": "code",
      "metadata": {
        "id": "hhZaCXEZu8n9"
      },
      "source": [
        "  3.3)SVM"
      ],
      "execution_count": null,
      "outputs": []
    },
    {
      "cell_type": "code",
      "metadata": {
        "colab": {
          "base_uri": "https://localhost:8080/"
        },
        "id": "JcCoy6GuvGsB",
        "outputId": "854fe99f-b12b-442c-daa2-2e1bdcef0ec8"
      },
      "source": [
        "ySvm=y.ravel()\r\n",
        "print(ySvm.shape)\r\n",
        "print(ySvm[:10])"
      ],
      "execution_count": 21,
      "outputs": [
        {
          "output_type": "stream",
          "text": [
            "(87,)\n",
            "['A' 'S' 'A' 'A ' 'A' 'S' 'S' 'S' 'S' 'S']\n"
          ],
          "name": "stdout"
        }
      ]
    },
    {
      "cell_type": "code",
      "metadata": {
        "colab": {
          "base_uri": "https://localhost:8080/"
        },
        "id": "rzKStpBMx_ao",
        "outputId": "249128a6-13e8-43a2-dca3-92474502fce0"
      },
      "source": [
        "from sklearn.model_selection import train_test_split\r\n",
        "X_train_Svm, X_test_Svm, y_train_Svm, y_test_Svm = train_test_split(\\\r\n",
        "    X, ySvm, test_size=0.3, random_state=42)\r\n",
        "\r\n",
        "print('Train:')\r\n",
        "print(X_train_Svm.shape)\r\n",
        "print(y_train_Svm.shape)\r\n",
        "print('Test:')\r\n",
        "print(X_test_Svm.shape)\r\n",
        "print(y_test_Svm.shape)"
      ],
      "execution_count": 22,
      "outputs": [
        {
          "output_type": "stream",
          "text": [
            "Train:\n",
            "(60, 8)\n",
            "(60,)\n",
            "Test:\n",
            "(27, 8)\n",
            "(27,)\n"
          ],
          "name": "stdout"
        }
      ]
    },
    {
      "cell_type": "code",
      "metadata": {
        "colab": {
          "base_uri": "https://localhost:8080/"
        },
        "id": "TK6po48ayc4t",
        "outputId": "be08c9f2-74bf-46fd-c165-906bddcc091d"
      },
      "source": [
        "from sklearn import svm \r\n",
        "model_Svm = svm.SVC(kernel='linear',gamma=0.01, C=100.)\r\n",
        "model_Svm.fit(X_train_Svm,y_train_Svm)"
      ],
      "execution_count": 23,
      "outputs": [
        {
          "output_type": "execute_result",
          "data": {
            "text/plain": [
              "SVC(C=100.0, break_ties=False, cache_size=200, class_weight=None, coef0=0.0,\n",
              "    decision_function_shape='ovr', degree=3, gamma=0.01, kernel='linear',\n",
              "    max_iter=-1, probability=False, random_state=None, shrinking=True,\n",
              "    tol=0.001, verbose=False)"
            ]
          },
          "metadata": {
            "tags": []
          },
          "execution_count": 23
        }
      ]
    },
    {
      "cell_type": "code",
      "metadata": {
        "id": "mQ4vjslYz29O"
      },
      "source": [
        "y_pred_Svm = model_Svm.predict(X_test_Svm)"
      ],
      "execution_count": 24,
      "outputs": []
    },
    {
      "cell_type": "code",
      "metadata": {
        "colab": {
          "base_uri": "https://localhost:8080/"
        },
        "id": "3vmLuvxVz-j5",
        "outputId": "5520bcb3-801c-4ee1-ce92-bc82c8c50093"
      },
      "source": [
        "for i in range(len(y_test_Svm)):\r\n",
        "    print(y_test_Svm[i],y_pred_Svm[i])"
      ],
      "execution_count": 25,
      "outputs": [
        {
          "output_type": "stream",
          "text": [
            "A A\n",
            "A A\n",
            "A A\n",
            "A A\n",
            "A A\n",
            "A A\n",
            "A A\n",
            "A A\n",
            "A A\n",
            "A A\n",
            "A A\n",
            "A A\n",
            "A A\n",
            "A A\n",
            "S A\n",
            "A A\n",
            "A A\n",
            "I A\n",
            "A A\n",
            "A A\n",
            "A A\n",
            "A A\n",
            "A A\n",
            "A A\n",
            "S A\n",
            "A A\n",
            "S A\n"
          ],
          "name": "stdout"
        }
      ]
    },
    {
      "cell_type": "code",
      "metadata": {
        "id": "p6X6RJoZ0GfL"
      },
      "source": [
        "4) Tự bổ sung thêm 1 mô hình nào tự tìm hiểu (Decision Tree, Neural Networks, …)"
      ],
      "execution_count": null,
      "outputs": []
    },
    {
      "cell_type": "code",
      "metadata": {
        "id": "sxViZzGsGOcX"
      },
      "source": [
        "DecisionTree"
      ],
      "execution_count": null,
      "outputs": []
    },
    {
      "cell_type": "code",
      "metadata": {
        "id": "rJyJZUq30NQR"
      },
      "source": [
        "from sklearn import tree\r\n",
        "clf = tree.DecisionTreeClassifier()\r\n",
        "clf = clf.fit(X, y)"
      ],
      "execution_count": 26,
      "outputs": []
    },
    {
      "cell_type": "code",
      "metadata": {
        "colab": {
          "base_uri": "https://localhost:8080/",
          "height": 1000
        },
        "id": "p9ghDnOtFn3Y",
        "outputId": "fa13c834-56fc-4cbb-c411-86367060aa45"
      },
      "source": [
        "tree.plot_tree(clf) "
      ],
      "execution_count": 27,
      "outputs": [
        {
          "output_type": "execute_result",
          "data": {
            "text/plain": [
              "[Text(110.5828125, 209.07692307692307, 'X[5] <= 1.5\\ngini = 0.432\\nsamples = 87\\nvalue = [61, 1, 1, 24]'),\n",
              " Text(57.253125000000004, 192.35076923076923, 'X[7] <= 1.5\\ngini = 0.399\\nsamples = 82\\nvalue = [60, 0, 1, 21]'),\n",
              " Text(18.6, 175.62461538461537, 'X[4] <= 0.5\\ngini = 0.444\\nsamples = 3\\nvalue = [1, 0, 0, 2]'),\n",
              " Text(9.3, 158.89846153846153, 'gini = 0.0\\nsamples = 2\\nvalue = [0, 0, 0, 2]'),\n",
              " Text(27.900000000000002, 158.89846153846153, 'gini = 0.0\\nsamples = 1\\nvalue = [1, 0, 0, 0]'),\n",
              " Text(95.90625000000001, 175.62461538461537, 'X[3] <= 1.5\\ngini = 0.384\\nsamples = 79\\nvalue = [59, 0, 1, 19]'),\n",
              " Text(46.5, 158.89846153846153, 'X[6] <= 0.5\\ngini = 0.245\\nsamples = 28\\nvalue = [24, 0, 0, 4]'),\n",
              " Text(37.2, 142.1723076923077, 'gini = 0.0\\nsamples = 10\\nvalue = [10, 0, 0, 0]'),\n",
              " Text(55.800000000000004, 142.1723076923077, 'X[1] <= 0.5\\ngini = 0.346\\nsamples = 18\\nvalue = [14, 0, 0, 4]'),\n",
              " Text(37.2, 125.44615384615385, 'X[6] <= 1.5\\ngini = 0.48\\nsamples = 5\\nvalue = [3, 0, 0, 2]'),\n",
              " Text(27.900000000000002, 108.72, 'X[3] <= 0.5\\ngini = 0.444\\nsamples = 3\\nvalue = [1, 0, 0, 2]'),\n",
              " Text(18.6, 91.99384615384615, 'gini = 0.0\\nsamples = 2\\nvalue = [0, 0, 0, 2]'),\n",
              " Text(37.2, 91.99384615384615, 'gini = 0.0\\nsamples = 1\\nvalue = [1, 0, 0, 0]'),\n",
              " Text(46.5, 108.72, 'gini = 0.0\\nsamples = 2\\nvalue = [2, 0, 0, 0]'),\n",
              " Text(74.4, 125.44615384615385, 'X[1] <= 1.5\\ngini = 0.26\\nsamples = 13\\nvalue = [11, 0, 0, 2]'),\n",
              " Text(65.10000000000001, 108.72, 'gini = 0.0\\nsamples = 4\\nvalue = [4, 0, 0, 0]'),\n",
              " Text(83.7, 108.72, 'X[4] <= 0.5\\ngini = 0.346\\nsamples = 9\\nvalue = [7, 0, 0, 2]'),\n",
              " Text(65.10000000000001, 91.99384615384615, 'X[2] <= 0.5\\ngini = 0.245\\nsamples = 7\\nvalue = [6, 0, 0, 1]'),\n",
              " Text(55.800000000000004, 75.2676923076923, 'gini = 0.0\\nsamples = 4\\nvalue = [4, 0, 0, 0]'),\n",
              " Text(74.4, 75.2676923076923, 'X[7] <= 2.5\\ngini = 0.444\\nsamples = 3\\nvalue = [2, 0, 0, 1]'),\n",
              " Text(65.10000000000001, 58.541538461538465, 'gini = 0.5\\nsamples = 2\\nvalue = [1, 0, 0, 1]'),\n",
              " Text(83.7, 58.541538461538465, 'gini = 0.0\\nsamples = 1\\nvalue = [1, 0, 0, 0]'),\n",
              " Text(102.30000000000001, 91.99384615384615, 'X[0] <= 1.5\\ngini = 0.5\\nsamples = 2\\nvalue = [1, 0, 0, 1]'),\n",
              " Text(93.0, 75.2676923076923, 'gini = 0.0\\nsamples = 1\\nvalue = [0, 0, 0, 1]'),\n",
              " Text(111.60000000000001, 75.2676923076923, 'gini = 0.0\\nsamples = 1\\nvalue = [1, 0, 0, 0]'),\n",
              " Text(145.3125, 158.89846153846153, 'X[1] <= 0.5\\ngini = 0.442\\nsamples = 51\\nvalue = [35, 0, 1, 15]'),\n",
              " Text(122.06250000000001, 142.1723076923077, 'X[4] <= 0.5\\ngini = 0.18\\nsamples = 10\\nvalue = [9, 0, 0, 1]'),\n",
              " Text(112.7625, 125.44615384615385, 'X[6] <= 0.5\\ngini = 0.444\\nsamples = 3\\nvalue = [2, 0, 0, 1]'),\n",
              " Text(103.4625, 108.72, 'gini = 0.0\\nsamples = 2\\nvalue = [2, 0, 0, 0]'),\n",
              " Text(122.06250000000001, 108.72, 'gini = 0.0\\nsamples = 1\\nvalue = [0, 0, 0, 1]'),\n",
              " Text(131.3625, 125.44615384615385, 'gini = 0.0\\nsamples = 7\\nvalue = [7, 0, 0, 0]'),\n",
              " Text(168.5625, 142.1723076923077, 'X[6] <= 0.5\\ngini = 0.481\\nsamples = 41\\nvalue = [26, 0, 1, 14]'),\n",
              " Text(149.9625, 125.44615384615385, 'X[4] <= 0.5\\ngini = 0.375\\nsamples = 4\\nvalue = [1, 0, 0, 3]'),\n",
              " Text(140.66250000000002, 108.72, 'gini = 0.5\\nsamples = 2\\nvalue = [1, 0, 0, 1]'),\n",
              " Text(159.26250000000002, 108.72, 'gini = 0.0\\nsamples = 2\\nvalue = [0, 0, 0, 2]'),\n",
              " Text(187.16250000000002, 125.44615384615385, 'X[0] <= 0.5\\ngini = 0.454\\nsamples = 37\\nvalue = [25, 0, 1, 11]'),\n",
              " Text(177.8625, 108.72, 'gini = 0.0\\nsamples = 1\\nvalue = [0, 0, 0, 1]'),\n",
              " Text(196.4625, 108.72, 'X[0] <= 1.5\\ngini = 0.44\\nsamples = 36\\nvalue = [25, 0, 1, 10]'),\n",
              " Text(148.8, 91.99384615384615, 'X[1] <= 1.5\\ngini = 0.48\\nsamples = 10\\nvalue = [6, 0, 0, 4]'),\n",
              " Text(130.20000000000002, 75.2676923076923, 'X[6] <= 1.5\\ngini = 0.32\\nsamples = 5\\nvalue = [4, 0, 0, 1]'),\n",
              " Text(120.9, 58.541538461538465, 'gini = 0.0\\nsamples = 3\\nvalue = [3, 0, 0, 0]'),\n",
              " Text(139.5, 58.541538461538465, 'gini = 0.5\\nsamples = 2\\nvalue = [1, 0, 0, 1]'),\n",
              " Text(167.4, 75.2676923076923, 'X[6] <= 1.5\\ngini = 0.48\\nsamples = 5\\nvalue = [2, 0, 0, 3]'),\n",
              " Text(158.10000000000002, 58.541538461538465, 'X[4] <= 0.5\\ngini = 0.375\\nsamples = 4\\nvalue = [1, 0, 0, 3]'),\n",
              " Text(148.8, 41.81538461538463, 'gini = 0.0\\nsamples = 2\\nvalue = [0, 0, 0, 2]'),\n",
              " Text(167.4, 41.81538461538463, 'gini = 0.5\\nsamples = 2\\nvalue = [1, 0, 0, 1]'),\n",
              " Text(176.70000000000002, 58.541538461538465, 'gini = 0.0\\nsamples = 1\\nvalue = [1, 0, 0, 0]'),\n",
              " Text(244.12500000000003, 91.99384615384615, 'X[1] <= 1.5\\ngini = 0.411\\nsamples = 26\\nvalue = [19, 0, 1, 6]'),\n",
              " Text(204.60000000000002, 75.2676923076923, 'X[6] <= 1.5\\ngini = 0.56\\nsamples = 5\\nvalue = [3, 0, 1, 1]'),\n",
              " Text(195.3, 58.541538461538465, 'gini = 0.0\\nsamples = 3\\nvalue = [3, 0, 0, 0]'),\n",
              " Text(213.9, 58.541538461538465, 'X[2] <= 0.5\\ngini = 0.5\\nsamples = 2\\nvalue = [0, 0, 1, 1]'),\n",
              " Text(204.60000000000002, 41.81538461538463, 'gini = 0.0\\nsamples = 1\\nvalue = [0, 0, 0, 1]'),\n",
              " Text(223.20000000000002, 41.81538461538463, 'gini = 0.0\\nsamples = 1\\nvalue = [0, 0, 1, 0]'),\n",
              " Text(283.65000000000003, 75.2676923076923, 'X[6] <= 1.5\\ngini = 0.363\\nsamples = 21\\nvalue = [16, 0, 0, 5]'),\n",
              " Text(260.40000000000003, 58.541538461538465, 'X[4] <= 0.5\\ngini = 0.391\\nsamples = 15\\nvalue = [11, 0, 0, 4]'),\n",
              " Text(241.8, 41.81538461538463, 'X[7] <= 2.5\\ngini = 0.444\\nsamples = 6\\nvalue = [4, 0, 0, 2]'),\n",
              " Text(232.50000000000003, 25.089230769230767, 'X[2] <= 0.5\\ngini = 0.5\\nsamples = 4\\nvalue = [2, 0, 0, 2]'),\n",
              " Text(223.20000000000002, 8.363076923076932, 'gini = 0.0\\nsamples = 1\\nvalue = [0, 0, 0, 1]'),\n",
              " Text(241.8, 8.363076923076932, 'gini = 0.444\\nsamples = 3\\nvalue = [2, 0, 0, 1]'),\n",
              " Text(251.10000000000002, 25.089230769230767, 'gini = 0.0\\nsamples = 2\\nvalue = [2, 0, 0, 0]'),\n",
              " Text(279.0, 41.81538461538463, 'X[7] <= 2.5\\ngini = 0.346\\nsamples = 9\\nvalue = [7, 0, 0, 2]'),\n",
              " Text(269.70000000000005, 25.089230769230767, 'gini = 0.0\\nsamples = 5\\nvalue = [5, 0, 0, 0]'),\n",
              " Text(288.3, 25.089230769230767, 'X[2] <= 0.5\\ngini = 0.5\\nsamples = 4\\nvalue = [2, 0, 0, 2]'),\n",
              " Text(279.0, 8.363076923076932, 'gini = 0.0\\nsamples = 1\\nvalue = [0, 0, 0, 1]'),\n",
              " Text(297.6, 8.363076923076932, 'gini = 0.444\\nsamples = 3\\nvalue = [2, 0, 0, 1]'),\n",
              " Text(306.90000000000003, 58.541538461538465, 'X[4] <= 0.5\\ngini = 0.278\\nsamples = 6\\nvalue = [5, 0, 0, 1]'),\n",
              " Text(297.6, 41.81538461538463, 'gini = 0.0\\nsamples = 4\\nvalue = [4, 0, 0, 0]'),\n",
              " Text(316.20000000000005, 41.81538461538463, 'X[7] <= 2.5\\ngini = 0.5\\nsamples = 2\\nvalue = [1, 0, 0, 1]'),\n",
              " Text(306.90000000000003, 25.089230769230767, 'gini = 0.0\\nsamples = 1\\nvalue = [0, 0, 0, 1]'),\n",
              " Text(325.5, 25.089230769230767, 'gini = 0.0\\nsamples = 1\\nvalue = [1, 0, 0, 0]'),\n",
              " Text(163.91250000000002, 192.35076923076923, 'X[6] <= 0.5\\ngini = 0.56\\nsamples = 5\\nvalue = [1, 1, 0, 3]'),\n",
              " Text(154.6125, 175.62461538461537, 'gini = 0.0\\nsamples = 1\\nvalue = [0, 1, 0, 0]'),\n",
              " Text(173.2125, 175.62461538461537, 'X[6] <= 1.5\\ngini = 0.375\\nsamples = 4\\nvalue = [1, 0, 0, 3]'),\n",
              " Text(163.91250000000002, 158.89846153846153, 'gini = 0.0\\nsamples = 3\\nvalue = [0, 0, 0, 3]'),\n",
              " Text(182.51250000000002, 158.89846153846153, 'gini = 0.0\\nsamples = 1\\nvalue = [1, 0, 0, 0]')]"
            ]
          },
          "metadata": {
            "tags": []
          },
          "execution_count": 27
        },
        {
          "output_type": "display_data",
          "data": {
            "image/png": "[encoded data removed]",
            "text/plain": [
              "<Figure size 432x288 with 1 Axes>"
            ]
          },
          "metadata": {
            "tags": [],
            "needs_background": "light"
          }
        }
      ]
    },
    {
      "cell_type": "code",
      "metadata": {
        "id": "3M9W5aVdGUfq"
      },
      "source": [
        "5) (1 điểm) Đánh giá độ chính xác qua các độ đo precision, recall, F-score,accuracy"
      ],
      "execution_count": null,
      "outputs": []
    },
    {
      "cell_type": "code",
      "metadata": {
        "id": "TSYg46_tHTkY"
      },
      "source": [
        "5.1) Đánh giá độ chính xác KNN"
      ],
      "execution_count": null,
      "outputs": []
    },
    {
      "cell_type": "code",
      "metadata": {
        "colab": {
          "base_uri": "https://localhost:8080/"
        },
        "id": "39pcMZfSGwbF",
        "outputId": "517090dd-6174-4b66-bf8f-3a8ef83a865c"
      },
      "source": [
        "from sklearn.metrics import classification_report\r\n",
        "print(classification_report(y_test_Knn,y_pred_Knn))"
      ],
      "execution_count": 28,
      "outputs": [
        {
          "output_type": "stream",
          "text": [
            "              precision    recall  f1-score   support\n",
            "\n",
            "           A       0.82      0.78      0.80        23\n",
            "           I       0.00      0.00      0.00         1\n",
            "           S       0.00      0.00      0.00         3\n",
            "\n",
            "    accuracy                           0.67        27\n",
            "   macro avg       0.27      0.26      0.27        27\n",
            "weighted avg       0.70      0.67      0.68        27\n",
            "\n"
          ],
          "name": "stdout"
        },
        {
          "output_type": "stream",
          "text": [
            "/usr/local/lib/python3.7/dist-packages/sklearn/metrics/_classification.py:1272: UndefinedMetricWarning: Precision and F-score are ill-defined and being set to 0.0 in labels with no predicted samples. Use `zero_division` parameter to control this behavior.\n",
            "  _warn_prf(average, modifier, msg_start, len(result))\n"
          ],
          "name": "stderr"
        }
      ]
    },
    {
      "cell_type": "code",
      "metadata": {
        "id": "iLQ_Dlp2Hk_J"
      },
      "source": [
        "5.1) Đánh giá độ chính xác NB"
      ],
      "execution_count": null,
      "outputs": []
    },
    {
      "cell_type": "code",
      "metadata": {
        "colab": {
          "base_uri": "https://localhost:8080/"
        },
        "id": "IkjLDN4VHn-f",
        "outputId": "aa437cd0-d2c7-4b1b-ce07-7e73067f1bed"
      },
      "source": [
        "from sklearn.metrics import classification_report\r\n",
        "print(classification_report(y_pred_MulNb,y_test_Nb))"
      ],
      "execution_count": 29,
      "outputs": [
        {
          "output_type": "stream",
          "text": [
            "              precision    recall  f1-score   support\n",
            "\n",
            "           A       0.44      0.71      0.55        34\n",
            "           I       0.00      0.00      0.00         0\n",
            "           S       0.41      0.18      0.25        38\n",
            "\n",
            "    accuracy                           0.43        72\n",
            "   macro avg       0.29      0.30      0.27        72\n",
            "weighted avg       0.43      0.43      0.39        72\n",
            "\n"
          ],
          "name": "stdout"
        },
        {
          "output_type": "stream",
          "text": [
            "/usr/local/lib/python3.7/dist-packages/sklearn/metrics/_classification.py:1272: UndefinedMetricWarning: Recall and F-score are ill-defined and being set to 0.0 in labels with no true samples. Use `zero_division` parameter to control this behavior.\n",
            "  _warn_prf(average, modifier, msg_start, len(result))\n"
          ],
          "name": "stderr"
        }
      ]
    },
    {
      "cell_type": "code",
      "metadata": {
        "colab": {
          "base_uri": "https://localhost:8080/"
        },
        "id": "J-IuclaJzNji",
        "outputId": "cd91916d-7887-406b-922b-494c43921885"
      },
      "source": [
        "from sklearn.metrics import classification_report\r\n",
        "print(classification_report(y_pred_GauNB,y_test_Nb))"
      ],
      "execution_count": 30,
      "outputs": [
        {
          "output_type": "stream",
          "text": [
            "              precision    recall  f1-score   support\n",
            "\n",
            "           A       0.96      0.75      0.85        69\n",
            "           I       0.00      0.00      0.00         0\n",
            "           S       0.06      0.33      0.10         3\n",
            "\n",
            "    accuracy                           0.74        72\n",
            "   macro avg       0.34      0.36      0.32        72\n",
            "weighted avg       0.93      0.74      0.81        72\n",
            "\n"
          ],
          "name": "stdout"
        },
        {
          "output_type": "stream",
          "text": [
            "/usr/local/lib/python3.7/dist-packages/sklearn/metrics/_classification.py:1272: UndefinedMetricWarning: Recall and F-score are ill-defined and being set to 0.0 in labels with no true samples. Use `zero_division` parameter to control this behavior.\n",
            "  _warn_prf(average, modifier, msg_start, len(result))\n"
          ],
          "name": "stderr"
        }
      ]
    },
    {
      "cell_type": "code",
      "metadata": {
        "colab": {
          "base_uri": "https://localhost:8080/"
        },
        "id": "KiDRdOLPzYJ9",
        "outputId": "36498620-3327-41f1-ff0f-69726f0b82b2"
      },
      "source": [
        "from sklearn.metrics import classification_report\r\n",
        "print(classification_report(y_pred_BerNB,y_test_Nb))"
      ],
      "execution_count": 31,
      "outputs": [
        {
          "output_type": "stream",
          "text": [
            "              precision    recall  f1-score   support\n",
            "\n",
            "           A       0.31      0.89      0.47        19\n",
            "           I       0.00      0.00      0.00         0\n",
            "           S       0.88      0.28      0.43        53\n",
            "\n",
            "    accuracy                           0.44        72\n",
            "   macro avg       0.40      0.39      0.30        72\n",
            "weighted avg       0.73      0.44      0.44        72\n",
            "\n"
          ],
          "name": "stdout"
        },
        {
          "output_type": "stream",
          "text": [
            "/usr/local/lib/python3.7/dist-packages/sklearn/metrics/_classification.py:1272: UndefinedMetricWarning: Recall and F-score are ill-defined and being set to 0.0 in labels with no true samples. Use `zero_division` parameter to control this behavior.\n",
            "  _warn_prf(average, modifier, msg_start, len(result))\n"
          ],
          "name": "stderr"
        }
      ]
    },
    {
      "cell_type": "code",
      "metadata": {
        "id": "pQNQxrxLH5q1"
      },
      "source": [
        "5.2) Đánh giá độ chính xác Svm"
      ],
      "execution_count": null,
      "outputs": []
    },
    {
      "cell_type": "code",
      "metadata": {
        "colab": {
          "base_uri": "https://localhost:8080/"
        },
        "id": "DZ0FqMB3IHQb",
        "outputId": "a44b5419-99d8-4458-bcb6-f9ade87615b6"
      },
      "source": [
        "from sklearn.metrics import classification_report\r\n",
        "print(classification_report(y_test_Svm,y_pred_Svm))"
      ],
      "execution_count": 32,
      "outputs": [
        {
          "output_type": "stream",
          "text": [
            "              precision    recall  f1-score   support\n",
            "\n",
            "           A       0.85      1.00      0.92        23\n",
            "           I       0.00      0.00      0.00         1\n",
            "           S       0.00      0.00      0.00         3\n",
            "\n",
            "    accuracy                           0.85        27\n",
            "   macro avg       0.28      0.33      0.31        27\n",
            "weighted avg       0.73      0.85      0.78        27\n",
            "\n"
          ],
          "name": "stdout"
        },
        {
          "output_type": "stream",
          "text": [
            "/usr/local/lib/python3.7/dist-packages/sklearn/metrics/_classification.py:1272: UndefinedMetricWarning: Precision and F-score are ill-defined and being set to 0.0 in labels with no predicted samples. Use `zero_division` parameter to control this behavior.\n",
            "  _warn_prf(average, modifier, msg_start, len(result))\n"
          ],
          "name": "stderr"
        }
      ]
    },
    {
      "cell_type": "code",
      "metadata": {
        "id": "mIMQdMQBIQz4"
      },
      "source": [
        "6) (2 điểm) Tìm hiểu về vấn đề Overfiting và trong chương trình trên đã áp dụng như thế nào? (phần này cần trình bày bằng slide)"
      ],
      "execution_count": null,
      "outputs": []
    },
    {
      "cell_type": "code",
      "metadata": {
        "colab": {
          "base_uri": "https://localhost:8080/",
          "height": 1000
        },
        "id": "aqvALs7ogBjT",
        "outputId": "9e34959e-19c3-4a7d-b15a-3896956e1110"
      },
      "source": [
        "from sklearn.metrics import accuracy_score\r\n",
        "from matplotlib import pyplot\r\n",
        "# xác định danh sách để thu thập dữ liệu\r\n",
        "train_scores, test_scores = list(), list()\r\n",
        "values = [i for i in range(1, 61)]\r\n",
        "# Chạy thay đổi láng giềng\r\n",
        "for i in values:\r\n",
        " modelKnn = KNeighborsClassifier(n_neighbors=i)\r\n",
        " modelKnn.fit(X_train_Knn, y_train_Knn)\r\n",
        " # đánh giá trên tệp post operative\r\n",
        " train_yhat = modelKnn.predict(X_train_Knn)\r\n",
        " train_acc = accuracy_score(y_train_Knn, train_yhat)\r\n",
        " train_scores.append(train_acc)\r\n",
        " # đánh giá trên tệp dữ liệu test\r\n",
        " test_yhat = modelKnn.predict(X_test_Knn)\r\n",
        " test_acc = accuracy_score(y_test_Knn, test_yhat)\r\n",
        " test_scores.append(test_acc)\r\n",
        " # Tóm tắt\r\n",
        " print('_%d, train: %.3f, test: %.3f' % (i, train_acc, test_acc))\r\n",
        "# Hình minh họa\r\n",
        "pyplot.plot(values, train_scores, '-o', label='Post-operative')\r\n",
        "pyplot.plot(values, test_scores, '-o', label='Test')\r\n",
        "pyplot.legend()\r\n",
        "pyplot.show()"
      ],
      "execution_count": 37,
      "outputs": [
        {
          "output_type": "stream",
          "text": [
            "_1, train: 0.950, test: 0.667\n",
            "_2, train: 0.667, test: 0.778\n",
            "_3, train: 0.717, test: 0.667\n",
            "_4, train: 0.633, test: 0.852\n",
            "_5, train: 0.683, test: 0.667\n",
            "_6, train: 0.650, test: 0.778\n",
            "_7, train: 0.633, test: 0.667\n",
            "_8, train: 0.617, test: 0.815\n",
            "_9, train: 0.650, test: 0.704\n",
            "_10, train: 0.633, test: 0.815\n",
            "_11, train: 0.583, test: 0.815\n",
            "_12, train: 0.633, test: 0.815\n",
            "_13, train: 0.650, test: 0.852\n",
            "_14, train: 0.633, test: 0.815\n",
            "_15, train: 0.633, test: 0.815\n",
            "_16, train: 0.633, test: 0.852\n",
            "_17, train: 0.650, test: 0.889\n",
            "_18, train: 0.633, test: 0.852\n",
            "_19, train: 0.650, test: 0.852\n",
            "_20, train: 0.633, test: 0.852\n",
            "_21, train: 0.683, test: 0.815\n",
            "_22, train: 0.633, test: 0.852\n",
            "_23, train: 0.633, test: 0.852\n",
            "_24, train: 0.633, test: 0.852\n",
            "_25, train: 0.633, test: 0.852\n",
            "_26, train: 0.633, test: 0.852\n",
            "_27, train: 0.617, test: 0.815\n",
            "_28, train: 0.617, test: 0.852\n",
            "_29, train: 0.617, test: 0.815\n",
            "_30, train: 0.633, test: 0.852\n",
            "_31, train: 0.633, test: 0.852\n",
            "_32, train: 0.633, test: 0.852\n",
            "_33, train: 0.633, test: 0.852\n",
            "_34, train: 0.633, test: 0.852\n",
            "_35, train: 0.633, test: 0.852\n",
            "_36, train: 0.633, test: 0.852\n",
            "_37, train: 0.633, test: 0.852\n",
            "_38, train: 0.633, test: 0.852\n",
            "_39, train: 0.633, test: 0.852\n",
            "_40, train: 0.633, test: 0.852\n",
            "_41, train: 0.633, test: 0.852\n",
            "_42, train: 0.633, test: 0.852\n",
            "_43, train: 0.633, test: 0.852\n",
            "_44, train: 0.633, test: 0.852\n",
            "_45, train: 0.633, test: 0.852\n",
            "_46, train: 0.633, test: 0.852\n",
            "_47, train: 0.633, test: 0.852\n",
            "_48, train: 0.633, test: 0.852\n",
            "_49, train: 0.633, test: 0.852\n",
            "_50, train: 0.633, test: 0.852\n",
            "_51, train: 0.633, test: 0.852\n",
            "_52, train: 0.633, test: 0.852\n",
            "_53, train: 0.633, test: 0.852\n",
            "_54, train: 0.633, test: 0.852\n",
            "_55, train: 0.633, test: 0.852\n",
            "_56, train: 0.633, test: 0.852\n",
            "_57, train: 0.633, test: 0.852\n",
            "_58, train: 0.633, test: 0.852\n",
            "_59, train: 0.633, test: 0.852\n",
            "_60, train: 0.633, test: 0.852\n"
          ],
          "name": "stdout"
        },
        {
          "output_type": "display_data",
          "data": {
            "image/png": "[encoded data removed]",
            "text/plain": [
              "<Figure size 432x288 with 1 Axes>"
            ]
          },
          "metadata": {
            "tags": [],
            "needs_background": "light"
          }
        }
      ]
    }
  ]
}