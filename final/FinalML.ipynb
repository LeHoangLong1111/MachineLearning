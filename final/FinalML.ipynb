{
  "nbformat": 4,
  "nbformat_minor": 0,
  "metadata": {
    "colab": {
      "name": "FinalML.ipynb",
      "provenance": [],
      "collapsed_sections": []
    },
    "kernelspec": {
      "name": "python3",
      "display_name": "Python 3"
    },
    "language_info": {
      "name": "python"
    }
  },
  "cells": [
    {
      "cell_type": "code",
      "metadata": {
        "id": "caO0rbxA7E45"
      },
      "source": [
        "import pandas as pd\n",
        "import matplotlib.pyplot as plt\n",
        "import numpy as np"
      ],
      "execution_count": 2,
      "outputs": []
    },
    {
      "cell_type": "code",
      "metadata": {
        "colab": {
          "resources": {
            "http://localhost:8080/nbextensions/google.colab/files.js": {
              "data": "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",
              "ok": true,
              "headers": [
                [
                  "content-type",
                  "application/javascript"
                ]
              ],
              "status": 200,
              "status_text": ""
            }
          },
          "base_uri": "https://localhost:8080/",
          "height": 72
        },
        "id": "LIfPNEJX7d2c",
        "outputId": "47026bfb-eda1-49b7-8f78-3bc1c3b1ca6d"
      },
      "source": [
        "from google.colab import files\n",
        "uploaded = files.upload()"
      ],
      "execution_count": 3,
      "outputs": [
        {
          "output_type": "display_data",
          "data": {
            "text/html": [
              "\n",
              "     <input type=\"file\" id=\"files-cfab5fda-d4bf-487b-9983-b1f1d699538c\" name=\"files[]\" multiple disabled\n",
              "        style=\"border:none\" />\n",
              "     <output id=\"result-cfab5fda-d4bf-487b-9983-b1f1d699538c\">\n",
              "      Upload widget is only available when the cell has been executed in the\n",
              "      current browser session. Please rerun this cell to enable.\n",
              "      </output>\n",
              "      <script src=\"/nbextensions/google.colab/files.js\"></script> "
            ],
            "text/plain": [
              "<IPython.core.display.HTML object>"
            ]
          },
          "metadata": {
            "tags": []
          }
        },
        {
          "output_type": "stream",
          "text": [
            "Saving EEG Eye State.arff to EEG Eye State.arff\n"
          ],
          "name": "stdout"
        }
      ]
    },
    {
      "cell_type": "code",
      "metadata": {
        "colab": {
          "base_uri": "https://localhost:8080/",
          "height": 419
        },
        "id": "ICNJTYJJ8ecI",
        "outputId": "1e60f4fe-565b-4731-908f-0780de085669"
      },
      "source": [
        "import pandas as pd\n",
        "import io\n",
        "\n",
        "dataframe = pd.read_csv(io.StringIO(uploaded['EEG Eye State.arff'].decode('utf-8')), names=[\"AF3\", \"ta\", \"F3\", \"FC5\", \"T7\", \"P7\", \"O1\", \"O2\", \"P8\", \"T8\", \"FC6\", \"F4\", \"F8\", \"AF4\", \"EyeDetection\"])\n",
        "dataframe"
      ],
      "execution_count": 4,
      "outputs": [
        {
          "output_type": "execute_result",
          "data": {
            "text/html": [
              "<div>\n",
              "<style scoped>\n",
              "    .dataframe tbody tr th:only-of-type {\n",
              "        vertical-align: middle;\n",
              "    }\n",
              "\n",
              "    .dataframe tbody tr th {\n",
              "        vertical-align: top;\n",
              "    }\n",
              "\n",
              "    .dataframe thead th {\n",
              "        text-align: right;\n",
              "    }\n",
              "</style>\n",
              "<table border=\"1\" class=\"dataframe\">\n",
              "  <thead>\n",
              "    <tr style=\"text-align: right;\">\n",
              "      <th></th>\n",
              "      <th>AF3</th>\n",
              "      <th>ta</th>\n",
              "      <th>F3</th>\n",
              "      <th>FC5</th>\n",
              "      <th>T7</th>\n",
              "      <th>P7</th>\n",
              "      <th>O1</th>\n",
              "      <th>O2</th>\n",
              "      <th>P8</th>\n",
              "      <th>T8</th>\n",
              "      <th>FC6</th>\n",
              "      <th>F4</th>\n",
              "      <th>F8</th>\n",
              "      <th>AF4</th>\n",
              "      <th>EyeDetection</th>\n",
              "    </tr>\n",
              "  </thead>\n",
              "  <tbody>\n",
              "    <tr>\n",
              "      <th>0</th>\n",
              "      <td>4329.23</td>\n",
              "      <td>4009.23</td>\n",
              "      <td>4289.23</td>\n",
              "      <td>4148.21</td>\n",
              "      <td>4350.26</td>\n",
              "      <td>4586.15</td>\n",
              "      <td>4096.92</td>\n",
              "      <td>4641.03</td>\n",
              "      <td>4222.05</td>\n",
              "      <td>4238.46</td>\n",
              "      <td>4211.28</td>\n",
              "      <td>4280.51</td>\n",
              "      <td>4635.90</td>\n",
              "      <td>4393.85</td>\n",
              "      <td>0</td>\n",
              "    </tr>\n",
              "    <tr>\n",
              "      <th>1</th>\n",
              "      <td>4324.62</td>\n",
              "      <td>4004.62</td>\n",
              "      <td>4293.85</td>\n",
              "      <td>4148.72</td>\n",
              "      <td>4342.05</td>\n",
              "      <td>4586.67</td>\n",
              "      <td>4097.44</td>\n",
              "      <td>4638.97</td>\n",
              "      <td>4210.77</td>\n",
              "      <td>4226.67</td>\n",
              "      <td>4207.69</td>\n",
              "      <td>4279.49</td>\n",
              "      <td>4632.82</td>\n",
              "      <td>4384.10</td>\n",
              "      <td>0</td>\n",
              "    </tr>\n",
              "    <tr>\n",
              "      <th>2</th>\n",
              "      <td>4327.69</td>\n",
              "      <td>4006.67</td>\n",
              "      <td>4295.38</td>\n",
              "      <td>4156.41</td>\n",
              "      <td>4336.92</td>\n",
              "      <td>4583.59</td>\n",
              "      <td>4096.92</td>\n",
              "      <td>4630.26</td>\n",
              "      <td>4207.69</td>\n",
              "      <td>4222.05</td>\n",
              "      <td>4206.67</td>\n",
              "      <td>4282.05</td>\n",
              "      <td>4628.72</td>\n",
              "      <td>4389.23</td>\n",
              "      <td>0</td>\n",
              "    </tr>\n",
              "    <tr>\n",
              "      <th>3</th>\n",
              "      <td>4328.72</td>\n",
              "      <td>4011.79</td>\n",
              "      <td>4296.41</td>\n",
              "      <td>4155.90</td>\n",
              "      <td>4343.59</td>\n",
              "      <td>4582.56</td>\n",
              "      <td>4097.44</td>\n",
              "      <td>4630.77</td>\n",
              "      <td>4217.44</td>\n",
              "      <td>4235.38</td>\n",
              "      <td>4210.77</td>\n",
              "      <td>4287.69</td>\n",
              "      <td>4632.31</td>\n",
              "      <td>4396.41</td>\n",
              "      <td>0</td>\n",
              "    </tr>\n",
              "    <tr>\n",
              "      <th>4</th>\n",
              "      <td>4326.15</td>\n",
              "      <td>4011.79</td>\n",
              "      <td>4292.31</td>\n",
              "      <td>4151.28</td>\n",
              "      <td>4347.69</td>\n",
              "      <td>4586.67</td>\n",
              "      <td>4095.90</td>\n",
              "      <td>4627.69</td>\n",
              "      <td>4210.77</td>\n",
              "      <td>4244.10</td>\n",
              "      <td>4212.82</td>\n",
              "      <td>4288.21</td>\n",
              "      <td>4632.82</td>\n",
              "      <td>4398.46</td>\n",
              "      <td>0</td>\n",
              "    </tr>\n",
              "    <tr>\n",
              "      <th>...</th>\n",
              "      <td>...</td>\n",
              "      <td>...</td>\n",
              "      <td>...</td>\n",
              "      <td>...</td>\n",
              "      <td>...</td>\n",
              "      <td>...</td>\n",
              "      <td>...</td>\n",
              "      <td>...</td>\n",
              "      <td>...</td>\n",
              "      <td>...</td>\n",
              "      <td>...</td>\n",
              "      <td>...</td>\n",
              "      <td>...</td>\n",
              "      <td>...</td>\n",
              "      <td>...</td>\n",
              "    </tr>\n",
              "    <tr>\n",
              "      <th>14975</th>\n",
              "      <td>4281.03</td>\n",
              "      <td>3990.26</td>\n",
              "      <td>4245.64</td>\n",
              "      <td>4116.92</td>\n",
              "      <td>4333.85</td>\n",
              "      <td>4614.36</td>\n",
              "      <td>4074.87</td>\n",
              "      <td>4625.64</td>\n",
              "      <td>4203.08</td>\n",
              "      <td>4221.54</td>\n",
              "      <td>4171.28</td>\n",
              "      <td>4269.23</td>\n",
              "      <td>4593.33</td>\n",
              "      <td>4340.51</td>\n",
              "      <td>1</td>\n",
              "    </tr>\n",
              "    <tr>\n",
              "      <th>14976</th>\n",
              "      <td>4276.92</td>\n",
              "      <td>3991.79</td>\n",
              "      <td>4245.13</td>\n",
              "      <td>4110.77</td>\n",
              "      <td>4332.82</td>\n",
              "      <td>4615.38</td>\n",
              "      <td>4073.33</td>\n",
              "      <td>4621.54</td>\n",
              "      <td>4194.36</td>\n",
              "      <td>4217.44</td>\n",
              "      <td>4162.56</td>\n",
              "      <td>4259.49</td>\n",
              "      <td>4590.26</td>\n",
              "      <td>4333.33</td>\n",
              "      <td>1</td>\n",
              "    </tr>\n",
              "    <tr>\n",
              "      <th>14977</th>\n",
              "      <td>4277.44</td>\n",
              "      <td>3990.77</td>\n",
              "      <td>4246.67</td>\n",
              "      <td>4113.85</td>\n",
              "      <td>4333.33</td>\n",
              "      <td>4615.38</td>\n",
              "      <td>4072.82</td>\n",
              "      <td>4623.59</td>\n",
              "      <td>4193.33</td>\n",
              "      <td>4212.82</td>\n",
              "      <td>4160.51</td>\n",
              "      <td>4257.95</td>\n",
              "      <td>4591.79</td>\n",
              "      <td>4339.49</td>\n",
              "      <td>1</td>\n",
              "    </tr>\n",
              "    <tr>\n",
              "      <th>14978</th>\n",
              "      <td>4284.62</td>\n",
              "      <td>3991.79</td>\n",
              "      <td>4251.28</td>\n",
              "      <td>4122.05</td>\n",
              "      <td>4334.36</td>\n",
              "      <td>4616.41</td>\n",
              "      <td>4080.51</td>\n",
              "      <td>4628.72</td>\n",
              "      <td>4200.00</td>\n",
              "      <td>4220.00</td>\n",
              "      <td>4165.64</td>\n",
              "      <td>4267.18</td>\n",
              "      <td>4596.41</td>\n",
              "      <td>4350.77</td>\n",
              "      <td>1</td>\n",
              "    </tr>\n",
              "    <tr>\n",
              "      <th>14979</th>\n",
              "      <td>4287.69</td>\n",
              "      <td>3997.44</td>\n",
              "      <td>4260.00</td>\n",
              "      <td>4121.03</td>\n",
              "      <td>4333.33</td>\n",
              "      <td>4616.41</td>\n",
              "      <td>4088.72</td>\n",
              "      <td>4638.46</td>\n",
              "      <td>4212.31</td>\n",
              "      <td>4226.67</td>\n",
              "      <td>4167.69</td>\n",
              "      <td>4274.36</td>\n",
              "      <td>4597.95</td>\n",
              "      <td>4350.77</td>\n",
              "      <td>1</td>\n",
              "    </tr>\n",
              "  </tbody>\n",
              "</table>\n",
              "<p>14980 rows × 15 columns</p>\n",
              "</div>"
            ],
            "text/plain": [
              "           AF3       ta       F3  ...       F8      AF4  EyeDetection\n",
              "0      4329.23  4009.23  4289.23  ...  4635.90  4393.85             0\n",
              "1      4324.62  4004.62  4293.85  ...  4632.82  4384.10             0\n",
              "2      4327.69  4006.67  4295.38  ...  4628.72  4389.23             0\n",
              "3      4328.72  4011.79  4296.41  ...  4632.31  4396.41             0\n",
              "4      4326.15  4011.79  4292.31  ...  4632.82  4398.46             0\n",
              "...        ...      ...      ...  ...      ...      ...           ...\n",
              "14975  4281.03  3990.26  4245.64  ...  4593.33  4340.51             1\n",
              "14976  4276.92  3991.79  4245.13  ...  4590.26  4333.33             1\n",
              "14977  4277.44  3990.77  4246.67  ...  4591.79  4339.49             1\n",
              "14978  4284.62  3991.79  4251.28  ...  4596.41  4350.77             1\n",
              "14979  4287.69  3997.44  4260.00  ...  4597.95  4350.77             1\n",
              "\n",
              "[14980 rows x 15 columns]"
            ]
          },
          "metadata": {
            "tags": []
          },
          "execution_count": 4
        }
      ]
    },
    {
      "cell_type": "code",
      "metadata": {
        "colab": {
          "base_uri": "https://localhost:8080/"
        },
        "id": "3pEuMTHr9u-X",
        "outputId": "f16df48c-de60-48f2-dadd-a3edf9cb9674"
      },
      "source": [
        "dataframe.info()\n"
      ],
      "execution_count": 5,
      "outputs": [
        {
          "output_type": "stream",
          "text": [
            "<class 'pandas.core.frame.DataFrame'>\n",
            "RangeIndex: 14980 entries, 0 to 14979\n",
            "Data columns (total 15 columns):\n",
            " #   Column        Non-Null Count  Dtype  \n",
            "---  ------        --------------  -----  \n",
            " 0   AF3           14980 non-null  float64\n",
            " 1   ta            14980 non-null  float64\n",
            " 2   F3            14980 non-null  float64\n",
            " 3   FC5           14980 non-null  float64\n",
            " 4   T7            14980 non-null  float64\n",
            " 5   P7            14980 non-null  float64\n",
            " 6   O1            14980 non-null  float64\n",
            " 7   O2            14980 non-null  float64\n",
            " 8   P8            14980 non-null  float64\n",
            " 9   T8            14980 non-null  float64\n",
            " 10  FC6           14980 non-null  float64\n",
            " 11  F4            14980 non-null  float64\n",
            " 12  F8            14980 non-null  float64\n",
            " 13  AF4           14980 non-null  float64\n",
            " 14  EyeDetection  14980 non-null  int64  \n",
            "dtypes: float64(14), int64(1)\n",
            "memory usage: 1.7 MB\n"
          ],
          "name": "stdout"
        }
      ]
    },
    {
      "cell_type": "code",
      "metadata": {
        "colab": {
          "base_uri": "https://localhost:8080/"
        },
        "id": "1ZMb8kSE-CLv",
        "outputId": "d38f2bd4-a190-4c76-f4b1-2ef25d85f1b6"
      },
      "source": [
        "a=dataframe.values\n",
        "X=a[:,:-1]   \n",
        "y=a[:,-1]\n",
        "print(X[1])\n",
        "print(y)"
      ],
      "execution_count": 22,
      "outputs": [
        {
          "output_type": "stream",
          "text": [
            "[4324.62 4004.62 4293.85 4148.72 4342.05 4586.67 4097.44 4638.97 4210.77\n",
            " 4226.67 4207.69 4279.49 4632.82 4384.1 ]\n",
            "[0. 0. 0. ... 1. 1. 1.]\n"
          ],
          "name": "stdout"
        }
      ]
    },
    {
      "cell_type": "code",
      "metadata": {
        "colab": {
          "base_uri": "https://localhost:8080/"
        },
        "id": "9Ne5AEx-IxU2",
        "outputId": "6807e2de-7258-4027-d5c7-bbd5172d252e"
      },
      "source": [
        "from sklearn.preprocessing import LabelEncoder\n",
        "encoder = LabelEncoder()\n",
        "for i in range(X.shape[1]):\n",
        "    X[:,i] = encoder.fit_transform(X[:,i], )\n",
        "print(X)"
      ],
      "execution_count": 23,
      "outputs": [
        {
          "output_type": "stream",
          "text": [
            "[[252. 179. 166. ... 132. 308. 320.]\n",
            " [243. 170. 175. ... 130. 302. 301.]\n",
            " [249. 174. 178. ... 135. 294. 311.]\n",
            " ...\n",
            " [151. 143.  83. ...  88. 222. 214.]\n",
            " [165. 145.  92. ... 106. 231. 236.]\n",
            " [171. 156. 109. ... 120. 234. 236.]]\n"
          ],
          "name": "stdout"
        }
      ]
    },
    {
      "cell_type": "code",
      "metadata": {
        "colab": {
          "base_uri": "https://localhost:8080/"
        },
        "id": "vkMqezPqQGGo",
        "outputId": "87e3a79e-39db-48db-a7cb-d9f071c25bbc"
      },
      "source": [
        "X.shape"
      ],
      "execution_count": 24,
      "outputs": [
        {
          "output_type": "execute_result",
          "data": {
            "text/plain": [
              "(14980, 14)"
            ]
          },
          "metadata": {
            "tags": []
          },
          "execution_count": 24
        }
      ]
    },
    {
      "cell_type": "code",
      "metadata": {
        "colab": {
          "base_uri": "https://localhost:8080/"
        },
        "id": "E_5ZXGzeJOY1",
        "outputId": "1f6f38d8-3396-47d6-93bf-6719200b5f62"
      },
      "source": [
        "y=encoder.fit_transform(y)\n",
        "y"
      ],
      "execution_count": 25,
      "outputs": [
        {
          "output_type": "execute_result",
          "data": {
            "text/plain": [
              "array([0, 0, 0, ..., 1, 1, 1])"
            ]
          },
          "metadata": {
            "tags": []
          },
          "execution_count": 25
        }
      ]
    },
    {
      "cell_type": "code",
      "metadata": {
        "id": "pjJr2hyKL3Ul"
      },
      "source": [
        "from sklearn.model_selection import train_test_split\n",
        "X_train,X_test,y_train,y_test = train_test_split(X,y,test_size=0.3,random_state=50)"
      ],
      "execution_count": 26,
      "outputs": []
    },
    {
      "cell_type": "markdown",
      "metadata": {
        "id": "-xjk78bnLs5b"
      },
      "source": [
        "Câu 1: (3.5 điểm)\n",
        "Viết chương trình dự đoán cho bài toán Time Series sử dụng mạng Feed Forward Neural Networks (Perceptron đa tầng)."
      ]
    },
    {
      "cell_type": "code",
      "metadata": {
        "colab": {
          "base_uri": "https://localhost:8080/"
        },
        "id": "8971Zmh8Lx1O",
        "outputId": "1369e53f-d6cc-4b4e-9a62-374d96f3bf2e"
      },
      "source": [
        "from tensorflow.keras.models import Sequential\n",
        "from tensorflow.keras.layers import Dense\n",
        "from tensorflow.keras.layers import Dropout\n",
        "from tensorflow.keras.constraints import MaxNorm\n",
        "\n",
        "model1 = Sequential()\n",
        "model1.add(Dense(28, input_dim=14, activation='sigmoid', kernel_initializer=\"uniform\"))\n",
        "model1.add(Dropout(0.2))\n",
        "model1.add(Dense(20, activation='sigmoid', kernel_constraint=MaxNorm(3), kernel_initializer=\"uniform\"))\n",
        "model1.add(Dropout(0.2))\n",
        "model1.add(Dense(10, activation='sigmoid', kernel_initializer=\"uniform\"))\n",
        "model1.add(Dense(1, activation='sigmoid', kernel_initializer=\"uniform\"))\n",
        "\n",
        "model1.compile(optimizer='adam',  loss='mean_squared_error',   metrics=['accuracy']) \n",
        "X_train=np.asarray(X_train).astype(np.float64)   # chuyen thanh float tranh loi \n",
        "y_train=np.asarray(y_train).astype(np.float64) \n",
        "X_test=np.asarray(X_test).astype(np.float64) \n",
        "y_test=np.asarray(y_test).astype(np.float64) \n",
        "\n",
        "\n",
        "print(X_train.shape)\n",
        "# Một Epoch được tính là khi chúng ta đưa tất cả dữ liệu vào mạng neural network 1 lần. đem toàn bộ dữ liệu qua mạng một vài lần để tìm được kết quả tối ưu\n",
        "# Batch_size là số lượng mẫu dữ liệu trong một batch  \n",
        "# => có 10486 tập dữ liệu mẫu , batch_size = 50 => iterations 210 ( số lượng batch cần để hoàn thành 1 epoch)\n",
        "\n",
        "hist1 = model.fit(X_train, y_train, epochs=50,batch_size=50,validation_data=(X_test, y_test))\n"
      ],
      "execution_count": 28,
      "outputs": [
        {
          "output_type": "stream",
          "text": [
            "(10486, 14)\n",
            "Epoch 1/50\n",
            "210/210 [==============================] - 0s 2ms/step - loss: 0.1971 - accuracy: 0.6920 - val_loss: 0.1835 - val_accuracy: 0.7354\n",
            "Epoch 2/50\n",
            "210/210 [==============================] - 0s 2ms/step - loss: 0.1940 - accuracy: 0.6972 - val_loss: 0.1834 - val_accuracy: 0.7392\n",
            "Epoch 3/50\n",
            "210/210 [==============================] - 0s 2ms/step - loss: 0.1936 - accuracy: 0.6968 - val_loss: 0.1829 - val_accuracy: 0.7332\n",
            "Epoch 4/50\n",
            "210/210 [==============================] - 0s 2ms/step - loss: 0.1964 - accuracy: 0.6908 - val_loss: 0.1775 - val_accuracy: 0.7428\n",
            "Epoch 5/50\n",
            "210/210 [==============================] - 0s 2ms/step - loss: 0.1928 - accuracy: 0.7001 - val_loss: 0.1844 - val_accuracy: 0.7356\n",
            "Epoch 6/50\n",
            "210/210 [==============================] - 0s 2ms/step - loss: 0.1935 - accuracy: 0.6996 - val_loss: 0.1770 - val_accuracy: 0.7534\n",
            "Epoch 7/50\n",
            "210/210 [==============================] - 0s 2ms/step - loss: 0.1945 - accuracy: 0.6978 - val_loss: 0.1748 - val_accuracy: 0.7508\n",
            "Epoch 8/50\n",
            "210/210 [==============================] - 0s 2ms/step - loss: 0.1943 - accuracy: 0.6912 - val_loss: 0.1762 - val_accuracy: 0.7501\n",
            "Epoch 9/50\n",
            "210/210 [==============================] - 0s 2ms/step - loss: 0.1922 - accuracy: 0.7020 - val_loss: 0.1741 - val_accuracy: 0.7543\n",
            "Epoch 10/50\n",
            "210/210 [==============================] - 0s 2ms/step - loss: 0.1925 - accuracy: 0.6946 - val_loss: 0.1748 - val_accuracy: 0.7510\n",
            "Epoch 11/50\n",
            "210/210 [==============================] - 0s 2ms/step - loss: 0.1918 - accuracy: 0.7025 - val_loss: 0.1718 - val_accuracy: 0.7575\n",
            "Epoch 12/50\n",
            "210/210 [==============================] - 0s 2ms/step - loss: 0.1928 - accuracy: 0.7043 - val_loss: 0.1737 - val_accuracy: 0.7559\n",
            "Epoch 13/50\n",
            "210/210 [==============================] - 0s 2ms/step - loss: 0.1924 - accuracy: 0.6973 - val_loss: 0.1804 - val_accuracy: 0.7383\n",
            "Epoch 14/50\n",
            "210/210 [==============================] - 0s 2ms/step - loss: 0.1912 - accuracy: 0.7037 - val_loss: 0.1727 - val_accuracy: 0.7532\n",
            "Epoch 15/50\n",
            "210/210 [==============================] - 0s 2ms/step - loss: 0.1934 - accuracy: 0.6923 - val_loss: 0.1753 - val_accuracy: 0.7414\n",
            "Epoch 16/50\n",
            "210/210 [==============================] - 0s 2ms/step - loss: 0.1909 - accuracy: 0.7023 - val_loss: 0.1998 - val_accuracy: 0.6687\n",
            "Epoch 17/50\n",
            "210/210 [==============================] - 0s 2ms/step - loss: 0.1900 - accuracy: 0.7021 - val_loss: 0.1752 - val_accuracy: 0.7486\n",
            "Epoch 18/50\n",
            "210/210 [==============================] - 0s 2ms/step - loss: 0.1897 - accuracy: 0.7088 - val_loss: 0.1768 - val_accuracy: 0.7488\n",
            "Epoch 19/50\n",
            "210/210 [==============================] - 0s 2ms/step - loss: 0.1940 - accuracy: 0.6951 - val_loss: 0.1729 - val_accuracy: 0.7599\n",
            "Epoch 20/50\n",
            "210/210 [==============================] - 0s 2ms/step - loss: 0.1915 - accuracy: 0.7000 - val_loss: 0.1720 - val_accuracy: 0.7590\n",
            "Epoch 21/50\n",
            "210/210 [==============================] - 0s 2ms/step - loss: 0.1923 - accuracy: 0.7000 - val_loss: 0.1897 - val_accuracy: 0.6969\n",
            "Epoch 22/50\n",
            "210/210 [==============================] - 0s 2ms/step - loss: 0.1900 - accuracy: 0.7071 - val_loss: 0.1757 - val_accuracy: 0.7483\n",
            "Epoch 23/50\n",
            "210/210 [==============================] - 0s 2ms/step - loss: 0.1889 - accuracy: 0.7078 - val_loss: 0.1731 - val_accuracy: 0.7617\n",
            "Epoch 24/50\n",
            "210/210 [==============================] - 0s 2ms/step - loss: 0.1908 - accuracy: 0.7096 - val_loss: 0.1706 - val_accuracy: 0.7661\n",
            "Epoch 25/50\n",
            "210/210 [==============================] - 0s 2ms/step - loss: 0.1876 - accuracy: 0.7156 - val_loss: 0.1862 - val_accuracy: 0.7417\n",
            "Epoch 26/50\n",
            "210/210 [==============================] - 0s 2ms/step - loss: 0.1909 - accuracy: 0.7040 - val_loss: 0.1759 - val_accuracy: 0.7503\n",
            "Epoch 27/50\n",
            "210/210 [==============================] - 0s 2ms/step - loss: 0.1905 - accuracy: 0.7073 - val_loss: 0.1734 - val_accuracy: 0.7559\n",
            "Epoch 28/50\n",
            "210/210 [==============================] - 0s 2ms/step - loss: 0.1877 - accuracy: 0.7116 - val_loss: 0.1688 - val_accuracy: 0.7713\n",
            "Epoch 29/50\n",
            "210/210 [==============================] - 0s 2ms/step - loss: 0.1862 - accuracy: 0.7208 - val_loss: 0.1704 - val_accuracy: 0.7630\n",
            "Epoch 30/50\n",
            "210/210 [==============================] - 0s 2ms/step - loss: 0.1865 - accuracy: 0.7177 - val_loss: 0.1713 - val_accuracy: 0.7675\n",
            "Epoch 31/50\n",
            "210/210 [==============================] - 0s 2ms/step - loss: 0.1886 - accuracy: 0.7152 - val_loss: 0.1756 - val_accuracy: 0.7550\n",
            "Epoch 32/50\n",
            "210/210 [==============================] - 0s 2ms/step - loss: 0.1844 - accuracy: 0.7224 - val_loss: 0.1705 - val_accuracy: 0.7635\n",
            "Epoch 33/50\n",
            "210/210 [==============================] - 0s 2ms/step - loss: 0.1854 - accuracy: 0.7200 - val_loss: 0.1633 - val_accuracy: 0.7799\n",
            "Epoch 34/50\n",
            "210/210 [==============================] - 0s 2ms/step - loss: 0.1837 - accuracy: 0.7244 - val_loss: 0.1618 - val_accuracy: 0.7830\n",
            "Epoch 35/50\n",
            "210/210 [==============================] - 0s 2ms/step - loss: 0.1839 - accuracy: 0.7201 - val_loss: 0.1675 - val_accuracy: 0.7728\n",
            "Epoch 36/50\n",
            "210/210 [==============================] - 0s 2ms/step - loss: 0.1848 - accuracy: 0.7178 - val_loss: 0.1742 - val_accuracy: 0.7474\n",
            "Epoch 37/50\n",
            "210/210 [==============================] - 0s 2ms/step - loss: 0.1837 - accuracy: 0.7206 - val_loss: 0.1646 - val_accuracy: 0.7724\n",
            "Epoch 38/50\n",
            "210/210 [==============================] - 0s 2ms/step - loss: 0.1846 - accuracy: 0.7204 - val_loss: 0.1608 - val_accuracy: 0.7857\n",
            "Epoch 39/50\n",
            "210/210 [==============================] - 0s 2ms/step - loss: 0.1839 - accuracy: 0.7192 - val_loss: 0.1701 - val_accuracy: 0.7706\n",
            "Epoch 40/50\n",
            "210/210 [==============================] - 0s 2ms/step - loss: 0.1844 - accuracy: 0.7224 - val_loss: 0.1606 - val_accuracy: 0.7842\n",
            "Epoch 41/50\n",
            "210/210 [==============================] - 0s 2ms/step - loss: 0.1836 - accuracy: 0.7251 - val_loss: 0.1650 - val_accuracy: 0.7692\n",
            "Epoch 42/50\n",
            "210/210 [==============================] - 0s 2ms/step - loss: 0.1844 - accuracy: 0.7220 - val_loss: 0.1618 - val_accuracy: 0.7830\n",
            "Epoch 43/50\n",
            "210/210 [==============================] - 0s 2ms/step - loss: 0.1841 - accuracy: 0.7217 - val_loss: 0.1669 - val_accuracy: 0.7719\n",
            "Epoch 44/50\n",
            "210/210 [==============================] - 0s 2ms/step - loss: 0.1832 - accuracy: 0.7272 - val_loss: 0.1620 - val_accuracy: 0.7853\n",
            "Epoch 45/50\n",
            "210/210 [==============================] - 0s 2ms/step - loss: 0.1866 - accuracy: 0.7210 - val_loss: 0.1672 - val_accuracy: 0.7579\n",
            "Epoch 46/50\n",
            "210/210 [==============================] - 0s 2ms/step - loss: 0.1853 - accuracy: 0.7151 - val_loss: 0.1702 - val_accuracy: 0.7692\n",
            "Epoch 47/50\n",
            "210/210 [==============================] - 0s 2ms/step - loss: 0.1842 - accuracy: 0.7219 - val_loss: 0.1592 - val_accuracy: 0.7855\n",
            "Epoch 48/50\n",
            "210/210 [==============================] - 0s 2ms/step - loss: 0.1824 - accuracy: 0.7282 - val_loss: 0.1601 - val_accuracy: 0.7850\n",
            "Epoch 49/50\n",
            "210/210 [==============================] - 0s 2ms/step - loss: 0.1834 - accuracy: 0.7243 - val_loss: 0.1652 - val_accuracy: 0.7646\n",
            "Epoch 50/50\n",
            "210/210 [==============================] - 0s 2ms/step - loss: 0.1824 - accuracy: 0.7260 - val_loss: 0.1715 - val_accuracy: 0.7677\n"
          ],
          "name": "stdout"
        }
      ]
    },
    {
      "cell_type": "code",
      "metadata": {
        "colab": {
          "base_uri": "https://localhost:8080/",
          "height": 296
        },
        "id": "phm5ncboCmy1",
        "outputId": "4a2f2368-6d3e-4441-844b-b19b3dd7c798"
      },
      "source": [
        "import matplotlib.pyplot as plt\n",
        "import numpy as np\n",
        "plt.figure()\n",
        "plt.xlabel('Epoch')\n",
        "plt.ylabel('Accuracy')\n",
        "plt.plot(hist1.epoch, np.array(hist1.history['accuracy']), label='accuracy')\n",
        "plt.plot(hist1.epoch, np.array(hist1.history['val_accuracy']), label = 'Val accuracy')\n",
        "plt.legend(['train', 'validation'], loc='upper right')"
      ],
      "execution_count": 29,
      "outputs": [
        {
          "output_type": "execute_result",
          "data": {
            "text/plain": [
              "<matplotlib.legend.Legend at 0x7f79ae656110>"
            ]
          },
          "metadata": {
            "tags": []
          },
          "execution_count": 29
        },
        {
          "output_type": "display_data",
          "data": {
            "image/png": "[encoded data removed]",
            "text/plain": [
              "<Figure size 432x288 with 1 Axes>"
            ]
          },
          "metadata": {
            "tags": [],
            "needs_background": "light"
          }
        }
      ]
    },
    {
      "cell_type": "code",
      "metadata": {
        "colab": {
          "base_uri": "https://localhost:8080/"
        },
        "id": "IbclZTG9DgK3",
        "outputId": "bb8e2d67-7f3c-4869-d99a-46c8e2184eac"
      },
      "source": [
        "from tensorflow.keras.callbacks import EarlyStopping\n",
        "\n",
        "monitor = EarlyStopping(monitor='val_accuracy',patience=20, verbose = 1, restore_best_weights=True)\n",
        "hist1 = model1.fit(X_train, y_train, epochs=50,batch_size=50,validation_data=(X_test, y_test),callbacks=[monitor])"
      ],
      "execution_count": 30,
      "outputs": [
        {
          "output_type": "stream",
          "text": [
            "Epoch 1/50\n",
            "210/210 [==============================] - 1s 2ms/step - loss: 0.2491 - accuracy: 0.5202 - val_loss: 0.2472 - val_accuracy: 0.5532\n",
            "Epoch 2/50\n",
            "210/210 [==============================] - 0s 2ms/step - loss: 0.2477 - accuracy: 0.5479 - val_loss: 0.2469 - val_accuracy: 0.5532\n",
            "Epoch 3/50\n",
            "210/210 [==============================] - 0s 2ms/step - loss: 0.2475 - accuracy: 0.5468 - val_loss: 0.2463 - val_accuracy: 0.5532\n",
            "Epoch 4/50\n",
            "210/210 [==============================] - 0s 2ms/step - loss: 0.2468 - accuracy: 0.5461 - val_loss: 0.2454 - val_accuracy: 0.5532\n",
            "Epoch 5/50\n",
            "210/210 [==============================] - 0s 2ms/step - loss: 0.2439 - accuracy: 0.5539 - val_loss: 0.2392 - val_accuracy: 0.5532\n",
            "Epoch 6/50\n",
            "210/210 [==============================] - 0s 2ms/step - loss: 0.2400 - accuracy: 0.5891 - val_loss: 0.2321 - val_accuracy: 0.6308\n",
            "Epoch 7/50\n",
            "210/210 [==============================] - 0s 2ms/step - loss: 0.2345 - accuracy: 0.6141 - val_loss: 0.2336 - val_accuracy: 0.6108\n",
            "Epoch 8/50\n",
            "210/210 [==============================] - 0s 2ms/step - loss: 0.2350 - accuracy: 0.5996 - val_loss: 0.2297 - val_accuracy: 0.6364\n",
            "Epoch 9/50\n",
            "210/210 [==============================] - 0s 2ms/step - loss: 0.2278 - accuracy: 0.6302 - val_loss: 0.2189 - val_accuracy: 0.6493\n",
            "Epoch 10/50\n",
            "210/210 [==============================] - 0s 2ms/step - loss: 0.2268 - accuracy: 0.6261 - val_loss: 0.2154 - val_accuracy: 0.6698\n",
            "Epoch 11/50\n",
            "210/210 [==============================] - 0s 2ms/step - loss: 0.2272 - accuracy: 0.6224 - val_loss: 0.2154 - val_accuracy: 0.6649\n",
            "Epoch 12/50\n",
            "210/210 [==============================] - 0s 2ms/step - loss: 0.2223 - accuracy: 0.6406 - val_loss: 0.2121 - val_accuracy: 0.6747\n",
            "Epoch 13/50\n",
            "210/210 [==============================] - 0s 2ms/step - loss: 0.2216 - accuracy: 0.6396 - val_loss: 0.2119 - val_accuracy: 0.6760\n",
            "Epoch 14/50\n",
            "210/210 [==============================] - 0s 2ms/step - loss: 0.2213 - accuracy: 0.6468 - val_loss: 0.2111 - val_accuracy: 0.6704\n",
            "Epoch 15/50\n",
            "210/210 [==============================] - 0s 2ms/step - loss: 0.2203 - accuracy: 0.6444 - val_loss: 0.2158 - val_accuracy: 0.6509\n",
            "Epoch 16/50\n",
            "210/210 [==============================] - 0s 2ms/step - loss: 0.2207 - accuracy: 0.6486 - val_loss: 0.2128 - val_accuracy: 0.6589\n",
            "Epoch 17/50\n",
            "210/210 [==============================] - 0s 2ms/step - loss: 0.2210 - accuracy: 0.6486 - val_loss: 0.2132 - val_accuracy: 0.6664\n",
            "Epoch 18/50\n",
            "210/210 [==============================] - 0s 2ms/step - loss: 0.2238 - accuracy: 0.6310 - val_loss: 0.2122 - val_accuracy: 0.6729\n",
            "Epoch 19/50\n",
            "210/210 [==============================] - 0s 2ms/step - loss: 0.2181 - accuracy: 0.6603 - val_loss: 0.2082 - val_accuracy: 0.6845\n",
            "Epoch 20/50\n",
            "210/210 [==============================] - 0s 2ms/step - loss: 0.2163 - accuracy: 0.6601 - val_loss: 0.2132 - val_accuracy: 0.6773\n",
            "Epoch 21/50\n",
            "210/210 [==============================] - 0s 2ms/step - loss: 0.2183 - accuracy: 0.6453 - val_loss: 0.2087 - val_accuracy: 0.6776\n",
            "Epoch 22/50\n",
            "210/210 [==============================] - 0s 2ms/step - loss: 0.2188 - accuracy: 0.6473 - val_loss: 0.2126 - val_accuracy: 0.6671\n",
            "Epoch 23/50\n",
            "210/210 [==============================] - 0s 2ms/step - loss: 0.2185 - accuracy: 0.6440 - val_loss: 0.2089 - val_accuracy: 0.6807\n",
            "Epoch 24/50\n",
            "210/210 [==============================] - 0s 2ms/step - loss: 0.2175 - accuracy: 0.6527 - val_loss: 0.2106 - val_accuracy: 0.6796\n",
            "Epoch 25/50\n",
            "210/210 [==============================] - 0s 2ms/step - loss: 0.2150 - accuracy: 0.6526 - val_loss: 0.2140 - val_accuracy: 0.6513\n",
            "Epoch 26/50\n",
            "210/210 [==============================] - 0s 2ms/step - loss: 0.2190 - accuracy: 0.6453 - val_loss: 0.2050 - val_accuracy: 0.6858\n",
            "Epoch 27/50\n",
            "210/210 [==============================] - 0s 2ms/step - loss: 0.2151 - accuracy: 0.6443 - val_loss: 0.2140 - val_accuracy: 0.6433\n",
            "Epoch 28/50\n",
            "210/210 [==============================] - 0s 2ms/step - loss: 0.2144 - accuracy: 0.6652 - val_loss: 0.2063 - val_accuracy: 0.6753\n",
            "Epoch 29/50\n",
            "210/210 [==============================] - 0s 2ms/step - loss: 0.2140 - accuracy: 0.6529 - val_loss: 0.2044 - val_accuracy: 0.6896\n",
            "Epoch 30/50\n",
            "210/210 [==============================] - 0s 2ms/step - loss: 0.2087 - accuracy: 0.6719 - val_loss: 0.1995 - val_accuracy: 0.7023\n",
            "Epoch 31/50\n",
            "210/210 [==============================] - 0s 2ms/step - loss: 0.2097 - accuracy: 0.6740 - val_loss: 0.2033 - val_accuracy: 0.6845\n",
            "Epoch 32/50\n",
            "210/210 [==============================] - 0s 2ms/step - loss: 0.2091 - accuracy: 0.6738 - val_loss: 0.1998 - val_accuracy: 0.7023\n",
            "Epoch 33/50\n",
            "210/210 [==============================] - 0s 2ms/step - loss: 0.2078 - accuracy: 0.6662 - val_loss: 0.1956 - val_accuracy: 0.7152\n",
            "Epoch 34/50\n",
            "210/210 [==============================] - 0s 2ms/step - loss: 0.2053 - accuracy: 0.6828 - val_loss: 0.2014 - val_accuracy: 0.6865\n",
            "Epoch 35/50\n",
            "210/210 [==============================] - 0s 2ms/step - loss: 0.2077 - accuracy: 0.6731 - val_loss: 0.1943 - val_accuracy: 0.7040\n",
            "Epoch 36/50\n",
            "210/210 [==============================] - 0s 2ms/step - loss: 0.2074 - accuracy: 0.6672 - val_loss: 0.1974 - val_accuracy: 0.6943\n",
            "Epoch 37/50\n",
            "210/210 [==============================] - 0s 2ms/step - loss: 0.2056 - accuracy: 0.6754 - val_loss: 0.1935 - val_accuracy: 0.7190\n",
            "Epoch 38/50\n",
            "210/210 [==============================] - 0s 2ms/step - loss: 0.2039 - accuracy: 0.6779 - val_loss: 0.2020 - val_accuracy: 0.7052\n",
            "Epoch 39/50\n",
            "210/210 [==============================] - 0s 2ms/step - loss: 0.2051 - accuracy: 0.6768 - val_loss: 0.1981 - val_accuracy: 0.6934\n",
            "Epoch 40/50\n",
            "210/210 [==============================] - 0s 2ms/step - loss: 0.2021 - accuracy: 0.6812 - val_loss: 0.1954 - val_accuracy: 0.7056\n",
            "Epoch 41/50\n",
            "210/210 [==============================] - 0s 2ms/step - loss: 0.2019 - accuracy: 0.6841 - val_loss: 0.1918 - val_accuracy: 0.7236\n",
            "Epoch 42/50\n",
            "210/210 [==============================] - 0s 2ms/step - loss: 0.1998 - accuracy: 0.6916 - val_loss: 0.2002 - val_accuracy: 0.6914\n",
            "Epoch 43/50\n",
            "210/210 [==============================] - 0s 2ms/step - loss: 0.2054 - accuracy: 0.6693 - val_loss: 0.1940 - val_accuracy: 0.7074\n",
            "Epoch 44/50\n",
            "210/210 [==============================] - 0s 2ms/step - loss: 0.2018 - accuracy: 0.6820 - val_loss: 0.1881 - val_accuracy: 0.7198\n",
            "Epoch 45/50\n",
            "210/210 [==============================] - 1s 3ms/step - loss: 0.1970 - accuracy: 0.6929 - val_loss: 0.1855 - val_accuracy: 0.7323\n",
            "Epoch 46/50\n",
            "210/210 [==============================] - 1s 3ms/step - loss: 0.1989 - accuracy: 0.6910 - val_loss: 0.1904 - val_accuracy: 0.7221\n",
            "Epoch 47/50\n",
            "210/210 [==============================] - 0s 2ms/step - loss: 0.1997 - accuracy: 0.6778 - val_loss: 0.1930 - val_accuracy: 0.7085\n",
            "Epoch 48/50\n",
            "210/210 [==============================] - 0s 2ms/step - loss: 0.1981 - accuracy: 0.6867 - val_loss: 0.1860 - val_accuracy: 0.7283\n",
            "Epoch 49/50\n",
            "210/210 [==============================] - 0s 2ms/step - loss: 0.1999 - accuracy: 0.6867 - val_loss: 0.1896 - val_accuracy: 0.7172\n",
            "Epoch 50/50\n",
            "210/210 [==============================] - 0s 2ms/step - loss: 0.1982 - accuracy: 0.6882 - val_loss: 0.1923 - val_accuracy: 0.6931\n"
          ],
          "name": "stdout"
        }
      ]
    },
    {
      "cell_type": "code",
      "metadata": {
        "id": "TTe3BwgSV9Bg",
        "colab": {
          "base_uri": "https://localhost:8080/",
          "height": 296
        },
        "outputId": "607f96aa-a374-43ad-ce14-69068d75efaa"
      },
      "source": [
        "import matplotlib.pyplot as plt\n",
        "import numpy as np\n",
        "plt.figure()\n",
        "plt.xlabel('Epoch')\n",
        "plt.ylabel('Accuracy')\n",
        "plt.plot(hist1.history['accuracy'], label='accuracy')\n",
        "plt.plot(hist1.history['val_accuracy'], label = 'Val accuracy')\n",
        "plt.legend(['train', 'validation'], loc='upper right')"
      ],
      "execution_count": 31,
      "outputs": [
        {
          "output_type": "execute_result",
          "data": {
            "text/plain": [
              "<matplotlib.legend.Legend at 0x7f79aec46c10>"
            ]
          },
          "metadata": {
            "tags": []
          },
          "execution_count": 31
        },
        {
          "output_type": "display_data",
          "data": {
            "image/png": "[encoded data removed]",
            "text/plain": [
              "<Figure size 432x288 with 1 Axes>"
            ]
          },
          "metadata": {
            "tags": [],
            "needs_background": "light"
          }
        }
      ]
    },
    {
      "cell_type": "markdown",
      "metadata": {
        "id": "rOqBXqJ_Mnpm"
      },
      "source": [
        "Câu 2: (3.5 điểm)\n",
        "Vẫn sử dụng dữ liệu của bài toán 1. Viết chương trình sử dụng mạng RNN (hoặc các mạng cải tiến của nó như LSTM, GRU) để giải quyết bài toán."
      ]
    },
    {
      "cell_type": "code",
      "metadata": {
        "id": "7w9LD32qU8aV"
      },
      "source": [
        "from sklearn.model_selection import train_test_split\n",
        "X_train,X_test,y_train,y_test = train_test_split(X,y,test_size=0.3,random_state=50)"
      ],
      "execution_count": 13,
      "outputs": []
    },
    {
      "cell_type": "code",
      "metadata": {
        "id": "2IVe51aKU9LS"
      },
      "source": [
        "X_train = np.reshape(X_train, (X_train.shape[0], X_train.shape[1],1))"
      ],
      "execution_count": 32,
      "outputs": []
    },
    {
      "cell_type": "code",
      "metadata": {
        "id": "sR42jfj8FtMB"
      },
      "source": [
        "X_test = np.reshape(X_test, (X_test.shape[0], X_test.shape[1],1))"
      ],
      "execution_count": 33,
      "outputs": []
    },
    {
      "cell_type": "code",
      "metadata": {
        "colab": {
          "base_uri": "https://localhost:8080/"
        },
        "id": "vRO7D9oAM0DX",
        "outputId": "390de7cc-3bd5-4b96-86a2-455189a32c64"
      },
      "source": [
        "from tensorflow.keras.models import Sequential\n",
        "from tensorflow.keras.layers import Dense\n",
        "from tensorflow.keras.layers import Dropout\n",
        "from tensorflow.keras.layers import LSTM\n",
        "from tensorflow.keras.constraints import MaxNorm\n",
        "\n",
        "model2 = Sequential()\n",
        "model2.add(LSTM(units= 28, activation='sigmoid', return_sequences=True, input_shape=(X_train.shape[1],1)))\n",
        "model2.add(Dropout(0.2))\n",
        "model2.add(LSTM(units=20, activation='sigmoid', return_sequences=True))\n",
        "model2.add(Dropout(0.2))\n",
        "model2.add(LSTM(units=10, activation='sigmoid', return_sequences=True))\n",
        "model2.add(Dense(units=1))\n",
        "\n",
        "model2.compile(optimizer='adam',  loss='mean_squared_error', metrics=['accuracy'])\n",
        "\n",
        "\n",
        "print(X_train.shape)\n",
        "\n",
        "hist2 = model2.fit(X_train, y_train, epochs=100,batch_size=32, validation_data=(X_test, y_test))\n",
        "\n"
      ],
      "execution_count": 18,
      "outputs": [
        {
          "output_type": "stream",
          "text": [
            "(10486, 14, 1)\n",
            "Epoch 1/100\n",
            "328/328 [==============================] - 9s 18ms/step - loss: 0.2570 - accuracy: 0.5357 - val_loss: 0.2479 - val_accuracy: 0.5532\n",
            "Epoch 2/100\n",
            "328/328 [==============================] - 8s 23ms/step - loss: 0.2492 - accuracy: 0.5418 - val_loss: 0.2487 - val_accuracy: 0.5532\n",
            "Epoch 3/100\n",
            "328/328 [==============================] - 5s 17ms/step - loss: 0.2491 - accuracy: 0.5470 - val_loss: 0.2475 - val_accuracy: 0.5532\n",
            "Epoch 4/100\n",
            "328/328 [==============================] - 5s 17ms/step - loss: 0.2487 - accuracy: 0.5385 - val_loss: 0.2471 - val_accuracy: 0.5532\n",
            "Epoch 5/100\n",
            "328/328 [==============================] - 5s 17ms/step - loss: 0.2477 - accuracy: 0.5485 - val_loss: 0.2479 - val_accuracy: 0.5531\n",
            "Epoch 6/100\n",
            "328/328 [==============================] - 6s 17ms/step - loss: 0.2474 - accuracy: 0.5501 - val_loss: 0.2472 - val_accuracy: 0.5532\n",
            "Epoch 7/100\n",
            "328/328 [==============================] - 5s 17ms/step - loss: 0.2479 - accuracy: 0.5499 - val_loss: 0.2476 - val_accuracy: 0.5531\n",
            "Epoch 8/100\n",
            "328/328 [==============================] - 5s 16ms/step - loss: 0.2470 - accuracy: 0.5562 - val_loss: 0.2468 - val_accuracy: 0.5532\n",
            "Epoch 9/100\n",
            "328/328 [==============================] - 7s 21ms/step - loss: 0.2481 - accuracy: 0.5417 - val_loss: 0.2468 - val_accuracy: 0.5528\n",
            "Epoch 10/100\n",
            "328/328 [==============================] - 8s 24ms/step - loss: 0.2467 - accuracy: 0.5556 - val_loss: 0.2456 - val_accuracy: 0.5532\n",
            "Epoch 11/100\n",
            "328/328 [==============================] - 8s 24ms/step - loss: 0.2464 - accuracy: 0.5524 - val_loss: 0.2442 - val_accuracy: 0.5713\n",
            "Epoch 12/100\n",
            "328/328 [==============================] - 8s 24ms/step - loss: 0.2445 - accuracy: 0.5646 - val_loss: 0.2429 - val_accuracy: 0.5759\n",
            "Epoch 13/100\n",
            "328/328 [==============================] - 8s 23ms/step - loss: 0.2443 - accuracy: 0.5680 - val_loss: 0.2421 - val_accuracy: 0.5808\n",
            "Epoch 14/100\n",
            "328/328 [==============================] - 5s 17ms/step - loss: 0.2435 - accuracy: 0.5722 - val_loss: 0.2417 - val_accuracy: 0.5820\n",
            "Epoch 15/100\n",
            "328/328 [==============================] - 5s 17ms/step - loss: 0.2420 - accuracy: 0.5783 - val_loss: 0.2409 - val_accuracy: 0.5788\n",
            "Epoch 16/100\n",
            "328/328 [==============================] - 5s 17ms/step - loss: 0.2427 - accuracy: 0.5730 - val_loss: 0.2403 - val_accuracy: 0.5851\n",
            "Epoch 17/100\n",
            "328/328 [==============================] - 5s 17ms/step - loss: 0.2417 - accuracy: 0.5798 - val_loss: 0.2457 - val_accuracy: 0.5682\n",
            "Epoch 18/100\n",
            "328/328 [==============================] - 5s 17ms/step - loss: 0.2420 - accuracy: 0.5754 - val_loss: 0.2399 - val_accuracy: 0.5863\n",
            "Epoch 19/100\n",
            "328/328 [==============================] - 6s 18ms/step - loss: 0.2413 - accuracy: 0.5783 - val_loss: 0.2388 - val_accuracy: 0.5874\n",
            "Epoch 20/100\n",
            "328/328 [==============================] - 8s 25ms/step - loss: 0.2407 - accuracy: 0.5826 - val_loss: 0.2400 - val_accuracy: 0.5846\n",
            "Epoch 21/100\n",
            "328/328 [==============================] - 8s 25ms/step - loss: 0.2394 - accuracy: 0.5857 - val_loss: 0.2395 - val_accuracy: 0.5825\n",
            "Epoch 22/100\n",
            "328/328 [==============================] - 8s 24ms/step - loss: 0.2392 - accuracy: 0.5842 - val_loss: 0.2381 - val_accuracy: 0.5863\n",
            "Epoch 23/100\n",
            "328/328 [==============================] - 6s 18ms/step - loss: 0.2390 - accuracy: 0.5893 - val_loss: 0.2392 - val_accuracy: 0.5819\n",
            "Epoch 24/100\n",
            "328/328 [==============================] - 8s 23ms/step - loss: 0.2387 - accuracy: 0.5888 - val_loss: 0.2364 - val_accuracy: 0.5951\n",
            "Epoch 25/100\n",
            "328/328 [==============================] - 5s 17ms/step - loss: 0.2380 - accuracy: 0.5883 - val_loss: 0.2361 - val_accuracy: 0.5958\n",
            "Epoch 26/100\n",
            "328/328 [==============================] - 5s 17ms/step - loss: 0.2371 - accuracy: 0.5949 - val_loss: 0.2376 - val_accuracy: 0.5925\n",
            "Epoch 27/100\n",
            "328/328 [==============================] - 5s 17ms/step - loss: 0.2386 - accuracy: 0.5838 - val_loss: 0.2370 - val_accuracy: 0.5900\n",
            "Epoch 28/100\n",
            "328/328 [==============================] - 5s 17ms/step - loss: 0.2360 - accuracy: 0.5948 - val_loss: 0.2350 - val_accuracy: 0.5952\n",
            "Epoch 29/100\n",
            "328/328 [==============================] - 5s 17ms/step - loss: 0.2368 - accuracy: 0.5893 - val_loss: 0.2371 - val_accuracy: 0.5876\n",
            "Epoch 30/100\n",
            "328/328 [==============================] - 5s 17ms/step - loss: 0.2342 - accuracy: 0.6018 - val_loss: 0.2346 - val_accuracy: 0.5962\n",
            "Epoch 31/100\n",
            "328/328 [==============================] - 5s 17ms/step - loss: 0.2358 - accuracy: 0.5931 - val_loss: 0.2320 - val_accuracy: 0.6050\n",
            "Epoch 32/100\n",
            "328/328 [==============================] - 5s 17ms/step - loss: 0.2353 - accuracy: 0.5979 - val_loss: 0.2316 - val_accuracy: 0.6051\n",
            "Epoch 33/100\n",
            "328/328 [==============================] - 8s 25ms/step - loss: 0.2334 - accuracy: 0.6027 - val_loss: 0.2324 - val_accuracy: 0.6014\n",
            "Epoch 34/100\n",
            "328/328 [==============================] - 8s 23ms/step - loss: 0.2345 - accuracy: 0.5951 - val_loss: 0.2302 - val_accuracy: 0.6091\n",
            "Epoch 35/100\n",
            "328/328 [==============================] - 5s 16ms/step - loss: 0.2328 - accuracy: 0.6066 - val_loss: 0.2317 - val_accuracy: 0.6032\n",
            "Epoch 36/100\n",
            "328/328 [==============================] - 8s 23ms/step - loss: 0.2340 - accuracy: 0.5979 - val_loss: 0.2306 - val_accuracy: 0.6078\n",
            "Epoch 37/100\n",
            "328/328 [==============================] - 6s 17ms/step - loss: 0.2329 - accuracy: 0.5989 - val_loss: 0.2293 - val_accuracy: 0.6127\n",
            "Epoch 38/100\n",
            "328/328 [==============================] - 5s 17ms/step - loss: 0.2311 - accuracy: 0.6052 - val_loss: 0.2342 - val_accuracy: 0.6004\n",
            "Epoch 39/100\n",
            "328/328 [==============================] - 5s 17ms/step - loss: 0.2329 - accuracy: 0.5998 - val_loss: 0.2284 - val_accuracy: 0.6132\n",
            "Epoch 40/100\n",
            "328/328 [==============================] - 6s 17ms/step - loss: 0.2306 - accuracy: 0.6068 - val_loss: 0.2295 - val_accuracy: 0.6111\n",
            "Epoch 41/100\n",
            "328/328 [==============================] - 6s 17ms/step - loss: 0.2302 - accuracy: 0.6080 - val_loss: 0.2265 - val_accuracy: 0.6169\n",
            "Epoch 42/100\n",
            "328/328 [==============================] - 7s 23ms/step - loss: 0.2300 - accuracy: 0.6067 - val_loss: 0.2279 - val_accuracy: 0.6140\n",
            "Epoch 43/100\n",
            "328/328 [==============================] - 6s 17ms/step - loss: 0.2314 - accuracy: 0.6022 - val_loss: 0.2252 - val_accuracy: 0.6194\n",
            "Epoch 44/100\n",
            "328/328 [==============================] - 5s 17ms/step - loss: 0.2282 - accuracy: 0.6133 - val_loss: 0.2256 - val_accuracy: 0.6157\n",
            "Epoch 45/100\n",
            "328/328 [==============================] - 6s 17ms/step - loss: 0.2300 - accuracy: 0.6088 - val_loss: 0.2249 - val_accuracy: 0.6201\n",
            "Epoch 46/100\n",
            "328/328 [==============================] - 6s 17ms/step - loss: 0.2295 - accuracy: 0.6087 - val_loss: 0.2237 - val_accuracy: 0.6249\n",
            "Epoch 47/100\n",
            "328/328 [==============================] - 6s 17ms/step - loss: 0.2281 - accuracy: 0.6137 - val_loss: 0.2234 - val_accuracy: 0.6242\n",
            "Epoch 48/100\n",
            "328/328 [==============================] - 8s 24ms/step - loss: 0.2270 - accuracy: 0.6151 - val_loss: 0.2229 - val_accuracy: 0.6256\n",
            "Epoch 49/100\n",
            "328/328 [==============================] - 5s 17ms/step - loss: 0.2255 - accuracy: 0.6208 - val_loss: 0.2263 - val_accuracy: 0.6143\n",
            "Epoch 50/100\n",
            "328/328 [==============================] - 5s 16ms/step - loss: 0.2264 - accuracy: 0.6172 - val_loss: 0.2316 - val_accuracy: 0.6068\n",
            "Epoch 51/100\n",
            "328/328 [==============================] - 5s 17ms/step - loss: 0.2266 - accuracy: 0.6180 - val_loss: 0.2212 - val_accuracy: 0.6388\n",
            "Epoch 52/100\n",
            "328/328 [==============================] - 5s 17ms/step - loss: 0.2259 - accuracy: 0.6218 - val_loss: 0.2197 - val_accuracy: 0.6386\n",
            "Epoch 53/100\n",
            "328/328 [==============================] - 5s 17ms/step - loss: 0.2247 - accuracy: 0.6267 - val_loss: 0.2192 - val_accuracy: 0.6391\n",
            "Epoch 54/100\n",
            "328/328 [==============================] - 5s 17ms/step - loss: 0.2231 - accuracy: 0.6276 - val_loss: 0.2311 - val_accuracy: 0.6052\n",
            "Epoch 55/100\n",
            "328/328 [==============================] - 5s 17ms/step - loss: 0.2258 - accuracy: 0.6205 - val_loss: 0.2181 - val_accuracy: 0.6407\n",
            "Epoch 56/100\n",
            "328/328 [==============================] - 8s 24ms/step - loss: 0.2232 - accuracy: 0.6269 - val_loss: 0.2257 - val_accuracy: 0.6228\n",
            "Epoch 57/100\n",
            "328/328 [==============================] - 5s 17ms/step - loss: 0.2214 - accuracy: 0.6312 - val_loss: 0.2205 - val_accuracy: 0.6348\n",
            "Epoch 58/100\n",
            "328/328 [==============================] - 5s 17ms/step - loss: 0.2235 - accuracy: 0.6298 - val_loss: 0.2166 - val_accuracy: 0.6478\n",
            "Epoch 59/100\n",
            "328/328 [==============================] - 6s 17ms/step - loss: 0.2220 - accuracy: 0.6298 - val_loss: 0.2177 - val_accuracy: 0.6390\n",
            "Epoch 60/100\n",
            "328/328 [==============================] - 7s 23ms/step - loss: 0.2210 - accuracy: 0.6308 - val_loss: 0.2153 - val_accuracy: 0.6508\n",
            "Epoch 61/100\n",
            "328/328 [==============================] - 6s 18ms/step - loss: 0.2202 - accuracy: 0.6341 - val_loss: 0.2224 - val_accuracy: 0.6318\n",
            "Epoch 62/100\n",
            "328/328 [==============================] - 6s 18ms/step - loss: 0.2207 - accuracy: 0.6344 - val_loss: 0.2144 - val_accuracy: 0.6515\n",
            "Epoch 63/100\n",
            "328/328 [==============================] - 6s 18ms/step - loss: 0.2194 - accuracy: 0.6370 - val_loss: 0.2146 - val_accuracy: 0.6522\n",
            "Epoch 64/100\n",
            "328/328 [==============================] - 6s 18ms/step - loss: 0.2217 - accuracy: 0.6298 - val_loss: 0.2198 - val_accuracy: 0.6358\n",
            "Epoch 65/100\n",
            "328/328 [==============================] - 6s 17ms/step - loss: 0.2194 - accuracy: 0.6386 - val_loss: 0.2130 - val_accuracy: 0.6559\n",
            "Epoch 66/100\n",
            "328/328 [==============================] - 6s 18ms/step - loss: 0.2188 - accuracy: 0.6383 - val_loss: 0.2133 - val_accuracy: 0.6528\n",
            "Epoch 67/100\n",
            "328/328 [==============================] - 6s 18ms/step - loss: 0.2195 - accuracy: 0.6358 - val_loss: 0.2128 - val_accuracy: 0.6579\n",
            "Epoch 68/100\n",
            "328/328 [==============================] - 6s 18ms/step - loss: 0.2163 - accuracy: 0.6433 - val_loss: 0.2149 - val_accuracy: 0.6482\n",
            "Epoch 69/100\n",
            "328/328 [==============================] - 6s 18ms/step - loss: 0.2162 - accuracy: 0.6447 - val_loss: 0.2117 - val_accuracy: 0.6578\n",
            "Epoch 70/100\n",
            "328/328 [==============================] - 6s 17ms/step - loss: 0.2169 - accuracy: 0.6412 - val_loss: 0.2108 - val_accuracy: 0.6589\n",
            "Epoch 71/100\n",
            "328/328 [==============================] - 6s 18ms/step - loss: 0.2182 - accuracy: 0.6401 - val_loss: 0.2181 - val_accuracy: 0.6381\n",
            "Epoch 72/100\n",
            "328/328 [==============================] - 6s 18ms/step - loss: 0.2148 - accuracy: 0.6478 - val_loss: 0.2142 - val_accuracy: 0.6486\n",
            "Epoch 73/100\n",
            "328/328 [==============================] - 5s 17ms/step - loss: 0.2145 - accuracy: 0.6466 - val_loss: 0.2112 - val_accuracy: 0.6603\n",
            "Epoch 74/100\n",
            "328/328 [==============================] - 5s 17ms/step - loss: 0.2157 - accuracy: 0.6469 - val_loss: 0.2093 - val_accuracy: 0.6614\n",
            "Epoch 75/100\n",
            "328/328 [==============================] - 5s 17ms/step - loss: 0.2145 - accuracy: 0.6456 - val_loss: 0.2086 - val_accuracy: 0.6647\n",
            "Epoch 76/100\n",
            "328/328 [==============================] - 5s 17ms/step - loss: 0.2123 - accuracy: 0.6530 - val_loss: 0.2085 - val_accuracy: 0.6632\n",
            "Epoch 77/100\n",
            "328/328 [==============================] - 5s 17ms/step - loss: 0.2142 - accuracy: 0.6473 - val_loss: 0.2118 - val_accuracy: 0.6527\n",
            "Epoch 78/100\n",
            "328/328 [==============================] - 5s 17ms/step - loss: 0.2146 - accuracy: 0.6482 - val_loss: 0.2211 - val_accuracy: 0.6388\n",
            "Epoch 79/100\n",
            "328/328 [==============================] - 5s 17ms/step - loss: 0.2182 - accuracy: 0.6410 - val_loss: 0.2080 - val_accuracy: 0.6610\n",
            "Epoch 80/100\n",
            "328/328 [==============================] - 6s 17ms/step - loss: 0.2123 - accuracy: 0.6509 - val_loss: 0.2093 - val_accuracy: 0.6608\n",
            "Epoch 81/100\n",
            "328/328 [==============================] - 5s 17ms/step - loss: 0.2127 - accuracy: 0.6504 - val_loss: 0.2078 - val_accuracy: 0.6653\n",
            "Epoch 82/100\n",
            "328/328 [==============================] - 5s 17ms/step - loss: 0.2129 - accuracy: 0.6503 - val_loss: 0.2117 - val_accuracy: 0.6553\n",
            "Epoch 83/100\n",
            "328/328 [==============================] - 5s 17ms/step - loss: 0.2104 - accuracy: 0.6570 - val_loss: 0.2059 - val_accuracy: 0.6697\n",
            "Epoch 84/100\n",
            "328/328 [==============================] - 5s 17ms/step - loss: 0.2114 - accuracy: 0.6537 - val_loss: 0.2068 - val_accuracy: 0.6690\n",
            "Epoch 85/100\n",
            "328/328 [==============================] - 6s 17ms/step - loss: 0.2111 - accuracy: 0.6550 - val_loss: 0.2054 - val_accuracy: 0.6684\n",
            "Epoch 86/100\n",
            "328/328 [==============================] - 6s 17ms/step - loss: 0.2092 - accuracy: 0.6595 - val_loss: 0.2136 - val_accuracy: 0.6462\n",
            "Epoch 87/100\n",
            "328/328 [==============================] - 5s 17ms/step - loss: 0.2093 - accuracy: 0.6563 - val_loss: 0.2046 - val_accuracy: 0.6744\n",
            "Epoch 88/100\n",
            "328/328 [==============================] - 5s 17ms/step - loss: 0.2088 - accuracy: 0.6605 - val_loss: 0.2045 - val_accuracy: 0.6712\n",
            "Epoch 89/100\n",
            "328/328 [==============================] - 6s 17ms/step - loss: 0.2090 - accuracy: 0.6604 - val_loss: 0.2083 - val_accuracy: 0.6669\n",
            "Epoch 90/100\n",
            "328/328 [==============================] - 6s 17ms/step - loss: 0.2072 - accuracy: 0.6597 - val_loss: 0.2070 - val_accuracy: 0.6635\n",
            "Epoch 91/100\n",
            "328/328 [==============================] - 6s 19ms/step - loss: 0.2085 - accuracy: 0.6607 - val_loss: 0.2086 - val_accuracy: 0.6675\n",
            "Epoch 92/100\n",
            "328/328 [==============================] - 6s 17ms/step - loss: 0.2067 - accuracy: 0.6649 - val_loss: 0.2031 - val_accuracy: 0.6764\n",
            "Epoch 93/100\n",
            "328/328 [==============================] - 6s 17ms/step - loss: 0.2069 - accuracy: 0.6621 - val_loss: 0.2036 - val_accuracy: 0.6738\n",
            "Epoch 94/100\n",
            "328/328 [==============================] - 6s 17ms/step - loss: 0.2056 - accuracy: 0.6631 - val_loss: 0.2055 - val_accuracy: 0.6705\n",
            "Epoch 95/100\n",
            "328/328 [==============================] - 5s 17ms/step - loss: 0.2060 - accuracy: 0.6666 - val_loss: 0.2029 - val_accuracy: 0.6779\n",
            "Epoch 96/100\n",
            "328/328 [==============================] - 6s 17ms/step - loss: 0.2050 - accuracy: 0.6693 - val_loss: 0.2032 - val_accuracy: 0.6743\n",
            "Epoch 97/100\n",
            "328/328 [==============================] - 6s 18ms/step - loss: 0.2066 - accuracy: 0.6646 - val_loss: 0.2009 - val_accuracy: 0.6803\n",
            "Epoch 98/100\n",
            "328/328 [==============================] - 6s 17ms/step - loss: 0.2044 - accuracy: 0.6677 - val_loss: 0.1997 - val_accuracy: 0.6824\n",
            "Epoch 99/100\n",
            "328/328 [==============================] - 6s 17ms/step - loss: 0.2044 - accuracy: 0.6689 - val_loss: 0.2003 - val_accuracy: 0.6804\n",
            "Epoch 100/100\n",
            "328/328 [==============================] - 5s 17ms/step - loss: 0.2049 - accuracy: 0.6654 - val_loss: 0.1983 - val_accuracy: 0.6861\n"
          ],
          "name": "stdout"
        }
      ]
    },
    {
      "cell_type": "code",
      "metadata": {
        "colab": {
          "base_uri": "https://localhost:8080/",
          "height": 296
        },
        "id": "O4TQGgjpIe5n",
        "outputId": "b5d5040c-6334-42d1-d324-a870035248db"
      },
      "source": [
        "import matplotlib.pyplot as plt\n",
        "import numpy as np\n",
        "plt.figure()\n",
        "plt.xlabel('Epoch')\n",
        "plt.ylabel('Accuracy')\n",
        "plt.plot(hist2.epoch, np.array(hist2.history['accuracy']), label='accuracy')\n",
        "plt.plot(hist2.epoch, np.array(hist2.history['val_accuracy']), label = 'Val accuracy')\n",
        "plt.legend(['train', 'validation'], loc='upper right')"
      ],
      "execution_count": 20,
      "outputs": [
        {
          "output_type": "execute_result",
          "data": {
            "text/plain": [
              "<matplotlib.legend.Legend at 0x7f79b01408d0>"
            ]
          },
          "metadata": {
            "tags": []
          },
          "execution_count": 20
        },
        {
          "output_type": "display_data",
          "data": {
            "image/png": "[encoded data removed]",
            "text/plain": [
              "<Figure size 432x288 with 1 Axes>"
            ]
          },
          "metadata": {
            "tags": [],
            "needs_background": "light"
          }
        }
      ]
    },
    {
      "cell_type": "code",
      "metadata": {
        "colab": {
          "base_uri": "https://localhost:8080/"
        },
        "id": "xi0dOIzsN-_l",
        "outputId": "fa5b2c11-0d34-473d-a1b8-2d6f216fcc9a"
      },
      "source": [
        "from tensorflow.keras.callbacks import EarlyStopping\n",
        "\n",
        "monitor = EarlyStopping(monitor='val_accuracy',patience=20, verbose = 1, restore_best_weights=True)\n",
        "hist2 = model2.fit(X_train, y_train, epochs=100,batch_size=32,validation_data=(X_test, y_test),callbacks=[monitor])"
      ],
      "execution_count": 34,
      "outputs": [
        {
          "output_type": "stream",
          "text": [
            "Epoch 1/100\n",
            "328/328 [==============================] - 9s 19ms/step - loss: 0.2045 - accuracy: 0.6665 - val_loss: 0.1987 - val_accuracy: 0.6831\n",
            "Epoch 2/100\n",
            "328/328 [==============================] - 6s 18ms/step - loss: 0.2033 - accuracy: 0.6689 - val_loss: 0.1985 - val_accuracy: 0.6853\n",
            "Epoch 3/100\n",
            "328/328 [==============================] - 6s 18ms/step - loss: 0.2033 - accuracy: 0.6703 - val_loss: 0.1972 - val_accuracy: 0.6891\n",
            "Epoch 4/100\n",
            "328/328 [==============================] - 6s 17ms/step - loss: 0.2014 - accuracy: 0.6737 - val_loss: 0.1960 - val_accuracy: 0.6861\n",
            "Epoch 5/100\n",
            "328/328 [==============================] - 6s 17ms/step - loss: 0.2028 - accuracy: 0.6696 - val_loss: 0.1998 - val_accuracy: 0.6799\n",
            "Epoch 6/100\n",
            "328/328 [==============================] - 6s 18ms/step - loss: 0.2024 - accuracy: 0.6711 - val_loss: 0.1981 - val_accuracy: 0.6790\n",
            "Epoch 7/100\n",
            "328/328 [==============================] - 6s 18ms/step - loss: 0.2018 - accuracy: 0.6721 - val_loss: 0.1973 - val_accuracy: 0.6816\n",
            "Epoch 8/100\n",
            "328/328 [==============================] - 6s 18ms/step - loss: 0.2021 - accuracy: 0.6728 - val_loss: 0.2046 - val_accuracy: 0.6717\n",
            "Epoch 9/100\n",
            "328/328 [==============================] - 6s 18ms/step - loss: 0.2020 - accuracy: 0.6716 - val_loss: 0.1955 - val_accuracy: 0.6895\n",
            "Epoch 10/100\n",
            "328/328 [==============================] - 6s 18ms/step - loss: 0.2013 - accuracy: 0.6731 - val_loss: 0.1988 - val_accuracy: 0.6842\n",
            "Epoch 11/100\n",
            "328/328 [==============================] - 6s 17ms/step - loss: 0.2002 - accuracy: 0.6766 - val_loss: 0.1961 - val_accuracy: 0.6875\n",
            "Epoch 12/100\n",
            "328/328 [==============================] - 6s 17ms/step - loss: 0.2002 - accuracy: 0.6759 - val_loss: 0.1934 - val_accuracy: 0.6892\n",
            "Epoch 13/100\n",
            "328/328 [==============================] - 6s 17ms/step - loss: 0.1989 - accuracy: 0.6770 - val_loss: 0.1929 - val_accuracy: 0.6927\n",
            "Epoch 14/100\n",
            "328/328 [==============================] - 6s 18ms/step - loss: 0.1998 - accuracy: 0.6771 - val_loss: 0.1947 - val_accuracy: 0.6907\n",
            "Epoch 15/100\n",
            "328/328 [==============================] - 6s 17ms/step - loss: 0.2001 - accuracy: 0.6759 - val_loss: 0.1972 - val_accuracy: 0.6778\n",
            "Epoch 16/100\n",
            "328/328 [==============================] - 6s 17ms/step - loss: 0.2002 - accuracy: 0.6746 - val_loss: 0.1953 - val_accuracy: 0.6822\n",
            "Epoch 17/100\n",
            "328/328 [==============================] - 6s 17ms/step - loss: 0.1987 - accuracy: 0.6778 - val_loss: 0.1992 - val_accuracy: 0.6852\n",
            "Epoch 18/100\n",
            "328/328 [==============================] - 6s 17ms/step - loss: 0.1995 - accuracy: 0.6757 - val_loss: 0.1924 - val_accuracy: 0.6932\n",
            "Epoch 19/100\n",
            "328/328 [==============================] - 6s 18ms/step - loss: 0.1970 - accuracy: 0.6812 - val_loss: 0.1931 - val_accuracy: 0.6926\n",
            "Epoch 20/100\n",
            "328/328 [==============================] - 6s 17ms/step - loss: 0.1978 - accuracy: 0.6789 - val_loss: 0.1933 - val_accuracy: 0.6908\n",
            "Epoch 21/100\n",
            "328/328 [==============================] - 6s 17ms/step - loss: 0.1978 - accuracy: 0.6798 - val_loss: 0.1957 - val_accuracy: 0.6898\n",
            "Epoch 22/100\n",
            "328/328 [==============================] - 6s 17ms/step - loss: 0.1969 - accuracy: 0.6821 - val_loss: 0.1961 - val_accuracy: 0.6890\n",
            "Epoch 23/100\n",
            "328/328 [==============================] - 6s 18ms/step - loss: 0.1967 - accuracy: 0.6814 - val_loss: 0.1908 - val_accuracy: 0.6956\n",
            "Epoch 24/100\n",
            "328/328 [==============================] - 6s 17ms/step - loss: 0.1977 - accuracy: 0.6799 - val_loss: 0.1993 - val_accuracy: 0.6749\n",
            "Epoch 25/100\n",
            "328/328 [==============================] - 6s 18ms/step - loss: 0.1971 - accuracy: 0.6820 - val_loss: 0.1925 - val_accuracy: 0.6890\n",
            "Epoch 26/100\n",
            "328/328 [==============================] - 6s 17ms/step - loss: 0.1954 - accuracy: 0.6840 - val_loss: 0.1911 - val_accuracy: 0.6929\n",
            "Epoch 27/100\n",
            "328/328 [==============================] - 6s 17ms/step - loss: 0.1976 - accuracy: 0.6806 - val_loss: 0.1901 - val_accuracy: 0.6943\n",
            "Epoch 28/100\n",
            "328/328 [==============================] - 6s 17ms/step - loss: 0.1964 - accuracy: 0.6827 - val_loss: 0.1962 - val_accuracy: 0.6884\n",
            "Epoch 29/100\n",
            "328/328 [==============================] - 6s 17ms/step - loss: 0.1947 - accuracy: 0.6847 - val_loss: 0.1905 - val_accuracy: 0.6944\n",
            "Epoch 30/100\n",
            "328/328 [==============================] - 6s 18ms/step - loss: 0.1954 - accuracy: 0.6849 - val_loss: 0.1892 - val_accuracy: 0.6992\n",
            "Epoch 31/100\n",
            "328/328 [==============================] - 6s 18ms/step - loss: 0.1958 - accuracy: 0.6839 - val_loss: 0.1887 - val_accuracy: 0.6984\n",
            "Epoch 32/100\n",
            "328/328 [==============================] - 6s 18ms/step - loss: 0.1948 - accuracy: 0.6846 - val_loss: 0.1954 - val_accuracy: 0.6887\n",
            "Epoch 33/100\n",
            "328/328 [==============================] - 6s 18ms/step - loss: 0.1952 - accuracy: 0.6835 - val_loss: 0.1947 - val_accuracy: 0.6880\n",
            "Epoch 34/100\n",
            "328/328 [==============================] - 6s 18ms/step - loss: 0.1949 - accuracy: 0.6857 - val_loss: 0.1929 - val_accuracy: 0.6936\n",
            "Epoch 35/100\n",
            "328/328 [==============================] - 6s 19ms/step - loss: 0.1946 - accuracy: 0.6854 - val_loss: 0.1878 - val_accuracy: 0.6974\n",
            "Epoch 36/100\n",
            "328/328 [==============================] - 6s 18ms/step - loss: 0.1934 - accuracy: 0.6878 - val_loss: 0.1882 - val_accuracy: 0.7018\n",
            "Epoch 37/100\n",
            "328/328 [==============================] - 6s 18ms/step - loss: 0.1930 - accuracy: 0.6884 - val_loss: 0.1884 - val_accuracy: 0.6972\n",
            "Epoch 38/100\n",
            "328/328 [==============================] - 6s 18ms/step - loss: 0.1940 - accuracy: 0.6867 - val_loss: 0.1952 - val_accuracy: 0.6933\n",
            "Epoch 39/100\n",
            "328/328 [==============================] - 6s 18ms/step - loss: 0.1929 - accuracy: 0.6881 - val_loss: 0.1909 - val_accuracy: 0.6941\n",
            "Epoch 40/100\n",
            "328/328 [==============================] - 6s 18ms/step - loss: 0.1937 - accuracy: 0.6876 - val_loss: 0.1902 - val_accuracy: 0.6938\n",
            "Epoch 41/100\n",
            "328/328 [==============================] - 6s 18ms/step - loss: 0.1939 - accuracy: 0.6876 - val_loss: 0.1972 - val_accuracy: 0.6824\n",
            "Epoch 42/100\n",
            "328/328 [==============================] - 6s 18ms/step - loss: 0.1924 - accuracy: 0.6909 - val_loss: 0.1879 - val_accuracy: 0.6961\n",
            "Epoch 43/100\n",
            "328/328 [==============================] - 6s 18ms/step - loss: 0.1917 - accuracy: 0.6894 - val_loss: 0.1887 - val_accuracy: 0.7014\n",
            "Epoch 44/100\n",
            "328/328 [==============================] - 6s 18ms/step - loss: 0.1917 - accuracy: 0.6904 - val_loss: 0.1900 - val_accuracy: 0.6901\n",
            "Epoch 45/100\n",
            "328/328 [==============================] - 6s 18ms/step - loss: 0.1926 - accuracy: 0.6896 - val_loss: 0.1871 - val_accuracy: 0.7005\n",
            "Epoch 46/100\n",
            "328/328 [==============================] - 6s 17ms/step - loss: 0.1917 - accuracy: 0.6925 - val_loss: 0.1912 - val_accuracy: 0.6925\n",
            "Epoch 47/100\n",
            "328/328 [==============================] - 6s 17ms/step - loss: 0.1915 - accuracy: 0.6898 - val_loss: 0.1864 - val_accuracy: 0.7030\n",
            "Epoch 48/100\n",
            "328/328 [==============================] - 6s 17ms/step - loss: 0.1914 - accuracy: 0.6919 - val_loss: 0.1884 - val_accuracy: 0.7016\n",
            "Epoch 49/100\n",
            "328/328 [==============================] - 6s 18ms/step - loss: 0.1926 - accuracy: 0.6898 - val_loss: 0.1896 - val_accuracy: 0.7000\n",
            "Epoch 50/100\n",
            "328/328 [==============================] - 6s 18ms/step - loss: 0.1912 - accuracy: 0.6920 - val_loss: 0.1911 - val_accuracy: 0.6873\n",
            "Epoch 51/100\n",
            "328/328 [==============================] - 6s 18ms/step - loss: 0.1907 - accuracy: 0.6917 - val_loss: 0.1866 - val_accuracy: 0.7017\n",
            "Epoch 52/100\n",
            "328/328 [==============================] - 6s 17ms/step - loss: 0.1909 - accuracy: 0.6929 - val_loss: 0.1906 - val_accuracy: 0.6987\n",
            "Epoch 53/100\n",
            "328/328 [==============================] - 6s 18ms/step - loss: 0.1905 - accuracy: 0.6924 - val_loss: 0.1878 - val_accuracy: 0.7009\n",
            "Epoch 54/100\n",
            "328/328 [==============================] - 6s 18ms/step - loss: 0.1905 - accuracy: 0.6943 - val_loss: 0.1858 - val_accuracy: 0.7016\n",
            "Epoch 55/100\n",
            "328/328 [==============================] - 6s 18ms/step - loss: 0.1903 - accuracy: 0.6919 - val_loss: 0.1932 - val_accuracy: 0.6882\n",
            "Epoch 56/100\n",
            "328/328 [==============================] - 6s 18ms/step - loss: 0.1904 - accuracy: 0.6934 - val_loss: 0.1878 - val_accuracy: 0.6939\n",
            "Epoch 57/100\n",
            "328/328 [==============================] - 6s 17ms/step - loss: 0.1898 - accuracy: 0.6940 - val_loss: 0.1915 - val_accuracy: 0.6959\n",
            "Epoch 58/100\n",
            "328/328 [==============================] - 6s 18ms/step - loss: 0.1896 - accuracy: 0.6946 - val_loss: 0.1871 - val_accuracy: 0.6994\n",
            "Epoch 59/100\n",
            "328/328 [==============================] - 6s 18ms/step - loss: 0.1890 - accuracy: 0.6967 - val_loss: 0.1948 - val_accuracy: 0.6929\n",
            "Epoch 60/100\n",
            "328/328 [==============================] - 6s 18ms/step - loss: 0.1880 - accuracy: 0.6973 - val_loss: 0.1857 - val_accuracy: 0.7036\n",
            "Epoch 61/100\n",
            "328/328 [==============================] - 6s 18ms/step - loss: 0.1891 - accuracy: 0.6967 - val_loss: 0.1852 - val_accuracy: 0.6982\n",
            "Epoch 62/100\n",
            "328/328 [==============================] - 6s 18ms/step - loss: 0.1894 - accuracy: 0.6952 - val_loss: 0.1855 - val_accuracy: 0.7036\n",
            "Epoch 63/100\n",
            "328/328 [==============================] - 6s 18ms/step - loss: 0.1885 - accuracy: 0.6965 - val_loss: 0.1860 - val_accuracy: 0.7018\n",
            "Epoch 64/100\n",
            "328/328 [==============================] - 6s 18ms/step - loss: 0.1894 - accuracy: 0.6931 - val_loss: 0.1846 - val_accuracy: 0.7028\n",
            "Epoch 65/100\n",
            "328/328 [==============================] - 6s 18ms/step - loss: 0.1866 - accuracy: 0.6998 - val_loss: 0.1853 - val_accuracy: 0.7074\n",
            "Epoch 66/100\n",
            "328/328 [==============================] - 6s 18ms/step - loss: 0.1873 - accuracy: 0.6989 - val_loss: 0.1852 - val_accuracy: 0.7031\n",
            "Epoch 67/100\n",
            "328/328 [==============================] - 6s 18ms/step - loss: 0.1884 - accuracy: 0.6973 - val_loss: 0.1843 - val_accuracy: 0.7043\n",
            "Epoch 68/100\n",
            "328/328 [==============================] - 6s 17ms/step - loss: 0.1870 - accuracy: 0.6978 - val_loss: 0.1828 - val_accuracy: 0.7071\n",
            "Epoch 69/100\n",
            "328/328 [==============================] - 6s 18ms/step - loss: 0.1889 - accuracy: 0.6948 - val_loss: 0.1835 - val_accuracy: 0.7054\n",
            "Epoch 70/100\n",
            "328/328 [==============================] - 6s 18ms/step - loss: 0.1861 - accuracy: 0.7004 - val_loss: 0.1873 - val_accuracy: 0.7008\n",
            "Epoch 71/100\n",
            "328/328 [==============================] - 6s 18ms/step - loss: 0.1865 - accuracy: 0.6998 - val_loss: 0.1818 - val_accuracy: 0.7114\n",
            "Epoch 72/100\n",
            "328/328 [==============================] - 6s 18ms/step - loss: 0.1873 - accuracy: 0.6988 - val_loss: 0.2004 - val_accuracy: 0.6726\n",
            "Epoch 73/100\n",
            "328/328 [==============================] - 6s 18ms/step - loss: 0.1877 - accuracy: 0.6987 - val_loss: 0.1887 - val_accuracy: 0.6962\n",
            "Epoch 74/100\n",
            "328/328 [==============================] - 6s 18ms/step - loss: 0.1865 - accuracy: 0.6996 - val_loss: 0.1835 - val_accuracy: 0.7050\n",
            "Epoch 75/100\n",
            "328/328 [==============================] - 6s 18ms/step - loss: 0.1865 - accuracy: 0.6995 - val_loss: 0.1886 - val_accuracy: 0.6977\n",
            "Epoch 76/100\n",
            "328/328 [==============================] - 6s 18ms/step - loss: 0.1869 - accuracy: 0.7005 - val_loss: 0.1837 - val_accuracy: 0.7071\n",
            "Epoch 77/100\n",
            "328/328 [==============================] - 6s 18ms/step - loss: 0.1866 - accuracy: 0.6998 - val_loss: 0.1858 - val_accuracy: 0.6980\n",
            "Epoch 78/100\n",
            "328/328 [==============================] - 6s 18ms/step - loss: 0.1872 - accuracy: 0.6992 - val_loss: 0.1884 - val_accuracy: 0.7004\n",
            "Epoch 79/100\n",
            "328/328 [==============================] - 6s 18ms/step - loss: 0.1864 - accuracy: 0.7005 - val_loss: 0.1824 - val_accuracy: 0.7110\n",
            "Epoch 80/100\n",
            "328/328 [==============================] - 6s 18ms/step - loss: 0.1853 - accuracy: 0.7031 - val_loss: 0.1833 - val_accuracy: 0.7095\n",
            "Epoch 81/100\n",
            "328/328 [==============================] - 6s 18ms/step - loss: 0.1857 - accuracy: 0.7025 - val_loss: 0.1841 - val_accuracy: 0.7069\n",
            "Epoch 82/100\n",
            "328/328 [==============================] - 6s 18ms/step - loss: 0.1861 - accuracy: 0.7008 - val_loss: 0.1826 - val_accuracy: 0.7095\n",
            "Epoch 83/100\n",
            "328/328 [==============================] - 6s 18ms/step - loss: 0.1855 - accuracy: 0.7018 - val_loss: 0.1813 - val_accuracy: 0.7102\n",
            "Epoch 84/100\n",
            "328/328 [==============================] - 6s 18ms/step - loss: 0.1845 - accuracy: 0.7052 - val_loss: 0.1851 - val_accuracy: 0.7070\n",
            "Epoch 85/100\n",
            "328/328 [==============================] - 6s 18ms/step - loss: 0.1854 - accuracy: 0.7013 - val_loss: 0.1845 - val_accuracy: 0.7059\n",
            "Epoch 86/100\n",
            "328/328 [==============================] - 6s 18ms/step - loss: 0.1857 - accuracy: 0.7007 - val_loss: 0.1885 - val_accuracy: 0.7002\n",
            "Epoch 87/100\n",
            "328/328 [==============================] - 6s 18ms/step - loss: 0.1858 - accuracy: 0.7030 - val_loss: 0.1815 - val_accuracy: 0.7071\n",
            "Epoch 88/100\n",
            "328/328 [==============================] - 6s 18ms/step - loss: 0.1848 - accuracy: 0.7041 - val_loss: 0.1804 - val_accuracy: 0.7136\n",
            "Epoch 89/100\n",
            "328/328 [==============================] - 6s 19ms/step - loss: 0.1849 - accuracy: 0.7021 - val_loss: 0.1847 - val_accuracy: 0.7030\n",
            "Epoch 90/100\n",
            "328/328 [==============================] - 6s 19ms/step - loss: 0.1839 - accuracy: 0.7055 - val_loss: 0.1868 - val_accuracy: 0.7035\n",
            "Epoch 91/100\n",
            "328/328 [==============================] - 6s 19ms/step - loss: 0.1852 - accuracy: 0.7030 - val_loss: 0.1809 - val_accuracy: 0.7124\n",
            "Epoch 92/100\n",
            "328/328 [==============================] - 6s 18ms/step - loss: 0.1844 - accuracy: 0.7038 - val_loss: 0.1871 - val_accuracy: 0.7015\n",
            "Epoch 93/100\n",
            "328/328 [==============================] - 6s 18ms/step - loss: 0.1848 - accuracy: 0.7032 - val_loss: 0.1820 - val_accuracy: 0.7116\n",
            "Epoch 94/100\n",
            "328/328 [==============================] - 6s 18ms/step - loss: 0.1831 - accuracy: 0.7071 - val_loss: 0.1810 - val_accuracy: 0.7123\n",
            "Epoch 95/100\n",
            "328/328 [==============================] - 6s 18ms/step - loss: 0.1842 - accuracy: 0.7039 - val_loss: 0.1909 - val_accuracy: 0.6951\n",
            "Epoch 96/100\n",
            "328/328 [==============================] - 6s 18ms/step - loss: 0.1837 - accuracy: 0.7049 - val_loss: 0.1877 - val_accuracy: 0.7025\n",
            "Epoch 97/100\n",
            "328/328 [==============================] - 6s 18ms/step - loss: 0.1836 - accuracy: 0.7065 - val_loss: 0.1836 - val_accuracy: 0.7084\n",
            "Epoch 98/100\n",
            "328/328 [==============================] - 6s 18ms/step - loss: 0.1838 - accuracy: 0.7057 - val_loss: 0.1805 - val_accuracy: 0.7144\n",
            "Epoch 99/100\n",
            "328/328 [==============================] - 6s 18ms/step - loss: 0.1845 - accuracy: 0.7030 - val_loss: 0.1820 - val_accuracy: 0.7102\n",
            "Epoch 100/100\n",
            "328/328 [==============================] - 6s 18ms/step - loss: 0.1831 - accuracy: 0.7045 - val_loss: 0.1801 - val_accuracy: 0.7122\n"
          ],
          "name": "stdout"
        }
      ]
    },
    {
      "cell_type": "code",
      "metadata": {
        "colab": {
          "base_uri": "https://localhost:8080/",
          "height": 296
        },
        "id": "zYu_ZKutROZm",
        "outputId": "f5e1acfb-df3d-4725-bbe5-74d846835312"
      },
      "source": [
        "import matplotlib.pyplot as plt\n",
        "import numpy as np\n",
        "plt.figure()\n",
        "plt.xlabel('Epoch')\n",
        "plt.ylabel('Accuracy')\n",
        "plt.plot(hist2.history['accuracy'], label='accuracy')\n",
        "plt.plot(hist2.history['val_accuracy'], label = 'Val accuracy')\n",
        "plt.legend(['train', 'validation'], loc='upper right')"
      ],
      "execution_count": 37,
      "outputs": [
        {
          "output_type": "execute_result",
          "data": {
            "text/plain": [
              "<matplotlib.legend.Legend at 0x7f79b5946c90>"
            ]
          },
          "metadata": {
            "tags": []
          },
          "execution_count": 37
        },
        {
          "output_type": "display_data",
          "data": {
            "image/png": "[encoded data removed]",
            "text/plain": [
              "<Figure size 432x288 with 1 Axes>"
            ]
          },
          "metadata": {
            "tags": [],
            "needs_background": "light"
          }
        }
      ]
    }
  ]
}