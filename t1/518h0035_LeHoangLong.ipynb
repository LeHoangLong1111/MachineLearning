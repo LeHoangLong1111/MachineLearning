{
  "nbformat": 4,
  "nbformat_minor": 0,
  "metadata": {
    "kernelspec": {
      "display_name": "Python 3",
      "language": "python",
      "name": "python3"
    },
    "language_info": {
      "codemirror_mode": {
        "name": "ipython",
        "version": 3
      },
      "file_extension": ".py",
      "mimetype": "text/x-python",
      "name": "python",
      "nbconvert_exporter": "python",
      "pygments_lexer": "ipython3",
      "version": "3.7.5"
    },
    "colab": {
      "name": "518h0035_LeHoangLong.ipynb",
      "provenance": [],
      "collapsed_sections": []
    }
  },
  "cells": [
    {
      "cell_type": "code",
      "metadata": {
        "id": "EmQQ4GBcnCRc"
      },
      "source": [
        "import numpy as np "
      ],
      "execution_count": null,
      "outputs": []
    },
    {
      "cell_type": "code",
      "metadata": {
        "id": "2sQK7fwlnCRl",
        "outputId": "8217c3a0-c141-4768-86de-c2f8c1553d69"
      },
      "source": [
        "'''A. Create arrays \n",
        "create the following arrays\n",
        "1) one dimension A : [1,4,5,6]\n",
        "2) two dimension: (2 rows, 4 columns )  \n",
        "3) two dimension: an array of 3 rows of the array in (1)\n",
        "4) 3-dimension array with shape (2,3,4)\n",
        "5) 1-dim array of size 10 and all values are 1 \n",
        "6) 2-dim array(2,3) and cells' values are real numbers in [5,19]\n",
        "7) 2-dim array(2,3) and values are integers of [10,20] \n",
        "'''"
      ],
      "execution_count": null,
      "outputs": [
        {
          "output_type": "execute_result",
          "data": {
            "text/plain": [
              "\"A. Create arrays \\ncreate the following arrays\\n1) one dimension A : [1,4,5,6]\\n2) two dimension: (2 rows, 4 columns )  \\n3) two dimension: an array of 3 rows of the array in (1)\\n4) 3-dimension array with shape (2,3,4)\\n5) 1-dim array of size 10 and all values are 1 \\n6) 2-dim array(2,3) and cells' values are real numbers in [5,19]\\n7) 2-dim array(2,3) and values are integers of [10,20] \\n\""
            ]
          },
          "metadata": {
            "tags": []
          },
          "execution_count": 2
        }
      ]
    },
    {
      "cell_type": "code",
      "metadata": {
        "id": "MHXLbKFhnCRn"
      },
      "source": [
        "import numpy as np"
      ],
      "execution_count": 2,
      "outputs": []
    },
    {
      "cell_type": "code",
      "metadata": {
        "colab": {
          "base_uri": "https://localhost:8080/"
        },
        "id": "L7ZCyO29niOg",
        "outputId": "b506a9a0-255b-4efe-8be6-4675fb49bd24"
      },
      "source": [
        "A=np.array([1,4,5,6])\r\n",
        "print(\"1) \", A, \"\\n\")\r\n",
        "\r\n",
        "B=np.array([[1,2,3,4], [5,6,7,8]])\r\n",
        "print(\"2) \", B, \"\\n\" )\r\n",
        "\r\n",
        "C=np.array([[1,2,3,4], [5,6,7,8], [9,10,11,12]])\r\n",
        "print(\"3) \", C, \"\\n\")\r\n",
        "\r\n",
        "D=np.zeros((2,3,4))\r\n",
        "print(\"4) \", D, \"\\n\")\r\n",
        "\r\n",
        "E=np.array(10*[1])\r\n",
        "print(\"5) \", E, \"\\n\")\r\n",
        "\r\n",
        "F=np.random.uniform(5,19,size=(2,3))\r\n",
        "print(\"6) \", F, \"\\n\")\r\n",
        "\r\n",
        "G=np.random.uniform(10,20,size=(2,3))\r\n",
        "print(\"6) \", G, \"\\n\")"
      ],
      "execution_count": 14,
      "outputs": [
        {
          "output_type": "stream",
          "text": [
            "1)  [1 4 5 6] \n",
            "\n",
            "2)  [[1 2 3 4]\n",
            " [5 6 7 8]] \n",
            "\n",
            "3)  [[ 1  2  3  4]\n",
            " [ 5  6  7  8]\n",
            " [ 9 10 11 12]] \n",
            "\n",
            "4)  [[[0. 0. 0. 0.]\n",
            "  [0. 0. 0. 0.]\n",
            "  [0. 0. 0. 0.]]\n",
            "\n",
            " [[0. 0. 0. 0.]\n",
            "  [0. 0. 0. 0.]\n",
            "  [0. 0. 0. 0.]]] \n",
            "\n",
            "5)  [1 1 1 1 1 1 1 1 1 1] \n",
            "\n",
            "6)  [[15.42300421 16.8689563   8.49018885]\n",
            " [13.28725221  6.34939254  7.30787645]] \n",
            "\n",
            "6)  [[13.20652655 10.49709477 15.18592505]\n",
            " [19.50575546 16.61112286 13.30340238]] \n",
            "\n"
          ],
          "name": "stdout"
        }
      ]
    },
    {
      "cell_type": "code",
      "metadata": {
        "id": "uo1ksr0CnCRo"
      },
      "source": [
        "\n",
        "'''\n",
        "B. shape and reshape\n",
        "1) create a 2-dim array and show its shape: call it A\n",
        "- get row number of A\n",
        "- get col number of A\n",
        "2) create a 3-dim array and show its shape: call it B\n",
        "3) convert A to 1-dim array\n",
        "4) convert A to 2-dim array with k rows (choose a suitable k for shape of A)\n",
        "5) create an 1-dim array and convert it to 2-dim array with shape(m,n)\n",
        "'''"
      ],
      "execution_count": null,
      "outputs": []
    },
    {
      "cell_type": "code",
      "metadata": {
        "colab": {
          "base_uri": "https://localhost:8080/"
        },
        "id": "M09F7PK_ui3F",
        "outputId": "bbb8efc2-8845-452a-f124-3901f2d4e47a"
      },
      "source": [
        "A= np.array([[1,2,3,4], [5,6,7,8]])\r\n",
        "rowA= len(A)\r\n",
        "colA=len(A[0])\r\n",
        "\r\n",
        "print(\"1) \", A)\r\n",
        "print(\"rowA= \", rowA)\r\n",
        "print(\"colA= \", colA)\r\n",
        "A.shape\r\n",
        "\r\n",
        "print()\r\n",
        "B=np.array([[[1,2,3,4],[5,6,7,8]],[[9,10,11,12],[13,14,15,16]]])\r\n",
        "print(\"2) \", B)\r\n",
        "B.shape\r\n",
        "\r\n",
        "print()\r\n",
        "C=A.flatten()\r\n",
        "print(\"3) \", C)\r\n",
        "\r\n",
        "print()\r\n",
        "D=np.reshape(C,(4,-1))\r\n",
        "print(\"4) \", D)\r\n",
        "\r\n",
        "print()\r\n",
        "m=2\r\n",
        "n=3\r\n",
        "E=np.array([1,2,3,4,5,6])\r\n",
        "print(\"5) \", E)\r\n",
        "E.reshape(m,n)\r\n",
        "\r\n"
      ],
      "execution_count": 29,
      "outputs": [
        {
          "output_type": "stream",
          "text": [
            "1)  [[1 2 3 4]\n",
            " [5 6 7 8]]\n",
            "rowA=  2\n",
            "colA=  4\n",
            "\n",
            "2)  [[[ 1  2  3  4]\n",
            "  [ 5  6  7  8]]\n",
            "\n",
            " [[ 9 10 11 12]\n",
            "  [13 14 15 16]]]\n",
            "\n",
            "3)  [1 2 3 4 5 6 7 8]\n",
            "\n",
            "4)  [[1 2]\n",
            " [3 4]\n",
            " [5 6]\n",
            " [7 8]]\n",
            "\n",
            "5)  [1 2 3 4 5 6]\n"
          ],
          "name": "stdout"
        },
        {
          "output_type": "execute_result",
          "data": {
            "text/plain": [
              "array([[1, 2, 3],\n",
              "       [4, 5, 6]])"
            ]
          },
          "metadata": {
            "tags": []
          },
          "execution_count": 29
        }
      ]
    },
    {
      "cell_type": "code",
      "metadata": {
        "id": "Iec3HLIGnCRo",
        "outputId": "13601211-4789-4c07-a56b-38eedb90f7de"
      },
      "source": [
        "'''\n",
        "C. Indexing and Slicing for selecting elements or sub-array \n",
        "1) create an 1-dim array [1 2 .. 100] \n",
        "- get sub-array containing 20 first elements\n",
        "- get sub-array containing 20 last elements\n",
        "- get sub-array containing elements of index m to n (note: m, n get values from users)\n",
        "2) create an matrix A like\n",
        "[ 1 2 3 4 5\n",
        "  6 7 8 9 10\n",
        "]\n",
        "- get B, C are sub-matrice of A such that:\n",
        "a) B = \n",
        "[ 1 2 3 4\n",
        "  6 7 8 9\n",
        "] \n",
        "C = \n",
        "[ 5\n",
        "  10\n",
        "]\n",
        "b) B = \n",
        "[ 2 3\n",
        "  7 8  \n",
        "]\n",
        "'''\n"
      ],
      "execution_count": null,
      "outputs": [
        {
          "output_type": "execute_result",
          "data": {
            "text/plain": [
              "'\\nC. Indexing and Slicing for selecting elements or sub-array \\n1) create an 1-dim array [1 2 .. 100] \\n- get sub-array containing 20 first elements\\n- get sub-array containing 20 last elements\\n- get sub-array containing elements of index m to n (note: m, n get values from users)\\n2) create an matrix A like\\n[ 1 2 3 4 5\\n  6 7 8 9 10\\n]\\n- get B, C are sub-matrice of A such that:\\na) B = \\n[ 1 2 3 4\\n  6 7 8 9\\n] \\nC = \\n[ 5\\n  10\\n]\\nb) B = \\n[ 2 3\\n  7 8  \\n]\\n'"
            ]
          },
          "metadata": {
            "tags": []
          },
          "execution_count": 3
        }
      ]
    },
    {
      "cell_type": "code",
      "metadata": {
        "colab": {
          "base_uri": "https://localhost:8080/"
        },
        "id": "NvSKmgpF1J6p",
        "outputId": "bd854bd2-d4da-4c92-a831-c09977a452e8"
      },
      "source": [
        "print()\r\n",
        "A=np.arange(1,101)\r\n",
        "print(\"1) \", A)\r\n",
        "\r\n",
        "print()\r\n",
        "print(\"sub-array containing 20 first elements: \")\r\n",
        "print(A[:20])\r\n",
        "\r\n",
        "print()\r\n",
        "print(\"sub-array containing 20 last elements \")\r\n",
        "print(A[80:])\r\n",
        "\r\n",
        "print()\r\n",
        "print(\"sub-array containing elements of index m=5 to n=20 \")\r\n",
        "print(A[5:20])\r\n",
        "\r\n",
        "print()\r\n",
        "K=np.array([[1,2,3,4,5],[6,7,8,9,10]])\r\n",
        "B=K[0:4, 0:4]\r\n",
        "C=np.array([K[0,4], K[1,4]])\r\n",
        "D=np.array([K[0][1:3],K[1][1:3]])\r\n",
        "\r\n",
        "print(\"K= \", K)\r\n",
        "print(\"B= \", B)\r\n",
        "print(\"C= \", C)\r\n",
        "print(\"D= \", D)\r\n",
        "\r\n"
      ],
      "execution_count": 53,
      "outputs": [
        {
          "output_type": "stream",
          "text": [
            "\n",
            "1)  [  1   2   3   4   5   6   7   8   9  10  11  12  13  14  15  16  17  18\n",
            "  19  20  21  22  23  24  25  26  27  28  29  30  31  32  33  34  35  36\n",
            "  37  38  39  40  41  42  43  44  45  46  47  48  49  50  51  52  53  54\n",
            "  55  56  57  58  59  60  61  62  63  64  65  66  67  68  69  70  71  72\n",
            "  73  74  75  76  77  78  79  80  81  82  83  84  85  86  87  88  89  90\n",
            "  91  92  93  94  95  96  97  98  99 100]\n",
            "\n",
            "sub-array containing 20 first elements: \n",
            "[ 1  2  3  4  5  6  7  8  9 10 11 12 13 14 15 16 17 18 19 20]\n",
            "\n",
            "sub-array containing 20 last elements \n",
            "[ 81  82  83  84  85  86  87  88  89  90  91  92  93  94  95  96  97  98\n",
            "  99 100]\n",
            "\n",
            "sub-array containing elements of index m=5 to n=20 \n",
            "[ 6  7  8  9 10 11 12 13 14 15 16 17 18 19 20]\n",
            "\n",
            "K=  [[ 1  2  3  4  5]\n",
            " [ 6  7  8  9 10]]\n",
            "B=  [[1 2 3 4]\n",
            " [6 7 8 9]]\n",
            "C=  [ 5 10]\n",
            "D=  [[2 3]\n",
            " [7 8]]\n"
          ],
          "name": "stdout"
        }
      ]
    },
    {
      "cell_type": "code",
      "metadata": {
        "id": "CTs2VfBlnCRp",
        "outputId": "c5963fb1-ba82-4408-ea96-0498c9061be9"
      },
      "source": [
        "'''\n",
        "D. Operation on multiple matrices\n",
        "Create two matrices \n",
        "a = [ 1 1 1 1\n",
        "      1 2 3 4 ]\n",
        "b = [ 2 2 2 2\n",
        "      1 2 3 4 ]\n",
        "1) multiply a and b\n",
        "2) dot a and b.T\n",
        "3) concatenate a and b by rows\n",
        "c= [  1 1 1 1\n",
        "      1 2 3 4 \n",
        "      2 2 2 2\n",
        "      1 2 3 4 ]\n",
        "\n",
        "4) concatenate a and b by columns\n",
        "c= [  1 1 1 1 2 2 2 2\n",
        "      1 2 3 4 1 2 3 4 ]\n",
        "5) concatenate a with the last column of b\n",
        "'''\n"
      ],
      "execution_count": null,
      "outputs": [
        {
          "output_type": "execute_result",
          "data": {
            "text/plain": [
              "'\\nD. Operation on multiple matrices\\nCreate two matrices \\na = [ 1 1 1 1\\n      1 2 3 4 ]\\nb = [ 2 2 2 2\\n      1 2 3 4 ]\\n1) multiply a and b\\n2) dot a and b.T\\n3) concatenate a and b by rows\\nc= [  1 1 1 1\\n      1 2 3 4 \\n      2 2 2 2\\n      1 2 3 4 ]\\n\\n4) concatenate a and b by columns\\nc= [  1 1 1 1 2 2 2 2\\n      1 2 3 4 1 2 3 4 ]\\n5) concatenate a with the last column of b\\n'"
            ]
          },
          "metadata": {
            "tags": []
          },
          "execution_count": 4
        }
      ]
    },
    {
      "cell_type": "code",
      "metadata": {
        "colab": {
          "base_uri": "https://localhost:8080/"
        },
        "id": "iYKmEh_G6uap",
        "outputId": "132504b2-2810-4ac1-8bb7-163bcb7c0fbb"
      },
      "source": [
        "A = np.array([[1,1,1,1], [1,2,3,4]])\r\n",
        "B = np.array([[2,2,2,2], [1,2,3,4]])\r\n",
        "T = np.array([9,8,7,6])\r\n",
        "T.shape\r\n",
        "\r\n",
        "print()\r\n",
        "print(\"A= \", A)\r\n",
        "print()\r\n",
        "print(\"B= \", B)\r\n",
        "\r\n",
        "\r\n",
        "print(\"Không thể nhân 2 ma trận có kích thước 2x4 với 2x4\")\r\n",
        "\r\n",
        "K=np.dot(A,T)\r\n",
        "print()\r\n",
        "print(\"A dot T: \", K)\r\n",
        "\r\n",
        "L=np.dot(B,T)\r\n",
        "print()\r\n",
        "print(\"B dot T: \", L)\r\n",
        "\r\n",
        "C1= np.concatenate((A,B))\r\n",
        "print()\r\n",
        "print(\"C1: \", C1)\r\n",
        "\r\n",
        "C2= np.concatenate((A,B), axis=1)\r\n",
        "print()\r\n",
        "print(\"C2: \", C2)"
      ],
      "execution_count": 72,
      "outputs": [
        {
          "output_type": "stream",
          "text": [
            "\n",
            "A=  [[1 1 1 1]\n",
            " [1 2 3 4]]\n",
            "\n",
            "B=  [[2 2 2 2]\n",
            " [1 2 3 4]]\n",
            "Không thể nhân 2 ma trận có kích thước 2x4 với 2x4\n",
            "\n",
            "A dot T:  [30 70]\n",
            "\n",
            "B dot T:  [60 70]\n",
            "\n",
            "C1:  [[1 1 1 1]\n",
            " [1 2 3 4]\n",
            " [2 2 2 2]\n",
            " [1 2 3 4]]\n",
            "\n",
            "C2:  [[1 1 1 1 2 2 2 2]\n",
            " [1 2 3 4 1 2 3 4]]\n"
          ],
          "name": "stdout"
        }
      ]
    },
    {
      "cell_type": "code",
      "metadata": {
        "id": "aMGunpZtnCRq",
        "outputId": "3fbd0454-2e7d-4800-bdeb-4811eefc5d80"
      },
      "source": [
        "'''\n",
        "E. Operation with condition \n",
        "1) given an 1-dim array A = [1 2 3 5 7 4]\n",
        "- remove all odd numbers in A\n",
        "- get array B by removing elements so that their indexs of even numbers \n",
        "2) given two 1-dim arrays, \n",
        "- get the intersection of them\n",
        "- get the union of them \n",
        "'''\n"
      ],
      "execution_count": null,
      "outputs": [
        {
          "output_type": "execute_result",
          "data": {
            "text/plain": [
              "'\\nE. Operation with condition \\n1) given an 1-dim array A = [1 2 3 5 7 4]\\n- remove all odd numbers in A\\n- get array B by removing elements so that their indexs of even numbers \\n2) given two 1-dim arrays, \\n- get the intersection of them\\n- get the union of them \\n'"
            ]
          },
          "metadata": {
            "tags": []
          },
          "execution_count": 5
        }
      ]
    },
    {
      "cell_type": "code",
      "metadata": {
        "colab": {
          "base_uri": "https://localhost:8080/"
        },
        "id": "2McTB8tFB1vP",
        "outputId": "9e7aeb22-c287-4c0a-a4a0-3ae4435c013c"
      },
      "source": [
        "A=np.array([1,2,3,5,7,4])\r\n",
        "find= [x for x in A if x%2==0]\r\n",
        "print(\"A= \", A)\r\n",
        "print()\r\n",
        "print(\"find= \", find)\r\n",
        "\r\n",
        "C1=[1,2,3,9,8,7,6,5,4]\r\n",
        "C2=[1,5,2,7,15,12,11]\r\n",
        "print(\"C1= \", C1)\r\n",
        "print()\r\n",
        "print(\"C2= \", C2)\r\n",
        "print()\r\n",
        "\r\n",
        "C3= np.intersect1d(C1,C2)\r\n",
        "print(\"C3= \", C3)\r\n",
        "print()\r\n",
        "\r\n",
        "C4= np.union1d(C1,C2)\r\n",
        "print(\"C4= \", C4)\r\n",
        "print()\r\n"
      ],
      "execution_count": 77,
      "outputs": [
        {
          "output_type": "stream",
          "text": [
            "A=  [1 2 3 5 7 4]\n",
            "\n",
            "find=  [2, 4]\n",
            "C1=  [1, 2, 3, 9, 8, 7, 6, 5, 4]\n",
            "\n",
            "C2=  [1, 5, 2, 7, 15, 12, 11]\n",
            "\n",
            "C3=  [1 2 5 7]\n",
            "\n",
            "C4=  [ 1  2  3  4  5  6  7  8  9 11 12 15]\n",
            "\n"
          ],
          "name": "stdout"
        }
      ]
    },
    {
      "cell_type": "code",
      "metadata": {
        "id": "NBSeM05ZnCRq",
        "outputId": "5b8bfc9a-4c12-469e-a60b-989da1b3e753"
      },
      "source": [
        "a = np.array([1,2,3,5,7,4])\n",
        "b = [x for x in a if x%2==1]\n",
        "print(b)"
      ],
      "execution_count": null,
      "outputs": [
        {
          "output_type": "stream",
          "text": [
            "[1, 3, 5, 7]\n"
          ],
          "name": "stdout"
        }
      ]
    },
    {
      "cell_type": "code",
      "metadata": {
        "id": "UVTvreRinCRr"
      },
      "source": [
        ""
      ],
      "execution_count": null,
      "outputs": []
    }
  ]
}