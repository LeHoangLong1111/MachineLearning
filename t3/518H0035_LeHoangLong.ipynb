{
  "nbformat": 4,
  "nbformat_minor": 0,
  "metadata": {
    "colab": {
      "name": "518H0035_LeHoangLong.ipynb",
      "provenance": [],
      "collapsed_sections": []
    },
    "kernelspec": {
      "name": "python3",
      "display_name": "Python 3"
    }
  },
  "cells": [
    {
      "cell_type": "code",
      "metadata": {
        "id": "NXX8rV65Lvrv"
      },
      "source": [
        "import numpy as np\r\n",
        "import matplotlib.pyplot as plt\r\n",
        "from sklearn import preprocessing"
      ],
      "execution_count": 92,
      "outputs": []
    },
    {
      "cell_type": "code",
      "metadata": {
        "colab": {
          "resources": {
            "http://localhost:8080/nbextensions/google.colab/files.js": {
              "data": "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",
              "ok": true,
              "headers": [
                [
                  "content-type",
                  "application/javascript"
                ]
              ],
              "status": 200,
              "status_text": ""
            }
          },
          "base_uri": "https://localhost:8080/",
          "height": 108
        },
        "id": "kQCdAx7fNmmW",
        "outputId": "a8ed41c6-57cb-44b9-c974-ca4386f6b6eb"
      },
      "source": [
        "from google.colab import files\r\n",
        "uploaded = files.upload()"
      ],
      "execution_count": 93,
      "outputs": [
        {
          "output_type": "display_data",
          "data": {
            "text/html": [
              "\n",
              "     <input type=\"file\" id=\"files-356a357e-ffd1-4fe0-a188-5549195ef80d\" name=\"files[]\" multiple disabled\n",
              "        style=\"border:none\" />\n",
              "     <output id=\"result-356a357e-ffd1-4fe0-a188-5549195ef80d\">\n",
              "      Upload widget is only available when the cell has been executed in the\n",
              "      current browser session. Please rerun this cell to enable.\n",
              "      </output>\n",
              "      <script src=\"/nbextensions/google.colab/files.js\"></script> "
            ],
            "text/plain": [
              "<IPython.core.display.HTML object>"
            ]
          },
          "metadata": {
            "tags": []
          }
        },
        {
          "output_type": "stream",
          "text": [
            "Saving tae_demo.data to tae_demo.data\n",
            "Saving tae_first.data to tae_first.data\n"
          ],
          "name": "stdout"
        }
      ]
    },
    {
      "cell_type": "code",
      "metadata": {
        "colab": {
          "base_uri": "https://localhost:8080/",
          "height": 407
        },
        "id": "F-gteSS2NxqL",
        "outputId": "a7a69084-e82b-4828-968c-43b905208625"
      },
      "source": [
        "# 1. Trợ giảng có phải là người nói tiếng Anh bản ngữ hay không (nhị phân); 1 = người nói tiếng Anh, 2 = người không nói tiếng Anh\r\n",
        "# 2. Người hướng dẫn khóa học (phân loại, 25 danh mục)\r\n",
        "# 3. Khóa học (phân loại, 26 danh mục)\r\n",
        "# 4. Học kỳ hè hoặc học kỳ chính quy (nhị phân) 1 = Mùa hè, 2 = Thường xuyên\r\n",
        "# 5. Sĩ số (số)\r\n",
        "# 6. Thuộc tính lớp (phân loại) 1 = Thấp, 2 = Trung bình, 3 = Cao\r\n",
        "\r\n",
        "import pandas as pd\r\n",
        "import io\r\n",
        "\r\n",
        "dataframe = pd.read_csv(io.StringIO(uploaded['tae_demo.data'].decode('utf-8')), names=[\"EngSpeaker\", \"Instructor\", \"Course\", \"Semester\", \"Size\", \"Attribute\"])\r\n",
        "dataframe\r\n"
      ],
      "execution_count": 94,
      "outputs": [
        {
          "output_type": "execute_result",
          "data": {
            "text/html": [
              "<div>\n",
              "<style scoped>\n",
              "    .dataframe tbody tr th:only-of-type {\n",
              "        vertical-align: middle;\n",
              "    }\n",
              "\n",
              "    .dataframe tbody tr th {\n",
              "        vertical-align: top;\n",
              "    }\n",
              "\n",
              "    .dataframe thead th {\n",
              "        text-align: right;\n",
              "    }\n",
              "</style>\n",
              "<table border=\"1\" class=\"dataframe\">\n",
              "  <thead>\n",
              "    <tr style=\"text-align: right;\">\n",
              "      <th></th>\n",
              "      <th>EngSpeaker</th>\n",
              "      <th>Instructor</th>\n",
              "      <th>Course</th>\n",
              "      <th>Semester</th>\n",
              "      <th>Size</th>\n",
              "      <th>Attribute</th>\n",
              "    </tr>\n",
              "  </thead>\n",
              "  <tbody>\n",
              "    <tr>\n",
              "      <th>0</th>\n",
              "      <td>1</td>\n",
              "      <td>23</td>\n",
              "      <td>3</td>\n",
              "      <td>1</td>\n",
              "      <td>19</td>\n",
              "      <td>3</td>\n",
              "    </tr>\n",
              "    <tr>\n",
              "      <th>1</th>\n",
              "      <td>2</td>\n",
              "      <td>15</td>\n",
              "      <td>3</td>\n",
              "      <td>1</td>\n",
              "      <td>17</td>\n",
              "      <td>3</td>\n",
              "    </tr>\n",
              "    <tr>\n",
              "      <th>2</th>\n",
              "      <td>1</td>\n",
              "      <td>23</td>\n",
              "      <td>3</td>\n",
              "      <td>2</td>\n",
              "      <td>49</td>\n",
              "      <td>3</td>\n",
              "    </tr>\n",
              "    <tr>\n",
              "      <th>3</th>\n",
              "      <td>1</td>\n",
              "      <td>5</td>\n",
              "      <td>2</td>\n",
              "      <td>2</td>\n",
              "      <td>33</td>\n",
              "      <td>3</td>\n",
              "    </tr>\n",
              "    <tr>\n",
              "      <th>4</th>\n",
              "      <td>2</td>\n",
              "      <td>7</td>\n",
              "      <td>11</td>\n",
              "      <td>2</td>\n",
              "      <td>55</td>\n",
              "      <td>3</td>\n",
              "    </tr>\n",
              "    <tr>\n",
              "      <th>...</th>\n",
              "      <td>...</td>\n",
              "      <td>...</td>\n",
              "      <td>...</td>\n",
              "      <td>...</td>\n",
              "      <td>...</td>\n",
              "      <td>...</td>\n",
              "    </tr>\n",
              "    <tr>\n",
              "      <th>145</th>\n",
              "      <td>2</td>\n",
              "      <td>23</td>\n",
              "      <td>3</td>\n",
              "      <td>2</td>\n",
              "      <td>24</td>\n",
              "      <td>1</td>\n",
              "    </tr>\n",
              "    <tr>\n",
              "      <th>146</th>\n",
              "      <td>2</td>\n",
              "      <td>3</td>\n",
              "      <td>2</td>\n",
              "      <td>2</td>\n",
              "      <td>26</td>\n",
              "      <td>1</td>\n",
              "    </tr>\n",
              "    <tr>\n",
              "      <th>147</th>\n",
              "      <td>2</td>\n",
              "      <td>10</td>\n",
              "      <td>3</td>\n",
              "      <td>2</td>\n",
              "      <td>12</td>\n",
              "      <td>1</td>\n",
              "    </tr>\n",
              "    <tr>\n",
              "      <th>148</th>\n",
              "      <td>1</td>\n",
              "      <td>18</td>\n",
              "      <td>7</td>\n",
              "      <td>2</td>\n",
              "      <td>48</td>\n",
              "      <td>1</td>\n",
              "    </tr>\n",
              "    <tr>\n",
              "      <th>149</th>\n",
              "      <td>2</td>\n",
              "      <td>22</td>\n",
              "      <td>1</td>\n",
              "      <td>2</td>\n",
              "      <td>51</td>\n",
              "      <td>1</td>\n",
              "    </tr>\n",
              "  </tbody>\n",
              "</table>\n",
              "<p>150 rows × 6 columns</p>\n",
              "</div>"
            ],
            "text/plain": [
              "     EngSpeaker  Instructor  Course  Semester  Size  Attribute\n",
              "0             1          23       3         1    19          3\n",
              "1             2          15       3         1    17          3\n",
              "2             1          23       3         2    49          3\n",
              "3             1           5       2         2    33          3\n",
              "4             2           7      11         2    55          3\n",
              "..          ...         ...     ...       ...   ...        ...\n",
              "145           2          23       3         2    24          1\n",
              "146           2           3       2         2    26          1\n",
              "147           2          10       3         2    12          1\n",
              "148           1          18       7         2    48          1\n",
              "149           2          22       1         2    51          1\n",
              "\n",
              "[150 rows x 6 columns]"
            ]
          },
          "metadata": {
            "tags": []
          },
          "execution_count": 94
        }
      ]
    },
    {
      "cell_type": "code",
      "metadata": {
        "colab": {
          "base_uri": "https://localhost:8080/"
        },
        "id": "ouxM4xijQVHi",
        "outputId": "be0c70ec-ac5c-4acc-ff10-f8458c608eb5"
      },
      "source": [
        "engSpeaker=dataframe.loc[:, \"EngSpeaker\"]\r\n",
        "engSpeaker=np.array([engSpeaker])\r\n",
        "print(engSpeaker.shape)\r\n",
        "engSpeaker"
      ],
      "execution_count": 95,
      "outputs": [
        {
          "output_type": "stream",
          "text": [
            "(1, 150)\n"
          ],
          "name": "stdout"
        },
        {
          "output_type": "execute_result",
          "data": {
            "text/plain": [
              "array([[1, 2, 1, 1, 2, 2, 2, 2, 1, 2, 2, 2, 2, 2, 2, 2, 2, 2, 2, 2, 2, 2,\n",
              "        2, 2, 2, 2, 2, 2, 2, 2, 2, 2, 2, 1, 2, 2, 2, 2, 2, 1, 2, 1, 1, 2,\n",
              "        2, 2, 2, 1, 2, 2, 2, 2, 2, 2, 2, 2, 2, 2, 2, 2, 2, 2, 2, 2, 2, 2,\n",
              "        2, 2, 2, 2, 2, 2, 1, 2, 2, 2, 2, 2, 1, 1, 2, 2, 2, 2, 1, 2, 2, 1,\n",
              "        1, 2, 1, 2, 2, 1, 2, 2, 1, 1, 2, 2, 1, 2, 1, 2, 1, 2, 2, 2, 1, 2,\n",
              "        2, 2, 1, 2, 2, 2, 2, 2, 2, 2, 2, 2, 2, 1, 2, 1, 1, 2, 2, 2, 2, 1,\n",
              "        2, 2, 2, 2, 2, 2, 2, 2, 2, 2, 2, 2, 2, 2, 2, 2, 1, 2]])"
            ]
          },
          "metadata": {
            "tags": []
          },
          "execution_count": 95
        }
      ]
    },
    {
      "cell_type": "code",
      "metadata": {
        "colab": {
          "base_uri": "https://localhost:8080/"
        },
        "id": "LRiL1VkBS0hy",
        "outputId": "3cb02c9c-5588-40f0-d8b6-9ec84f574e73"
      },
      "source": [
        "instructor=dataframe.loc[:,\"Instructor\"]\r\n",
        "instructor=np.array([instructor])\r\n",
        "print(instructor.shape)\r\n",
        "instructor"
      ],
      "execution_count": 96,
      "outputs": [
        {
          "output_type": "stream",
          "text": [
            "(1, 150)\n"
          ],
          "name": "stdout"
        },
        {
          "output_type": "execute_result",
          "data": {
            "text/plain": [
              "array([[23, 15, 23,  5,  7, 23,  9, 10, 22, 15, 10, 13, 18,  6,  6,  6,\n",
              "         7, 22, 13,  7, 25, 25,  2,  1, 15,  7,  8, 14, 21, 22, 11, 18,\n",
              "        13, 13,  5, 16,  4,  5, 14, 23, 15, 23,  5,  7, 23,  9, 10, 22,\n",
              "        15, 10, 13, 18,  6,  6,  6,  7, 22, 13,  7, 25, 25,  2,  1, 15,\n",
              "         7,  8, 14, 21, 22, 11, 18, 13, 13,  5, 16,  4,  5, 14, 23, 13,\n",
              "        16,  9, 13, 18, 22,  7, 23, 23, 23, 14, 17,  9, 18, 17,  1,  1,\n",
              "        11, 22,  9, 13,  6, 23, 23,  6, 22, 20, 23, 20, 23, 13, 10,  7,\n",
              "        14,  8, 12,  8, 15, 23,  2, 15, 20, 13,  9, 10, 14, 13,  8, 20,\n",
              "        22, 18, 20, 17, 14, 24,  9, 12,  9, 22,  7, 10, 23, 17, 16,  3,\n",
              "        19, 23,  3, 10, 18, 22]])"
            ]
          },
          "metadata": {
            "tags": []
          },
          "execution_count": 96
        }
      ]
    },
    {
      "cell_type": "code",
      "metadata": {
        "colab": {
          "base_uri": "https://localhost:8080/"
        },
        "id": "F1fYpqKsS8N2",
        "outputId": "487d9192-3740-494f-a614-23b3d35ca4fb"
      },
      "source": [
        "course=dataframe.loc[:,\"Course\"]\r\n",
        "course=np.array([course])\r\n",
        "print(course.shape)\r\n",
        "course"
      ],
      "execution_count": 97,
      "outputs": [
        {
          "output_type": "stream",
          "text": [
            "(1, 150)\n"
          ],
          "name": "stdout"
        },
        {
          "output_type": "execute_result",
          "data": {
            "text/plain": [
              "array([[ 3,  3,  3,  2, 11,  3,  5,  3,  3,  3, 22,  1, 21, 17, 17, 17,\n",
              "        11,  3,  3, 25,  7,  7,  9, 15, 13, 11,  3, 15,  2,  3,  1,  5,\n",
              "         1,  3,  2,  8, 16,  2, 15,  3,  3,  3,  2, 11,  3,  5,  3,  3,\n",
              "         3, 22,  1, 21, 17, 17, 17, 11,  3,  3, 25,  7,  7,  9, 15, 13,\n",
              "        11,  3, 15,  2,  3,  1,  5,  1,  3,  2,  8, 16,  2, 15,  3,  3,\n",
              "        19,  2,  3, 21,  3, 11,  3,  3,  3, 22, 17,  5, 25, 17, 15,  8,\n",
              "        16, 13,  2,  1, 17,  3,  3, 17,  3,  2,  3,  2,  3,  1,  3, 11,\n",
              "        15,  3,  7,  7,  1,  3,  9,  1,  2, 14,  6,  3, 15,  1,  3,  2,\n",
              "         1, 12, 15, 18, 23, 26, 24,  8,  6,  1, 11,  3,  3, 18, 20,  2,\n",
              "         4,  3,  2,  3,  7,  1]])"
            ]
          },
          "metadata": {
            "tags": []
          },
          "execution_count": 97
        }
      ]
    },
    {
      "cell_type": "code",
      "metadata": {
        "colab": {
          "base_uri": "https://localhost:8080/"
        },
        "id": "ztDttvCoTGoI",
        "outputId": "27b66d5c-ba74-47e0-960e-d501218ad3bd"
      },
      "source": [
        "semester=dataframe.loc[:,\"Semester\"]\r\n",
        "semester=np.array([semester])\r\n",
        "print(semester.shape)\r\n",
        "semester"
      ],
      "execution_count": 98,
      "outputs": [
        {
          "output_type": "stream",
          "text": [
            "(1, 150)\n"
          ],
          "name": "stdout"
        },
        {
          "output_type": "execute_result",
          "data": {
            "text/plain": [
              "array([[1, 1, 2, 2, 2, 1, 2, 2, 1, 1, 2, 2, 2, 2, 2, 2, 2, 2, 1, 2, 2, 2,\n",
              "        2, 1, 2, 2, 2, 2, 2, 2, 2, 2, 2, 1, 2, 2, 2, 2, 2, 1, 1, 2, 2, 2,\n",
              "        1, 2, 2, 2, 1, 2, 2, 2, 2, 2, 2, 2, 2, 1, 2, 2, 2, 2, 1, 2, 2, 2,\n",
              "        2, 2, 2, 2, 2, 2, 1, 2, 2, 2, 2, 2, 1, 1, 2, 2, 1, 2, 2, 1, 1, 1,\n",
              "        2, 2, 2, 2, 2, 2, 2, 2, 2, 2, 2, 2, 2, 1, 1, 2, 2, 2, 2, 2, 2, 2,\n",
              "        2, 2, 2, 2, 2, 2, 2, 2, 2, 2, 2, 2, 2, 2, 2, 2, 2, 2, 2, 2, 2, 2,\n",
              "        2, 2, 2, 2, 2, 2, 2, 2, 2, 2, 2, 2, 2, 2, 2, 2, 2, 2]])"
            ]
          },
          "metadata": {
            "tags": []
          },
          "execution_count": 98
        }
      ]
    },
    {
      "cell_type": "code",
      "metadata": {
        "colab": {
          "base_uri": "https://localhost:8080/"
        },
        "id": "GZFW9NN8Tdli",
        "outputId": "53af2bcb-a10a-474b-eeb6-fa71cbcae277"
      },
      "source": [
        "size=dataframe.loc[:,\"Size\"]\r\n",
        "size=np.array([size])\r\n",
        "print(size.shape)\r\n",
        "size"
      ],
      "execution_count": 99,
      "outputs": [
        {
          "output_type": "stream",
          "text": [
            "(1, 150)\n"
          ],
          "name": "stdout"
        },
        {
          "output_type": "execute_result",
          "data": {
            "text/plain": [
              "array([[19, 17, 49, 33, 55, 20, 19, 27, 58, 20,  9, 30, 29, 39, 42, 43,\n",
              "        10, 46, 10, 42, 27, 23, 31, 22, 37, 13, 24, 38, 42, 28, 51, 19,\n",
              "        31, 13, 37, 36, 21, 48, 38, 19, 17, 49, 33, 55, 20, 19, 27, 58,\n",
              "        20,  9, 30, 29, 39, 42, 43, 10, 46, 10, 42, 27, 23, 31, 22, 37,\n",
              "        13, 24, 38, 42, 28, 51, 19, 31, 13, 37, 36, 21, 48, 38, 25, 17,\n",
              "        11, 39, 11, 19, 45, 20, 20, 20, 38, 17, 19, 24, 25, 31, 31, 18,\n",
              "        22, 27, 14, 20, 35, 20, 20, 37, 15, 25, 10, 14, 38, 29, 19, 30,\n",
              "        32, 27, 34, 23, 66, 12, 29, 19,  3, 17,  7, 21, 36, 54, 29, 45,\n",
              "        11, 16, 18, 44, 17, 21, 20, 24,  5, 42, 30, 19, 11, 29, 15, 37,\n",
              "        10, 24, 26, 12, 48, 51]])"
            ]
          },
          "metadata": {
            "tags": []
          },
          "execution_count": 99
        }
      ]
    },
    {
      "cell_type": "code",
      "metadata": {
        "colab": {
          "base_uri": "https://localhost:8080/"
        },
        "id": "mNEfHWCrTvBm",
        "outputId": "20950526-417d-4db5-95b8-46703b018ca0"
      },
      "source": [
        "attribute=dataframe.loc[:,\"Attribute\"]\r\n",
        "attribute=np.array([attribute])\r\n",
        "print(attribute.shape)\r\n",
        "attribute"
      ],
      "execution_count": 103,
      "outputs": [
        {
          "output_type": "stream",
          "text": [
            "(1, 150)\n"
          ],
          "name": "stdout"
        },
        {
          "output_type": "execute_result",
          "data": {
            "text/plain": [
              "array([[3, 3, 3, 3, 3, 3, 3, 3, 3, 3, 3, 3, 3, 3, 2, 2, 2, 2, 2, 2, 2, 2,\n",
              "        2, 2, 2, 2, 2, 2, 1, 1, 1, 1, 1, 1, 1, 1, 1, 1, 1, 3, 3, 3, 3, 3,\n",
              "        3, 3, 3, 3, 3, 3, 3, 3, 3, 2, 2, 2, 2, 2, 2, 2, 2, 2, 2, 2, 2, 2,\n",
              "        2, 1, 1, 1, 1, 1, 1, 1, 1, 1, 1, 1, 3, 3, 3, 3, 3, 3, 3, 3, 3, 3,\n",
              "        3, 3, 3, 3, 3, 3, 3, 2, 2, 2, 2, 2, 2, 2, 2, 2, 2, 2, 2, 1, 1, 1,\n",
              "        1, 1, 1, 1, 1, 1, 1, 1, 1, 1, 1, 3, 3, 3, 3, 3, 3, 3, 2, 2, 2, 2,\n",
              "        2, 2, 2, 2, 2, 2, 1, 1, 1, 1, 1, 1, 1, 1, 1, 1, 1, 1]])"
            ]
          },
          "metadata": {
            "tags": []
          },
          "execution_count": 103
        }
      ]
    },
    {
      "cell_type": "code",
      "metadata": {
        "colab": {
          "base_uri": "https://localhost:8080/"
        },
        "id": "nBn6Zxs3T6u5",
        "outputId": "1518f693-f1c3-4c3d-fd3e-4bdc76531a89"
      },
      "source": [
        "engSpeaker=engSpeaker.T #đảo dòng thành cột\r\n",
        "instructor=instructor.T\r\n",
        "course=course.T\r\n",
        "semester=semester.T\r\n",
        "\r\n",
        "print(engSpeaker.shape)\r\n",
        "print(instructor.shape)\r\n",
        "print(course.shape)\r\n",
        "print(semester.shape)\r\n",
        "\r\n",
        "X = np.concatenate((engSpeaker, instructor, course, semester),axis=1)\r\n",
        "print(X.shape)\r\n",
        "print(X)"
      ],
      "execution_count": 105,
      "outputs": [
        {
          "output_type": "stream",
          "text": [
            "(150, 1)\n",
            "(150, 1)\n",
            "(150, 1)\n",
            "(150, 1)\n",
            "(150, 4)\n",
            "[[ 1 23  3  1]\n",
            " [ 2 15  3  1]\n",
            " [ 1 23  3  2]\n",
            " [ 1  5  2  2]\n",
            " [ 2  7 11  2]\n",
            " [ 2 23  3  1]\n",
            " [ 2  9  5  2]\n",
            " [ 2 10  3  2]\n",
            " [ 1 22  3  1]\n",
            " [ 2 15  3  1]\n",
            " [ 2 10 22  2]\n",
            " [ 2 13  1  2]\n",
            " [ 2 18 21  2]\n",
            " [ 2  6 17  2]\n",
            " [ 2  6 17  2]\n",
            " [ 2  6 17  2]\n",
            " [ 2  7 11  2]\n",
            " [ 2 22  3  2]\n",
            " [ 2 13  3  1]\n",
            " [ 2  7 25  2]\n",
            " [ 2 25  7  2]\n",
            " [ 2 25  7  2]\n",
            " [ 2  2  9  2]\n",
            " [ 2  1 15  1]\n",
            " [ 2 15 13  2]\n",
            " [ 2  7 11  2]\n",
            " [ 2  8  3  2]\n",
            " [ 2 14 15  2]\n",
            " [ 2 21  2  2]\n",
            " [ 2 22  3  2]\n",
            " [ 2 11  1  2]\n",
            " [ 2 18  5  2]\n",
            " [ 2 13  1  2]\n",
            " [ 1 13  3  1]\n",
            " [ 2  5  2  2]\n",
            " [ 2 16  8  2]\n",
            " [ 2  4 16  2]\n",
            " [ 2  5  2  2]\n",
            " [ 2 14 15  2]\n",
            " [ 1 23  3  1]\n",
            " [ 2 15  3  1]\n",
            " [ 1 23  3  2]\n",
            " [ 1  5  2  2]\n",
            " [ 2  7 11  2]\n",
            " [ 2 23  3  1]\n",
            " [ 2  9  5  2]\n",
            " [ 2 10  3  2]\n",
            " [ 1 22  3  2]\n",
            " [ 2 15  3  1]\n",
            " [ 2 10 22  2]\n",
            " [ 2 13  1  2]\n",
            " [ 2 18 21  2]\n",
            " [ 2  6 17  2]\n",
            " [ 2  6 17  2]\n",
            " [ 2  6 17  2]\n",
            " [ 2  7 11  2]\n",
            " [ 2 22  3  2]\n",
            " [ 2 13  3  1]\n",
            " [ 2  7 25  2]\n",
            " [ 2 25  7  2]\n",
            " [ 2 25  7  2]\n",
            " [ 2  2  9  2]\n",
            " [ 2  1 15  1]\n",
            " [ 2 15 13  2]\n",
            " [ 2  7 11  2]\n",
            " [ 2  8  3  2]\n",
            " [ 2 14 15  2]\n",
            " [ 2 21  2  2]\n",
            " [ 2 22  3  2]\n",
            " [ 2 11  1  2]\n",
            " [ 2 18  5  2]\n",
            " [ 2 13  1  2]\n",
            " [ 1 13  3  1]\n",
            " [ 2  5  2  2]\n",
            " [ 2 16  8  2]\n",
            " [ 2  4 16  2]\n",
            " [ 2  5  2  2]\n",
            " [ 2 14 15  2]\n",
            " [ 1 23  3  1]\n",
            " [ 1 13  3  1]\n",
            " [ 2 16 19  2]\n",
            " [ 2  9  2  2]\n",
            " [ 2 13  3  1]\n",
            " [ 2 18 21  2]\n",
            " [ 1 22  3  2]\n",
            " [ 2  7 11  1]\n",
            " [ 2 23  3  1]\n",
            " [ 1 23  3  1]\n",
            " [ 1 23  3  2]\n",
            " [ 2 14 22  2]\n",
            " [ 1 17 17  2]\n",
            " [ 2  9  5  2]\n",
            " [ 2 18 25  2]\n",
            " [ 1 17 17  2]\n",
            " [ 2  1 15  2]\n",
            " [ 2  1  8  2]\n",
            " [ 1 11 16  2]\n",
            " [ 1 22 13  2]\n",
            " [ 2  9  2  2]\n",
            " [ 2 13  1  2]\n",
            " [ 1  6 17  2]\n",
            " [ 2 23  3  1]\n",
            " [ 1 23  3  1]\n",
            " [ 2  6 17  2]\n",
            " [ 1 22  3  2]\n",
            " [ 2 20  2  2]\n",
            " [ 2 23  3  2]\n",
            " [ 2 20  2  2]\n",
            " [ 1 23  3  2]\n",
            " [ 2 13  1  2]\n",
            " [ 2 10  3  2]\n",
            " [ 2  7 11  2]\n",
            " [ 1 14 15  2]\n",
            " [ 2  8  3  2]\n",
            " [ 2 12  7  2]\n",
            " [ 2  8  7  2]\n",
            " [ 2 15  1  2]\n",
            " [ 2 23  3  2]\n",
            " [ 2  2  9  2]\n",
            " [ 2 15  1  2]\n",
            " [ 2 20  2  2]\n",
            " [ 2 13 14  2]\n",
            " [ 2  9  6  2]\n",
            " [ 1 10  3  2]\n",
            " [ 2 14 15  2]\n",
            " [ 1 13  1  2]\n",
            " [ 1  8  3  2]\n",
            " [ 2 20  2  2]\n",
            " [ 2 22  1  2]\n",
            " [ 2 18 12  2]\n",
            " [ 2 20 15  2]\n",
            " [ 1 17 18  2]\n",
            " [ 2 14 23  2]\n",
            " [ 2 24 26  2]\n",
            " [ 2  9 24  2]\n",
            " [ 2 12  8  2]\n",
            " [ 2  9  6  2]\n",
            " [ 2 22  1  2]\n",
            " [ 2  7 11  2]\n",
            " [ 2 10  3  2]\n",
            " [ 2 23  3  2]\n",
            " [ 2 17 18  2]\n",
            " [ 2 16 20  2]\n",
            " [ 2  3  2  2]\n",
            " [ 2 19  4  2]\n",
            " [ 2 23  3  2]\n",
            " [ 2  3  2  2]\n",
            " [ 2 10  3  2]\n",
            " [ 1 18  7  2]\n",
            " [ 2 22  1  2]]\n"
          ],
          "name": "stdout"
        }
      ]
    },
    {
      "cell_type": "code",
      "metadata": {
        "colab": {
          "base_uri": "https://localhost:8080/"
        },
        "id": "zyqWGTXVWXUc",
        "outputId": "18f3cc14-5432-471f-9eb7-7619b6e6b053"
      },
      "source": [
        "from sklearn.neighbors import KNeighborsClassifier\r\n",
        "model = KNeighborsClassifier(n_neighbors=80)\r\n",
        "#training\r\n",
        "attribute=attribute.T\r\n",
        "print(attribute.shape)\r\n",
        "model.fit(X,attribute)"
      ],
      "execution_count": 112,
      "outputs": [
        {
          "output_type": "stream",
          "text": [
            "(150, 1)\n"
          ],
          "name": "stdout"
        },
        {
          "output_type": "stream",
          "text": [
            "/usr/local/lib/python3.6/dist-packages/ipykernel_launcher.py:6: DataConversionWarning: A column-vector y was passed when a 1d array was expected. Please change the shape of y to (n_samples, ), for example using ravel().\n",
            "  \n"
          ],
          "name": "stderr"
        },
        {
          "output_type": "execute_result",
          "data": {
            "text/plain": [
              "KNeighborsClassifier(algorithm='auto', leaf_size=30, metric='minkowski',\n",
              "                     metric_params=None, n_jobs=None, n_neighbors=80, p=2,\n",
              "                     weights='uniform')"
            ]
          },
          "metadata": {
            "tags": []
          },
          "execution_count": 112
        }
      ]
    },
    {
      "cell_type": "code",
      "metadata": {
        "colab": {
          "base_uri": "https://localhost:8080/"
        },
        "id": "79DCp28zXIxz",
        "outputId": "614a4620-b460-4529-d9d7-c451388c44e3"
      },
      "source": [
        "X_test = np.array([[2,2,10,2]])\r\n",
        "Y_pred=model.predict(X_test)\r\n",
        "print(Y_pred)"
      ],
      "execution_count": 113,
      "outputs": [
        {
          "output_type": "stream",
          "text": [
            "[1]\n"
          ],
          "name": "stdout"
        }
      ]
    },
    {
      "cell_type": "code",
      "metadata": {
        "colab": {
          "base_uri": "https://localhost:8080/"
        },
        "id": "uAMoTHFpYJIw",
        "outputId": "f1061385-1bc7-444a-eb22-183a6e8f1761"
      },
      "source": [
        "from sklearn.neighbors import KNeighborsClassifier\r\n",
        "model12 = KNeighborsClassifier(n_neighbors=80)\r\n",
        "#training\r\n",
        "size=size.T\r\n",
        "print(size.shape)\r\n",
        "model12.fit(X,size)"
      ],
      "execution_count": 117,
      "outputs": [
        {
          "output_type": "stream",
          "text": [
            "(150, 1)\n"
          ],
          "name": "stdout"
        },
        {
          "output_type": "stream",
          "text": [
            "/usr/local/lib/python3.6/dist-packages/ipykernel_launcher.py:6: DataConversionWarning: A column-vector y was passed when a 1d array was expected. Please change the shape of y to (n_samples, ), for example using ravel().\n",
            "  \n"
          ],
          "name": "stderr"
        },
        {
          "output_type": "execute_result",
          "data": {
            "text/plain": [
              "KNeighborsClassifier(algorithm='auto', leaf_size=30, metric='minkowski',\n",
              "                     metric_params=None, n_jobs=None, n_neighbors=80, p=2,\n",
              "                     weights='uniform')"
            ]
          },
          "metadata": {
            "tags": []
          },
          "execution_count": 117
        }
      ]
    },
    {
      "cell_type": "code",
      "metadata": {
        "colab": {
          "base_uri": "https://localhost:8080/"
        },
        "id": "xC2x7Uw3Yp9n",
        "outputId": "255e9c12-92af-4a77-88a5-902fa5d99d7a"
      },
      "source": [
        "size_pred = model12.predict(X_test)\r\n",
        "print(size_pred)"
      ],
      "execution_count": 121,
      "outputs": [
        {
          "output_type": "stream",
          "text": [
            "[37]\n"
          ],
          "name": "stdout"
        }
      ]
    }
  ]
}