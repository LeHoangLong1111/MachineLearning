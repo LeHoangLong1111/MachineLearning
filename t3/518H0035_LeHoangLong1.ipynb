{
  "nbformat": 4,
  "nbformat_minor": 0,
  "metadata": {
    "colab": {
      "name": "ex1_t3.ipynb",
      "provenance": [],
      "collapsed_sections": []
    },
    "kernelspec": {
      "name": "python3",
      "display_name": "Python 3"
    }
  },
  "cells": [
    {
      "cell_type": "code",
      "metadata": {
        "id": "FAIwvBfwyJmg"
      },
      "source": [
        "import pandas as pd\r\n",
        "import matplotlib.pyplot as plt\r\n",
        "import numpy as np"
      ],
      "execution_count": 1,
      "outputs": []
    },
    {
      "cell_type": "code",
      "metadata": {
        "colab": {
          "resources": {
            "http://localhost:8080/nbextensions/google.colab/files.js": {
              "data": "Ly8gQ29weXJpZ2h0IDIwMTcgR29vZ2xlIExMQwovLwovLyBMaWNlbnNlZCB1bmRlciB0aGUgQXBhY2hlIExpY2Vuc2UsIFZlcnNpb24gMi4wICh0aGUgIkxpY2Vuc2UiKTsKLy8geW91IG1heSBub3QgdXNlIHRoaXMgZmlsZSBleGNlcHQgaW4gY29tcGxpYW5jZSB3aXRoIHRoZSBMaWNlbnNlLgovLyBZb3UgbWF5IG9idGFpbiBhIGNvcHkgb2YgdGhlIExpY2Vuc2UgYXQKLy8KLy8gICAgICBodHRwOi8vd3d3LmFwYWNoZS5vcmcvbGljZW5zZXMvTElDRU5TRS0yLjAKLy8KLy8gVW5sZXNzIHJlcXVpcmVkIGJ5IGFwcGxpY2FibGUgbGF3IG9yIGFncmVlZCB0byBpbiB3cml0aW5nLCBzb2Z0d2FyZQovLyBkaXN0cmlidXRlZCB1bmRlciB0aGUgTGljZW5zZSBpcyBkaXN0cmlidXRlZCBvbiBhbiAiQVMgSVMiIEJBU0lTLAovLyBXSVRIT1VUIFdBUlJBTlRJRVMgT1IgQ09ORElUSU9OUyBPRiBBTlkgS0lORCwgZWl0aGVyIGV4cHJlc3Mgb3IgaW1wbGllZC4KLy8gU2VlIHRoZSBMaWNlbnNlIGZvciB0aGUgc3BlY2lmaWMgbGFuZ3VhZ2UgZ292ZXJuaW5nIHBlcm1pc3Npb25zIGFuZAovLyBsaW1pdGF0aW9ucyB1bmRlciB0aGUgTGljZW5zZS4KCi8qKgogKiBAZmlsZW92ZXJ2aWV3IEhlbHBlcnMgZm9yIGdvb2dsZS5jb2xhYiBQeXRob24gbW9kdWxlLgogKi8KKGZ1bmN0aW9uKHNjb3BlKSB7CmZ1bmN0aW9uIHNwYW4odGV4dCwgc3R5bGVBdHRyaWJ1dGVzID0ge30pIHsKICBjb25zdCBlbGVtZW50ID0gZG9jdW1lbnQuY3JlYXRlRWxlbWVudCgnc3BhbicpOwogIGVsZW1lbnQudGV4dENvbnRlbnQgPSB0ZXh0OwogIGZvciAoY29uc3Qga2V5IG9mIE9iamVjdC5rZXlzKHN0eWxlQXR0cmlidXRlcykpIHsKICAgIGVsZW1lbnQuc3R5bGVba2V5XSA9IHN0eWxlQXR0cmlidXRlc1trZXldOwogIH0KICByZXR1cm4gZWxlbWVudDsKfQoKLy8gTWF4IG51bWJlciBvZiBieXRlcyB3aGljaCB3aWxsIGJlIHVwbG9hZGVkIGF0IGEgdGltZS4KY29uc3QgTUFYX1BBWUxPQURfU0laRSA9IDEwMCAqIDEwMjQ7CgpmdW5jdGlvbiBfdXBsb2FkRmlsZXMoaW5wdXRJZCwgb3V0cHV0SWQpIHsKICBjb25zdCBzdGVwcyA9IHVwbG9hZEZpbGVzU3RlcChpbnB1dElkLCBvdXRwdXRJZCk7CiAgY29uc3Qgb3V0cHV0RWxlbWVudCA9IGRvY3VtZW50LmdldEVsZW1lbnRCeUlkKG91dHB1dElkKTsKICAvLyBDYWNoZSBzdGVwcyBvbiB0aGUgb3V0cHV0RWxlbWVudCB0byBtYWtlIGl0IGF2YWlsYWJsZSBmb3IgdGhlIG5leHQgY2FsbAogIC8vIHRvIHVwbG9hZEZpbGVzQ29udGludWUgZnJvbSBQeXRob24uCiAgb3V0cHV0RWxlbWVudC5zdGVwcyA9IHN0ZXBzOwoKICByZXR1cm4gX3VwbG9hZEZpbGVzQ29udGludWUob3V0cHV0SWQpOwp9CgovLyBUaGlzIGlzIHJvdWdobHkgYW4gYXN5bmMgZ2VuZXJhdG9yIChub3Qgc3VwcG9ydGVkIGluIHRoZSBicm93c2VyIHlldCksCi8vIHdoZXJlIHRoZXJlIGFyZSBtdWx0aXBsZSBhc3luY2hyb25vdXMgc3RlcHMgYW5kIHRoZSBQeXRob24gc2lkZSBpcyBnb2luZwovLyB0byBwb2xsIGZvciBjb21wbGV0aW9uIG9mIGVhY2ggc3RlcC4KLy8gVGhpcyB1c2VzIGEgUHJvbWlzZSB0byBibG9jayB0aGUgcHl0aG9uIHNpZGUgb24gY29tcGxldGlvbiBvZiBlYWNoIHN0ZXAsCi8vIHRoZW4gcGFzc2VzIHRoZSByZXN1bHQgb2YgdGhlIHByZXZpb3VzIHN0ZXAgYXMgdGhlIGlucHV0IHRvIHRoZSBuZXh0IHN0ZXAuCmZ1bmN0aW9uIF91cGxvYWRGaWxlc0NvbnRpbnVlKG91dHB1dElkKSB7CiAgY29uc3Qgb3V0cHV0RWxlbWVudCA9IGRvY3VtZW50LmdldEVsZW1lbnRCeUlkKG91dHB1dElkKTsKICBjb25zdCBzdGVwcyA9IG91dHB1dEVsZW1lbnQuc3RlcHM7CgogIGNvbnN0IG5leHQgPSBzdGVwcy5uZXh0KG91dHB1dEVsZW1lbnQubGFzdFByb21pc2VWYWx1ZSk7CiAgcmV0dXJuIFByb21pc2UucmVzb2x2ZShuZXh0LnZhbHVlLnByb21pc2UpLnRoZW4oKHZhbHVlKSA9PiB7CiAgICAvLyBDYWNoZSB0aGUgbGFzdCBwcm9taXNlIHZhbHVlIHRvIG1ha2UgaXQgYXZhaWxhYmxlIHRvIHRoZSBuZXh0CiAgICAvLyBzdGVwIG9mIHRoZSBnZW5lcmF0b3IuCiAgICBvdXRwdXRFbGVtZW50Lmxhc3RQcm9taXNlVmFsdWUgPSB2YWx1ZTsKICAgIHJldHVybiBuZXh0LnZhbHVlLnJlc3BvbnNlOwogIH0pOwp9CgovKioKICogR2VuZXJhdG9yIGZ1bmN0aW9uIHdoaWNoIGlzIGNhbGxlZCBiZXR3ZWVuIGVhY2ggYXN5bmMgc3RlcCBvZiB0aGUgdXBsb2FkCiAqIHByb2Nlc3MuCiAqIEBwYXJhbSB7c3RyaW5nfSBpbnB1dElkIEVsZW1lbnQgSUQgb2YgdGhlIGlucHV0IGZpbGUgcGlja2VyIGVsZW1lbnQuCiAqIEBwYXJhbSB7c3RyaW5nfSBvdXRwdXRJZCBFbGVtZW50IElEIG9mIHRoZSBvdXRwdXQgZGlzcGxheS4KICogQHJldHVybiB7IUl0ZXJhYmxlPCFPYmplY3Q+fSBJdGVyYWJsZSBvZiBuZXh0IHN0ZXBzLgogKi8KZnVuY3Rpb24qIHVwbG9hZEZpbGVzU3RlcChpbnB1dElkLCBvdXRwdXRJZCkgewogIGNvbnN0IGlucHV0RWxlbWVudCA9IGRvY3VtZW50LmdldEVsZW1lbnRCeUlkKGlucHV0SWQpOwogIGlucHV0RWxlbWVudC5kaXNhYmxlZCA9IGZhbHNlOwoKICBjb25zdCBvdXRwdXRFbGVtZW50ID0gZG9jdW1lbnQuZ2V0RWxlbWVudEJ5SWQob3V0cHV0SWQpOwogIG91dHB1dEVsZW1lbnQuaW5uZXJIVE1MID0gJyc7CgogIGNvbnN0IHBpY2tlZFByb21pc2UgPSBuZXcgUHJvbWlzZSgocmVzb2x2ZSkgPT4gewogICAgaW5wdXRFbGVtZW50LmFkZEV2ZW50TGlzdGVuZXIoJ2NoYW5nZScsIChlKSA9PiB7CiAgICAgIHJlc29sdmUoZS50YXJnZXQuZmlsZXMpOwogICAgfSk7CiAgfSk7CgogIGNvbnN0IGNhbmNlbCA9IGRvY3VtZW50LmNyZWF0ZUVsZW1lbnQoJ2J1dHRvbicpOwogIGlucHV0RWxlbWVudC5wYXJlbnRFbGVtZW50LmFwcGVuZENoaWxkKGNhbmNlbCk7CiAgY2FuY2VsLnRleHRDb250ZW50ID0gJ0NhbmNlbCB1cGxvYWQnOwogIGNvbnN0IGNhbmNlbFByb21pc2UgPSBuZXcgUHJvbWlzZSgocmVzb2x2ZSkgPT4gewogICAgY2FuY2VsLm9uY2xpY2sgPSAoKSA9PiB7CiAgICAgIHJlc29sdmUobnVsbCk7CiAgICB9OwogIH0pOwoKICAvLyBXYWl0IGZvciB0aGUgdXNlciB0byBwaWNrIHRoZSBmaWxlcy4KICBjb25zdCBmaWxlcyA9IHlpZWxkIHsKICAgIHByb21pc2U6IFByb21pc2UucmFjZShbcGlja2VkUHJvbWlzZSwgY2FuY2VsUHJvbWlzZV0pLAogICAgcmVzcG9uc2U6IHsKICAgICAgYWN0aW9uOiAnc3RhcnRpbmcnLAogICAgfQogIH07CgogIGNhbmNlbC5yZW1vdmUoKTsKCiAgLy8gRGlzYWJsZSB0aGUgaW5wdXQgZWxlbWVudCBzaW5jZSBmdXJ0aGVyIHBpY2tzIGFyZSBub3QgYWxsb3dlZC4KICBpbnB1dEVsZW1lbnQuZGlzYWJsZWQgPSB0cnVlOwoKICBpZiAoIWZpbGVzKSB7CiAgICByZXR1cm4gewogICAgICByZXNwb25zZTogewogICAgICAgIGFjdGlvbjogJ2NvbXBsZXRlJywKICAgICAgfQogICAgfTsKICB9CgogIGZvciAoY29uc3QgZmlsZSBvZiBmaWxlcykgewogICAgY29uc3QgbGkgPSBkb2N1bWVudC5jcmVhdGVFbGVtZW50KCdsaScpOwogICAgbGkuYXBwZW5kKHNwYW4oZmlsZS5uYW1lLCB7Zm9udFdlaWdodDogJ2JvbGQnfSkpOwogICAgbGkuYXBwZW5kKHNwYW4oCiAgICAgICAgYCgke2ZpbGUudHlwZSB8fCAnbi9hJ30pIC0gJHtmaWxlLnNpemV9IGJ5dGVzLCBgICsKICAgICAgICBgbGFzdCBtb2RpZmllZDogJHsKICAgICAgICAgICAgZmlsZS5sYXN0TW9kaWZpZWREYXRlID8gZmlsZS5sYXN0TW9kaWZpZWREYXRlLnRvTG9jYWxlRGF0ZVN0cmluZygpIDoKICAgICAgICAgICAgICAgICAgICAgICAgICAgICAgICAgICAgJ24vYSd9IC0gYCkpOwogICAgY29uc3QgcGVyY2VudCA9IHNwYW4oJzAlIGRvbmUnKTsKICAgIGxpLmFwcGVuZENoaWxkKHBlcmNlbnQpOwoKICAgIG91dHB1dEVsZW1lbnQuYXBwZW5kQ2hpbGQobGkpOwoKICAgIGNvbnN0IGZpbGVEYXRhUHJvbWlzZSA9IG5ldyBQcm9taXNlKChyZXNvbHZlKSA9PiB7CiAgICAgIGNvbnN0IHJlYWRlciA9IG5ldyBGaWxlUmVhZGVyKCk7CiAgICAgIHJlYWRlci5vbmxvYWQgPSAoZSkgPT4gewogICAgICAgIHJlc29sdmUoZS50YXJnZXQucmVzdWx0KTsKICAgICAgfTsKICAgICAgcmVhZGVyLnJlYWRBc0FycmF5QnVmZmVyKGZpbGUpOwogICAgfSk7CiAgICAvLyBXYWl0IGZvciB0aGUgZGF0YSB0byBiZSByZWFkeS4KICAgIGxldCBmaWxlRGF0YSA9IHlpZWxkIHsKICAgICAgcHJvbWlzZTogZmlsZURhdGFQcm9taXNlLAogICAgICByZXNwb25zZTogewogICAgICAgIGFjdGlvbjogJ2NvbnRpbnVlJywKICAgICAgfQogICAgfTsKCiAgICAvLyBVc2UgYSBjaHVua2VkIHNlbmRpbmcgdG8gYXZvaWQgbWVzc2FnZSBzaXplIGxpbWl0cy4gU2VlIGIvNjIxMTU2NjAuCiAgICBsZXQgcG9zaXRpb24gPSAwOwogICAgd2hpbGUgKHBvc2l0aW9uIDwgZmlsZURhdGEuYnl0ZUxlbmd0aCkgewogICAgICBjb25zdCBsZW5ndGggPSBNYXRoLm1pbihmaWxlRGF0YS5ieXRlTGVuZ3RoIC0gcG9zaXRpb24sIE1BWF9QQVlMT0FEX1NJWkUpOwogICAgICBjb25zdCBjaHVuayA9IG5ldyBVaW50OEFycmF5KGZpbGVEYXRhLCBwb3NpdGlvbiwgbGVuZ3RoKTsKICAgICAgcG9zaXRpb24gKz0gbGVuZ3RoOwoKICAgICAgY29uc3QgYmFzZTY0ID0gYnRvYShTdHJpbmcuZnJvbUNoYXJDb2RlLmFwcGx5KG51bGwsIGNodW5rKSk7CiAgICAgIHlpZWxkIHsKICAgICAgICByZXNwb25zZTogewogICAgICAgICAgYWN0aW9uOiAnYXBwZW5kJywKICAgICAgICAgIGZpbGU6IGZpbGUubmFtZSwKICAgICAgICAgIGRhdGE6IGJhc2U2NCwKICAgICAgICB9LAogICAgICB9OwogICAgICBwZXJjZW50LnRleHRDb250ZW50ID0KICAgICAgICAgIGAke01hdGgucm91bmQoKHBvc2l0aW9uIC8gZmlsZURhdGEuYnl0ZUxlbmd0aCkgKiAxMDApfSUgZG9uZWA7CiAgICB9CiAgfQoKICAvLyBBbGwgZG9uZS4KICB5aWVsZCB7CiAgICByZXNwb25zZTogewogICAgICBhY3Rpb246ICdjb21wbGV0ZScsCiAgICB9CiAgfTsKfQoKc2NvcGUuZ29vZ2xlID0gc2NvcGUuZ29vZ2xlIHx8IHt9OwpzY29wZS5nb29nbGUuY29sYWIgPSBzY29wZS5nb29nbGUuY29sYWIgfHwge307CnNjb3BlLmdvb2dsZS5jb2xhYi5fZmlsZXMgPSB7CiAgX3VwbG9hZEZpbGVzLAogIF91cGxvYWRGaWxlc0NvbnRpbnVlLAp9Owp9KShzZWxmKTsK",
              "ok": true,
              "headers": [
                [
                  "content-type",
                  "application/javascript"
                ]
              ],
              "status": 200,
              "status_text": ""
            }
          },
          "base_uri": "https://localhost:8080/",
          "height": 73
        },
        "id": "9QdeHXCVymPy",
        "outputId": "27a39b01-9ff6-4c54-fd8e-82fbfaf1d875"
      },
      "source": [
        "from google.colab import files\r\n",
        "uploaded = files.upload()"
      ],
      "execution_count": 8,
      "outputs": [
        {
          "output_type": "display_data",
          "data": {
            "text/html": [
              "\n",
              "     <input type=\"file\" id=\"files-694ab0af-31c1-423f-a0fd-139a0e3b0c77\" name=\"files[]\" multiple disabled\n",
              "        style=\"border:none\" />\n",
              "     <output id=\"result-694ab0af-31c1-423f-a0fd-139a0e3b0c77\">\n",
              "      Upload widget is only available when the cell has been executed in the\n",
              "      current browser session. Please rerun this cell to enable.\n",
              "      </output>\n",
              "      <script src=\"/nbextensions/google.colab/files.js\"></script> "
            ],
            "text/plain": [
              "<IPython.core.display.HTML object>"
            ]
          },
          "metadata": {
            "tags": []
          }
        },
        {
          "output_type": "stream",
          "text": [
            "Saving data-01.data to data-01.data\n"
          ],
          "name": "stdout"
        }
      ]
    },
    {
      "cell_type": "code",
      "metadata": {
        "colab": {
          "base_uri": "https://localhost:8080/",
          "height": 407
        },
        "id": "VthgkD6zzBk9",
        "outputId": "ab1b82cc-faed-47b1-dee7-c747c8b10539"
      },
      "source": [
        "import pandas as pd\r\n",
        "import io\r\n",
        "\r\n",
        "dataframe = pd.read_csv(io.StringIO(uploaded['data-01.data'].decode('utf-8')), names=[\"Date\", \"Time\", \"Code\", \"Value\"])\r\n",
        "dataframe"
      ],
      "execution_count": 28,
      "outputs": [
        {
          "output_type": "execute_result",
          "data": {
            "text/html": [
              "<div>\n",
              "<style scoped>\n",
              "    .dataframe tbody tr th:only-of-type {\n",
              "        vertical-align: middle;\n",
              "    }\n",
              "\n",
              "    .dataframe tbody tr th {\n",
              "        vertical-align: top;\n",
              "    }\n",
              "\n",
              "    .dataframe thead th {\n",
              "        text-align: right;\n",
              "    }\n",
              "</style>\n",
              "<table border=\"1\" class=\"dataframe\">\n",
              "  <thead>\n",
              "    <tr style=\"text-align: right;\">\n",
              "      <th></th>\n",
              "      <th>Date</th>\n",
              "      <th>Time</th>\n",
              "      <th>Code</th>\n",
              "      <th>Value</th>\n",
              "    </tr>\n",
              "  </thead>\n",
              "  <tbody>\n",
              "    <tr>\n",
              "      <th>0</th>\n",
              "      <td>04-21-1991</td>\n",
              "      <td>9:09</td>\n",
              "      <td>58</td>\n",
              "      <td>100</td>\n",
              "    </tr>\n",
              "    <tr>\n",
              "      <th>1</th>\n",
              "      <td>04-21-1991</td>\n",
              "      <td>9:09</td>\n",
              "      <td>33</td>\n",
              "      <td>9</td>\n",
              "    </tr>\n",
              "    <tr>\n",
              "      <th>2</th>\n",
              "      <td>04-21-1991</td>\n",
              "      <td>9:09</td>\n",
              "      <td>34</td>\n",
              "      <td>13</td>\n",
              "    </tr>\n",
              "    <tr>\n",
              "      <th>3</th>\n",
              "      <td>04-21-1991</td>\n",
              "      <td>17:08</td>\n",
              "      <td>62</td>\n",
              "      <td>119</td>\n",
              "    </tr>\n",
              "    <tr>\n",
              "      <th>4</th>\n",
              "      <td>04-21-1991</td>\n",
              "      <td>17:08</td>\n",
              "      <td>33</td>\n",
              "      <td>7</td>\n",
              "    </tr>\n",
              "    <tr>\n",
              "      <th>...</th>\n",
              "      <td>...</td>\n",
              "      <td>...</td>\n",
              "      <td>...</td>\n",
              "      <td>...</td>\n",
              "    </tr>\n",
              "    <tr>\n",
              "      <th>938</th>\n",
              "      <td>09-02-1991</td>\n",
              "      <td>17:30</td>\n",
              "      <td>33</td>\n",
              "      <td>7</td>\n",
              "    </tr>\n",
              "    <tr>\n",
              "      <th>939</th>\n",
              "      <td>09-02-1991</td>\n",
              "      <td>23:00</td>\n",
              "      <td>48</td>\n",
              "      <td>155</td>\n",
              "    </tr>\n",
              "    <tr>\n",
              "      <th>940</th>\n",
              "      <td>09-03-1991</td>\n",
              "      <td>7:20</td>\n",
              "      <td>58</td>\n",
              "      <td>110</td>\n",
              "    </tr>\n",
              "    <tr>\n",
              "      <th>941</th>\n",
              "      <td>09-03-1991</td>\n",
              "      <td>7:20</td>\n",
              "      <td>33</td>\n",
              "      <td>9</td>\n",
              "    </tr>\n",
              "    <tr>\n",
              "      <th>942</th>\n",
              "      <td>09-03-1991</td>\n",
              "      <td>7:20</td>\n",
              "      <td>34</td>\n",
              "      <td>16</td>\n",
              "    </tr>\n",
              "  </tbody>\n",
              "</table>\n",
              "<p>943 rows × 4 columns</p>\n",
              "</div>"
            ],
            "text/plain": [
              "           Date   Time  Code  Value\n",
              "0    04-21-1991   9:09    58    100\n",
              "1    04-21-1991   9:09    33      9\n",
              "2    04-21-1991   9:09    34     13\n",
              "3    04-21-1991  17:08    62    119\n",
              "4    04-21-1991  17:08    33      7\n",
              "..          ...    ...   ...    ...\n",
              "938  09-02-1991  17:30    33      7\n",
              "939  09-02-1991  23:00    48    155\n",
              "940  09-03-1991   7:20    58    110\n",
              "941  09-03-1991   7:20    33      9\n",
              "942  09-03-1991   7:20    34     16\n",
              "\n",
              "[943 rows x 4 columns]"
            ]
          },
          "metadata": {
            "tags": []
          },
          "execution_count": 28
        }
      ]
    },
    {
      "cell_type": "code",
      "metadata": {
        "colab": {
          "base_uri": "https://localhost:8080/",
          "height": 198
        },
        "id": "II9Ck9O403I7",
        "outputId": "c3f80d52-2ce5-417b-b823-11063cd70a03"
      },
      "source": [
        "#Liệt kê một số dòng dữ liệu ban đầu \r\n",
        "dataframe.head(5)"
      ],
      "execution_count": 29,
      "outputs": [
        {
          "output_type": "execute_result",
          "data": {
            "text/html": [
              "<div>\n",
              "<style scoped>\n",
              "    .dataframe tbody tr th:only-of-type {\n",
              "        vertical-align: middle;\n",
              "    }\n",
              "\n",
              "    .dataframe tbody tr th {\n",
              "        vertical-align: top;\n",
              "    }\n",
              "\n",
              "    .dataframe thead th {\n",
              "        text-align: right;\n",
              "    }\n",
              "</style>\n",
              "<table border=\"1\" class=\"dataframe\">\n",
              "  <thead>\n",
              "    <tr style=\"text-align: right;\">\n",
              "      <th></th>\n",
              "      <th>Date</th>\n",
              "      <th>Time</th>\n",
              "      <th>Code</th>\n",
              "      <th>Value</th>\n",
              "    </tr>\n",
              "  </thead>\n",
              "  <tbody>\n",
              "    <tr>\n",
              "      <th>0</th>\n",
              "      <td>04-21-1991</td>\n",
              "      <td>9:09</td>\n",
              "      <td>58</td>\n",
              "      <td>100</td>\n",
              "    </tr>\n",
              "    <tr>\n",
              "      <th>1</th>\n",
              "      <td>04-21-1991</td>\n",
              "      <td>9:09</td>\n",
              "      <td>33</td>\n",
              "      <td>9</td>\n",
              "    </tr>\n",
              "    <tr>\n",
              "      <th>2</th>\n",
              "      <td>04-21-1991</td>\n",
              "      <td>9:09</td>\n",
              "      <td>34</td>\n",
              "      <td>13</td>\n",
              "    </tr>\n",
              "    <tr>\n",
              "      <th>3</th>\n",
              "      <td>04-21-1991</td>\n",
              "      <td>17:08</td>\n",
              "      <td>62</td>\n",
              "      <td>119</td>\n",
              "    </tr>\n",
              "    <tr>\n",
              "      <th>4</th>\n",
              "      <td>04-21-1991</td>\n",
              "      <td>17:08</td>\n",
              "      <td>33</td>\n",
              "      <td>7</td>\n",
              "    </tr>\n",
              "  </tbody>\n",
              "</table>\n",
              "</div>"
            ],
            "text/plain": [
              "         Date   Time  Code  Value\n",
              "0  04-21-1991   9:09    58    100\n",
              "1  04-21-1991   9:09    33      9\n",
              "2  04-21-1991   9:09    34     13\n",
              "3  04-21-1991  17:08    62    119\n",
              "4  04-21-1991  17:08    33      7"
            ]
          },
          "metadata": {
            "tags": []
          },
          "execution_count": 29
        }
      ]
    },
    {
      "cell_type": "code",
      "metadata": {
        "id": "dGeEpyGj7d2r"
      },
      "source": [
        "#tên các attributes\r\n",
        "Column 1: Date in MM-DD-YYYY format\r\n",
        "Column 2: Time in XX:YY format\r\n",
        "Column 3: Code\r\n",
        "Colun 4: Value\r\n",
        "\r\n",
        "'The Code field is deciphered as follows:\r\n",
        "\r\n",
        "33 = Regular insulin dose\r\n",
        "34 = NPH insulin dose\r\n",
        "35 = UltraLente insulin dose\r\n",
        "48 = Unspecified blood glucose measurement\r\n",
        "57 = Unspecified blood glucose measurement\r\n",
        "58 = Pre-breakfast blood glucose measurement\r\n",
        "59 = Post-breakfast blood glucose measurement\r\n",
        "60 = Pre-lunch blood glucose measurement\r\n",
        "61 = Post-lunch blood glucose measurement\r\n",
        "62 = Pre-supper blood glucose measurement\r\n",
        "63 = Post-supper blood glucose measurement\r\n",
        "64 = Pre-snack blood glucose measurement\r\n",
        "65 = Hypoglycemic symptoms\r\n",
        "66 = Typical meal ingestion\r\n",
        "67 = More-than-usual meal ingestion\r\n",
        "68 = Less-than-usual meal ingestion\r\n",
        "69 = Typical exercise activity\r\n",
        "70 = More-than-usual exercise activity\r\n",
        "71 = Less-than-usual exercise activity\r\n",
        "72 = Unspecified special event"
      ],
      "execution_count": null,
      "outputs": []
    },
    {
      "cell_type": "code",
      "metadata": {
        "colab": {
          "base_uri": "https://localhost:8080/"
        },
        "id": "S2q0TAk78Ac5",
        "outputId": "9c6e86c5-ef2f-4fc1-c30a-479fa279fa9c"
      },
      "source": [
        "# kiểu dữ liệu\r\n",
        "dataframe.info()"
      ],
      "execution_count": 30,
      "outputs": [
        {
          "output_type": "stream",
          "text": [
            "<class 'pandas.core.frame.DataFrame'>\n",
            "RangeIndex: 943 entries, 0 to 942\n",
            "Data columns (total 4 columns):\n",
            " #   Column  Non-Null Count  Dtype \n",
            "---  ------  --------------  ----- \n",
            " 0   Date    943 non-null    object\n",
            " 1   Time    943 non-null    object\n",
            " 2   Code    943 non-null    int64 \n",
            " 3   Value   943 non-null    int64 \n",
            "dtypes: int64(2), object(2)\n",
            "memory usage: 29.6+ KB\n"
          ],
          "name": "stdout"
        }
      ]
    },
    {
      "cell_type": "code",
      "metadata": {
        "colab": {
          "base_uri": "https://localhost:8080/"
        },
        "id": "zE5sOfHj8PvW",
        "outputId": "9e40124e-bc38-40e0-d259-d0baded4cef3"
      },
      "source": [
        "# số lượng cột (attribute)\r\n",
        "print(\"Số cột =\",len(dataframe.iloc[0]))"
      ],
      "execution_count": 31,
      "outputs": [
        {
          "output_type": "stream",
          "text": [
            "Số cột = 4\n"
          ],
          "name": "stdout"
        }
      ]
    },
    {
      "cell_type": "code",
      "metadata": {
        "colab": {
          "base_uri": "https://localhost:8080/"
        },
        "id": "QBJS_vJ39Ogm",
        "outputId": "0d807867-4a0d-4520-db9e-b716f7b3adf5"
      },
      "source": [
        "#số lượng dòng (instance)\r\n",
        "print(\"Số dòng =\",len(dataframe)) "
      ],
      "execution_count": 32,
      "outputs": [
        {
          "output_type": "stream",
          "text": [
            "Số dòng = 943\n"
          ],
          "name": "stdout"
        }
      ]
    },
    {
      "cell_type": "code",
      "metadata": {
        "colab": {
          "base_uri": "https://localhost:8080/",
          "height": 407
        },
        "id": "Orjvo4Fw9VJf",
        "outputId": "eebc975e-0a5a-4083-db8c-88dd34f8ea6d"
      },
      "source": [
        "#lấy tất cả các cột dữ liệu có kiểu số (ko phải kiểu categorial)\r\n",
        "g = dataframe.columns.to_series().groupby(dataframe.dtypes).groups\r\n",
        "g\r\n",
        "dataframe.select_dtypes(include='int64')"
      ],
      "execution_count": 33,
      "outputs": [
        {
          "output_type": "execute_result",
          "data": {
            "text/html": [
              "<div>\n",
              "<style scoped>\n",
              "    .dataframe tbody tr th:only-of-type {\n",
              "        vertical-align: middle;\n",
              "    }\n",
              "\n",
              "    .dataframe tbody tr th {\n",
              "        vertical-align: top;\n",
              "    }\n",
              "\n",
              "    .dataframe thead th {\n",
              "        text-align: right;\n",
              "    }\n",
              "</style>\n",
              "<table border=\"1\" class=\"dataframe\">\n",
              "  <thead>\n",
              "    <tr style=\"text-align: right;\">\n",
              "      <th></th>\n",
              "      <th>Code</th>\n",
              "      <th>Value</th>\n",
              "    </tr>\n",
              "  </thead>\n",
              "  <tbody>\n",
              "    <tr>\n",
              "      <th>0</th>\n",
              "      <td>58</td>\n",
              "      <td>100</td>\n",
              "    </tr>\n",
              "    <tr>\n",
              "      <th>1</th>\n",
              "      <td>33</td>\n",
              "      <td>9</td>\n",
              "    </tr>\n",
              "    <tr>\n",
              "      <th>2</th>\n",
              "      <td>34</td>\n",
              "      <td>13</td>\n",
              "    </tr>\n",
              "    <tr>\n",
              "      <th>3</th>\n",
              "      <td>62</td>\n",
              "      <td>119</td>\n",
              "    </tr>\n",
              "    <tr>\n",
              "      <th>4</th>\n",
              "      <td>33</td>\n",
              "      <td>7</td>\n",
              "    </tr>\n",
              "    <tr>\n",
              "      <th>...</th>\n",
              "      <td>...</td>\n",
              "      <td>...</td>\n",
              "    </tr>\n",
              "    <tr>\n",
              "      <th>938</th>\n",
              "      <td>33</td>\n",
              "      <td>7</td>\n",
              "    </tr>\n",
              "    <tr>\n",
              "      <th>939</th>\n",
              "      <td>48</td>\n",
              "      <td>155</td>\n",
              "    </tr>\n",
              "    <tr>\n",
              "      <th>940</th>\n",
              "      <td>58</td>\n",
              "      <td>110</td>\n",
              "    </tr>\n",
              "    <tr>\n",
              "      <th>941</th>\n",
              "      <td>33</td>\n",
              "      <td>9</td>\n",
              "    </tr>\n",
              "    <tr>\n",
              "      <th>942</th>\n",
              "      <td>34</td>\n",
              "      <td>16</td>\n",
              "    </tr>\n",
              "  </tbody>\n",
              "</table>\n",
              "<p>943 rows × 2 columns</p>\n",
              "</div>"
            ],
            "text/plain": [
              "     Code  Value\n",
              "0      58    100\n",
              "1      33      9\n",
              "2      34     13\n",
              "3      62    119\n",
              "4      33      7\n",
              "..    ...    ...\n",
              "938    33      7\n",
              "939    48    155\n",
              "940    58    110\n",
              "941    33      9\n",
              "942    34     16\n",
              "\n",
              "[943 rows x 2 columns]"
            ]
          },
          "metadata": {
            "tags": []
          },
          "execution_count": 33
        }
      ]
    },
    {
      "cell_type": "code",
      "metadata": {
        "colab": {
          "base_uri": "https://localhost:8080/",
          "height": 228
        },
        "id": "rHTfOCDwAyFC",
        "outputId": "5e21d6c9-571f-4bdb-80c9-27cddefe5324"
      },
      "source": [
        "# Lấy các dòng dữ liệu từ dòng thứ m tới dòng thứ n \r\n",
        "m=45\r\n",
        "n=51\r\n",
        "dataframe.iloc[45:51]"
      ],
      "execution_count": 35,
      "outputs": [
        {
          "output_type": "execute_result",
          "data": {
            "text/html": [
              "<div>\n",
              "<style scoped>\n",
              "    .dataframe tbody tr th:only-of-type {\n",
              "        vertical-align: middle;\n",
              "    }\n",
              "\n",
              "    .dataframe tbody tr th {\n",
              "        vertical-align: top;\n",
              "    }\n",
              "\n",
              "    .dataframe thead th {\n",
              "        text-align: right;\n",
              "    }\n",
              "</style>\n",
              "<table border=\"1\" class=\"dataframe\">\n",
              "  <thead>\n",
              "    <tr style=\"text-align: right;\">\n",
              "      <th></th>\n",
              "      <th>Date</th>\n",
              "      <th>Time</th>\n",
              "      <th>Code</th>\n",
              "      <th>Value</th>\n",
              "    </tr>\n",
              "  </thead>\n",
              "  <tbody>\n",
              "    <tr>\n",
              "      <th>45</th>\n",
              "      <td>04-28-1991</td>\n",
              "      <td>8:42</td>\n",
              "      <td>34</td>\n",
              "      <td>14</td>\n",
              "    </tr>\n",
              "    <tr>\n",
              "      <th>46</th>\n",
              "      <td>04-28-1991</td>\n",
              "      <td>17:06</td>\n",
              "      <td>62</td>\n",
              "      <td>96</td>\n",
              "    </tr>\n",
              "    <tr>\n",
              "      <th>47</th>\n",
              "      <td>04-28-1991</td>\n",
              "      <td>17:06</td>\n",
              "      <td>33</td>\n",
              "      <td>7</td>\n",
              "    </tr>\n",
              "    <tr>\n",
              "      <th>48</th>\n",
              "      <td>04-28-1991</td>\n",
              "      <td>22:30</td>\n",
              "      <td>48</td>\n",
              "      <td>200</td>\n",
              "    </tr>\n",
              "    <tr>\n",
              "      <th>49</th>\n",
              "      <td>04-29-1991</td>\n",
              "      <td>7:39</td>\n",
              "      <td>58</td>\n",
              "      <td>128</td>\n",
              "    </tr>\n",
              "    <tr>\n",
              "      <th>50</th>\n",
              "      <td>04-29-1991</td>\n",
              "      <td>7:39</td>\n",
              "      <td>33</td>\n",
              "      <td>9</td>\n",
              "    </tr>\n",
              "  </tbody>\n",
              "</table>\n",
              "</div>"
            ],
            "text/plain": [
              "          Date   Time  Code  Value\n",
              "45  04-28-1991   8:42    34     14\n",
              "46  04-28-1991  17:06    62     96\n",
              "47  04-28-1991  17:06    33      7\n",
              "48  04-28-1991  22:30    48    200\n",
              "49  04-29-1991   7:39    58    128\n",
              "50  04-29-1991   7:39    33      9"
            ]
          },
          "metadata": {
            "tags": []
          },
          "execution_count": 35
        }
      ]
    },
    {
      "cell_type": "code",
      "metadata": {
        "colab": {
          "base_uri": "https://localhost:8080/",
          "height": 348
        },
        "id": "t5kotXrsCoMM",
        "outputId": "36cc697c-be25-4593-d992-abed5748de70"
      },
      "source": [
        "# lọc các dòng dữ liệu và các cột dữ liệu theo tiêu chí tự đặt ra \r\n",
        "dataframe[['Code']].head(10)\r\n",
        "dataframe[dataframe['Code'] > 40].head(10)"
      ],
      "execution_count": 37,
      "outputs": [
        {
          "output_type": "execute_result",
          "data": {
            "text/html": [
              "<div>\n",
              "<style scoped>\n",
              "    .dataframe tbody tr th:only-of-type {\n",
              "        vertical-align: middle;\n",
              "    }\n",
              "\n",
              "    .dataframe tbody tr th {\n",
              "        vertical-align: top;\n",
              "    }\n",
              "\n",
              "    .dataframe thead th {\n",
              "        text-align: right;\n",
              "    }\n",
              "</style>\n",
              "<table border=\"1\" class=\"dataframe\">\n",
              "  <thead>\n",
              "    <tr style=\"text-align: right;\">\n",
              "      <th></th>\n",
              "      <th>Date</th>\n",
              "      <th>Time</th>\n",
              "      <th>Code</th>\n",
              "      <th>Value</th>\n",
              "    </tr>\n",
              "  </thead>\n",
              "  <tbody>\n",
              "    <tr>\n",
              "      <th>0</th>\n",
              "      <td>04-21-1991</td>\n",
              "      <td>9:09</td>\n",
              "      <td>58</td>\n",
              "      <td>100</td>\n",
              "    </tr>\n",
              "    <tr>\n",
              "      <th>3</th>\n",
              "      <td>04-21-1991</td>\n",
              "      <td>17:08</td>\n",
              "      <td>62</td>\n",
              "      <td>119</td>\n",
              "    </tr>\n",
              "    <tr>\n",
              "      <th>5</th>\n",
              "      <td>04-21-1991</td>\n",
              "      <td>22:51</td>\n",
              "      <td>48</td>\n",
              "      <td>123</td>\n",
              "    </tr>\n",
              "    <tr>\n",
              "      <th>6</th>\n",
              "      <td>04-22-1991</td>\n",
              "      <td>7:35</td>\n",
              "      <td>58</td>\n",
              "      <td>216</td>\n",
              "    </tr>\n",
              "    <tr>\n",
              "      <th>10</th>\n",
              "      <td>04-22-1991</td>\n",
              "      <td>16:56</td>\n",
              "      <td>62</td>\n",
              "      <td>211</td>\n",
              "    </tr>\n",
              "    <tr>\n",
              "      <th>12</th>\n",
              "      <td>04-23-1991</td>\n",
              "      <td>7:25</td>\n",
              "      <td>58</td>\n",
              "      <td>257</td>\n",
              "    </tr>\n",
              "    <tr>\n",
              "      <th>15</th>\n",
              "      <td>04-23-1991</td>\n",
              "      <td>17:25</td>\n",
              "      <td>62</td>\n",
              "      <td>129</td>\n",
              "    </tr>\n",
              "    <tr>\n",
              "      <th>17</th>\n",
              "      <td>04-24-1991</td>\n",
              "      <td>7:52</td>\n",
              "      <td>58</td>\n",
              "      <td>239</td>\n",
              "    </tr>\n",
              "    <tr>\n",
              "      <th>21</th>\n",
              "      <td>04-24-1991</td>\n",
              "      <td>17:10</td>\n",
              "      <td>62</td>\n",
              "      <td>129</td>\n",
              "    </tr>\n",
              "    <tr>\n",
              "      <th>22</th>\n",
              "      <td>04-24-1991</td>\n",
              "      <td>22:09</td>\n",
              "      <td>48</td>\n",
              "      <td>340</td>\n",
              "    </tr>\n",
              "  </tbody>\n",
              "</table>\n",
              "</div>"
            ],
            "text/plain": [
              "          Date   Time  Code  Value\n",
              "0   04-21-1991   9:09    58    100\n",
              "3   04-21-1991  17:08    62    119\n",
              "5   04-21-1991  22:51    48    123\n",
              "6   04-22-1991   7:35    58    216\n",
              "10  04-22-1991  16:56    62    211\n",
              "12  04-23-1991   7:25    58    257\n",
              "15  04-23-1991  17:25    62    129\n",
              "17  04-24-1991   7:52    58    239\n",
              "21  04-24-1991  17:10    62    129\n",
              "22  04-24-1991  22:09    48    340"
            ]
          },
          "metadata": {
            "tags": []
          },
          "execution_count": 37
        }
      ]
    },
    {
      "cell_type": "code",
      "metadata": {
        "colab": {
          "base_uri": "https://localhost:8080/"
        },
        "id": "UqUxK_y6EsSQ",
        "outputId": "59a9af38-bbe0-420f-b3fa-0879fef850bb"
      },
      "source": [
        "#Tìm hiểu xem có giá trị dữ liệu nào bị NAN (null) hay không:\r\n",
        "count_nan_date = dataframe['Date'].isnull().sum()\r\n",
        "print ('Count of NaN Date: ' + str(count_nan_date))\r\n",
        "\r\n",
        "count_nan_time = dataframe['Time'].isnull().sum()\r\n",
        "print ('Count of NaN Time: ' + str(count_nan_time))\r\n",
        "\r\n",
        "count_nan_code = dataframe['Code'].isnull().sum()\r\n",
        "print ('Count of NaN Code: ' + str(count_nan_code))\r\n",
        "\r\n",
        "count_nan_value = dataframe['Value'].isnull().sum()\r\n",
        "print ('Count of NaN Value: ' + str(count_nan_value))\r\n",
        "\r\n",
        "count_nan_checkNaN = dataframe['CheckNaN'].isnull().sum()\r\n",
        "print ('Count of NaN CheckNaN: ' + str(count_nan_checkNaN))\r\n"
      ],
      "execution_count": 50,
      "outputs": [
        {
          "output_type": "stream",
          "text": [
            "Count of NaN Date: 0\n",
            "Count of NaN Time: 0\n",
            "Count of NaN Code: 0\n",
            "Count of NaN Value: 0\n",
            "Count of NaN CheckNaN: 308\n"
          ],
          "name": "stdout"
        }
      ]
    },
    {
      "cell_type": "code",
      "metadata": {
        "colab": {
          "base_uri": "https://localhost:8080/",
          "height": 348
        },
        "id": "eXBzAycsJNMW",
        "outputId": "a72e9f7d-902f-43e0-c353-2a07587657a5"
      },
      "source": [
        "import random\r\n",
        "#bỏ tất cả các cột có giá trị NAN\r\n",
        "\r\n",
        "#Tạo list có độ dài tương đương với số dòng của DataFrame\r\n",
        "checkNaN= [random.choice([np.nan,True, False]) for i in range(len(dataframe))]\r\n",
        "\r\n",
        "#Thêm cột isSale vào DataFrame\r\n",
        "dataframe['CheckNaN'] = checkNaN\r\n",
        "dataframe.head(10)"
      ],
      "execution_count": 52,
      "outputs": [
        {
          "output_type": "execute_result",
          "data": {
            "text/html": [
              "<div>\n",
              "<style scoped>\n",
              "    .dataframe tbody tr th:only-of-type {\n",
              "        vertical-align: middle;\n",
              "    }\n",
              "\n",
              "    .dataframe tbody tr th {\n",
              "        vertical-align: top;\n",
              "    }\n",
              "\n",
              "    .dataframe thead th {\n",
              "        text-align: right;\n",
              "    }\n",
              "</style>\n",
              "<table border=\"1\" class=\"dataframe\">\n",
              "  <thead>\n",
              "    <tr style=\"text-align: right;\">\n",
              "      <th></th>\n",
              "      <th>Date</th>\n",
              "      <th>Time</th>\n",
              "      <th>Code</th>\n",
              "      <th>Value</th>\n",
              "      <th>CheckNaN</th>\n",
              "    </tr>\n",
              "  </thead>\n",
              "  <tbody>\n",
              "    <tr>\n",
              "      <th>0</th>\n",
              "      <td>04-21-1991</td>\n",
              "      <td>9:09</td>\n",
              "      <td>58</td>\n",
              "      <td>100</td>\n",
              "      <td>NaN</td>\n",
              "    </tr>\n",
              "    <tr>\n",
              "      <th>1</th>\n",
              "      <td>04-21-1991</td>\n",
              "      <td>9:09</td>\n",
              "      <td>33</td>\n",
              "      <td>9</td>\n",
              "      <td>NaN</td>\n",
              "    </tr>\n",
              "    <tr>\n",
              "      <th>2</th>\n",
              "      <td>04-21-1991</td>\n",
              "      <td>9:09</td>\n",
              "      <td>34</td>\n",
              "      <td>13</td>\n",
              "      <td>False</td>\n",
              "    </tr>\n",
              "    <tr>\n",
              "      <th>3</th>\n",
              "      <td>04-21-1991</td>\n",
              "      <td>17:08</td>\n",
              "      <td>62</td>\n",
              "      <td>119</td>\n",
              "      <td>False</td>\n",
              "    </tr>\n",
              "    <tr>\n",
              "      <th>4</th>\n",
              "      <td>04-21-1991</td>\n",
              "      <td>17:08</td>\n",
              "      <td>33</td>\n",
              "      <td>7</td>\n",
              "      <td>NaN</td>\n",
              "    </tr>\n",
              "    <tr>\n",
              "      <th>5</th>\n",
              "      <td>04-21-1991</td>\n",
              "      <td>22:51</td>\n",
              "      <td>48</td>\n",
              "      <td>123</td>\n",
              "      <td>NaN</td>\n",
              "    </tr>\n",
              "    <tr>\n",
              "      <th>6</th>\n",
              "      <td>04-22-1991</td>\n",
              "      <td>7:35</td>\n",
              "      <td>58</td>\n",
              "      <td>216</td>\n",
              "      <td>NaN</td>\n",
              "    </tr>\n",
              "    <tr>\n",
              "      <th>7</th>\n",
              "      <td>04-22-1991</td>\n",
              "      <td>7:35</td>\n",
              "      <td>33</td>\n",
              "      <td>10</td>\n",
              "      <td>False</td>\n",
              "    </tr>\n",
              "    <tr>\n",
              "      <th>8</th>\n",
              "      <td>04-22-1991</td>\n",
              "      <td>7:35</td>\n",
              "      <td>34</td>\n",
              "      <td>13</td>\n",
              "      <td>False</td>\n",
              "    </tr>\n",
              "    <tr>\n",
              "      <th>9</th>\n",
              "      <td>04-22-1991</td>\n",
              "      <td>13:40</td>\n",
              "      <td>33</td>\n",
              "      <td>2</td>\n",
              "      <td>True</td>\n",
              "    </tr>\n",
              "  </tbody>\n",
              "</table>\n",
              "</div>"
            ],
            "text/plain": [
              "         Date   Time  Code  Value CheckNaN\n",
              "0  04-21-1991   9:09    58    100      NaN\n",
              "1  04-21-1991   9:09    33      9      NaN\n",
              "2  04-21-1991   9:09    34     13    False\n",
              "3  04-21-1991  17:08    62    119    False\n",
              "4  04-21-1991  17:08    33      7      NaN\n",
              "5  04-21-1991  22:51    48    123      NaN\n",
              "6  04-22-1991   7:35    58    216      NaN\n",
              "7  04-22-1991   7:35    33     10    False\n",
              "8  04-22-1991   7:35    34     13    False\n",
              "9  04-22-1991  13:40    33      2     True"
            ]
          },
          "metadata": {
            "tags": []
          },
          "execution_count": 52
        }
      ]
    },
    {
      "cell_type": "code",
      "metadata": {
        "colab": {
          "base_uri": "https://localhost:8080/",
          "height": 407
        },
        "id": "wy6c3TqNGv4o",
        "outputId": "64072373-d029-4a0c-ca6d-809210a8f8d5"
      },
      "source": [
        "\r\n",
        "\r\n",
        "dataframe1 = dataframe.dropna(axis=1) \r\n",
        "  \r\n",
        "dataframe1\r\n"
      ],
      "execution_count": 53,
      "outputs": [
        {
          "output_type": "execute_result",
          "data": {
            "text/html": [
              "<div>\n",
              "<style scoped>\n",
              "    .dataframe tbody tr th:only-of-type {\n",
              "        vertical-align: middle;\n",
              "    }\n",
              "\n",
              "    .dataframe tbody tr th {\n",
              "        vertical-align: top;\n",
              "    }\n",
              "\n",
              "    .dataframe thead th {\n",
              "        text-align: right;\n",
              "    }\n",
              "</style>\n",
              "<table border=\"1\" class=\"dataframe\">\n",
              "  <thead>\n",
              "    <tr style=\"text-align: right;\">\n",
              "      <th></th>\n",
              "      <th>Date</th>\n",
              "      <th>Time</th>\n",
              "      <th>Code</th>\n",
              "      <th>Value</th>\n",
              "    </tr>\n",
              "  </thead>\n",
              "  <tbody>\n",
              "    <tr>\n",
              "      <th>0</th>\n",
              "      <td>04-21-1991</td>\n",
              "      <td>9:09</td>\n",
              "      <td>58</td>\n",
              "      <td>100</td>\n",
              "    </tr>\n",
              "    <tr>\n",
              "      <th>1</th>\n",
              "      <td>04-21-1991</td>\n",
              "      <td>9:09</td>\n",
              "      <td>33</td>\n",
              "      <td>9</td>\n",
              "    </tr>\n",
              "    <tr>\n",
              "      <th>2</th>\n",
              "      <td>04-21-1991</td>\n",
              "      <td>9:09</td>\n",
              "      <td>34</td>\n",
              "      <td>13</td>\n",
              "    </tr>\n",
              "    <tr>\n",
              "      <th>3</th>\n",
              "      <td>04-21-1991</td>\n",
              "      <td>17:08</td>\n",
              "      <td>62</td>\n",
              "      <td>119</td>\n",
              "    </tr>\n",
              "    <tr>\n",
              "      <th>4</th>\n",
              "      <td>04-21-1991</td>\n",
              "      <td>17:08</td>\n",
              "      <td>33</td>\n",
              "      <td>7</td>\n",
              "    </tr>\n",
              "    <tr>\n",
              "      <th>...</th>\n",
              "      <td>...</td>\n",
              "      <td>...</td>\n",
              "      <td>...</td>\n",
              "      <td>...</td>\n",
              "    </tr>\n",
              "    <tr>\n",
              "      <th>938</th>\n",
              "      <td>09-02-1991</td>\n",
              "      <td>17:30</td>\n",
              "      <td>33</td>\n",
              "      <td>7</td>\n",
              "    </tr>\n",
              "    <tr>\n",
              "      <th>939</th>\n",
              "      <td>09-02-1991</td>\n",
              "      <td>23:00</td>\n",
              "      <td>48</td>\n",
              "      <td>155</td>\n",
              "    </tr>\n",
              "    <tr>\n",
              "      <th>940</th>\n",
              "      <td>09-03-1991</td>\n",
              "      <td>7:20</td>\n",
              "      <td>58</td>\n",
              "      <td>110</td>\n",
              "    </tr>\n",
              "    <tr>\n",
              "      <th>941</th>\n",
              "      <td>09-03-1991</td>\n",
              "      <td>7:20</td>\n",
              "      <td>33</td>\n",
              "      <td>9</td>\n",
              "    </tr>\n",
              "    <tr>\n",
              "      <th>942</th>\n",
              "      <td>09-03-1991</td>\n",
              "      <td>7:20</td>\n",
              "      <td>34</td>\n",
              "      <td>16</td>\n",
              "    </tr>\n",
              "  </tbody>\n",
              "</table>\n",
              "<p>943 rows × 4 columns</p>\n",
              "</div>"
            ],
            "text/plain": [
              "           Date   Time  Code  Value\n",
              "0    04-21-1991   9:09    58    100\n",
              "1    04-21-1991   9:09    33      9\n",
              "2    04-21-1991   9:09    34     13\n",
              "3    04-21-1991  17:08    62    119\n",
              "4    04-21-1991  17:08    33      7\n",
              "..          ...    ...   ...    ...\n",
              "938  09-02-1991  17:30    33      7\n",
              "939  09-02-1991  23:00    48    155\n",
              "940  09-03-1991   7:20    58    110\n",
              "941  09-03-1991   7:20    33      9\n",
              "942  09-03-1991   7:20    34     16\n",
              "\n",
              "[943 rows x 4 columns]"
            ]
          },
          "metadata": {
            "tags": []
          },
          "execution_count": 53
        }
      ]
    },
    {
      "cell_type": "code",
      "metadata": {
        "colab": {
          "base_uri": "https://localhost:8080/",
          "height": 407
        },
        "id": "mrwaML3VJcqR",
        "outputId": "2ff4209c-add8-411b-81cd-56c8977178fa"
      },
      "source": [
        "#bỏ tất cả các dòng có giá trị NAN\r\n",
        "\r\n",
        "dataframe2 = dataframe[dataframe['CheckNaN'].notna()]\r\n",
        "dataframe2"
      ],
      "execution_count": 55,
      "outputs": [
        {
          "output_type": "execute_result",
          "data": {
            "text/html": [
              "<div>\n",
              "<style scoped>\n",
              "    .dataframe tbody tr th:only-of-type {\n",
              "        vertical-align: middle;\n",
              "    }\n",
              "\n",
              "    .dataframe tbody tr th {\n",
              "        vertical-align: top;\n",
              "    }\n",
              "\n",
              "    .dataframe thead th {\n",
              "        text-align: right;\n",
              "    }\n",
              "</style>\n",
              "<table border=\"1\" class=\"dataframe\">\n",
              "  <thead>\n",
              "    <tr style=\"text-align: right;\">\n",
              "      <th></th>\n",
              "      <th>Date</th>\n",
              "      <th>Time</th>\n",
              "      <th>Code</th>\n",
              "      <th>Value</th>\n",
              "      <th>CheckNaN</th>\n",
              "    </tr>\n",
              "  </thead>\n",
              "  <tbody>\n",
              "    <tr>\n",
              "      <th>2</th>\n",
              "      <td>04-21-1991</td>\n",
              "      <td>9:09</td>\n",
              "      <td>34</td>\n",
              "      <td>13</td>\n",
              "      <td>False</td>\n",
              "    </tr>\n",
              "    <tr>\n",
              "      <th>3</th>\n",
              "      <td>04-21-1991</td>\n",
              "      <td>17:08</td>\n",
              "      <td>62</td>\n",
              "      <td>119</td>\n",
              "      <td>False</td>\n",
              "    </tr>\n",
              "    <tr>\n",
              "      <th>7</th>\n",
              "      <td>04-22-1991</td>\n",
              "      <td>7:35</td>\n",
              "      <td>33</td>\n",
              "      <td>10</td>\n",
              "      <td>False</td>\n",
              "    </tr>\n",
              "    <tr>\n",
              "      <th>8</th>\n",
              "      <td>04-22-1991</td>\n",
              "      <td>7:35</td>\n",
              "      <td>34</td>\n",
              "      <td>13</td>\n",
              "      <td>False</td>\n",
              "    </tr>\n",
              "    <tr>\n",
              "      <th>9</th>\n",
              "      <td>04-22-1991</td>\n",
              "      <td>13:40</td>\n",
              "      <td>33</td>\n",
              "      <td>2</td>\n",
              "      <td>True</td>\n",
              "    </tr>\n",
              "    <tr>\n",
              "      <th>...</th>\n",
              "      <td>...</td>\n",
              "      <td>...</td>\n",
              "      <td>...</td>\n",
              "      <td>...</td>\n",
              "      <td>...</td>\n",
              "    </tr>\n",
              "    <tr>\n",
              "      <th>938</th>\n",
              "      <td>09-02-1991</td>\n",
              "      <td>17:30</td>\n",
              "      <td>33</td>\n",
              "      <td>7</td>\n",
              "      <td>True</td>\n",
              "    </tr>\n",
              "    <tr>\n",
              "      <th>939</th>\n",
              "      <td>09-02-1991</td>\n",
              "      <td>23:00</td>\n",
              "      <td>48</td>\n",
              "      <td>155</td>\n",
              "      <td>False</td>\n",
              "    </tr>\n",
              "    <tr>\n",
              "      <th>940</th>\n",
              "      <td>09-03-1991</td>\n",
              "      <td>7:20</td>\n",
              "      <td>58</td>\n",
              "      <td>110</td>\n",
              "      <td>True</td>\n",
              "    </tr>\n",
              "    <tr>\n",
              "      <th>941</th>\n",
              "      <td>09-03-1991</td>\n",
              "      <td>7:20</td>\n",
              "      <td>33</td>\n",
              "      <td>9</td>\n",
              "      <td>False</td>\n",
              "    </tr>\n",
              "    <tr>\n",
              "      <th>942</th>\n",
              "      <td>09-03-1991</td>\n",
              "      <td>7:20</td>\n",
              "      <td>34</td>\n",
              "      <td>16</td>\n",
              "      <td>True</td>\n",
              "    </tr>\n",
              "  </tbody>\n",
              "</table>\n",
              "<p>627 rows × 5 columns</p>\n",
              "</div>"
            ],
            "text/plain": [
              "           Date   Time  Code  Value CheckNaN\n",
              "2    04-21-1991   9:09    34     13    False\n",
              "3    04-21-1991  17:08    62    119    False\n",
              "7    04-22-1991   7:35    33     10    False\n",
              "8    04-22-1991   7:35    34     13    False\n",
              "9    04-22-1991  13:40    33      2     True\n",
              "..          ...    ...   ...    ...      ...\n",
              "938  09-02-1991  17:30    33      7     True\n",
              "939  09-02-1991  23:00    48    155    False\n",
              "940  09-03-1991   7:20    58    110     True\n",
              "941  09-03-1991   7:20    33      9    False\n",
              "942  09-03-1991   7:20    34     16     True\n",
              "\n",
              "[627 rows x 5 columns]"
            ]
          },
          "metadata": {
            "tags": []
          },
          "execution_count": 55
        }
      ]
    },
    {
      "cell_type": "code",
      "metadata": {
        "colab": {
          "base_uri": "https://localhost:8080/",
          "height": 288
        },
        "id": "TmzGOSjdJ0Lo",
        "outputId": "e499dfef-46a8-4c9b-ee02-bc264feb7f56"
      },
      "source": [
        "#một số cột dữ liệu theo tần suất của các giá trị của cột đó (đồ thị dạng bar)\r\n",
        "dataframe['Code'].value_counts().plot(kind='bar')"
      ],
      "execution_count": 56,
      "outputs": [
        {
          "output_type": "execute_result",
          "data": {
            "text/plain": [
              "<matplotlib.axes._subplots.AxesSubplot at 0x7f394e67cb38>"
            ]
          },
          "metadata": {
            "tags": []
          },
          "execution_count": 56
        },
        {
          "output_type": "display_data",
          "data": {
            "image/png": "[encoded data removed]",
            "text/plain": [
              "<Figure size 432x288 with 1 Axes>"
            ]
          },
          "metadata": {
            "tags": [],
            "needs_background": "light"
          }
        }
      ]
    },
    {
      "cell_type": "code",
      "metadata": {
        "colab": {
          "base_uri": "https://localhost:8080/",
          "height": 265
        },
        "id": "C2B9N_5TK1f2",
        "outputId": "f013e8db-b306-494f-ff80-545cb2a1b200"
      },
      "source": [
        "#một số cặp attribute theo dạng đồ thị scatter \r\n",
        "import matplotlib.pyplot as plt \r\n",
        "from pandas.plotting import scatter_matrix \r\n",
        "\r\n",
        "plt.scatter(dataframe['Code'], dataframe['Value'],  marker='o') \r\n",
        "plt.show() "
      ],
      "execution_count": 72,
      "outputs": [
        {
          "output_type": "display_data",
          "data": {
            "image/png": "[encoded data removed]",
            "text/plain": [
              "<Figure size 432x288 with 1 Axes>"
            ]
          },
          "metadata": {
            "tags": [],
            "needs_background": "light"
          }
        }
      ]
    },
    {
      "cell_type": "code",
      "metadata": {
        "colab": {
          "base_uri": "https://localhost:8080/"
        },
        "id": "1Pr0FLF4MTVn",
        "outputId": "7c6d245d-e336-4f6f-b5e1-29632a5e4f7a"
      },
      "source": [
        "#Đổi các giá trị dạng categorical/nomial sang dạng số (numerical)\r\n",
        "dataframe_gender = pd.get_dummies(dataframe['CheckNaN'])\r\n",
        "dataframe_new = pd.concat([dataframe, dataframe_gender], axis=1)\r\n",
        "print(dataframe_new)"
      ],
      "execution_count": 74,
      "outputs": [
        {
          "output_type": "stream",
          "text": [
            "           Date   Time  Code  Value CheckNaN  False  True\n",
            "0    04-21-1991   9:09    58    100      NaN      0     0\n",
            "1    04-21-1991   9:09    33      9      NaN      0     0\n",
            "2    04-21-1991   9:09    34     13    False      1     0\n",
            "3    04-21-1991  17:08    62    119    False      1     0\n",
            "4    04-21-1991  17:08    33      7      NaN      0     0\n",
            "..          ...    ...   ...    ...      ...    ...   ...\n",
            "938  09-02-1991  17:30    33      7     True      0     1\n",
            "939  09-02-1991  23:00    48    155    False      1     0\n",
            "940  09-03-1991   7:20    58    110     True      0     1\n",
            "941  09-03-1991   7:20    33      9    False      1     0\n",
            "942  09-03-1991   7:20    34     16     True      0     1\n",
            "\n",
            "[943 rows x 7 columns]\n"
          ],
          "name": "stdout"
        }
      ]
    },
    {
      "cell_type": "code",
      "metadata": {
        "colab": {
          "base_uri": "https://localhost:8080/"
        },
        "id": "aWoZPzuPLgVS",
        "outputId": "9d22a1b5-3348-4ff2-9f7d-bd98d6944600"
      },
      "source": [
        "#sử dụng pandas.Factorize\r\n",
        "\r\n",
        "dataframe_code_fac=pd.factorize(dataframe['Code'])\r\n",
        "print (dataframe_code_fac)"
      ],
      "execution_count": 79,
      "outputs": [
        {
          "output_type": "stream",
          "text": [
            "(array([0, 1, 2, 3, 1, 4, 0, 1, 2, 1, 3, 1, 0, 1, 2, 3, 1, 0, 1, 2, 1, 3,\n",
            "       4, 1, 0, 1, 2, 1, 3, 1, 4, 1, 0, 1, 2, 1, 3, 1, 0, 1, 2, 3, 1, 0,\n",
            "       1, 2, 3, 1, 4, 0, 1, 2, 5, 6, 1, 3, 1, 4, 0, 1, 2, 6, 1, 3, 1, 5,\n",
            "       4, 0, 1, 2, 5, 6, 1, 1, 2, 0, 1, 2, 1, 5, 3, 1, 5, 0, 1, 2, 6, 1,\n",
            "       3, 1, 4, 0, 1, 2, 1, 1, 4, 5, 0, 1, 2, 1, 5, 1, 4, 1, 0, 1, 2, 1,\n",
            "       3, 1, 0, 1, 2, 1, 1, 0, 1, 2, 1, 3, 1, 4, 0, 1, 2, 1, 1, 0, 1, 2,\n",
            "       1, 5, 3, 1, 4, 0, 1, 2, 1, 3, 1, 4, 0, 1, 2, 1, 3, 1, 0, 1, 2, 1,\n",
            "       3, 1, 4, 0, 1, 2, 1, 5, 3, 1, 4, 0, 1, 2, 1, 3, 1, 0, 1, 2, 3, 1,\n",
            "       4, 0, 1, 2, 1, 3, 1, 0, 1, 2, 1, 3, 1, 0, 1, 2, 1, 3, 1, 0, 1, 2,\n",
            "       1, 3, 1, 0, 1, 2, 6, 1, 1, 0, 1, 2, 1, 3, 1, 0, 1, 2, 6, 3, 1, 4,\n",
            "       0, 1, 2, 3, 1, 4, 0, 1, 2, 5, 3, 1, 4, 1, 0, 1, 2, 3, 1, 4, 1, 0,\n",
            "       1, 2, 6, 1, 1, 4, 0, 1, 2, 6, 1, 1, 2, 0, 1, 2, 6, 1, 3, 1, 5, 0,\n",
            "       1, 2, 6, 1, 1, 4, 0, 1, 2, 1, 5, 3, 1, 0, 1, 2, 6, 1, 3, 1, 4, 0,\n",
            "       1, 2, 5, 3, 1, 4, 0, 1, 2, 6, 1, 3, 1, 4, 0, 1, 2, 1, 0, 1, 2, 6,\n",
            "       1, 5, 3, 1, 4, 0, 1, 2, 6, 1, 3, 1, 4, 0, 1, 2, 6, 1, 3, 1, 5, 4,\n",
            "       0, 1, 2, 6, 3, 1, 4, 0, 1, 2, 6, 1, 3, 1, 4, 0, 1, 2, 6, 1, 3, 1,\n",
            "       4, 5, 0, 1, 2, 6, 1, 5, 3, 1, 4, 5, 0, 1, 2, 6, 1, 3, 1, 5, 4, 0,\n",
            "       1, 2, 6, 3, 1, 4, 4, 0, 1, 2, 6, 1, 3, 1, 4, 0, 1, 2, 6, 1, 3, 1,\n",
            "       4, 0, 1, 2, 6, 1, 4, 0, 1, 2, 6, 1, 1, 4, 0, 1, 2, 6, 1, 3, 1, 0,\n",
            "       1, 2, 5, 6, 1, 3, 0, 1, 2, 1, 3, 1, 5, 4, 0, 1, 2, 6, 1, 1, 4, 0,\n",
            "       1, 2, 6, 1, 3, 1, 4, 0, 1, 2, 6, 1, 3, 1, 4, 0, 1, 2, 1, 3, 1, 0,\n",
            "       1, 2, 6, 1, 5, 3, 1, 4, 0, 1, 2, 1, 5, 3, 1, 4, 5, 0, 1, 2, 1, 1,\n",
            "       4, 0, 1, 2, 6, 1, 1, 5, 4, 0, 1, 2, 6, 1, 3, 1, 0, 1, 2, 6, 1, 3,\n",
            "       1, 4, 1, 0, 1, 2, 6, 1, 3, 1, 4, 0, 1, 2, 6, 1, 5, 3, 1, 4, 0, 1,\n",
            "       2, 6, 1, 5, 3, 1, 5, 0, 1, 2, 6, 1, 1, 4, 1, 0, 1, 2, 1, 3, 1, 4,\n",
            "       1, 0, 1, 2, 1, 5, 3, 1, 0, 1, 2, 5, 6, 5, 3, 1, 4, 0, 1, 2, 5, 3,\n",
            "       1, 4, 0, 1, 2, 6, 1, 3, 1, 5, 4, 0, 1, 2, 6, 1, 3, 1, 4, 0, 1, 2,\n",
            "       6, 1, 1, 5, 0, 1, 2, 6, 3, 1, 4, 0, 1, 2, 6, 1, 1, 2, 0, 1, 2, 5,\n",
            "       3, 1, 0, 1, 2, 5, 1, 3, 1, 4, 0, 1, 2, 6, 1, 3, 1, 4, 0, 1, 2, 5,\n",
            "       6, 1, 3, 1, 0, 1, 2, 1, 5, 3, 1, 4, 0, 1, 2, 1, 3, 1, 0, 1, 2, 1,\n",
            "       3, 1, 4, 5, 0, 1, 2, 1, 3, 1, 0, 1, 2, 1, 3, 1, 0, 1, 2, 1, 3, 1,\n",
            "       0, 1, 2, 6, 1, 5, 3, 1, 0, 1, 2, 6, 1, 1, 4, 0, 1, 2, 1, 1, 0, 1,\n",
            "       2, 3, 1, 4, 0, 1, 2, 1, 3, 1, 0, 1, 2, 6, 1, 3, 1, 4, 0, 1, 2, 1,\n",
            "       3, 1, 4, 0, 1, 2, 6, 3, 1, 4, 0, 1, 2, 5, 1, 3, 1, 4, 0, 1, 2, 6,\n",
            "       1, 3, 1, 5, 4, 0, 2, 3, 1, 0, 1, 2, 1, 1, 0, 1, 2, 3, 1, 4, 5, 0,\n",
            "       1, 2, 1, 5, 3, 1, 0, 1, 2, 1, 5, 3, 1, 0, 1, 2, 1, 1, 0, 1, 2, 6,\n",
            "       1, 1, 0, 1, 2, 1, 5, 1, 0, 1, 2, 0, 1, 2, 1, 1, 0, 1, 2, 1, 3, 1,\n",
            "       0, 1, 2, 1, 1, 5, 5, 0, 1, 2, 1, 3, 1, 0, 1, 2, 5, 1, 1, 4, 1, 0,\n",
            "       1, 2, 1, 1, 2, 1, 3, 1, 4, 0, 1, 2, 1, 3, 1, 4, 0, 1, 2, 1, 3, 1,\n",
            "       0, 1, 2, 1, 1, 0, 1, 2, 1, 1, 5, 0, 1, 2, 1, 1, 0, 1, 2, 3, 1, 4,\n",
            "       0, 1, 2, 6, 1, 3, 1, 4, 1, 0, 1, 2, 1, 3, 1, 4, 0, 1, 2, 6, 3, 1,\n",
            "       0, 1, 2, 1, 1, 4, 0, 1, 2, 3, 1, 0, 1, 2, 1, 3, 1, 0, 1, 2, 3, 1,\n",
            "       4, 1, 0, 1, 2, 5, 3, 1, 4, 0, 1, 2, 1, 3, 1, 4, 0, 1, 2]), Int64Index([58, 33, 34, 62, 48, 65, 60], dtype='int64'))\n"
          ],
          "name": "stdout"
        }
      ]
    },
    {
      "cell_type": "code",
      "metadata": {
        "colab": {
          "base_uri": "https://localhost:8080/"
        },
        "id": "8AwGvhYiPqte",
        "outputId": "e5794f02-91ce-451c-d0b7-17acdfb488df"
      },
      "source": [
        "# sử dụng LabelEncoder\r\n",
        "\r\n",
        "from sklearn import preprocessing\r\n",
        "label_encoder = preprocessing.LabelEncoder() \r\n",
        "dataframe_encode= label_encoder.fit_transform(dataframe['Code']) \r\n",
        "dataframe_encode"
      ],
      "execution_count": 82,
      "outputs": [
        {
          "output_type": "execute_result",
          "data": {
            "text/plain": [
              "array([3, 0, 1, 5, 0, 2, 3, 0, 1, 0, 5, 0, 3, 0, 1, 5, 0, 3, 0, 1, 0, 5,\n",
              "       2, 0, 3, 0, 1, 0, 5, 0, 2, 0, 3, 0, 1, 0, 5, 0, 3, 0, 1, 5, 0, 3,\n",
              "       0, 1, 5, 0, 2, 3, 0, 1, 6, 4, 0, 5, 0, 2, 3, 0, 1, 4, 0, 5, 0, 6,\n",
              "       2, 3, 0, 1, 6, 4, 0, 0, 1, 3, 0, 1, 0, 6, 5, 0, 6, 3, 0, 1, 4, 0,\n",
              "       5, 0, 2, 3, 0, 1, 0, 0, 2, 6, 3, 0, 1, 0, 6, 0, 2, 0, 3, 0, 1, 0,\n",
              "       5, 0, 3, 0, 1, 0, 0, 3, 0, 1, 0, 5, 0, 2, 3, 0, 1, 0, 0, 3, 0, 1,\n",
              "       0, 6, 5, 0, 2, 3, 0, 1, 0, 5, 0, 2, 3, 0, 1, 0, 5, 0, 3, 0, 1, 0,\n",
              "       5, 0, 2, 3, 0, 1, 0, 6, 5, 0, 2, 3, 0, 1, 0, 5, 0, 3, 0, 1, 5, 0,\n",
              "       2, 3, 0, 1, 0, 5, 0, 3, 0, 1, 0, 5, 0, 3, 0, 1, 0, 5, 0, 3, 0, 1,\n",
              "       0, 5, 0, 3, 0, 1, 4, 0, 0, 3, 0, 1, 0, 5, 0, 3, 0, 1, 4, 5, 0, 2,\n",
              "       3, 0, 1, 5, 0, 2, 3, 0, 1, 6, 5, 0, 2, 0, 3, 0, 1, 5, 0, 2, 0, 3,\n",
              "       0, 1, 4, 0, 0, 2, 3, 0, 1, 4, 0, 0, 1, 3, 0, 1, 4, 0, 5, 0, 6, 3,\n",
              "       0, 1, 4, 0, 0, 2, 3, 0, 1, 0, 6, 5, 0, 3, 0, 1, 4, 0, 5, 0, 2, 3,\n",
              "       0, 1, 6, 5, 0, 2, 3, 0, 1, 4, 0, 5, 0, 2, 3, 0, 1, 0, 3, 0, 1, 4,\n",
              "       0, 6, 5, 0, 2, 3, 0, 1, 4, 0, 5, 0, 2, 3, 0, 1, 4, 0, 5, 0, 6, 2,\n",
              "       3, 0, 1, 4, 5, 0, 2, 3, 0, 1, 4, 0, 5, 0, 2, 3, 0, 1, 4, 0, 5, 0,\n",
              "       2, 6, 3, 0, 1, 4, 0, 6, 5, 0, 2, 6, 3, 0, 1, 4, 0, 5, 0, 6, 2, 3,\n",
              "       0, 1, 4, 5, 0, 2, 2, 3, 0, 1, 4, 0, 5, 0, 2, 3, 0, 1, 4, 0, 5, 0,\n",
              "       2, 3, 0, 1, 4, 0, 2, 3, 0, 1, 4, 0, 0, 2, 3, 0, 1, 4, 0, 5, 0, 3,\n",
              "       0, 1, 6, 4, 0, 5, 3, 0, 1, 0, 5, 0, 6, 2, 3, 0, 1, 4, 0, 0, 2, 3,\n",
              "       0, 1, 4, 0, 5, 0, 2, 3, 0, 1, 4, 0, 5, 0, 2, 3, 0, 1, 0, 5, 0, 3,\n",
              "       0, 1, 4, 0, 6, 5, 0, 2, 3, 0, 1, 0, 6, 5, 0, 2, 6, 3, 0, 1, 0, 0,\n",
              "       2, 3, 0, 1, 4, 0, 0, 6, 2, 3, 0, 1, 4, 0, 5, 0, 3, 0, 1, 4, 0, 5,\n",
              "       0, 2, 0, 3, 0, 1, 4, 0, 5, 0, 2, 3, 0, 1, 4, 0, 6, 5, 0, 2, 3, 0,\n",
              "       1, 4, 0, 6, 5, 0, 6, 3, 0, 1, 4, 0, 0, 2, 0, 3, 0, 1, 0, 5, 0, 2,\n",
              "       0, 3, 0, 1, 0, 6, 5, 0, 3, 0, 1, 6, 4, 6, 5, 0, 2, 3, 0, 1, 6, 5,\n",
              "       0, 2, 3, 0, 1, 4, 0, 5, 0, 6, 2, 3, 0, 1, 4, 0, 5, 0, 2, 3, 0, 1,\n",
              "       4, 0, 0, 6, 3, 0, 1, 4, 5, 0, 2, 3, 0, 1, 4, 0, 0, 1, 3, 0, 1, 6,\n",
              "       5, 0, 3, 0, 1, 6, 0, 5, 0, 2, 3, 0, 1, 4, 0, 5, 0, 2, 3, 0, 1, 6,\n",
              "       4, 0, 5, 0, 3, 0, 1, 0, 6, 5, 0, 2, 3, 0, 1, 0, 5, 0, 3, 0, 1, 0,\n",
              "       5, 0, 2, 6, 3, 0, 1, 0, 5, 0, 3, 0, 1, 0, 5, 0, 3, 0, 1, 0, 5, 0,\n",
              "       3, 0, 1, 4, 0, 6, 5, 0, 3, 0, 1, 4, 0, 0, 2, 3, 0, 1, 0, 0, 3, 0,\n",
              "       1, 5, 0, 2, 3, 0, 1, 0, 5, 0, 3, 0, 1, 4, 0, 5, 0, 2, 3, 0, 1, 0,\n",
              "       5, 0, 2, 3, 0, 1, 4, 5, 0, 2, 3, 0, 1, 6, 0, 5, 0, 2, 3, 0, 1, 4,\n",
              "       0, 5, 0, 6, 2, 3, 1, 5, 0, 3, 0, 1, 0, 0, 3, 0, 1, 5, 0, 2, 6, 3,\n",
              "       0, 1, 0, 6, 5, 0, 3, 0, 1, 0, 6, 5, 0, 3, 0, 1, 0, 0, 3, 0, 1, 4,\n",
              "       0, 0, 3, 0, 1, 0, 6, 0, 3, 0, 1, 3, 0, 1, 0, 0, 3, 0, 1, 0, 5, 0,\n",
              "       3, 0, 1, 0, 0, 6, 6, 3, 0, 1, 0, 5, 0, 3, 0, 1, 6, 0, 0, 2, 0, 3,\n",
              "       0, 1, 0, 0, 1, 0, 5, 0, 2, 3, 0, 1, 0, 5, 0, 2, 3, 0, 1, 0, 5, 0,\n",
              "       3, 0, 1, 0, 0, 3, 0, 1, 0, 0, 6, 3, 0, 1, 0, 0, 3, 0, 1, 5, 0, 2,\n",
              "       3, 0, 1, 4, 0, 5, 0, 2, 0, 3, 0, 1, 0, 5, 0, 2, 3, 0, 1, 4, 5, 0,\n",
              "       3, 0, 1, 0, 0, 2, 3, 0, 1, 5, 0, 3, 0, 1, 0, 5, 0, 3, 0, 1, 5, 0,\n",
              "       2, 0, 3, 0, 1, 6, 5, 0, 2, 3, 0, 1, 0, 5, 0, 2, 3, 0, 1])"
            ]
          },
          "metadata": {
            "tags": []
          },
          "execution_count": 82
        }
      ]
    },
    {
      "cell_type": "code",
      "metadata": {
        "colab": {
          "base_uri": "https://localhost:8080/",
          "height": 407
        },
        "id": "nx_8vTzMRfHX",
        "outputId": "b55fef2d-a4b4-4356-c80c-fdc9328a6e28"
      },
      "source": [
        "# sử pandas.dummies\r\n",
        "datafrmae_dum=pd.get_dummies(dataframe['Code'])\r\n",
        "datafrmae_dum"
      ],
      "execution_count": 90,
      "outputs": [
        {
          "output_type": "execute_result",
          "data": {
            "text/html": [
              "<div>\n",
              "<style scoped>\n",
              "    .dataframe tbody tr th:only-of-type {\n",
              "        vertical-align: middle;\n",
              "    }\n",
              "\n",
              "    .dataframe tbody tr th {\n",
              "        vertical-align: top;\n",
              "    }\n",
              "\n",
              "    .dataframe thead th {\n",
              "        text-align: right;\n",
              "    }\n",
              "</style>\n",
              "<table border=\"1\" class=\"dataframe\">\n",
              "  <thead>\n",
              "    <tr style=\"text-align: right;\">\n",
              "      <th></th>\n",
              "      <th>33</th>\n",
              "      <th>34</th>\n",
              "      <th>48</th>\n",
              "      <th>58</th>\n",
              "      <th>60</th>\n",
              "      <th>62</th>\n",
              "      <th>65</th>\n",
              "    </tr>\n",
              "  </thead>\n",
              "  <tbody>\n",
              "    <tr>\n",
              "      <th>0</th>\n",
              "      <td>0</td>\n",
              "      <td>0</td>\n",
              "      <td>0</td>\n",
              "      <td>1</td>\n",
              "      <td>0</td>\n",
              "      <td>0</td>\n",
              "      <td>0</td>\n",
              "    </tr>\n",
              "    <tr>\n",
              "      <th>1</th>\n",
              "      <td>1</td>\n",
              "      <td>0</td>\n",
              "      <td>0</td>\n",
              "      <td>0</td>\n",
              "      <td>0</td>\n",
              "      <td>0</td>\n",
              "      <td>0</td>\n",
              "    </tr>\n",
              "    <tr>\n",
              "      <th>2</th>\n",
              "      <td>0</td>\n",
              "      <td>1</td>\n",
              "      <td>0</td>\n",
              "      <td>0</td>\n",
              "      <td>0</td>\n",
              "      <td>0</td>\n",
              "      <td>0</td>\n",
              "    </tr>\n",
              "    <tr>\n",
              "      <th>3</th>\n",
              "      <td>0</td>\n",
              "      <td>0</td>\n",
              "      <td>0</td>\n",
              "      <td>0</td>\n",
              "      <td>0</td>\n",
              "      <td>1</td>\n",
              "      <td>0</td>\n",
              "    </tr>\n",
              "    <tr>\n",
              "      <th>4</th>\n",
              "      <td>1</td>\n",
              "      <td>0</td>\n",
              "      <td>0</td>\n",
              "      <td>0</td>\n",
              "      <td>0</td>\n",
              "      <td>0</td>\n",
              "      <td>0</td>\n",
              "    </tr>\n",
              "    <tr>\n",
              "      <th>...</th>\n",
              "      <td>...</td>\n",
              "      <td>...</td>\n",
              "      <td>...</td>\n",
              "      <td>...</td>\n",
              "      <td>...</td>\n",
              "      <td>...</td>\n",
              "      <td>...</td>\n",
              "    </tr>\n",
              "    <tr>\n",
              "      <th>938</th>\n",
              "      <td>1</td>\n",
              "      <td>0</td>\n",
              "      <td>0</td>\n",
              "      <td>0</td>\n",
              "      <td>0</td>\n",
              "      <td>0</td>\n",
              "      <td>0</td>\n",
              "    </tr>\n",
              "    <tr>\n",
              "      <th>939</th>\n",
              "      <td>0</td>\n",
              "      <td>0</td>\n",
              "      <td>1</td>\n",
              "      <td>0</td>\n",
              "      <td>0</td>\n",
              "      <td>0</td>\n",
              "      <td>0</td>\n",
              "    </tr>\n",
              "    <tr>\n",
              "      <th>940</th>\n",
              "      <td>0</td>\n",
              "      <td>0</td>\n",
              "      <td>0</td>\n",
              "      <td>1</td>\n",
              "      <td>0</td>\n",
              "      <td>0</td>\n",
              "      <td>0</td>\n",
              "    </tr>\n",
              "    <tr>\n",
              "      <th>941</th>\n",
              "      <td>1</td>\n",
              "      <td>0</td>\n",
              "      <td>0</td>\n",
              "      <td>0</td>\n",
              "      <td>0</td>\n",
              "      <td>0</td>\n",
              "      <td>0</td>\n",
              "    </tr>\n",
              "    <tr>\n",
              "      <th>942</th>\n",
              "      <td>0</td>\n",
              "      <td>1</td>\n",
              "      <td>0</td>\n",
              "      <td>0</td>\n",
              "      <td>0</td>\n",
              "      <td>0</td>\n",
              "      <td>0</td>\n",
              "    </tr>\n",
              "  </tbody>\n",
              "</table>\n",
              "<p>943 rows × 7 columns</p>\n",
              "</div>"
            ],
            "text/plain": [
              "     33  34  48  58  60  62  65\n",
              "0     0   0   0   1   0   0   0\n",
              "1     1   0   0   0   0   0   0\n",
              "2     0   1   0   0   0   0   0\n",
              "3     0   0   0   0   0   1   0\n",
              "4     1   0   0   0   0   0   0\n",
              "..   ..  ..  ..  ..  ..  ..  ..\n",
              "938   1   0   0   0   0   0   0\n",
              "939   0   0   1   0   0   0   0\n",
              "940   0   0   0   1   0   0   0\n",
              "941   1   0   0   0   0   0   0\n",
              "942   0   1   0   0   0   0   0\n",
              "\n",
              "[943 rows x 7 columns]"
            ]
          },
          "metadata": {
            "tags": []
          },
          "execution_count": 90
        }
      ]
    }
  ]
}