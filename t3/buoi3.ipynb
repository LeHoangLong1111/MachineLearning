{
  "nbformat": 4,
  "nbformat_minor": 0,
  "metadata": {
    "colab": {
      "name": "buoi3.ipynb",
      "provenance": []
    },
    "kernelspec": {
      "name": "python3",
      "display_name": "Python 3"
    }
  },
  "cells": [
    {
      "cell_type": "code",
      "metadata": {
        "id": "3OmbFiXRM-n9"
      },
      "source": [
        "import numpy as np\r\n",
        "import matplotlib.pyplot as plt\r\n",
        "from sklearn import preprocessing"
      ],
      "execution_count": 4,
      "outputs": []
    },
    {
      "cell_type": "code",
      "metadata": {
        "id": "kZ9E4fAwMKXt"
      },
      "source": [
        "height=np.array([[5,5.11,5.6,5.9,4.8,5.8,5.3,5.8,5.5,5.6]])\r\n",
        "age = np.array([[45,26,30,34,40,36,19,28,23,32]])\r\n",
        "weight =np.array( [[77,47, 55, 59, 72, 60, 40, 60, 45, 58]])\r\n",
        "label =np.array(['H','L','M','M','H','M','L','M','L','M'])"
      ],
      "execution_count": 21,
      "outputs": []
    },
    {
      "cell_type": "code",
      "metadata": {
        "colab": {
          "base_uri": "https://localhost:8080/"
        },
        "id": "SER4c_DRM1tW",
        "outputId": "43852105-2ddb-46e1-d3e8-9436aac92d68"
      },
      "source": [
        "#gộp height và age vào thành dữ liệu input có 2 thuộc tính\r\n",
        "height=height.T #đảo dòng thành cột\r\n",
        "age=age.T\r\n",
        "print(height.shape)\r\n",
        "print(age.shape)\r\n",
        "X = np.concatenate((height,age),axis=1)\r\n",
        "print(X.shape)\r\n",
        "print(X)"
      ],
      "execution_count": 23,
      "outputs": [
        {
          "output_type": "stream",
          "text": [
            "(10, 1)\n",
            "(10, 1)\n",
            "(10, 2)\n",
            "[[ 5.   45.  ]\n",
            " [ 5.11 26.  ]\n",
            " [ 5.6  30.  ]\n",
            " [ 5.9  34.  ]\n",
            " [ 4.8  40.  ]\n",
            " [ 5.8  36.  ]\n",
            " [ 5.3  19.  ]\n",
            " [ 5.8  28.  ]\n",
            " [ 5.5  23.  ]\n",
            " [ 5.6  32.  ]]\n"
          ],
          "name": "stdout"
        }
      ]
    },
    {
      "cell_type": "code",
      "metadata": {
        "id": "ZtK4_OumR10D"
      },
      "source": [
        "#normaliztion về khoảng [0,1]\r\n"
      ],
      "execution_count": null,
      "outputs": []
    },
    {
      "cell_type": "code",
      "metadata": {
        "colab": {
          "base_uri": "https://localhost:8080/"
        },
        "id": "iormKX-YPJ8S",
        "outputId": "8fe51004-4c37-402d-8009-1da2fc7331ef"
      },
      "source": [
        "from sklearn.neighbors import KNeighborsClassifier\r\n",
        "model = KNeighborsClassifier(n_neighbors=7)\r\n",
        "#training\r\n",
        "label=label.T\r\n",
        "print(label.shape)\r\n",
        "model.fit(X,label)"
      ],
      "execution_count": 37,
      "outputs": [
        {
          "output_type": "stream",
          "text": [
            "(10, 1)\n"
          ],
          "name": "stdout"
        },
        {
          "output_type": "stream",
          "text": [
            "/usr/local/lib/python3.6/dist-packages/ipykernel_launcher.py:6: DataConversionWarning: A column-vector y was passed when a 1d array was expected. Please change the shape of y to (n_samples, ), for example using ravel().\n",
            "  \n"
          ],
          "name": "stderr"
        },
        {
          "output_type": "execute_result",
          "data": {
            "text/plain": [
              "KNeighborsClassifier(algorithm='auto', leaf_size=30, metric='minkowski',\n",
              "                     metric_params=None, n_jobs=None, n_neighbors=7, p=2,\n",
              "                     weights='uniform')"
            ]
          },
          "metadata": {
            "tags": []
          },
          "execution_count": 37
        }
      ]
    },
    {
      "cell_type": "code",
      "metadata": {
        "id": "VgaihXXyQP8Y"
      },
      "source": [
        "\r\n",
        "X_test = np.array([[5.5,38]])\r\n",
        "Y_pred=model.predict(X_test)"
      ],
      "execution_count": 38,
      "outputs": []
    },
    {
      "cell_type": "code",
      "metadata": {
        "colab": {
          "base_uri": "https://localhost:8080/"
        },
        "id": "Ny-u8U4OQrwH",
        "outputId": "e41da839-3a94-443a-c904-5565387fa564"
      },
      "source": [
        "print(Y_pred)"
      ],
      "execution_count": 39,
      "outputs": [
        {
          "output_type": "stream",
          "text": [
            "['M']\n"
          ],
          "name": "stdout"
        }
      ]
    },
    {
      "cell_type": "code",
      "metadata": {
        "colab": {
          "base_uri": "https://localhost:8080/"
        },
        "id": "YhtAKmw0Qw7y",
        "outputId": "769b1bd7-97b0-4598-a9f4-3d720d342bad"
      },
      "source": [
        "from sklearn.neighbors import KNeighborsClassifier\r\n",
        "model12 = KNeighborsClassifier(n_neighbors=7)\r\n",
        "#training\r\n",
        "label=label.T\r\n",
        "print(label.shape)\r\n",
        "model12.fit(X,weight)"
      ],
      "execution_count": 41,
      "outputs": [
        {
          "output_type": "stream",
          "text": [
            "(10, 1)\n"
          ],
          "name": "stdout"
        },
        {
          "output_type": "execute_result",
          "data": {
            "text/plain": [
              "KNeighborsClassifier(algorithm='auto', leaf_size=30, metric='minkowski',\n",
              "                     metric_params=None, n_jobs=None, n_neighbors=7, p=2,\n",
              "                     weights='uniform')"
            ]
          },
          "metadata": {
            "tags": []
          },
          "execution_count": 41
        }
      ]
    },
    {
      "cell_type": "code",
      "metadata": {
        "colab": {
          "base_uri": "https://localhost:8080/"
        },
        "id": "PVA_PwzjQ5nD",
        "outputId": "2cd7aabe-a56f-4b8a-e394-3798536f011d"
      },
      "source": [
        "weight_pred = model12.predict(X_test)\r\n",
        "print(weight_pred)"
      ],
      "execution_count": 42,
      "outputs": [
        {
          "output_type": "stream",
          "text": [
            "[60]\n"
          ],
          "name": "stdout"
        }
      ]
    }
  ]
}