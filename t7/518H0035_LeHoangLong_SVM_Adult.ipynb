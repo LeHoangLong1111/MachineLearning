{
  "nbformat": 4,
  "nbformat_minor": 0,
  "metadata": {
    "colab": {
      "name": "518H0035_LeHoangLong_SVM.ipynb",
      "provenance": [],
      "collapsed_sections": []
    },
    "kernelspec": {
      "name": "python3",
      "display_name": "Python 3"
    }
  },
  "cells": [
    {
      "cell_type": "code",
      "metadata": {
        "id": "We-oppn9yWxW"
      },
      "source": [
        "import pandas as pd \r\n",
        "import numpy as np "
      ],
      "execution_count": 17,
      "outputs": []
    },
    {
      "cell_type": "code",
      "metadata": {
        "colab": {
          "base_uri": "https://localhost:8080/"
        },
        "id": "heIiBtzfycfG",
        "outputId": "f7f9634f-a2b4-4759-976f-f997c6b18e62"
      },
      "source": [
        "filename = 'adult.data'\r\n",
        "df = pd.read_csv(filename)\r\n",
        "print(df.shape)\r\n",
        "print(df.head(1))"
      ],
      "execution_count": 18,
      "outputs": [
        {
          "output_type": "stream",
          "text": [
            "(32560, 15)\n",
            "   39          State-gov   77516   Bachelors  ...   0  40   United-States   <=50K\n",
            "0  50   Self-emp-not-inc   83311   Bachelors  ...   0  13   United-States   <=50K\n",
            "\n",
            "[1 rows x 15 columns]\n"
          ],
          "name": "stdout"
        }
      ]
    },
    {
      "cell_type": "code",
      "metadata": {
        "colab": {
          "base_uri": "https://localhost:8080/"
        },
        "id": "quykbrMyD3hx",
        "outputId": "fcfae171-91c5-4314-b3b7-0ba0424af110"
      },
      "source": [
        "print(df.dtypes)"
      ],
      "execution_count": 19,
      "outputs": [
        {
          "output_type": "stream",
          "text": [
            "39                 int64\n",
            " State-gov        object\n",
            " 77516             int64\n",
            " Bachelors        object\n",
            " 13                int64\n",
            " Never-married    object\n",
            " Adm-clerical     object\n",
            " Not-in-family    object\n",
            " White            object\n",
            " Male             object\n",
            " 2174              int64\n",
            " 0                 int64\n",
            " 40                int64\n",
            " United-States    object\n",
            " <=50K            object\n",
            "dtype: object\n"
          ],
          "name": "stdout"
        }
      ]
    },
    {
      "cell_type": "code",
      "metadata": {
        "id": "QYYhnhzlKOJJ",
        "colab": {
          "base_uri": "https://localhost:8080/"
        },
        "outputId": "a01211ba-9944-4596-c2b0-9e376710f9fd"
      },
      "source": [
        "X = df.values[:,:-1]\r\n",
        "y = df.values[:,-1]\r\n",
        "print(X)\r\n",
        "print(y)"
      ],
      "execution_count": 28,
      "outputs": [
        {
          "output_type": "stream",
          "text": [
            "[[50 ' Self-emp-not-inc' 83311 ... 0 13 ' United-States']\n",
            " [38 ' Private' 215646 ... 0 40 ' United-States']\n",
            " [53 ' Private' 234721 ... 0 40 ' United-States']\n",
            " ...\n",
            " [58 ' Private' 151910 ... 0 40 ' United-States']\n",
            " [22 ' Private' 201490 ... 0 20 ' United-States']\n",
            " [52 ' Self-emp-inc' 287927 ... 0 40 ' United-States']]\n",
            "[' <=50K' ' <=50K' ' <=50K' ... ' <=50K' ' <=50K' ' >50K']\n"
          ],
          "name": "stdout"
        }
      ]
    },
    {
      "cell_type": "code",
      "metadata": {
        "colab": {
          "base_uri": "https://localhost:8080/"
        },
        "id": "q9FQZLoqy4KK",
        "outputId": "41ed39f1-978e-4566-aa52-a264193f9ac6"
      },
      "source": [
        "from sklearn.preprocessing import LabelEncoder\r\n",
        "encoder = LabelEncoder()\r\n",
        "for i in range(X.shape[1]):\r\n",
        "    X[:,i] = encoder.fit_transform(X[:,i])\r\n",
        "print(X)"
      ],
      "execution_count": 29,
      "outputs": [
        {
          "output_type": "stream",
          "text": [
            "[[33 6 2925 ... 0 12 39]\n",
            " [21 4 14085 ... 0 39 39]\n",
            " [36 4 15335 ... 0 39 39]\n",
            " ...\n",
            " [41 4 7882 ... 0 39 39]\n",
            " [5 4 12880 ... 0 19 39]\n",
            " [35 5 17824 ... 0 39 39]]\n"
          ],
          "name": "stdout"
        }
      ]
    },
    {
      "cell_type": "code",
      "metadata": {
        "id": "7qAkmDdmfJmP"
      },
      "source": [
        "from sklearn.preprocessing import MinMaxScaler\r\n",
        "minmax = MinMaxScaler()\r\n",
        "X = minmax.fit_transform(X)"
      ],
      "execution_count": 30,
      "outputs": []
    },
    {
      "cell_type": "code",
      "metadata": {
        "id": "MaRmeprEy8PZ",
        "colab": {
          "base_uri": "https://localhost:8080/"
        },
        "outputId": "50a1b14f-05be-44c7-db98-ba61aeae02c3"
      },
      "source": [
        "from sklearn.model_selection import train_test_split\r\n",
        "X_train, X_test, y_train, y_test = train_test_split(\\\r\n",
        "    X, y, test_size=0.3, random_state=42)\r\n",
        "\r\n",
        "print('Train:')\r\n",
        "print(X_train.shape)\r\n",
        "print(y_train.shape)\r\n",
        "print('Test:')\r\n",
        "print(X_test.shape)\r\n",
        "print(y_test.shape)"
      ],
      "execution_count": 31,
      "outputs": [
        {
          "output_type": "stream",
          "text": [
            "Train:\n",
            "(22792, 14)\n",
            "(22792,)\n",
            "Test:\n",
            "(9768, 14)\n",
            "(9768,)\n"
          ],
          "name": "stdout"
        }
      ]
    },
    {
      "cell_type": "code",
      "metadata": {
        "colab": {
          "base_uri": "https://localhost:8080/"
        },
        "id": "Ag2j8jt2fU_7",
        "outputId": "35955382-e9e9-429a-b957-9f13547a9f8f"
      },
      "source": [
        "# ví dụ về sử dụng SVM \r\n",
        "from sklearn import svm \r\n",
        "model = svm.SVC(kernel='linear',gamma=1e3, C=100.)\r\n",
        "model.fit(X_train, y_train)"
      ],
      "execution_count": 32,
      "outputs": [
        {
          "output_type": "execute_result",
          "data": {
            "text/plain": [
              "SVC(C=100.0, break_ties=False, cache_size=200, class_weight=None, coef0=0.0,\n",
              "    decision_function_shape='ovr', degree=3, gamma=1000.0, kernel='linear',\n",
              "    max_iter=-1, probability=False, random_state=None, shrinking=True,\n",
              "    tol=0.001, verbose=False)"
            ]
          },
          "metadata": {
            "tags": []
          },
          "execution_count": 32
        }
      ]
    },
    {
      "cell_type": "code",
      "metadata": {
        "colab": {
          "base_uri": "https://localhost:8080/"
        },
        "id": "SYQYrNyXgM05",
        "outputId": "91f39432-9c89-4a09-c936-b1b8f7b3e76f"
      },
      "source": [
        "y_pred = model.predict(X_test)\r\n",
        "print(y_pred)\r\n",
        "print(y_test)"
      ],
      "execution_count": 34,
      "outputs": [
        {
          "output_type": "stream",
          "text": [
            "[' <=50K' ' <=50K' ' <=50K' ... ' <=50K' ' <=50K' ' <=50K']\n",
            "[' <=50K' ' <=50K' ' >50K' ... ' <=50K' ' <=50K' ' <=50K']\n"
          ],
          "name": "stdout"
        }
      ]
    }
  ]
}