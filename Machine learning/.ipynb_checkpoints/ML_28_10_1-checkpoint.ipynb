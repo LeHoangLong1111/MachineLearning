{
 "cells": [
  {
   "cell_type": "code",
   "execution_count": 1,
   "metadata": {},
   "outputs": [
    {
     "name": "stdout",
     "output_type": "stream",
     "text": [
      "(12959, 9)\n",
      "Index(['usual', 'proper', 'complete', '1', 'convenient', 'convenient.1',\n",
      "       'nonprob', 'recommended', 'recommend'],\n",
      "      dtype='object')\n",
      "   usual  proper  complete  1  convenient convenient.1        nonprob  \\\n",
      "0  usual  proper  complete  1  convenient   convenient        nonprob   \n",
      "1  usual  proper  complete  1  convenient   convenient        nonprob   \n",
      "2  usual  proper  complete  1  convenient   convenient  slightly_prob   \n",
      "3  usual  proper  complete  1  convenient   convenient  slightly_prob   \n",
      "4  usual  proper  complete  1  convenient   convenient  slightly_prob   \n",
      "\n",
      "   recommended  recommend  \n",
      "0     priority   priority  \n",
      "1    not_recom  not_recom  \n",
      "2  recommended  recommend  \n",
      "3     priority   priority  \n",
      "4    not_recom  not_recom  \n"
     ]
    }
   ],
   "source": [
    "import numpy as np\n",
    "import pandas as pd \n",
    "file_name = 'nursery.data'\n",
    "df=pd.read_csv(file_name)\n",
    "print(df.shape)\n",
    "print(df.columns)\n",
    "print(df.head(5))"
   ]
  },
  {
   "cell_type": "code",
   "execution_count": 2,
   "metadata": {},
   "outputs": [
    {
     "name": "stdout",
     "output_type": "stream",
     "text": [
      "['usual' 'proper' 'complete' '1' 'convenient' 'convenient' 'nonprob']\n",
      "['priority' 'not_recom' 'recommend' ... 'spec_prior' 'spec_prior'\n",
      " 'not_recom']\n"
     ]
    }
   ],
   "source": [
    "a=df.values\n",
    "X=a[:,:7]   \n",
    "y=a[:,-1]\n",
    "print(X[1])\n",
    "print(y)"
   ]
  },
  {
   "cell_type": "code",
   "execution_count": 3,
   "metadata": {},
   "outputs": [],
   "source": [
    "from sklearn.preprocessing import LabelEncoder\n",
    "LE = LabelEncoder()\n",
    "X[:,0]= LE.fit_transform(X[:,0])\n",
    "X[:,1]= LE.fit_transform(X[:,1])\n",
    "X[:,2]= LE.fit_transform(X[:,2])\n",
    "X[:,3]= LE.fit_transform(X[:,3])\n",
    "X[:,4]= LE.fit_transform(X[:,4])\n",
    "X[:,5]= LE.fit_transform(X[:,5])\n",
    "X[:,6]= LE.fit_transform(X[:,6])\n",
    "y= LE.fit_transform(y)\n",
    "\n"
   ]
  },
  {
   "cell_type": "code",
   "execution_count": 4,
   "metadata": {},
   "outputs": [],
   "source": [
    "from sklearn.model_selection import train_test_split\n",
    "X_train,X_test,y_train,y_test = train_test_split(X,y,test_size=0.2,random_state=4)"
   ]
  },
  {
   "cell_type": "code",
   "execution_count": 5,
   "metadata": {},
   "outputs": [
    {
     "data": {
      "text/plain": [
       "GaussianNB()"
      ]
     },
     "execution_count": 5,
     "metadata": {},
     "output_type": "execute_result"
    }
   ],
   "source": [
    "from sklearn.naive_bayes import *\n",
    "gmb = GaussianNB()\n",
    "gmb.fit(X_train,y_train)"
   ]
  },
  {
   "cell_type": "code",
   "execution_count": 6,
   "metadata": {},
   "outputs": [],
   "source": [
    "y_pred = gmb.predict(X_test)\n"
   ]
  },
  {
   "cell_type": "code",
   "execution_count": 7,
   "metadata": {},
   "outputs": [
    {
     "name": "stdout",
     "output_type": "stream",
     "text": [
      "Gaussinan Naive Bayes model accuracy (in &):  0.5015432098765432\n"
     ]
    }
   ],
   "source": [
    "from sklearn import metrics\n",
    "print(\"Gaussinan Naive Bayes model accuracy (in &): \",metrics.accuracy_score(y_pred,y_test))"
   ]
  },
  {
   "cell_type": "code",
   "execution_count": 8,
   "metadata": {},
   "outputs": [
    {
     "name": "stdout",
     "output_type": "stream",
     "text": [
      "Multionomial Naive Bayes model accuracy (in &):  0.4270833333333333\n"
     ]
    }
   ],
   "source": [
    "mul = MultinomialNB()\n",
    "mul.fit(X, y)\n",
    "y_pred = mul.predict(X_test)\n",
    "print(\"Multionomial Naive Bayes model accuracy (in &): \",metrics.accuracy_score(y_pred,y_test))"
   ]
  },
  {
   "cell_type": "code",
   "execution_count": 9,
   "metadata": {},
   "outputs": [
    {
     "name": "stdout",
     "output_type": "stream",
     "text": [
      "Bernoulli Naive Bayes model accuracy (in &):  0.45524691358024694\n"
     ]
    }
   ],
   "source": [
    "Ber = BernoulliNB()\n",
    "Ber.fit(X, y)\n",
    "y_pred = Ber.predict(X_test)\n",
    "print(\"Bernoulli Naive Bayes model accuracy (in &): \",metrics.accuracy_score(y_pred,y_test))"
   ]
  },
  {
   "cell_type": "code",
   "execution_count": null,
   "metadata": {},
   "outputs": [],
   "source": []
  }
 ],
 "metadata": {
  "kernelspec": {
   "display_name": "Python 3",
   "language": "python",
   "name": "python3"
  },
  "language_info": {
   "codemirror_mode": {
    "name": "ipython",
    "version": 3
   },
   "file_extension": ".py",
   "mimetype": "text/x-python",
   "name": "python",
   "nbconvert_exporter": "python",
   "pygments_lexer": "ipython3",
   "version": "3.8.3"
  }
 },
 "nbformat": 4,
 "nbformat_minor": 4
}
