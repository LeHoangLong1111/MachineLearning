{
  "nbformat": 4,
  "nbformat_minor": 0,
  "metadata": {
    "colab": {
      "name": "ml_t6.ipynb",
      "provenance": [],
      "collapsed_sections": []
    },
    "kernelspec": {
      "name": "python3",
      "display_name": "Python 3"
    }
  },
  "cells": [
    {
      "cell_type": "code",
      "metadata": {
        "id": "RmZUhqmPFlOD"
      },
      "source": [
        "import numpy as np\r\n",
        "import matplotlib.pyplot as plt"
      ],
      "execution_count": 1,
      "outputs": []
    },
    {
      "cell_type": "code",
      "metadata": {
        "colab": {
          "resources": {
            "http://localhost:8080/nbextensions/google.colab/files.js": {
              "data": "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",
              "ok": true,
              "headers": [
                [
                  "content-type",
                  "application/javascript"
                ]
              ],
              "status": 200,
              "status_text": ""
            }
          },
          "base_uri": "https://localhost:8080/",
          "height": 73
        },
        "id": "CXYGG5rCGAed",
        "outputId": "50283d1d-fbd0-45ed-eb3d-5f653df577c2"
      },
      "source": [
        "from google.colab import files\r\n",
        "uploaded = files.upload()"
      ],
      "execution_count": 15,
      "outputs": [
        {
          "output_type": "display_data",
          "data": {
            "text/html": [
              "\n",
              "     <input type=\"file\" id=\"files-55437888-f232-4632-99c0-233116d128be\" name=\"files[]\" multiple disabled\n",
              "        style=\"border:none\" />\n",
              "     <output id=\"result-55437888-f232-4632-99c0-233116d128be\">\n",
              "      Upload widget is only available when the cell has been executed in the\n",
              "      current browser session. Please rerun this cell to enable.\n",
              "      </output>\n",
              "      <script src=\"/nbextensions/google.colab/files.js\"></script> "
            ],
            "text/plain": [
              "<IPython.core.display.HTML object>"
            ]
          },
          "metadata": {
            "tags": []
          }
        },
        {
          "output_type": "stream",
          "text": [
            "Saving seeds_dataset.txt to seeds_dataset.txt\n"
          ],
          "name": "stdout"
        }
      ]
    },
    {
      "cell_type": "code",
      "metadata": {
        "colab": {
          "base_uri": "https://localhost:8080/",
          "height": 407
        },
        "id": "-axI8aphGRfw",
        "outputId": "2deee347-d14c-42ce-a0a9-6280b6f0a96a"
      },
      "source": [
        "import numpy as np\r\n",
        "import pandas as pd\r\n",
        "import io\r\n",
        "dataframe= pd.read_csv(io.StringIO(uploaded['seeds_dataset.txt'].decode('utf-8')))\r\n",
        "dataframe"
      ],
      "execution_count": 16,
      "outputs": [
        {
          "output_type": "execute_result",
          "data": {
            "text/html": [
              "<div>\n",
              "<style scoped>\n",
              "    .dataframe tbody tr th:only-of-type {\n",
              "        vertical-align: middle;\n",
              "    }\n",
              "\n",
              "    .dataframe tbody tr th {\n",
              "        vertical-align: top;\n",
              "    }\n",
              "\n",
              "    .dataframe thead th {\n",
              "        text-align: right;\n",
              "    }\n",
              "</style>\n",
              "<table border=\"1\" class=\"dataframe\">\n",
              "  <thead>\n",
              "    <tr style=\"text-align: right;\">\n",
              "      <th></th>\n",
              "      <th>15.26</th>\n",
              "      <th>14.84</th>\n",
              "      <th>0.871</th>\n",
              "      <th>5.763</th>\n",
              "      <th>3.312</th>\n",
              "      <th>2.221</th>\n",
              "      <th>5.22</th>\n",
              "      <th>1</th>\n",
              "    </tr>\n",
              "  </thead>\n",
              "  <tbody>\n",
              "    <tr>\n",
              "      <th>0</th>\n",
              "      <td>14.88</td>\n",
              "      <td>14.57</td>\n",
              "      <td>0.8811</td>\n",
              "      <td>5.554</td>\n",
              "      <td>3.333</td>\n",
              "      <td>1.018</td>\n",
              "      <td>4.956</td>\n",
              "      <td>1</td>\n",
              "    </tr>\n",
              "    <tr>\n",
              "      <th>1</th>\n",
              "      <td>14.29</td>\n",
              "      <td>14.09</td>\n",
              "      <td>0.9050</td>\n",
              "      <td>5.291</td>\n",
              "      <td>3.337</td>\n",
              "      <td>2.699</td>\n",
              "      <td>4.825</td>\n",
              "      <td>1</td>\n",
              "    </tr>\n",
              "    <tr>\n",
              "      <th>2</th>\n",
              "      <td>13.84</td>\n",
              "      <td>13.94</td>\n",
              "      <td>0.8955</td>\n",
              "      <td>5.324</td>\n",
              "      <td>3.379</td>\n",
              "      <td>2.259</td>\n",
              "      <td>4.805</td>\n",
              "      <td>1</td>\n",
              "    </tr>\n",
              "    <tr>\n",
              "      <th>3</th>\n",
              "      <td>16.14</td>\n",
              "      <td>14.99</td>\n",
              "      <td>0.9034</td>\n",
              "      <td>5.658</td>\n",
              "      <td>3.562</td>\n",
              "      <td>1.355</td>\n",
              "      <td>5.175</td>\n",
              "      <td>1</td>\n",
              "    </tr>\n",
              "    <tr>\n",
              "      <th>4</th>\n",
              "      <td>14.38</td>\n",
              "      <td>14.21</td>\n",
              "      <td>0.8951</td>\n",
              "      <td>5.386</td>\n",
              "      <td>3.312</td>\n",
              "      <td>2.462</td>\n",
              "      <td>4.956</td>\n",
              "      <td>1</td>\n",
              "    </tr>\n",
              "    <tr>\n",
              "      <th>...</th>\n",
              "      <td>...</td>\n",
              "      <td>...</td>\n",
              "      <td>...</td>\n",
              "      <td>...</td>\n",
              "      <td>...</td>\n",
              "      <td>...</td>\n",
              "      <td>...</td>\n",
              "      <td>...</td>\n",
              "    </tr>\n",
              "    <tr>\n",
              "      <th>204</th>\n",
              "      <td>12.19</td>\n",
              "      <td>13.20</td>\n",
              "      <td>0.8783</td>\n",
              "      <td>5.137</td>\n",
              "      <td>2.981</td>\n",
              "      <td>3.631</td>\n",
              "      <td>4.870</td>\n",
              "      <td>3</td>\n",
              "    </tr>\n",
              "    <tr>\n",
              "      <th>205</th>\n",
              "      <td>11.23</td>\n",
              "      <td>12.88</td>\n",
              "      <td>0.8511</td>\n",
              "      <td>5.140</td>\n",
              "      <td>2.795</td>\n",
              "      <td>4.325</td>\n",
              "      <td>5.003</td>\n",
              "      <td>3</td>\n",
              "    </tr>\n",
              "    <tr>\n",
              "      <th>206</th>\n",
              "      <td>13.20</td>\n",
              "      <td>13.66</td>\n",
              "      <td>0.8883</td>\n",
              "      <td>5.236</td>\n",
              "      <td>3.232</td>\n",
              "      <td>8.315</td>\n",
              "      <td>5.056</td>\n",
              "      <td>3</td>\n",
              "    </tr>\n",
              "    <tr>\n",
              "      <th>207</th>\n",
              "      <td>11.84</td>\n",
              "      <td>13.21</td>\n",
              "      <td>0.8521</td>\n",
              "      <td>5.175</td>\n",
              "      <td>2.836</td>\n",
              "      <td>3.598</td>\n",
              "      <td>5.044</td>\n",
              "      <td>3</td>\n",
              "    </tr>\n",
              "    <tr>\n",
              "      <th>208</th>\n",
              "      <td>12.30</td>\n",
              "      <td>13.34</td>\n",
              "      <td>0.8684</td>\n",
              "      <td>5.243</td>\n",
              "      <td>2.974</td>\n",
              "      <td>5.637</td>\n",
              "      <td>5.063</td>\n",
              "      <td>3</td>\n",
              "    </tr>\n",
              "  </tbody>\n",
              "</table>\n",
              "<p>209 rows × 8 columns</p>\n",
              "</div>"
            ],
            "text/plain": [
              "     15.26  14.84   0.871  5.763  3.312  2.221   5.22  1\n",
              "0    14.88  14.57  0.8811  5.554  3.333  1.018  4.956  1\n",
              "1    14.29  14.09  0.9050  5.291  3.337  2.699  4.825  1\n",
              "2    13.84  13.94  0.8955  5.324  3.379  2.259  4.805  1\n",
              "3    16.14  14.99  0.9034  5.658  3.562  1.355  5.175  1\n",
              "4    14.38  14.21  0.8951  5.386  3.312  2.462  4.956  1\n",
              "..     ...    ...     ...    ...    ...    ...    ... ..\n",
              "204  12.19  13.20  0.8783  5.137  2.981  3.631  4.870  3\n",
              "205  11.23  12.88  0.8511  5.140  2.795  4.325  5.003  3\n",
              "206  13.20  13.66  0.8883  5.236  3.232  8.315  5.056  3\n",
              "207  11.84  13.21  0.8521  5.175  2.836  3.598  5.044  3\n",
              "208  12.30  13.34  0.8684  5.243  2.974  5.637  5.063  3\n",
              "\n",
              "[209 rows x 8 columns]"
            ]
          },
          "metadata": {
            "tags": []
          },
          "execution_count": 16
        }
      ]
    },
    {
      "cell_type": "code",
      "metadata": {
        "colab": {
          "base_uri": "https://localhost:8080/"
        },
        "id": "H4GpxsCWISy-",
        "outputId": "5e421ba3-1412-4065-bfab-9cd5c8711208"
      },
      "source": [
        "x = dataframe.iloc[:, [0,1,2,3,4,5,6]].values\r\n",
        "print(x)"
      ],
      "execution_count": 17,
      "outputs": [
        {
          "output_type": "stream",
          "text": [
            "[[14.88   14.57    0.8811 ...  3.333   1.018   4.956 ]\n",
            " [14.29   14.09    0.905  ...  3.337   2.699   4.825 ]\n",
            " [13.84   13.94    0.8955 ...  3.379   2.259   4.805 ]\n",
            " ...\n",
            " [13.2    13.66    0.8883 ...  3.232   8.315   5.056 ]\n",
            " [11.84   13.21    0.8521 ...  2.836   3.598   5.044 ]\n",
            " [12.3    13.34    0.8684 ...  2.974   5.637   5.063 ]]\n"
          ],
          "name": "stdout"
        }
      ]
    },
    {
      "cell_type": "code",
      "metadata": {
        "colab": {
          "base_uri": "https://localhost:8080/"
        },
        "id": "1gonk73XIa4G",
        "outputId": "e646a789-06f9-4a91-e83d-e64c620b32c8"
      },
      "source": [
        "pip install scikit-learn-extra"
      ],
      "execution_count": 12,
      "outputs": [
        {
          "output_type": "stream",
          "text": [
            "Collecting scikit-learn-extra\n",
            "\u001b[?25l  Downloading https://files.pythonhosted.org/packages/d1/dd/891d2ee7bd18af8f2e1df5d63a52ee96edd0eacc21bb9627072b1c5f6a6c/scikit-learn-extra-0.1.0b2.tar.gz (615kB)\n",
            "\u001b[K     |████████████████████████████████| 624kB 6.9MB/s \n",
            "\u001b[?25h  Installing build dependencies ... \u001b[?25l\u001b[?25hdone\n",
            "  Getting requirements to build wheel ... \u001b[?25l\u001b[?25hdone\n",
            "    Preparing wheel metadata ... \u001b[?25l\u001b[?25hdone\n",
            "Requirement already satisfied: scikit-learn>=0.21.0 in /usr/local/lib/python3.6/dist-packages (from scikit-learn-extra) (0.22.2.post1)\n",
            "Requirement already satisfied: numpy>=1.13.3 in /usr/local/lib/python3.6/dist-packages (from scikit-learn-extra) (1.19.5)\n",
            "Requirement already satisfied: scipy>=0.19.1 in /usr/local/lib/python3.6/dist-packages (from scikit-learn-extra) (1.4.1)\n",
            "Requirement already satisfied: joblib>=0.11 in /usr/local/lib/python3.6/dist-packages (from scikit-learn>=0.21.0->scikit-learn-extra) (1.0.0)\n",
            "Building wheels for collected packages: scikit-learn-extra\n",
            "  Building wheel for scikit-learn-extra (PEP 517) ... \u001b[?25l\u001b[?25hdone\n",
            "  Created wheel for scikit-learn-extra: filename=scikit_learn_extra-0.1.0b2-cp36-cp36m-linux_x86_64.whl size=339586 sha256=73d03c513c4ccd4fe1a5fc4b700d51ff31ad22bdf6397205d748f14d9c7e2232\n",
            "  Stored in directory: /root/.cache/pip/wheels/04/01/0f/943bffb48bac048fa216b4325f1a6c939491ccb0ff500e08f4\n",
            "Successfully built scikit-learn-extra\n",
            "Installing collected packages: scikit-learn-extra\n",
            "Successfully installed scikit-learn-extra-0.1.0b2\n"
          ],
          "name": "stdout"
        }
      ]
    },
    {
      "cell_type": "code",
      "metadata": {
        "colab": {
          "base_uri": "https://localhost:8080/"
        },
        "id": "tBktzKsGIX5-",
        "outputId": "e7079898-b1d4-4474-9af9-5290be4b24f4"
      },
      "source": [
        "from sklearn.cluster import KMeans\r\n",
        "kmeans = KMeans(n_clusters=3)\r\n",
        "kmeans.fit(x)"
      ],
      "execution_count": 21,
      "outputs": [
        {
          "output_type": "execute_result",
          "data": {
            "text/plain": [
              "KMeans(algorithm='auto', copy_x=True, init='k-means++', max_iter=300,\n",
              "       n_clusters=3, n_init=10, n_jobs=None, precompute_distances='auto',\n",
              "       random_state=None, tol=0.0001, verbose=0)"
            ]
          },
          "metadata": {
            "tags": []
          },
          "execution_count": 21
        }
      ]
    },
    {
      "cell_type": "code",
      "metadata": {
        "colab": {
          "base_uri": "https://localhost:8080/"
        },
        "id": "SToPQr4MKWNn",
        "outputId": "4020e77f-4fcf-427f-e756-fa1fab9f23fa"
      },
      "source": [
        "centroid = kmeans.cluster_centers_\r\n",
        "labels = kmeans.labels_\r\n",
        "print (centroid)\r\n",
        "print(labels)"
      ],
      "execution_count": 22,
      "outputs": [
        {
          "output_type": "stream",
          "text": [
            "[[14.63985915 14.45507042  0.87928169  5.56097183  3.27742254  2.65496056\n",
            "   5.19192958]\n",
            " [18.72180328 16.29737705  0.88508689  6.20893443  3.72267213  3.60359016\n",
            "   6.06609836]\n",
            " [11.96441558 13.27480519  0.8522      5.22928571  2.87292208  4.75974026\n",
            "   5.08851948]]\n",
            "[0 0 0 0 0 0 0 0 0 0 0 0 0 0 0 2 0 0 2 0 0 0 0 0 0 2 0 0 0 0 0 0 0 0 0 0 1\n",
            " 0 2 0 0 0 0 0 0 0 0 0 0 0 0 0 0 0 0 0 0 0 0 2 2 2 2 0 0 0 0 0 2 1 1 1 1 1\n",
            " 1 1 1 1 1 1 1 1 1 1 1 1 1 1 1 1 1 1 1 1 1 1 1 1 1 0 1 1 1 1 1 1 1 1 1 1 1\n",
            " 1 1 1 1 1 1 1 1 1 1 0 1 0 1 1 1 1 1 1 1 0 0 0 0 1 0 0 0 2 2 2 2 2 2 2 2 2\n",
            " 2 2 2 2 2 2 2 2 2 2 2 2 2 2 2 2 2 2 2 2 2 2 2 2 2 2 2 2 2 2 0 2 2 2 2 2 2\n",
            " 2 2 2 2 2 2 2 2 2 2 2 2 2 2 2 0 2 2 2 2 2 2 2 2]\n"
          ],
          "name": "stdout"
        }
      ]
    },
    {
      "cell_type": "code",
      "metadata": {
        "colab": {
          "base_uri": "https://localhost:8080/",
          "height": 1000
        },
        "id": "ADimfxEoKZjO",
        "outputId": "9294e438-994b-4223-d18f-f9d0eaaee18b"
      },
      "source": [
        "colors = [\"g.\",\"r.\",\"c.\"]\r\n",
        "\r\n",
        "for i in range(len(x)):\r\n",
        "   print (\"coordinate:\" , x[i], \"label:\", labels[i])\r\n",
        "   plt.plot(x[i][0],x[i][1],colors[labels[i]],markersize=10)\r\n",
        "\r\n",
        "plt.scatter(centroid[:,0],centroid[:,1], marker = \"x\", s=150, linewidths = 5, zorder =10)\r\n",
        "\r\n",
        "plt.show()"
      ],
      "execution_count": 23,
      "outputs": [
        {
          "output_type": "stream",
          "text": [
            "coordinate: [14.88   14.57    0.8811  5.554   3.333   1.018   4.956 ] label: 0\n",
            "coordinate: [14.29  14.09   0.905  5.291  3.337  2.699  4.825] label: 0\n",
            "coordinate: [13.84   13.94    0.8955  5.324   3.379   2.259   4.805 ] label: 0\n",
            "coordinate: [16.14   14.99    0.9034  5.658   3.562   1.355   5.175 ] label: 0\n",
            "coordinate: [14.38   14.21    0.8951  5.386   3.312   2.462   4.956 ] label: 0\n",
            "coordinate: [14.69   14.49    0.8799  5.563   3.259   3.586   5.219 ] label: 0\n",
            "coordinate: [14.11   14.1     0.8911  5.42    3.302   2.7     5.    ] label: 0\n",
            "coordinate: [16.63   15.46    0.8747  6.053   3.465   2.04    5.877 ] label: 0\n",
            "coordinate: [16.44  15.25   0.888  5.884  3.505  1.969  5.533] label: 0\n",
            "coordinate: [15.26   14.85    0.8696  5.714   3.242   4.543   5.314 ] label: 0\n",
            "coordinate: [14.03   14.16    0.8796  5.438   3.201   1.717   5.001 ] label: 0\n",
            "coordinate: [13.89  14.02   0.888  5.439  3.199  3.986  4.738] label: 0\n",
            "coordinate: [13.78   14.06    0.8759  5.479   3.156   3.136   4.872 ] label: 0\n",
            "coordinate: [13.74   14.05    0.8744  5.482   3.114   2.932   4.825 ] label: 0\n",
            "coordinate: [14.59   14.28    0.8993  5.351   3.333   4.185   4.781 ] label: 0\n",
            "coordinate: [13.99   13.83    0.9183  5.119   3.383   5.234   4.781 ] label: 2\n",
            "coordinate: [15.69   14.75    0.9058  5.527   3.514   1.599   5.046 ] label: 0\n",
            "coordinate: [14.7    14.21    0.9153  5.205   3.466   1.767   4.649 ] label: 0\n",
            "coordinate: [12.72   13.57    0.8686  5.226   3.049   4.102   4.914 ] label: 2\n",
            "coordinate: [14.16   14.4     0.8584  5.658   3.129   3.072   5.176 ] label: 0\n",
            "coordinate: [14.11   14.26    0.8722  5.52    3.168   2.688   5.219 ] label: 0\n",
            "coordinate: [15.88   14.9     0.8988  5.618   3.507   0.7651  5.091 ] label: 0\n",
            "coordinate: [12.08   13.23    0.8664  5.099   2.936   1.415   4.961 ] label: 0\n",
            "coordinate: [15.01   14.76    0.8657  5.789   3.245   1.791   5.001 ] label: 0\n",
            "coordinate: [16.19   15.16    0.8849  5.833   3.421   0.903   5.307 ] label: 0\n",
            "coordinate: [13.02   13.76    0.8641  5.395   3.026   3.373   4.825 ] label: 2\n",
            "coordinate: [12.74   13.67    0.8564  5.395   2.956   2.504   4.869 ] label: 0\n",
            "coordinate: [14.11  14.18   0.882  5.541  3.221  2.754  5.038] label: 0\n",
            "coordinate: [13.45   14.02    0.8604  5.516   3.065   3.531   5.097 ] label: 0\n",
            "coordinate: [13.16   13.82    0.8662  5.454   2.975   0.8551  5.056 ] label: 0\n",
            "coordinate: [15.49   14.94    0.8724  5.757   3.371   3.412   5.228 ] label: 0\n",
            "coordinate: [14.09   14.41    0.8529  5.717   3.186   3.92    5.299 ] label: 0\n",
            "coordinate: [13.94   14.17    0.8728  5.585   3.15    2.124   5.012 ] label: 0\n",
            "coordinate: [15.05   14.68    0.8779  5.712   3.328   2.129   5.36  ] label: 0\n",
            "coordinate: [16.12  15.     0.9    5.709  3.485  2.27   5.443] label: 0\n",
            "coordinate: [16.2    15.27    0.8734  5.826   3.464   2.823   5.527 ] label: 0\n",
            "coordinate: [17.08   15.38    0.9079  5.832   3.683   2.956   5.484 ] label: 1\n",
            "coordinate: [14.8    14.52    0.8823  5.656   3.288   3.112   5.309 ] label: 0\n",
            "coordinate: [14.28   14.17    0.8944  5.397   3.298   6.685   5.001 ] label: 2\n",
            "coordinate: [13.54   13.85    0.8871  5.348   3.156   2.587   5.178 ] label: 0\n",
            "coordinate: [13.5    13.85    0.8852  5.351   3.158   2.249   5.176 ] label: 0\n",
            "coordinate: [13.16   13.55    0.9009  5.138   3.201   2.461   4.783 ] label: 0\n",
            "coordinate: [15.5   14.86   0.882  5.877  3.396  4.711  5.528] label: 0\n",
            "coordinate: [15.11   14.54    0.8986  5.579   3.462   3.128   5.18  ] label: 0\n",
            "coordinate: [13.8    14.04    0.8794  5.376   3.155   1.56    4.961 ] label: 0\n",
            "coordinate: [15.36   14.76    0.8861  5.701   3.393   1.367   5.132 ] label: 0\n",
            "coordinate: [14.99   14.56    0.8883  5.57    3.377   2.958   5.175 ] label: 0\n",
            "coordinate: [14.79   14.52    0.8819  5.545   3.291   2.704   5.111 ] label: 0\n",
            "coordinate: [14.86   14.67    0.8676  5.678   3.258   2.129   5.351 ] label: 0\n",
            "coordinate: [14.43   14.4     0.8751  5.585   3.272   3.975   5.144 ] label: 0\n",
            "coordinate: [15.78   14.91    0.8923  5.674   3.434   5.593   5.136 ] label: 0\n",
            "coordinate: [14.49   14.61    0.8538  5.715   3.113   4.116   5.396 ] label: 0\n",
            "coordinate: [14.33   14.28    0.8831  5.504   3.199   3.328   5.224 ] label: 0\n",
            "coordinate: [14.52   14.6     0.8557  5.741   3.113   1.481   5.487 ] label: 0\n",
            "coordinate: [15.03   14.77    0.8658  5.702   3.212   1.933   5.439 ] label: 0\n",
            "coordinate: [14.46   14.35    0.8818  5.388   3.377   2.802   5.044 ] label: 0\n",
            "coordinate: [14.92   14.43    0.9006  5.384   3.412   1.142   5.088 ] label: 0\n",
            "coordinate: [15.38   14.77    0.8857  5.662   3.419   1.999   5.222 ] label: 0\n",
            "coordinate: [12.11   13.47    0.8392  5.159   3.032   1.502   4.519 ] label: 0\n",
            "coordinate: [11.42   12.86    0.8683  5.008   2.85    2.7     4.607 ] label: 2\n",
            "coordinate: [11.23  12.63   0.884  4.902  2.879  2.269  4.703] label: 2\n",
            "coordinate: [12.36   13.19    0.8923  5.076   3.042   3.22    4.605 ] label: 2\n",
            "coordinate: [13.22  13.84   0.868  5.395  3.07   4.157  5.088] label: 2\n",
            "coordinate: [12.78   13.57    0.8716  5.262   3.026   1.176   4.782 ] label: 0\n",
            "coordinate: [12.88   13.5     0.8879  5.139   3.119   2.352   4.607 ] label: 0\n",
            "coordinate: [14.34   14.37    0.8726  5.63    3.19    1.313   5.15  ] label: 0\n",
            "coordinate: [14.01   14.29    0.8625  5.609   3.158   2.217   5.132 ] label: 0\n",
            "coordinate: [14.37   14.39    0.8726  5.569   3.153   1.464   5.3   ] label: 0\n",
            "coordinate: [12.73   13.75    0.8458  5.412   2.882   3.533   5.067 ] label: 2\n",
            "coordinate: [17.63   15.98    0.8673  6.191   3.561   4.076   6.06  ] label: 1\n",
            "coordinate: [16.84   15.67    0.8623  5.998   3.484   4.675   5.877 ] label: 1\n",
            "coordinate: [17.26   15.73    0.8763  5.978   3.594   4.539   5.791 ] label: 1\n",
            "coordinate: [19.11   16.26    0.9081  6.154   3.93    2.936   6.079 ] label: 1\n",
            "coordinate: [16.82   15.51    0.8786  6.017   3.486   4.004   5.841 ] label: 1\n",
            "coordinate: [16.77   15.62    0.8638  5.927   3.438   4.92    5.795 ] label: 1\n",
            "coordinate: [17.32   15.91    0.8599  6.064   3.403   3.824   5.922 ] label: 1\n",
            "coordinate: [20.71   17.23    0.8763  6.579   3.814   4.451   6.451 ] label: 1\n",
            "coordinate: [18.94  16.49   0.875  6.445  3.639  5.064  6.362] label: 1\n",
            "coordinate: [17.12   15.55    0.8892  5.85    3.566   2.858   5.746 ] label: 1\n",
            "coordinate: [16.53   15.34    0.8823  5.875   3.467   5.532   5.88  ] label: 1\n",
            "coordinate: [18.72   16.19    0.8977  6.006   3.857   5.324   5.879 ] label: 1\n",
            "coordinate: [20.2    16.89    0.8894  6.285   3.864   5.173   6.187 ] label: 1\n",
            "coordinate: [19.57   16.74    0.8779  6.384   3.772   1.472   6.273 ] label: 1\n",
            "coordinate: [19.51  16.71   0.878  6.366  3.801  2.962  6.185] label: 1\n",
            "coordinate: [18.27  16.09   0.887  6.173  3.651  2.443  6.197] label: 1\n",
            "coordinate: [18.88   16.26    0.8969  6.084   3.764   1.649   6.109 ] label: 1\n",
            "coordinate: [18.98  16.66   0.859  6.549  3.67   3.691  6.498] label: 1\n",
            "coordinate: [21.18   17.21    0.8989  6.573   4.033   5.78    6.231 ] label: 1\n",
            "coordinate: [20.88   17.05    0.9031  6.45    4.032   5.016   6.321 ] label: 1\n",
            "coordinate: [20.1    16.99    0.8746  6.581   3.785   1.955   6.449 ] label: 1\n",
            "coordinate: [18.76   16.2     0.8984  6.172   3.796   3.12    6.053 ] label: 1\n",
            "coordinate: [18.81   16.29    0.8906  6.272   3.693   3.237   6.053 ] label: 1\n",
            "coordinate: [18.59   16.05    0.9066  6.037   3.86    6.001   5.877 ] label: 1\n",
            "coordinate: [18.36   16.52    0.8452  6.666   3.485   4.933   6.448 ] label: 1\n",
            "coordinate: [16.87   15.65    0.8648  6.139   3.463   3.696   5.967 ] label: 1\n",
            "coordinate: [19.31   16.59    0.8815  6.341   3.81    3.477   6.238 ] label: 1\n",
            "coordinate: [18.98   16.57    0.8687  6.449   3.552   2.144   6.453 ] label: 1\n",
            "coordinate: [18.17   16.26    0.8637  6.271   3.512   2.853   6.273 ] label: 1\n",
            "coordinate: [18.72  16.34   0.881  6.219  3.684  2.188  6.097] label: 1\n",
            "coordinate: [16.41   15.25    0.8866  5.718   3.525   4.217   5.618 ] label: 0\n",
            "coordinate: [17.99   15.86    0.8992  5.89    3.694   2.068   5.837 ] label: 1\n",
            "coordinate: [19.46   16.5     0.8985  6.113   3.892   4.308   6.009 ] label: 1\n",
            "coordinate: [19.18   16.63    0.8717  6.369   3.681   3.357   6.229 ] label: 1\n",
            "coordinate: [18.95   16.42    0.8829  6.248   3.755   3.368   6.148 ] label: 1\n",
            "coordinate: [18.83   16.29    0.8917  6.037   3.786   2.553   5.879 ] label: 1\n",
            "coordinate: [18.85   16.17    0.9056  6.152   3.806   2.843   6.2   ] label: 1\n",
            "coordinate: [17.63  15.86   0.88   6.033  3.573  3.747  5.929] label: 1\n",
            "coordinate: [19.94   16.92    0.8752  6.675   3.763   3.252   6.55  ] label: 1\n",
            "coordinate: [18.55   16.22    0.8865  6.153   3.674   1.738   5.894 ] label: 1\n",
            "coordinate: [18.45   16.12    0.8921  6.107   3.769   2.235   5.794 ] label: 1\n",
            "coordinate: [19.38   16.72    0.8716  6.303   3.791   3.678   5.965 ] label: 1\n",
            "coordinate: [19.13   16.31    0.9035  6.183   3.902   2.109   5.924 ] label: 1\n",
            "coordinate: [19.14   16.61    0.8722  6.259   3.737   6.682   6.053 ] label: 1\n",
            "coordinate: [20.97   17.25    0.8859  6.563   3.991   4.677   6.316 ] label: 1\n",
            "coordinate: [19.06   16.45    0.8854  6.416   3.719   2.248   6.163 ] label: 1\n",
            "coordinate: [18.96   16.2     0.9077  6.051   3.897   4.334   5.75  ] label: 1\n",
            "coordinate: [19.15  16.45   0.889  6.245  3.815  3.084  6.185] label: 1\n",
            "coordinate: [18.89   16.23    0.9008  6.227   3.769   3.639   5.966 ] label: 1\n",
            "coordinate: [20.03   16.9     0.8811  6.493   3.857   3.063   6.32  ] label: 1\n",
            "coordinate: [20.24   16.91    0.8897  6.315   3.962   5.901   6.188 ] label: 1\n",
            "coordinate: [18.14   16.12    0.8772  6.059   3.563   3.619   6.011 ] label: 1\n",
            "coordinate: [16.17   15.38    0.8588  5.762   3.387   4.286   5.703 ] label: 0\n",
            "coordinate: [18.43   15.97    0.9077  5.98    3.771   2.984   5.905 ] label: 1\n",
            "coordinate: [15.99   14.89    0.9064  5.363   3.582   3.336   5.144 ] label: 0\n",
            "coordinate: [18.75   16.18    0.8999  6.111   3.869   4.188   5.992 ] label: 1\n",
            "coordinate: [18.65   16.41    0.8698  6.285   3.594   4.391   6.102 ] label: 1\n",
            "coordinate: [17.98   15.85    0.8993  5.979   3.687   2.257   5.919 ] label: 1\n",
            "coordinate: [20.16   17.03    0.8735  6.513   3.773   1.91    6.185 ] label: 1\n",
            "coordinate: [17.55   15.66    0.8991  5.791   3.69    5.366   5.661 ] label: 1\n",
            "coordinate: [18.3    15.89    0.9108  5.979   3.755   2.837   5.962 ] label: 1\n",
            "coordinate: [18.94   16.32    0.8942  6.144   3.825   2.908   5.949 ] label: 1\n",
            "coordinate: [15.38   14.9     0.8706  5.884   3.268   4.462   5.795 ] label: 0\n",
            "coordinate: [16.16   15.33    0.8644  5.845   3.395   4.266   5.795 ] label: 0\n",
            "coordinate: [15.56   14.89    0.8823  5.776   3.408   4.972   5.847 ] label: 0\n",
            "coordinate: [15.38  14.66   0.899  5.477  3.465  3.6    5.439] label: 0\n",
            "coordinate: [17.36   15.76    0.8785  6.145   3.574   3.526   5.971 ] label: 1\n",
            "coordinate: [15.57   15.15    0.8527  5.92    3.231   2.64    5.879 ] label: 0\n",
            "coordinate: [15.6   15.11   0.858  5.832  3.286  2.725  5.752] label: 0\n",
            "coordinate: [16.23  15.18   0.885  5.872  3.472  3.769  5.922] label: 0\n",
            "coordinate: [13.07  13.92   0.848  5.472  2.994  5.304  5.395] label: 2\n",
            "coordinate: [13.32   13.94    0.8613  5.541   3.073   7.035   5.44  ] label: 2\n",
            "coordinate: [13.34  13.95   0.862  5.389  3.074  5.995  5.307] label: 2\n",
            "coordinate: [12.22   13.32    0.8652  5.224   2.967   5.469   5.221 ] label: 2\n",
            "coordinate: [11.82   13.4     0.8274  5.314   2.777   4.471   5.178 ] label: 2\n",
            "coordinate: [11.21   13.13    0.8167  5.279   2.687   6.169   5.275 ] label: 2\n",
            "coordinate: [11.43   13.13    0.8335  5.176   2.719   2.221   5.132 ] label: 2\n",
            "coordinate: [12.49   13.46    0.8658  5.267   2.967   4.421   5.002 ] label: 2\n",
            "coordinate: [12.7    13.71    0.8491  5.386   2.911   3.26    5.316 ] label: 2\n",
            "coordinate: [10.79   12.93    0.8107  5.317   2.648   5.462   5.194 ] label: 2\n",
            "coordinate: [11.83   13.23    0.8496  5.263   2.84    5.195   5.307 ] label: 2\n",
            "coordinate: [12.01   13.52    0.8249  5.405   2.776   6.992   5.27  ] label: 2\n",
            "coordinate: [12.26   13.6     0.8333  5.408   2.833   4.756   5.36  ] label: 2\n",
            "coordinate: [11.18   13.04    0.8266  5.22    2.693   3.332   5.001 ] label: 2\n",
            "coordinate: [11.36   13.05    0.8382  5.175   2.755   4.048   5.263 ] label: 2\n",
            "coordinate: [11.19   13.05    0.8253  5.25    2.675   5.813   5.219 ] label: 2\n",
            "coordinate: [11.34   12.87    0.8596  5.053   2.849   3.347   5.003 ] label: 2\n",
            "coordinate: [12.13   13.73    0.8081  5.394   2.745   4.825   5.22  ] label: 2\n",
            "coordinate: [11.75   13.52    0.8082  5.444   2.678   4.378   5.31  ] label: 2\n",
            "coordinate: [11.49   13.22    0.8263  5.304   2.695   5.388   5.31  ] label: 2\n",
            "coordinate: [12.54   13.67    0.8425  5.451   2.879   3.082   5.491 ] label: 2\n",
            "coordinate: [12.02   13.33    0.8503  5.35    2.81    4.271   5.308 ] label: 2\n",
            "coordinate: [12.05   13.41    0.8416  5.267   2.847   4.988   5.046 ] label: 2\n",
            "coordinate: [12.55   13.57    0.8558  5.333   2.968   4.419   5.176 ] label: 2\n",
            "coordinate: [11.14   12.79    0.8558  5.011   2.794   6.388   5.049 ] label: 2\n",
            "coordinate: [12.1    13.15    0.8793  5.105   2.941   2.201   5.056 ] label: 2\n",
            "coordinate: [12.44   13.59    0.8462  5.319   2.897   4.924   5.27  ] label: 2\n",
            "coordinate: [12.15   13.45    0.8443  5.417   2.837   3.638   5.338 ] label: 2\n",
            "coordinate: [11.35   13.12    0.8291  5.176   2.668   4.337   5.132 ] label: 2\n",
            "coordinate: [11.24   13.      0.8359  5.09    2.715   3.521   5.088 ] label: 2\n",
            "coordinate: [11.02   13.      0.8189  5.325   2.701   6.735   5.163 ] label: 2\n",
            "coordinate: [11.55   13.1     0.8455  5.167   2.845   6.715   4.956 ] label: 2\n",
            "coordinate: [11.27   12.97    0.8419  5.088   2.763   4.309   5.    ] label: 2\n",
            "coordinate: [11.4    13.08    0.8375  5.136   2.763   5.588   5.089 ] label: 2\n",
            "coordinate: [10.83   12.96    0.8099  5.278   2.641   5.182   5.185 ] label: 2\n",
            "coordinate: [10.8   12.57   0.859  4.981  2.821  4.773  5.063] label: 2\n",
            "coordinate: [11.26   13.01    0.8355  5.186   2.71    5.335   5.092 ] label: 2\n",
            "coordinate: [10.74   12.73    0.8329  5.145   2.642   4.702   4.963 ] label: 2\n",
            "coordinate: [11.48   13.05    0.8473  5.18    2.758   5.876   5.002 ] label: 2\n",
            "coordinate: [12.21   13.47    0.8453  5.357   2.893   1.661   5.178 ] label: 0\n",
            "coordinate: [11.41  12.95   0.856  5.09   2.775  4.957  4.825] label: 2\n",
            "coordinate: [12.46   13.41    0.8706  5.236   3.017   4.987   5.147 ] label: 2\n",
            "coordinate: [12.19   13.36    0.8579  5.24    2.909   4.857   5.158 ] label: 2\n",
            "coordinate: [11.65   13.07    0.8575  5.108   2.85    5.209   5.135 ] label: 2\n",
            "coordinate: [12.89   13.77    0.8541  5.495   3.026   6.185   5.316 ] label: 2\n",
            "coordinate: [11.56   13.31    0.8198  5.363   2.683   4.062   5.182 ] label: 2\n",
            "coordinate: [11.81   13.45    0.8198  5.413   2.716   4.898   5.352 ] label: 2\n",
            "coordinate: [10.91   12.8     0.8372  5.088   2.675   4.179   4.956 ] label: 2\n",
            "coordinate: [11.23   12.82    0.8594  5.089   2.821   7.524   4.957 ] label: 2\n",
            "coordinate: [10.59   12.41    0.8648  4.899   2.787   4.975   4.794 ] label: 2\n",
            "coordinate: [10.93  12.8    0.839  5.046  2.717  5.398  5.045] label: 2\n",
            "coordinate: [11.27   12.86    0.8563  5.091   2.804   3.985   5.001 ] label: 2\n",
            "coordinate: [11.87   13.02    0.8795  5.132   2.953   3.597   5.132 ] label: 2\n",
            "coordinate: [10.82   12.83    0.8256  5.18    2.63    4.853   5.089 ] label: 2\n",
            "coordinate: [12.11   13.27    0.8639  5.236   2.975   4.132   5.012 ] label: 2\n",
            "coordinate: [12.8   13.47   0.886  5.16   3.126  4.873  4.914] label: 2\n",
            "coordinate: [12.79   13.53    0.8786  5.224   3.054   5.483   4.958 ] label: 2\n",
            "coordinate: [13.37   13.78    0.8849  5.32    3.128   4.67    5.091 ] label: 2\n",
            "coordinate: [12.62   13.67    0.8481  5.41    2.911   3.306   5.231 ] label: 2\n",
            "coordinate: [12.76   13.38    0.8964  5.073   3.155   2.828   4.83  ] label: 2\n",
            "coordinate: [12.38   13.44    0.8609  5.219   2.989   5.472   5.045 ] label: 2\n",
            "coordinate: [12.67   13.32    0.8977  4.984   3.135   2.3     4.745 ] label: 0\n",
            "coordinate: [11.18  12.72   0.868  5.009  2.81   4.051  4.828] label: 2\n",
            "coordinate: [12.7    13.41    0.8874  5.183   3.091   8.456   5.    ] label: 2\n",
            "coordinate: [12.37   13.47    0.8567  5.204   2.96    3.919   5.001 ] label: 2\n",
            "coordinate: [12.19   13.2     0.8783  5.137   2.981   3.631   4.87  ] label: 2\n",
            "coordinate: [11.23   12.88    0.8511  5.14    2.795   4.325   5.003 ] label: 2\n",
            "coordinate: [13.2    13.66    0.8883  5.236   3.232   8.315   5.056 ] label: 2\n",
            "coordinate: [11.84   13.21    0.8521  5.175   2.836   3.598   5.044 ] label: 2\n",
            "coordinate: [12.3    13.34    0.8684  5.243   2.974   5.637   5.063 ] label: 2\n"
          ],
          "name": "stdout"
        },
        {
          "output_type": "display_data",
          "data": {
            "image/png": "[encoded data removed]",
            "text/plain": [
              "<Figure size 432x288 with 1 Axes>"
            ]
          },
          "metadata": {
            "tags": [],
            "needs_background": "light"
          }
        }
      ]
    },
    {
      "cell_type": "markdown",
      "metadata": {
        "id": "MAhShP2sKcNA"
      },
      "source": [
        "KMEDOIDS"
      ]
    },
    {
      "cell_type": "code",
      "metadata": {
        "colab": {
          "base_uri": "https://localhost:8080/"
        },
        "id": "x4MZyL6hKg0u",
        "outputId": "e84c0cae-bb5a-40f6-cc2f-79117818f435"
      },
      "source": [
        "from sklearn_extra.cluster import KMedoids\r\n",
        "kmedoids = KMedoids(n_clusters=3)\r\n",
        "kmedoids.fit(x)"
      ],
      "execution_count": 25,
      "outputs": [
        {
          "output_type": "execute_result",
          "data": {
            "text/plain": [
              "KMedoids(init='heuristic', max_iter=300, metric='euclidean', n_clusters=3,\n",
              "         random_state=None)"
            ]
          },
          "metadata": {
            "tags": []
          },
          "execution_count": 25
        }
      ]
    },
    {
      "cell_type": "code",
      "metadata": {
        "colab": {
          "base_uri": "https://localhost:8080/"
        },
        "id": "yUaj7c9KLH1R",
        "outputId": "5e60ed4b-8610-4f63-a726-7b300773d8b0"
      },
      "source": [
        "centroid_doi = kmedoids.cluster_centers_\r\n",
        "labels_doi=kmedoids.labels_\r\n",
        "\r\n",
        "print(centroid_doi)\r\n",
        "print(labels_doi)"
      ],
      "execution_count": 26,
      "outputs": [
        {
          "output_type": "stream",
          "text": [
            "[[11.82   13.4     0.8274  5.314   2.777   4.471   5.178 ]\n",
            " [14.79   14.52    0.8819  5.545   3.291   2.704   5.111 ]\n",
            " [18.81   16.29    0.8906  6.272   3.693   3.237   6.053 ]]\n",
            "[1 1 1 1 1 1 1 1 1 1 1 1 1 1 1 0 1 1 0 1 1 1 0 1 1 0 0 1 1 1 1 1 1 1 1 1 2\n",
            " 1 0 1 1 1 1 1 1 1 1 1 1 1 1 1 1 1 1 1 1 1 0 0 0 0 0 1 1 1 1 1 0 2 2 2 2 2\n",
            " 2 2 2 2 2 2 2 2 2 2 2 2 2 2 2 2 2 2 2 2 2 2 2 2 2 1 2 2 2 2 2 2 2 2 2 2 2\n",
            " 2 2 2 2 2 2 2 2 2 2 1 2 1 2 2 2 2 2 2 2 1 1 1 1 2 1 1 1 0 0 0 0 0 0 0 0 0\n",
            " 0 0 0 0 0 0 0 0 0 0 0 0 0 0 0 0 0 0 0 0 0 0 0 0 0 0 0 0 0 0 0 0 0 0 0 0 0\n",
            " 0 0 0 0 0 0 0 0 0 0 0 0 0 0 0 0 0 0 0 0 0 0 0 0]\n"
          ],
          "name": "stdout"
        }
      ]
    },
    {
      "cell_type": "code",
      "metadata": {
        "colab": {
          "base_uri": "https://localhost:8080/",
          "height": 1000
        },
        "id": "3Exq-U6YLg0v",
        "outputId": "d02fb69f-d1da-4b3a-ddfa-98300b5cea36"
      },
      "source": [
        "colors = [\"g.\",\"r.\",\"c.\"]\r\n",
        "\r\n",
        "for i in range(len(x)):\r\n",
        "   print (\"coordinate:\" , x[i], \"label:\", labels_doi[i])\r\n",
        "   plt.plot(x[i][0],x[i][1],colors[labels_doi[i]],markersize=10)\r\n",
        "\r\n",
        "plt.scatter(centroid_doi[:,0],centroid_doi[:,1], marker = \"x\", s=150, linewidths = 5, zorder =10)\r\n",
        "\r\n",
        "plt.show()"
      ],
      "execution_count": 27,
      "outputs": [
        {
          "output_type": "stream",
          "text": [
            "coordinate: [14.88   14.57    0.8811  5.554   3.333   1.018   4.956 ] label: 1\n",
            "coordinate: [14.29  14.09   0.905  5.291  3.337  2.699  4.825] label: 1\n",
            "coordinate: [13.84   13.94    0.8955  5.324   3.379   2.259   4.805 ] label: 1\n",
            "coordinate: [16.14   14.99    0.9034  5.658   3.562   1.355   5.175 ] label: 1\n",
            "coordinate: [14.38   14.21    0.8951  5.386   3.312   2.462   4.956 ] label: 1\n",
            "coordinate: [14.69   14.49    0.8799  5.563   3.259   3.586   5.219 ] label: 1\n",
            "coordinate: [14.11   14.1     0.8911  5.42    3.302   2.7     5.    ] label: 1\n",
            "coordinate: [16.63   15.46    0.8747  6.053   3.465   2.04    5.877 ] label: 1\n",
            "coordinate: [16.44  15.25   0.888  5.884  3.505  1.969  5.533] label: 1\n",
            "coordinate: [15.26   14.85    0.8696  5.714   3.242   4.543   5.314 ] label: 1\n",
            "coordinate: [14.03   14.16    0.8796  5.438   3.201   1.717   5.001 ] label: 1\n",
            "coordinate: [13.89  14.02   0.888  5.439  3.199  3.986  4.738] label: 1\n",
            "coordinate: [13.78   14.06    0.8759  5.479   3.156   3.136   4.872 ] label: 1\n",
            "coordinate: [13.74   14.05    0.8744  5.482   3.114   2.932   4.825 ] label: 1\n",
            "coordinate: [14.59   14.28    0.8993  5.351   3.333   4.185   4.781 ] label: 1\n",
            "coordinate: [13.99   13.83    0.9183  5.119   3.383   5.234   4.781 ] label: 0\n",
            "coordinate: [15.69   14.75    0.9058  5.527   3.514   1.599   5.046 ] label: 1\n",
            "coordinate: [14.7    14.21    0.9153  5.205   3.466   1.767   4.649 ] label: 1\n",
            "coordinate: [12.72   13.57    0.8686  5.226   3.049   4.102   4.914 ] label: 0\n",
            "coordinate: [14.16   14.4     0.8584  5.658   3.129   3.072   5.176 ] label: 1\n",
            "coordinate: [14.11   14.26    0.8722  5.52    3.168   2.688   5.219 ] label: 1\n",
            "coordinate: [15.88   14.9     0.8988  5.618   3.507   0.7651  5.091 ] label: 1\n",
            "coordinate: [12.08   13.23    0.8664  5.099   2.936   1.415   4.961 ] label: 0\n",
            "coordinate: [15.01   14.76    0.8657  5.789   3.245   1.791   5.001 ] label: 1\n",
            "coordinate: [16.19   15.16    0.8849  5.833   3.421   0.903   5.307 ] label: 1\n",
            "coordinate: [13.02   13.76    0.8641  5.395   3.026   3.373   4.825 ] label: 0\n",
            "coordinate: [12.74   13.67    0.8564  5.395   2.956   2.504   4.869 ] label: 0\n",
            "coordinate: [14.11  14.18   0.882  5.541  3.221  2.754  5.038] label: 1\n",
            "coordinate: [13.45   14.02    0.8604  5.516   3.065   3.531   5.097 ] label: 1\n",
            "coordinate: [13.16   13.82    0.8662  5.454   2.975   0.8551  5.056 ] label: 1\n",
            "coordinate: [15.49   14.94    0.8724  5.757   3.371   3.412   5.228 ] label: 1\n",
            "coordinate: [14.09   14.41    0.8529  5.717   3.186   3.92    5.299 ] label: 1\n",
            "coordinate: [13.94   14.17    0.8728  5.585   3.15    2.124   5.012 ] label: 1\n",
            "coordinate: [15.05   14.68    0.8779  5.712   3.328   2.129   5.36  ] label: 1\n",
            "coordinate: [16.12  15.     0.9    5.709  3.485  2.27   5.443] label: 1\n",
            "coordinate: [16.2    15.27    0.8734  5.826   3.464   2.823   5.527 ] label: 1\n",
            "coordinate: [17.08   15.38    0.9079  5.832   3.683   2.956   5.484 ] label: 2\n",
            "coordinate: [14.8    14.52    0.8823  5.656   3.288   3.112   5.309 ] label: 1\n",
            "coordinate: [14.28   14.17    0.8944  5.397   3.298   6.685   5.001 ] label: 0\n",
            "coordinate: [13.54   13.85    0.8871  5.348   3.156   2.587   5.178 ] label: 1\n",
            "coordinate: [13.5    13.85    0.8852  5.351   3.158   2.249   5.176 ] label: 1\n",
            "coordinate: [13.16   13.55    0.9009  5.138   3.201   2.461   4.783 ] label: 1\n",
            "coordinate: [15.5   14.86   0.882  5.877  3.396  4.711  5.528] label: 1\n",
            "coordinate: [15.11   14.54    0.8986  5.579   3.462   3.128   5.18  ] label: 1\n",
            "coordinate: [13.8    14.04    0.8794  5.376   3.155   1.56    4.961 ] label: 1\n",
            "coordinate: [15.36   14.76    0.8861  5.701   3.393   1.367   5.132 ] label: 1\n",
            "coordinate: [14.99   14.56    0.8883  5.57    3.377   2.958   5.175 ] label: 1\n",
            "coordinate: [14.79   14.52    0.8819  5.545   3.291   2.704   5.111 ] label: 1\n",
            "coordinate: [14.86   14.67    0.8676  5.678   3.258   2.129   5.351 ] label: 1\n",
            "coordinate: [14.43   14.4     0.8751  5.585   3.272   3.975   5.144 ] label: 1\n",
            "coordinate: [15.78   14.91    0.8923  5.674   3.434   5.593   5.136 ] label: 1\n",
            "coordinate: [14.49   14.61    0.8538  5.715   3.113   4.116   5.396 ] label: 1\n",
            "coordinate: [14.33   14.28    0.8831  5.504   3.199   3.328   5.224 ] label: 1\n",
            "coordinate: [14.52   14.6     0.8557  5.741   3.113   1.481   5.487 ] label: 1\n",
            "coordinate: [15.03   14.77    0.8658  5.702   3.212   1.933   5.439 ] label: 1\n",
            "coordinate: [14.46   14.35    0.8818  5.388   3.377   2.802   5.044 ] label: 1\n",
            "coordinate: [14.92   14.43    0.9006  5.384   3.412   1.142   5.088 ] label: 1\n",
            "coordinate: [15.38   14.77    0.8857  5.662   3.419   1.999   5.222 ] label: 1\n",
            "coordinate: [12.11   13.47    0.8392  5.159   3.032   1.502   4.519 ] label: 0\n",
            "coordinate: [11.42   12.86    0.8683  5.008   2.85    2.7     4.607 ] label: 0\n",
            "coordinate: [11.23  12.63   0.884  4.902  2.879  2.269  4.703] label: 0\n",
            "coordinate: [12.36   13.19    0.8923  5.076   3.042   3.22    4.605 ] label: 0\n",
            "coordinate: [13.22  13.84   0.868  5.395  3.07   4.157  5.088] label: 0\n",
            "coordinate: [12.78   13.57    0.8716  5.262   3.026   1.176   4.782 ] label: 1\n",
            "coordinate: [12.88   13.5     0.8879  5.139   3.119   2.352   4.607 ] label: 1\n",
            "coordinate: [14.34   14.37    0.8726  5.63    3.19    1.313   5.15  ] label: 1\n",
            "coordinate: [14.01   14.29    0.8625  5.609   3.158   2.217   5.132 ] label: 1\n",
            "coordinate: [14.37   14.39    0.8726  5.569   3.153   1.464   5.3   ] label: 1\n",
            "coordinate: [12.73   13.75    0.8458  5.412   2.882   3.533   5.067 ] label: 0\n",
            "coordinate: [17.63   15.98    0.8673  6.191   3.561   4.076   6.06  ] label: 2\n",
            "coordinate: [16.84   15.67    0.8623  5.998   3.484   4.675   5.877 ] label: 2\n",
            "coordinate: [17.26   15.73    0.8763  5.978   3.594   4.539   5.791 ] label: 2\n",
            "coordinate: [19.11   16.26    0.9081  6.154   3.93    2.936   6.079 ] label: 2\n",
            "coordinate: [16.82   15.51    0.8786  6.017   3.486   4.004   5.841 ] label: 2\n",
            "coordinate: [16.77   15.62    0.8638  5.927   3.438   4.92    5.795 ] label: 2\n",
            "coordinate: [17.32   15.91    0.8599  6.064   3.403   3.824   5.922 ] label: 2\n",
            "coordinate: [20.71   17.23    0.8763  6.579   3.814   4.451   6.451 ] label: 2\n",
            "coordinate: [18.94  16.49   0.875  6.445  3.639  5.064  6.362] label: 2\n",
            "coordinate: [17.12   15.55    0.8892  5.85    3.566   2.858   5.746 ] label: 2\n",
            "coordinate: [16.53   15.34    0.8823  5.875   3.467   5.532   5.88  ] label: 2\n",
            "coordinate: [18.72   16.19    0.8977  6.006   3.857   5.324   5.879 ] label: 2\n",
            "coordinate: [20.2    16.89    0.8894  6.285   3.864   5.173   6.187 ] label: 2\n",
            "coordinate: [19.57   16.74    0.8779  6.384   3.772   1.472   6.273 ] label: 2\n",
            "coordinate: [19.51  16.71   0.878  6.366  3.801  2.962  6.185] label: 2\n",
            "coordinate: [18.27  16.09   0.887  6.173  3.651  2.443  6.197] label: 2\n",
            "coordinate: [18.88   16.26    0.8969  6.084   3.764   1.649   6.109 ] label: 2\n",
            "coordinate: [18.98  16.66   0.859  6.549  3.67   3.691  6.498] label: 2\n",
            "coordinate: [21.18   17.21    0.8989  6.573   4.033   5.78    6.231 ] label: 2\n",
            "coordinate: [20.88   17.05    0.9031  6.45    4.032   5.016   6.321 ] label: 2\n",
            "coordinate: [20.1    16.99    0.8746  6.581   3.785   1.955   6.449 ] label: 2\n",
            "coordinate: [18.76   16.2     0.8984  6.172   3.796   3.12    6.053 ] label: 2\n",
            "coordinate: [18.81   16.29    0.8906  6.272   3.693   3.237   6.053 ] label: 2\n",
            "coordinate: [18.59   16.05    0.9066  6.037   3.86    6.001   5.877 ] label: 2\n",
            "coordinate: [18.36   16.52    0.8452  6.666   3.485   4.933   6.448 ] label: 2\n",
            "coordinate: [16.87   15.65    0.8648  6.139   3.463   3.696   5.967 ] label: 2\n",
            "coordinate: [19.31   16.59    0.8815  6.341   3.81    3.477   6.238 ] label: 2\n",
            "coordinate: [18.98   16.57    0.8687  6.449   3.552   2.144   6.453 ] label: 2\n",
            "coordinate: [18.17   16.26    0.8637  6.271   3.512   2.853   6.273 ] label: 2\n",
            "coordinate: [18.72  16.34   0.881  6.219  3.684  2.188  6.097] label: 2\n",
            "coordinate: [16.41   15.25    0.8866  5.718   3.525   4.217   5.618 ] label: 1\n",
            "coordinate: [17.99   15.86    0.8992  5.89    3.694   2.068   5.837 ] label: 2\n",
            "coordinate: [19.46   16.5     0.8985  6.113   3.892   4.308   6.009 ] label: 2\n",
            "coordinate: [19.18   16.63    0.8717  6.369   3.681   3.357   6.229 ] label: 2\n",
            "coordinate: [18.95   16.42    0.8829  6.248   3.755   3.368   6.148 ] label: 2\n",
            "coordinate: [18.83   16.29    0.8917  6.037   3.786   2.553   5.879 ] label: 2\n",
            "coordinate: [18.85   16.17    0.9056  6.152   3.806   2.843   6.2   ] label: 2\n",
            "coordinate: [17.63  15.86   0.88   6.033  3.573  3.747  5.929] label: 2\n",
            "coordinate: [19.94   16.92    0.8752  6.675   3.763   3.252   6.55  ] label: 2\n",
            "coordinate: [18.55   16.22    0.8865  6.153   3.674   1.738   5.894 ] label: 2\n",
            "coordinate: [18.45   16.12    0.8921  6.107   3.769   2.235   5.794 ] label: 2\n",
            "coordinate: [19.38   16.72    0.8716  6.303   3.791   3.678   5.965 ] label: 2\n",
            "coordinate: [19.13   16.31    0.9035  6.183   3.902   2.109   5.924 ] label: 2\n",
            "coordinate: [19.14   16.61    0.8722  6.259   3.737   6.682   6.053 ] label: 2\n",
            "coordinate: [20.97   17.25    0.8859  6.563   3.991   4.677   6.316 ] label: 2\n",
            "coordinate: [19.06   16.45    0.8854  6.416   3.719   2.248   6.163 ] label: 2\n",
            "coordinate: [18.96   16.2     0.9077  6.051   3.897   4.334   5.75  ] label: 2\n",
            "coordinate: [19.15  16.45   0.889  6.245  3.815  3.084  6.185] label: 2\n",
            "coordinate: [18.89   16.23    0.9008  6.227   3.769   3.639   5.966 ] label: 2\n",
            "coordinate: [20.03   16.9     0.8811  6.493   3.857   3.063   6.32  ] label: 2\n",
            "coordinate: [20.24   16.91    0.8897  6.315   3.962   5.901   6.188 ] label: 2\n",
            "coordinate: [18.14   16.12    0.8772  6.059   3.563   3.619   6.011 ] label: 2\n",
            "coordinate: [16.17   15.38    0.8588  5.762   3.387   4.286   5.703 ] label: 1\n",
            "coordinate: [18.43   15.97    0.9077  5.98    3.771   2.984   5.905 ] label: 2\n",
            "coordinate: [15.99   14.89    0.9064  5.363   3.582   3.336   5.144 ] label: 1\n",
            "coordinate: [18.75   16.18    0.8999  6.111   3.869   4.188   5.992 ] label: 2\n",
            "coordinate: [18.65   16.41    0.8698  6.285   3.594   4.391   6.102 ] label: 2\n",
            "coordinate: [17.98   15.85    0.8993  5.979   3.687   2.257   5.919 ] label: 2\n",
            "coordinate: [20.16   17.03    0.8735  6.513   3.773   1.91    6.185 ] label: 2\n",
            "coordinate: [17.55   15.66    0.8991  5.791   3.69    5.366   5.661 ] label: 2\n",
            "coordinate: [18.3    15.89    0.9108  5.979   3.755   2.837   5.962 ] label: 2\n",
            "coordinate: [18.94   16.32    0.8942  6.144   3.825   2.908   5.949 ] label: 2\n",
            "coordinate: [15.38   14.9     0.8706  5.884   3.268   4.462   5.795 ] label: 1\n",
            "coordinate: [16.16   15.33    0.8644  5.845   3.395   4.266   5.795 ] label: 1\n",
            "coordinate: [15.56   14.89    0.8823  5.776   3.408   4.972   5.847 ] label: 1\n",
            "coordinate: [15.38  14.66   0.899  5.477  3.465  3.6    5.439] label: 1\n",
            "coordinate: [17.36   15.76    0.8785  6.145   3.574   3.526   5.971 ] label: 2\n",
            "coordinate: [15.57   15.15    0.8527  5.92    3.231   2.64    5.879 ] label: 1\n",
            "coordinate: [15.6   15.11   0.858  5.832  3.286  2.725  5.752] label: 1\n",
            "coordinate: [16.23  15.18   0.885  5.872  3.472  3.769  5.922] label: 1\n",
            "coordinate: [13.07  13.92   0.848  5.472  2.994  5.304  5.395] label: 0\n",
            "coordinate: [13.32   13.94    0.8613  5.541   3.073   7.035   5.44  ] label: 0\n",
            "coordinate: [13.34  13.95   0.862  5.389  3.074  5.995  5.307] label: 0\n",
            "coordinate: [12.22   13.32    0.8652  5.224   2.967   5.469   5.221 ] label: 0\n",
            "coordinate: [11.82   13.4     0.8274  5.314   2.777   4.471   5.178 ] label: 0\n",
            "coordinate: [11.21   13.13    0.8167  5.279   2.687   6.169   5.275 ] label: 0\n",
            "coordinate: [11.43   13.13    0.8335  5.176   2.719   2.221   5.132 ] label: 0\n",
            "coordinate: [12.49   13.46    0.8658  5.267   2.967   4.421   5.002 ] label: 0\n",
            "coordinate: [12.7    13.71    0.8491  5.386   2.911   3.26    5.316 ] label: 0\n",
            "coordinate: [10.79   12.93    0.8107  5.317   2.648   5.462   5.194 ] label: 0\n",
            "coordinate: [11.83   13.23    0.8496  5.263   2.84    5.195   5.307 ] label: 0\n",
            "coordinate: [12.01   13.52    0.8249  5.405   2.776   6.992   5.27  ] label: 0\n",
            "coordinate: [12.26   13.6     0.8333  5.408   2.833   4.756   5.36  ] label: 0\n",
            "coordinate: [11.18   13.04    0.8266  5.22    2.693   3.332   5.001 ] label: 0\n",
            "coordinate: [11.36   13.05    0.8382  5.175   2.755   4.048   5.263 ] label: 0\n",
            "coordinate: [11.19   13.05    0.8253  5.25    2.675   5.813   5.219 ] label: 0\n",
            "coordinate: [11.34   12.87    0.8596  5.053   2.849   3.347   5.003 ] label: 0\n",
            "coordinate: [12.13   13.73    0.8081  5.394   2.745   4.825   5.22  ] label: 0\n",
            "coordinate: [11.75   13.52    0.8082  5.444   2.678   4.378   5.31  ] label: 0\n",
            "coordinate: [11.49   13.22    0.8263  5.304   2.695   5.388   5.31  ] label: 0\n",
            "coordinate: [12.54   13.67    0.8425  5.451   2.879   3.082   5.491 ] label: 0\n",
            "coordinate: [12.02   13.33    0.8503  5.35    2.81    4.271   5.308 ] label: 0\n",
            "coordinate: [12.05   13.41    0.8416  5.267   2.847   4.988   5.046 ] label: 0\n",
            "coordinate: [12.55   13.57    0.8558  5.333   2.968   4.419   5.176 ] label: 0\n",
            "coordinate: [11.14   12.79    0.8558  5.011   2.794   6.388   5.049 ] label: 0\n",
            "coordinate: [12.1    13.15    0.8793  5.105   2.941   2.201   5.056 ] label: 0\n",
            "coordinate: [12.44   13.59    0.8462  5.319   2.897   4.924   5.27  ] label: 0\n",
            "coordinate: [12.15   13.45    0.8443  5.417   2.837   3.638   5.338 ] label: 0\n",
            "coordinate: [11.35   13.12    0.8291  5.176   2.668   4.337   5.132 ] label: 0\n",
            "coordinate: [11.24   13.      0.8359  5.09    2.715   3.521   5.088 ] label: 0\n",
            "coordinate: [11.02   13.      0.8189  5.325   2.701   6.735   5.163 ] label: 0\n",
            "coordinate: [11.55   13.1     0.8455  5.167   2.845   6.715   4.956 ] label: 0\n",
            "coordinate: [11.27   12.97    0.8419  5.088   2.763   4.309   5.    ] label: 0\n",
            "coordinate: [11.4    13.08    0.8375  5.136   2.763   5.588   5.089 ] label: 0\n",
            "coordinate: [10.83   12.96    0.8099  5.278   2.641   5.182   5.185 ] label: 0\n",
            "coordinate: [10.8   12.57   0.859  4.981  2.821  4.773  5.063] label: 0\n",
            "coordinate: [11.26   13.01    0.8355  5.186   2.71    5.335   5.092 ] label: 0\n",
            "coordinate: [10.74   12.73    0.8329  5.145   2.642   4.702   4.963 ] label: 0\n",
            "coordinate: [11.48   13.05    0.8473  5.18    2.758   5.876   5.002 ] label: 0\n",
            "coordinate: [12.21   13.47    0.8453  5.357   2.893   1.661   5.178 ] label: 0\n",
            "coordinate: [11.41  12.95   0.856  5.09   2.775  4.957  4.825] label: 0\n",
            "coordinate: [12.46   13.41    0.8706  5.236   3.017   4.987   5.147 ] label: 0\n",
            "coordinate: [12.19   13.36    0.8579  5.24    2.909   4.857   5.158 ] label: 0\n",
            "coordinate: [11.65   13.07    0.8575  5.108   2.85    5.209   5.135 ] label: 0\n",
            "coordinate: [12.89   13.77    0.8541  5.495   3.026   6.185   5.316 ] label: 0\n",
            "coordinate: [11.56   13.31    0.8198  5.363   2.683   4.062   5.182 ] label: 0\n",
            "coordinate: [11.81   13.45    0.8198  5.413   2.716   4.898   5.352 ] label: 0\n",
            "coordinate: [10.91   12.8     0.8372  5.088   2.675   4.179   4.956 ] label: 0\n",
            "coordinate: [11.23   12.82    0.8594  5.089   2.821   7.524   4.957 ] label: 0\n",
            "coordinate: [10.59   12.41    0.8648  4.899   2.787   4.975   4.794 ] label: 0\n",
            "coordinate: [10.93  12.8    0.839  5.046  2.717  5.398  5.045] label: 0\n",
            "coordinate: [11.27   12.86    0.8563  5.091   2.804   3.985   5.001 ] label: 0\n",
            "coordinate: [11.87   13.02    0.8795  5.132   2.953   3.597   5.132 ] label: 0\n",
            "coordinate: [10.82   12.83    0.8256  5.18    2.63    4.853   5.089 ] label: 0\n",
            "coordinate: [12.11   13.27    0.8639  5.236   2.975   4.132   5.012 ] label: 0\n",
            "coordinate: [12.8   13.47   0.886  5.16   3.126  4.873  4.914] label: 0\n",
            "coordinate: [12.79   13.53    0.8786  5.224   3.054   5.483   4.958 ] label: 0\n",
            "coordinate: [13.37   13.78    0.8849  5.32    3.128   4.67    5.091 ] label: 0\n",
            "coordinate: [12.62   13.67    0.8481  5.41    2.911   3.306   5.231 ] label: 0\n",
            "coordinate: [12.76   13.38    0.8964  5.073   3.155   2.828   4.83  ] label: 0\n",
            "coordinate: [12.38   13.44    0.8609  5.219   2.989   5.472   5.045 ] label: 0\n",
            "coordinate: [12.67   13.32    0.8977  4.984   3.135   2.3     4.745 ] label: 0\n",
            "coordinate: [11.18  12.72   0.868  5.009  2.81   4.051  4.828] label: 0\n",
            "coordinate: [12.7    13.41    0.8874  5.183   3.091   8.456   5.    ] label: 0\n",
            "coordinate: [12.37   13.47    0.8567  5.204   2.96    3.919   5.001 ] label: 0\n",
            "coordinate: [12.19   13.2     0.8783  5.137   2.981   3.631   4.87  ] label: 0\n",
            "coordinate: [11.23   12.88    0.8511  5.14    2.795   4.325   5.003 ] label: 0\n",
            "coordinate: [13.2    13.66    0.8883  5.236   3.232   8.315   5.056 ] label: 0\n",
            "coordinate: [11.84   13.21    0.8521  5.175   2.836   3.598   5.044 ] label: 0\n",
            "coordinate: [12.3    13.34    0.8684  5.243   2.974   5.637   5.063 ] label: 0\n"
          ],
          "name": "stdout"
        },
        {
          "output_type": "display_data",
          "data": {
            "image/png": "[encoded data removed]",
            "text/plain": [
              "<Figure size 432x288 with 1 Axes>"
            ]
          },
          "metadata": {
            "tags": [],
            "needs_background": "light"
          }
        }
      ]
    }
  ]
}