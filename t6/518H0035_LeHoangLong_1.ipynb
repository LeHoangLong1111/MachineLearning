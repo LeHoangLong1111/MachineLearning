{
  "nbformat": 4,
  "nbformat_minor": 0,
  "metadata": {
    "colab": {
      "name": "518H0035_LeHoangLong.ipynb",
      "provenance": [],
      "collapsed_sections": []
    },
    "kernelspec": {
      "name": "python3",
      "display_name": "Python 3"
    }
  },
  "cells": [
    {
      "cell_type": "code",
      "metadata": {
        "id": "mDijOE-pEFVp"
      },
      "source": [
        "import numpy as np\r\n",
        "import matplotlib.pyplot as plt"
      ],
      "execution_count": 1,
      "outputs": []
    },
    {
      "cell_type": "code",
      "metadata": {
        "colab": {
          "base_uri": "https://localhost:8080/",
          "height": 304
        },
        "id": "KL2rBe9gQf1H",
        "outputId": "a32c669a-ecae-4e2a-8097-2551c19d26e1"
      },
      "source": [
        "X = np.random.randint(30, size=20)\r\n",
        "Y = np.random.randint(30, size=20)\r\n",
        "print(X)\r\n",
        "print(Y)\r\n",
        "plt.plot(X,Y,'bo')\r\n",
        "plt.show()"
      ],
      "execution_count": 2,
      "outputs": [
        {
          "output_type": "stream",
          "text": [
            "[29 23  2  3 11 29  7 18 20  8 25 14 13 20 29 22 28 24 19 25]\n",
            "[ 5 26 19 20  4 21 18 29 22 21  4 26  4 10 29 29  5 12 23  8]\n"
          ],
          "name": "stdout"
        },
        {
          "output_type": "display_data",
          "data": {
            "image/png": "[encoded data removed]",
            "text/plain": [
              "<Figure size 432x288 with 1 Axes>"
            ]
          },
          "metadata": {
            "tags": [],
            "needs_background": "light"
          }
        }
      ]
    },
    {
      "cell_type": "code",
      "metadata": {
        "colab": {
          "base_uri": "https://localhost:8080/"
        },
        "id": "WhJ9KIF-Q8tx",
        "outputId": "f9506a9b-2188-4b55-c792-b97531b10951"
      },
      "source": [
        "X1=np.array([X])\r\n",
        "Y1=np.array([Y])\r\n",
        "Z=np.concatenate((X1.T,Y1.T),axis=1)\r\n",
        "print(Z)"
      ],
      "execution_count": 5,
      "outputs": [
        {
          "output_type": "stream",
          "text": [
            "[[29  5]\n",
            " [23 26]\n",
            " [ 2 19]\n",
            " [ 3 20]\n",
            " [11  4]\n",
            " [29 21]\n",
            " [ 7 18]\n",
            " [18 29]\n",
            " [20 22]\n",
            " [ 8 21]\n",
            " [25  4]\n",
            " [14 26]\n",
            " [13  4]\n",
            " [20 10]\n",
            " [29 29]\n",
            " [22 29]\n",
            " [28  5]\n",
            " [24 12]\n",
            " [19 23]\n",
            " [25  8]]\n"
          ],
          "name": "stdout"
        }
      ]
    },
    {
      "cell_type": "code",
      "metadata": {
        "colab": {
          "base_uri": "https://localhost:8080/"
        },
        "id": "1CPeJdBLRgts",
        "outputId": "f487df58-2af3-4428-d6dc-3f54b6bcc24e"
      },
      "source": [
        "from sklearn.cluster import KMeans\r\n",
        "kmeans = KMeans(n_clusters=3)\r\n",
        "kmeans.fit(Z)"
      ],
      "execution_count": 7,
      "outputs": [
        {
          "output_type": "execute_result",
          "data": {
            "text/plain": [
              "KMeans(algorithm='auto', copy_x=True, init='k-means++', max_iter=300,\n",
              "       n_clusters=3, n_init=10, n_jobs=None, precompute_distances='auto',\n",
              "       random_state=None, tol=0.0001, verbose=0)"
            ]
          },
          "metadata": {
            "tags": []
          },
          "execution_count": 7
        }
      ]
    },
    {
      "cell_type": "code",
      "metadata": {
        "colab": {
          "base_uri": "https://localhost:8080/"
        },
        "id": "cEmrlkg2R5lS",
        "outputId": "03f42d15-8337-476f-e2ed-0dd6e1157812"
      },
      "source": [
        "centroid = kmeans.cluster_centers_\r\n",
        "labels=kmeans.labels_\r\n",
        "\r\n",
        "print(centroid)\r\n",
        "print(labels)"
      ],
      "execution_count": 8,
      "outputs": [
        {
          "output_type": "stream",
          "text": [
            "[[21.875  6.5  ]\n",
            " [ 5.    19.5  ]\n",
            " [21.75  25.625]]\n",
            "[0 2 1 1 0 2 1 2 2 1 0 2 0 0 2 2 0 0 2 0]\n"
          ],
          "name": "stdout"
        }
      ]
    },
    {
      "cell_type": "code",
      "metadata": {
        "colab": {
          "base_uri": "https://localhost:8080/",
          "height": 631
        },
        "id": "rZ0kmHD9TKf1",
        "outputId": "3e167518-7588-4ad2-adae-c70524f98ce3"
      },
      "source": [
        "colors = [\"g.\", \"r.\", \"c.\"]\r\n",
        "\r\n",
        "for i in range(len(Z)):\r\n",
        "  print(\"coordinate:\", Z[i], \"label:\", labels[i])\r\n",
        "  plt.plot(Z[i][0], Z[i][1], colors[labels[i]], markersize=10)\r\n",
        "plt.scatter(centroid[:,0], centroid[:,1], marker=\"x\", s=150, linewidths=5, zorder=10)\r\n",
        "plt.show()"
      ],
      "execution_count": 11,
      "outputs": [
        {
          "output_type": "stream",
          "text": [
            "coordinate: [29  5] label: 0\n",
            "coordinate: [23 26] label: 2\n",
            "coordinate: [ 2 19] label: 1\n",
            "coordinate: [ 3 20] label: 1\n",
            "coordinate: [11  4] label: 0\n",
            "coordinate: [29 21] label: 2\n",
            "coordinate: [ 7 18] label: 1\n",
            "coordinate: [18 29] label: 2\n",
            "coordinate: [20 22] label: 2\n",
            "coordinate: [ 8 21] label: 1\n",
            "coordinate: [25  4] label: 0\n",
            "coordinate: [14 26] label: 2\n",
            "coordinate: [13  4] label: 0\n",
            "coordinate: [20 10] label: 0\n",
            "coordinate: [29 29] label: 2\n",
            "coordinate: [22 29] label: 2\n",
            "coordinate: [28  5] label: 0\n",
            "coordinate: [24 12] label: 0\n",
            "coordinate: [19 23] label: 2\n",
            "coordinate: [25  8] label: 0\n"
          ],
          "name": "stdout"
        },
        {
          "output_type": "display_data",
          "data": {
            "image/png": "[encoded data removed]",
            "text/plain": [
              "<Figure size 432x288 with 1 Axes>"
            ]
          },
          "metadata": {
            "tags": [],
            "needs_background": "light"
          }
        }
      ]
    },
    {
      "cell_type": "code",
      "metadata": {
        "id": "Wa7oanLZUOQs"
      },
      "source": [
        "#Kmedoids"
      ],
      "execution_count": null,
      "outputs": []
    },
    {
      "cell_type": "code",
      "metadata": {
        "colab": {
          "base_uri": "https://localhost:8080/"
        },
        "id": "i0eZnRMWWM6B",
        "outputId": "2304dd8a-cff7-411d-a1ba-ef36f51e6d19"
      },
      "source": [
        "pip install scikit-learn-extra"
      ],
      "execution_count": 17,
      "outputs": [
        {
          "output_type": "stream",
          "text": [
            "Collecting scikit-learn-extra\n",
            "\u001b[?25l  Downloading https://files.pythonhosted.org/packages/d1/dd/891d2ee7bd18af8f2e1df5d63a52ee96edd0eacc21bb9627072b1c5f6a6c/scikit-learn-extra-0.1.0b2.tar.gz (615kB)\n",
            "\u001b[K     |████████████████████████████████| 624kB 5.4MB/s \n",
            "\u001b[?25h  Installing build dependencies ... \u001b[?25l\u001b[?25hdone\n",
            "  Getting requirements to build wheel ... \u001b[?25l\u001b[?25hdone\n",
            "    Preparing wheel metadata ... \u001b[?25l\u001b[?25hdone\n",
            "Requirement already satisfied: scikit-learn>=0.21.0 in /usr/local/lib/python3.6/dist-packages (from scikit-learn-extra) (0.22.2.post1)\n",
            "Requirement already satisfied: scipy>=0.19.1 in /usr/local/lib/python3.6/dist-packages (from scikit-learn-extra) (1.4.1)\n",
            "Requirement already satisfied: numpy>=1.13.3 in /usr/local/lib/python3.6/dist-packages (from scikit-learn-extra) (1.19.5)\n",
            "Requirement already satisfied: joblib>=0.11 in /usr/local/lib/python3.6/dist-packages (from scikit-learn>=0.21.0->scikit-learn-extra) (1.0.0)\n",
            "Building wheels for collected packages: scikit-learn-extra\n",
            "  Building wheel for scikit-learn-extra (PEP 517) ... \u001b[?25l\u001b[?25hdone\n",
            "  Created wheel for scikit-learn-extra: filename=scikit_learn_extra-0.1.0b2-cp36-cp36m-linux_x86_64.whl size=339578 sha256=828942a136a86b376f5afab024b60454e1184c3b4f8dcc9667422e9c8f300d41\n",
            "  Stored in directory: /root/.cache/pip/wheels/04/01/0f/943bffb48bac048fa216b4325f1a6c939491ccb0ff500e08f4\n",
            "Successfully built scikit-learn-extra\n",
            "Installing collected packages: scikit-learn-extra\n",
            "Successfully installed scikit-learn-extra-0.1.0b2\n"
          ],
          "name": "stdout"
        }
      ]
    },
    {
      "cell_type": "code",
      "metadata": {
        "colab": {
          "base_uri": "https://localhost:8080/"
        },
        "id": "OjNF4y33UR3W",
        "outputId": "e0a89126-7abe-418f-999d-39688fa94e60"
      },
      "source": [
        "from sklearn_extra.cluster import KMedoids\r\n",
        "kmedoids = KMedoids(n_clusters=3)\r\n",
        "kmedoids.fit(Z)"
      ],
      "execution_count": 19,
      "outputs": [
        {
          "output_type": "execute_result",
          "data": {
            "text/plain": [
              "KMedoids(init='heuristic', max_iter=300, metric='euclidean', n_clusters=3,\n",
              "         random_state=None)"
            ]
          },
          "metadata": {
            "tags": []
          },
          "execution_count": 19
        }
      ]
    },
    {
      "cell_type": "code",
      "metadata": {
        "colab": {
          "base_uri": "https://localhost:8080/"
        },
        "id": "rxS_udTiWlVr",
        "outputId": "353420f2-9881-4cf7-fc72-ac1cc8b7975b"
      },
      "source": [
        "centroid = kmeans.cluster_centers_\r\n",
        "labels = kmeans.labels_\r\n",
        "\r\n",
        "print (centroid)\r\n",
        "print(labels)"
      ],
      "execution_count": 20,
      "outputs": [
        {
          "output_type": "stream",
          "text": [
            "[[21.875  6.5  ]\n",
            " [ 5.    19.5  ]\n",
            " [21.75  25.625]]\n",
            "[0 2 1 1 0 2 1 2 2 1 0 2 0 0 2 2 0 0 2 0]\n"
          ],
          "name": "stdout"
        }
      ]
    },
    {
      "cell_type": "code",
      "metadata": {
        "colab": {
          "base_uri": "https://localhost:8080/",
          "height": 267
        },
        "id": "JUxEpiu4WnUy",
        "outputId": "3140a2f6-14ac-4357-a3fb-dc1a13fd7aef"
      },
      "source": [
        "colors = [\"g.\",\"r.\",\"c.\"]\r\n",
        "for i in range(len(Z)):\r\n",
        "   #print (\"coordinate:\" , Z[i], \"label:\", labels[i])\r\n",
        "   plt.plot(Z[i][0],Z[i][1],colors[labels[i]],markersize=10)\r\n",
        "plt.scatter(centroid[:,0],centroid[:,1], marker = \"x\", s=150, linewidths = 5, zorder =10)\r\n",
        "plt.show()"
      ],
      "execution_count": 21,
      "outputs": [
        {
          "output_type": "display_data",
          "data": {
            "image/png": "[encoded data removed]",
            "text/plain": [
              "<Figure size 432x288 with 1 Axes>"
            ]
          },
          "metadata": {
            "tags": [],
            "needs_background": "light"
          }
        }
      ]
    },
    {
      "cell_type": "markdown",
      "metadata": {
        "id": "NDaHe8mwXKhP"
      },
      "source": [
        "Iris\r\n"
      ]
    },
    {
      "cell_type": "code",
      "metadata": {
        "colab": {
          "resources": {
            "http://localhost:8080/nbextensions/google.colab/files.js": {
              "data": "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",
              "ok": true,
              "headers": [
                [
                  "content-type",
                  "application/javascript"
                ]
              ],
              "status": 200,
              "status_text": ""
            }
          },
          "base_uri": "https://localhost:8080/",
          "height": 73
        },
        "id": "99b85NP4XNJt",
        "outputId": "a7f7f2cf-9fe2-44a6-b8dc-9f398c028928"
      },
      "source": [
        "from google.colab import files\r\n",
        "uploaded = files.upload()"
      ],
      "execution_count": 22,
      "outputs": [
        {
          "output_type": "display_data",
          "data": {
            "text/html": [
              "\n",
              "     <input type=\"file\" id=\"files-4296a01f-6b81-43f3-990e-b88d9d60cdf0\" name=\"files[]\" multiple disabled\n",
              "        style=\"border:none\" />\n",
              "     <output id=\"result-4296a01f-6b81-43f3-990e-b88d9d60cdf0\">\n",
              "      Upload widget is only available when the cell has been executed in the\n",
              "      current browser session. Please rerun this cell to enable.\n",
              "      </output>\n",
              "      <script src=\"/nbextensions/google.colab/files.js\"></script> "
            ],
            "text/plain": [
              "<IPython.core.display.HTML object>"
            ]
          },
          "metadata": {
            "tags": []
          }
        },
        {
          "output_type": "stream",
          "text": [
            "Saving iris.data to iris.data\n"
          ],
          "name": "stdout"
        }
      ]
    },
    {
      "cell_type": "code",
      "metadata": {
        "colab": {
          "base_uri": "https://localhost:8080/",
          "height": 407
        },
        "id": "jmCZzxDGYbfi",
        "outputId": "8ce06c48-540a-4df3-d5b2-6f9165beabcd"
      },
      "source": [
        "import numpy as np\r\n",
        "import pandas as pd\r\n",
        "import io\r\n",
        "dataframe = pd.read_csv(io.StringIO(uploaded['iris.data'].decode('utf-8')))\r\n",
        "dataframe"
      ],
      "execution_count": 27,
      "outputs": [
        {
          "output_type": "execute_result",
          "data": {
            "text/html": [
              "<div>\n",
              "<style scoped>\n",
              "    .dataframe tbody tr th:only-of-type {\n",
              "        vertical-align: middle;\n",
              "    }\n",
              "\n",
              "    .dataframe tbody tr th {\n",
              "        vertical-align: top;\n",
              "    }\n",
              "\n",
              "    .dataframe thead th {\n",
              "        text-align: right;\n",
              "    }\n",
              "</style>\n",
              "<table border=\"1\" class=\"dataframe\">\n",
              "  <thead>\n",
              "    <tr style=\"text-align: right;\">\n",
              "      <th></th>\n",
              "      <th>5.1</th>\n",
              "      <th>3.5</th>\n",
              "      <th>1.4</th>\n",
              "      <th>0.2</th>\n",
              "      <th>Iris-setosa</th>\n",
              "    </tr>\n",
              "  </thead>\n",
              "  <tbody>\n",
              "    <tr>\n",
              "      <th>0</th>\n",
              "      <td>4.9</td>\n",
              "      <td>3.0</td>\n",
              "      <td>1.4</td>\n",
              "      <td>0.2</td>\n",
              "      <td>Iris-setosa</td>\n",
              "    </tr>\n",
              "    <tr>\n",
              "      <th>1</th>\n",
              "      <td>4.7</td>\n",
              "      <td>3.2</td>\n",
              "      <td>1.3</td>\n",
              "      <td>0.2</td>\n",
              "      <td>Iris-setosa</td>\n",
              "    </tr>\n",
              "    <tr>\n",
              "      <th>2</th>\n",
              "      <td>4.6</td>\n",
              "      <td>3.1</td>\n",
              "      <td>1.5</td>\n",
              "      <td>0.2</td>\n",
              "      <td>Iris-setosa</td>\n",
              "    </tr>\n",
              "    <tr>\n",
              "      <th>3</th>\n",
              "      <td>5.0</td>\n",
              "      <td>3.6</td>\n",
              "      <td>1.4</td>\n",
              "      <td>0.2</td>\n",
              "      <td>Iris-setosa</td>\n",
              "    </tr>\n",
              "    <tr>\n",
              "      <th>4</th>\n",
              "      <td>5.4</td>\n",
              "      <td>3.9</td>\n",
              "      <td>1.7</td>\n",
              "      <td>0.4</td>\n",
              "      <td>Iris-setosa</td>\n",
              "    </tr>\n",
              "    <tr>\n",
              "      <th>...</th>\n",
              "      <td>...</td>\n",
              "      <td>...</td>\n",
              "      <td>...</td>\n",
              "      <td>...</td>\n",
              "      <td>...</td>\n",
              "    </tr>\n",
              "    <tr>\n",
              "      <th>144</th>\n",
              "      <td>6.7</td>\n",
              "      <td>3.0</td>\n",
              "      <td>5.2</td>\n",
              "      <td>2.3</td>\n",
              "      <td>Iris-virginica</td>\n",
              "    </tr>\n",
              "    <tr>\n",
              "      <th>145</th>\n",
              "      <td>6.3</td>\n",
              "      <td>2.5</td>\n",
              "      <td>5.0</td>\n",
              "      <td>1.9</td>\n",
              "      <td>Iris-virginica</td>\n",
              "    </tr>\n",
              "    <tr>\n",
              "      <th>146</th>\n",
              "      <td>6.5</td>\n",
              "      <td>3.0</td>\n",
              "      <td>5.2</td>\n",
              "      <td>2.0</td>\n",
              "      <td>Iris-virginica</td>\n",
              "    </tr>\n",
              "    <tr>\n",
              "      <th>147</th>\n",
              "      <td>6.2</td>\n",
              "      <td>3.4</td>\n",
              "      <td>5.4</td>\n",
              "      <td>2.3</td>\n",
              "      <td>Iris-virginica</td>\n",
              "    </tr>\n",
              "    <tr>\n",
              "      <th>148</th>\n",
              "      <td>5.9</td>\n",
              "      <td>3.0</td>\n",
              "      <td>5.1</td>\n",
              "      <td>1.8</td>\n",
              "      <td>Iris-virginica</td>\n",
              "    </tr>\n",
              "  </tbody>\n",
              "</table>\n",
              "<p>149 rows × 5 columns</p>\n",
              "</div>"
            ],
            "text/plain": [
              "     5.1  3.5  1.4  0.2     Iris-setosa\n",
              "0    4.9  3.0  1.4  0.2     Iris-setosa\n",
              "1    4.7  3.2  1.3  0.2     Iris-setosa\n",
              "2    4.6  3.1  1.5  0.2     Iris-setosa\n",
              "3    5.0  3.6  1.4  0.2     Iris-setosa\n",
              "4    5.4  3.9  1.7  0.4     Iris-setosa\n",
              "..   ...  ...  ...  ...             ...\n",
              "144  6.7  3.0  5.2  2.3  Iris-virginica\n",
              "145  6.3  2.5  5.0  1.9  Iris-virginica\n",
              "146  6.5  3.0  5.2  2.0  Iris-virginica\n",
              "147  6.2  3.4  5.4  2.3  Iris-virginica\n",
              "148  5.9  3.0  5.1  1.8  Iris-virginica\n",
              "\n",
              "[149 rows x 5 columns]"
            ]
          },
          "metadata": {
            "tags": []
          },
          "execution_count": 27
        }
      ]
    },
    {
      "cell_type": "code",
      "metadata": {
        "colab": {
          "base_uri": "https://localhost:8080/"
        },
        "id": "QDDoAs3VZJG_",
        "outputId": "c0c2c85e-8eb5-4f7b-8d65-e31a95d55ce6"
      },
      "source": [
        "x = dataframe.iloc[:, [0,1,2,3]].values\r\n",
        "print(x)"
      ],
      "execution_count": 30,
      "outputs": [
        {
          "output_type": "stream",
          "text": [
            "[[4.9 3.  1.4 0.2]\n",
            " [4.7 3.2 1.3 0.2]\n",
            " [4.6 3.1 1.5 0.2]\n",
            " [5.  3.6 1.4 0.2]\n",
            " [5.4 3.9 1.7 0.4]\n",
            " [4.6 3.4 1.4 0.3]\n",
            " [5.  3.4 1.5 0.2]\n",
            " [4.4 2.9 1.4 0.2]\n",
            " [4.9 3.1 1.5 0.1]\n",
            " [5.4 3.7 1.5 0.2]\n",
            " [4.8 3.4 1.6 0.2]\n",
            " [4.8 3.  1.4 0.1]\n",
            " [4.3 3.  1.1 0.1]\n",
            " [5.8 4.  1.2 0.2]\n",
            " [5.7 4.4 1.5 0.4]\n",
            " [5.4 3.9 1.3 0.4]\n",
            " [5.1 3.5 1.4 0.3]\n",
            " [5.7 3.8 1.7 0.3]\n",
            " [5.1 3.8 1.5 0.3]\n",
            " [5.4 3.4 1.7 0.2]\n",
            " [5.1 3.7 1.5 0.4]\n",
            " [4.6 3.6 1.  0.2]\n",
            " [5.1 3.3 1.7 0.5]\n",
            " [4.8 3.4 1.9 0.2]\n",
            " [5.  3.  1.6 0.2]\n",
            " [5.  3.4 1.6 0.4]\n",
            " [5.2 3.5 1.5 0.2]\n",
            " [5.2 3.4 1.4 0.2]\n",
            " [4.7 3.2 1.6 0.2]\n",
            " [4.8 3.1 1.6 0.2]\n",
            " [5.4 3.4 1.5 0.4]\n",
            " [5.2 4.1 1.5 0.1]\n",
            " [5.5 4.2 1.4 0.2]\n",
            " [4.9 3.1 1.5 0.1]\n",
            " [5.  3.2 1.2 0.2]\n",
            " [5.5 3.5 1.3 0.2]\n",
            " [4.9 3.1 1.5 0.1]\n",
            " [4.4 3.  1.3 0.2]\n",
            " [5.1 3.4 1.5 0.2]\n",
            " [5.  3.5 1.3 0.3]\n",
            " [4.5 2.3 1.3 0.3]\n",
            " [4.4 3.2 1.3 0.2]\n",
            " [5.  3.5 1.6 0.6]\n",
            " [5.1 3.8 1.9 0.4]\n",
            " [4.8 3.  1.4 0.3]\n",
            " [5.1 3.8 1.6 0.2]\n",
            " [4.6 3.2 1.4 0.2]\n",
            " [5.3 3.7 1.5 0.2]\n",
            " [5.  3.3 1.4 0.2]\n",
            " [7.  3.2 4.7 1.4]\n",
            " [6.4 3.2 4.5 1.5]\n",
            " [6.9 3.1 4.9 1.5]\n",
            " [5.5 2.3 4.  1.3]\n",
            " [6.5 2.8 4.6 1.5]\n",
            " [5.7 2.8 4.5 1.3]\n",
            " [6.3 3.3 4.7 1.6]\n",
            " [4.9 2.4 3.3 1. ]\n",
            " [6.6 2.9 4.6 1.3]\n",
            " [5.2 2.7 3.9 1.4]\n",
            " [5.  2.  3.5 1. ]\n",
            " [5.9 3.  4.2 1.5]\n",
            " [6.  2.2 4.  1. ]\n",
            " [6.1 2.9 4.7 1.4]\n",
            " [5.6 2.9 3.6 1.3]\n",
            " [6.7 3.1 4.4 1.4]\n",
            " [5.6 3.  4.5 1.5]\n",
            " [5.8 2.7 4.1 1. ]\n",
            " [6.2 2.2 4.5 1.5]\n",
            " [5.6 2.5 3.9 1.1]\n",
            " [5.9 3.2 4.8 1.8]\n",
            " [6.1 2.8 4.  1.3]\n",
            " [6.3 2.5 4.9 1.5]\n",
            " [6.1 2.8 4.7 1.2]\n",
            " [6.4 2.9 4.3 1.3]\n",
            " [6.6 3.  4.4 1.4]\n",
            " [6.8 2.8 4.8 1.4]\n",
            " [6.7 3.  5.  1.7]\n",
            " [6.  2.9 4.5 1.5]\n",
            " [5.7 2.6 3.5 1. ]\n",
            " [5.5 2.4 3.8 1.1]\n",
            " [5.5 2.4 3.7 1. ]\n",
            " [5.8 2.7 3.9 1.2]\n",
            " [6.  2.7 5.1 1.6]\n",
            " [5.4 3.  4.5 1.5]\n",
            " [6.  3.4 4.5 1.6]\n",
            " [6.7 3.1 4.7 1.5]\n",
            " [6.3 2.3 4.4 1.3]\n",
            " [5.6 3.  4.1 1.3]\n",
            " [5.5 2.5 4.  1.3]\n",
            " [5.5 2.6 4.4 1.2]\n",
            " [6.1 3.  4.6 1.4]\n",
            " [5.8 2.6 4.  1.2]\n",
            " [5.  2.3 3.3 1. ]\n",
            " [5.6 2.7 4.2 1.3]\n",
            " [5.7 3.  4.2 1.2]\n",
            " [5.7 2.9 4.2 1.3]\n",
            " [6.2 2.9 4.3 1.3]\n",
            " [5.1 2.5 3.  1.1]\n",
            " [5.7 2.8 4.1 1.3]\n",
            " [6.3 3.3 6.  2.5]\n",
            " [5.8 2.7 5.1 1.9]\n",
            " [7.1 3.  5.9 2.1]\n",
            " [6.3 2.9 5.6 1.8]\n",
            " [6.5 3.  5.8 2.2]\n",
            " [7.6 3.  6.6 2.1]\n",
            " [4.9 2.5 4.5 1.7]\n",
            " [7.3 2.9 6.3 1.8]\n",
            " [6.7 2.5 5.8 1.8]\n",
            " [7.2 3.6 6.1 2.5]\n",
            " [6.5 3.2 5.1 2. ]\n",
            " [6.4 2.7 5.3 1.9]\n",
            " [6.8 3.  5.5 2.1]\n",
            " [5.7 2.5 5.  2. ]\n",
            " [5.8 2.8 5.1 2.4]\n",
            " [6.4 3.2 5.3 2.3]\n",
            " [6.5 3.  5.5 1.8]\n",
            " [7.7 3.8 6.7 2.2]\n",
            " [7.7 2.6 6.9 2.3]\n",
            " [6.  2.2 5.  1.5]\n",
            " [6.9 3.2 5.7 2.3]\n",
            " [5.6 2.8 4.9 2. ]\n",
            " [7.7 2.8 6.7 2. ]\n",
            " [6.3 2.7 4.9 1.8]\n",
            " [6.7 3.3 5.7 2.1]\n",
            " [7.2 3.2 6.  1.8]\n",
            " [6.2 2.8 4.8 1.8]\n",
            " [6.1 3.  4.9 1.8]\n",
            " [6.4 2.8 5.6 2.1]\n",
            " [7.2 3.  5.8 1.6]\n",
            " [7.4 2.8 6.1 1.9]\n",
            " [7.9 3.8 6.4 2. ]\n",
            " [6.4 2.8 5.6 2.2]\n",
            " [6.3 2.8 5.1 1.5]\n",
            " [6.1 2.6 5.6 1.4]\n",
            " [7.7 3.  6.1 2.3]\n",
            " [6.3 3.4 5.6 2.4]\n",
            " [6.4 3.1 5.5 1.8]\n",
            " [6.  3.  4.8 1.8]\n",
            " [6.9 3.1 5.4 2.1]\n",
            " [6.7 3.1 5.6 2.4]\n",
            " [6.9 3.1 5.1 2.3]\n",
            " [5.8 2.7 5.1 1.9]\n",
            " [6.8 3.2 5.9 2.3]\n",
            " [6.7 3.3 5.7 2.5]\n",
            " [6.7 3.  5.2 2.3]\n",
            " [6.3 2.5 5.  1.9]\n",
            " [6.5 3.  5.2 2. ]\n",
            " [6.2 3.4 5.4 2.3]\n",
            " [5.9 3.  5.1 1.8]]\n"
          ],
          "name": "stdout"
        }
      ]
    },
    {
      "cell_type": "code",
      "metadata": {
        "colab": {
          "base_uri": "https://localhost:8080/"
        },
        "id": "mR1ai-Huar0D",
        "outputId": "e7e3ca1d-0367-41ac-acdb-483f55192bff"
      },
      "source": [
        "from sklearn.cluster import KMeans\r\n",
        "kmeans = KMeans(n_clusters=3)\r\n",
        "kmeans.fit(x)"
      ],
      "execution_count": 31,
      "outputs": [
        {
          "output_type": "execute_result",
          "data": {
            "text/plain": [
              "KMeans(algorithm='auto', copy_x=True, init='k-means++', max_iter=300,\n",
              "       n_clusters=3, n_init=10, n_jobs=None, precompute_distances='auto',\n",
              "       random_state=None, tol=0.0001, verbose=0)"
            ]
          },
          "metadata": {
            "tags": []
          },
          "execution_count": 31
        }
      ]
    },
    {
      "cell_type": "code",
      "metadata": {
        "colab": {
          "base_uri": "https://localhost:8080/"
        },
        "id": "h0oVMLDhavJK",
        "outputId": "cdc4a11f-3928-41ad-f3ce-8c294dfa3246"
      },
      "source": [
        "centroid = kmeans.cluster_centers_\r\n",
        "labels = kmeans.labels_\r\n",
        "print (centroid)\r\n",
        "print(labels)"
      ],
      "execution_count": 32,
      "outputs": [
        {
          "output_type": "stream",
          "text": [
            "[[5.00408163 3.41632653 1.46530612 0.24489796]\n",
            " [5.9016129  2.7483871  4.39354839 1.43387097]\n",
            " [6.85       3.07368421 5.74210526 2.07105263]]\n",
            "[0 0 0 0 0 0 0 0 0 0 0 0 0 0 0 0 0 0 0 0 0 0 0 0 0 0 0 0 0 0 0 0 0 0 0 0 0\n",
            " 0 0 0 0 0 0 0 0 0 0 0 0 1 1 2 1 1 1 1 1 1 1 1 1 1 1 1 1 1 1 1 1 1 1 1 1 1\n",
            " 1 1 2 1 1 1 1 1 1 1 1 1 1 1 1 1 1 1 1 1 1 1 1 1 1 2 1 2 2 2 2 1 2 2 2 2 2\n",
            " 2 1 1 2 2 2 2 1 2 1 2 1 2 2 1 1 2 2 2 2 2 1 2 2 2 2 1 2 2 2 1 2 2 2 1 2 2\n",
            " 1]\n"
          ],
          "name": "stdout"
        }
      ]
    },
    {
      "cell_type": "code",
      "metadata": {
        "colab": {
          "base_uri": "https://localhost:8080/",
          "height": 1000
        },
        "id": "EhuJmSQwaxUm",
        "outputId": "de96eb38-2843-428a-800b-bdc787c0234c"
      },
      "source": [
        "colors = [\"g.\",\"r.\",\"c.\"]\r\n",
        "\r\n",
        "for i in range(len(x)):\r\n",
        "   print (\"coordinate:\" , x[i], \"label:\", labels[i])\r\n",
        "   plt.plot(x[i][0],x[i][1],colors[labels[i]],markersize=10)\r\n",
        "\r\n",
        "plt.scatter(centroid[:,0],centroid[:,1], marker = \"x\", s=150, linewidths = 5, zorder =10)\r\n",
        "\r\n",
        "plt.show()"
      ],
      "execution_count": 33,
      "outputs": [
        {
          "output_type": "stream",
          "text": [
            "coordinate: [4.9 3.  1.4 0.2] label: 0\n",
            "coordinate: [4.7 3.2 1.3 0.2] label: 0\n",
            "coordinate: [4.6 3.1 1.5 0.2] label: 0\n",
            "coordinate: [5.  3.6 1.4 0.2] label: 0\n",
            "coordinate: [5.4 3.9 1.7 0.4] label: 0\n",
            "coordinate: [4.6 3.4 1.4 0.3] label: 0\n",
            "coordinate: [5.  3.4 1.5 0.2] label: 0\n",
            "coordinate: [4.4 2.9 1.4 0.2] label: 0\n",
            "coordinate: [4.9 3.1 1.5 0.1] label: 0\n",
            "coordinate: [5.4 3.7 1.5 0.2] label: 0\n",
            "coordinate: [4.8 3.4 1.6 0.2] label: 0\n",
            "coordinate: [4.8 3.  1.4 0.1] label: 0\n",
            "coordinate: [4.3 3.  1.1 0.1] label: 0\n",
            "coordinate: [5.8 4.  1.2 0.2] label: 0\n",
            "coordinate: [5.7 4.4 1.5 0.4] label: 0\n",
            "coordinate: [5.4 3.9 1.3 0.4] label: 0\n",
            "coordinate: [5.1 3.5 1.4 0.3] label: 0\n",
            "coordinate: [5.7 3.8 1.7 0.3] label: 0\n",
            "coordinate: [5.1 3.8 1.5 0.3] label: 0\n",
            "coordinate: [5.4 3.4 1.7 0.2] label: 0\n",
            "coordinate: [5.1 3.7 1.5 0.4] label: 0\n",
            "coordinate: [4.6 3.6 1.  0.2] label: 0\n",
            "coordinate: [5.1 3.3 1.7 0.5] label: 0\n",
            "coordinate: [4.8 3.4 1.9 0.2] label: 0\n",
            "coordinate: [5.  3.  1.6 0.2] label: 0\n",
            "coordinate: [5.  3.4 1.6 0.4] label: 0\n",
            "coordinate: [5.2 3.5 1.5 0.2] label: 0\n",
            "coordinate: [5.2 3.4 1.4 0.2] label: 0\n",
            "coordinate: [4.7 3.2 1.6 0.2] label: 0\n",
            "coordinate: [4.8 3.1 1.6 0.2] label: 0\n",
            "coordinate: [5.4 3.4 1.5 0.4] label: 0\n",
            "coordinate: [5.2 4.1 1.5 0.1] label: 0\n",
            "coordinate: [5.5 4.2 1.4 0.2] label: 0\n",
            "coordinate: [4.9 3.1 1.5 0.1] label: 0\n",
            "coordinate: [5.  3.2 1.2 0.2] label: 0\n",
            "coordinate: [5.5 3.5 1.3 0.2] label: 0\n",
            "coordinate: [4.9 3.1 1.5 0.1] label: 0\n",
            "coordinate: [4.4 3.  1.3 0.2] label: 0\n",
            "coordinate: [5.1 3.4 1.5 0.2] label: 0\n",
            "coordinate: [5.  3.5 1.3 0.3] label: 0\n",
            "coordinate: [4.5 2.3 1.3 0.3] label: 0\n",
            "coordinate: [4.4 3.2 1.3 0.2] label: 0\n",
            "coordinate: [5.  3.5 1.6 0.6] label: 0\n",
            "coordinate: [5.1 3.8 1.9 0.4] label: 0\n",
            "coordinate: [4.8 3.  1.4 0.3] label: 0\n",
            "coordinate: [5.1 3.8 1.6 0.2] label: 0\n",
            "coordinate: [4.6 3.2 1.4 0.2] label: 0\n",
            "coordinate: [5.3 3.7 1.5 0.2] label: 0\n",
            "coordinate: [5.  3.3 1.4 0.2] label: 0\n",
            "coordinate: [7.  3.2 4.7 1.4] label: 1\n",
            "coordinate: [6.4 3.2 4.5 1.5] label: 1\n",
            "coordinate: [6.9 3.1 4.9 1.5] label: 2\n",
            "coordinate: [5.5 2.3 4.  1.3] label: 1\n",
            "coordinate: [6.5 2.8 4.6 1.5] label: 1\n",
            "coordinate: [5.7 2.8 4.5 1.3] label: 1\n",
            "coordinate: [6.3 3.3 4.7 1.6] label: 1\n",
            "coordinate: [4.9 2.4 3.3 1. ] label: 1\n",
            "coordinate: [6.6 2.9 4.6 1.3] label: 1\n",
            "coordinate: [5.2 2.7 3.9 1.4] label: 1\n",
            "coordinate: [5.  2.  3.5 1. ] label: 1\n",
            "coordinate: [5.9 3.  4.2 1.5] label: 1\n",
            "coordinate: [6.  2.2 4.  1. ] label: 1\n",
            "coordinate: [6.1 2.9 4.7 1.4] label: 1\n",
            "coordinate: [5.6 2.9 3.6 1.3] label: 1\n",
            "coordinate: [6.7 3.1 4.4 1.4] label: 1\n",
            "coordinate: [5.6 3.  4.5 1.5] label: 1\n",
            "coordinate: [5.8 2.7 4.1 1. ] label: 1\n",
            "coordinate: [6.2 2.2 4.5 1.5] label: 1\n",
            "coordinate: [5.6 2.5 3.9 1.1] label: 1\n",
            "coordinate: [5.9 3.2 4.8 1.8] label: 1\n",
            "coordinate: [6.1 2.8 4.  1.3] label: 1\n",
            "coordinate: [6.3 2.5 4.9 1.5] label: 1\n",
            "coordinate: [6.1 2.8 4.7 1.2] label: 1\n",
            "coordinate: [6.4 2.9 4.3 1.3] label: 1\n",
            "coordinate: [6.6 3.  4.4 1.4] label: 1\n",
            "coordinate: [6.8 2.8 4.8 1.4] label: 1\n",
            "coordinate: [6.7 3.  5.  1.7] label: 2\n",
            "coordinate: [6.  2.9 4.5 1.5] label: 1\n",
            "coordinate: [5.7 2.6 3.5 1. ] label: 1\n",
            "coordinate: [5.5 2.4 3.8 1.1] label: 1\n",
            "coordinate: [5.5 2.4 3.7 1. ] label: 1\n",
            "coordinate: [5.8 2.7 3.9 1.2] label: 1\n",
            "coordinate: [6.  2.7 5.1 1.6] label: 1\n",
            "coordinate: [5.4 3.  4.5 1.5] label: 1\n",
            "coordinate: [6.  3.4 4.5 1.6] label: 1\n",
            "coordinate: [6.7 3.1 4.7 1.5] label: 1\n",
            "coordinate: [6.3 2.3 4.4 1.3] label: 1\n",
            "coordinate: [5.6 3.  4.1 1.3] label: 1\n",
            "coordinate: [5.5 2.5 4.  1.3] label: 1\n",
            "coordinate: [5.5 2.6 4.4 1.2] label: 1\n",
            "coordinate: [6.1 3.  4.6 1.4] label: 1\n",
            "coordinate: [5.8 2.6 4.  1.2] label: 1\n",
            "coordinate: [5.  2.3 3.3 1. ] label: 1\n",
            "coordinate: [5.6 2.7 4.2 1.3] label: 1\n",
            "coordinate: [5.7 3.  4.2 1.2] label: 1\n",
            "coordinate: [5.7 2.9 4.2 1.3] label: 1\n",
            "coordinate: [6.2 2.9 4.3 1.3] label: 1\n",
            "coordinate: [5.1 2.5 3.  1.1] label: 1\n",
            "coordinate: [5.7 2.8 4.1 1.3] label: 1\n",
            "coordinate: [6.3 3.3 6.  2.5] label: 2\n",
            "coordinate: [5.8 2.7 5.1 1.9] label: 1\n",
            "coordinate: [7.1 3.  5.9 2.1] label: 2\n",
            "coordinate: [6.3 2.9 5.6 1.8] label: 2\n",
            "coordinate: [6.5 3.  5.8 2.2] label: 2\n",
            "coordinate: [7.6 3.  6.6 2.1] label: 2\n",
            "coordinate: [4.9 2.5 4.5 1.7] label: 1\n",
            "coordinate: [7.3 2.9 6.3 1.8] label: 2\n",
            "coordinate: [6.7 2.5 5.8 1.8] label: 2\n",
            "coordinate: [7.2 3.6 6.1 2.5] label: 2\n",
            "coordinate: [6.5 3.2 5.1 2. ] label: 2\n",
            "coordinate: [6.4 2.7 5.3 1.9] label: 2\n",
            "coordinate: [6.8 3.  5.5 2.1] label: 2\n",
            "coordinate: [5.7 2.5 5.  2. ] label: 1\n",
            "coordinate: [5.8 2.8 5.1 2.4] label: 1\n",
            "coordinate: [6.4 3.2 5.3 2.3] label: 2\n",
            "coordinate: [6.5 3.  5.5 1.8] label: 2\n",
            "coordinate: [7.7 3.8 6.7 2.2] label: 2\n",
            "coordinate: [7.7 2.6 6.9 2.3] label: 2\n",
            "coordinate: [6.  2.2 5.  1.5] label: 1\n",
            "coordinate: [6.9 3.2 5.7 2.3] label: 2\n",
            "coordinate: [5.6 2.8 4.9 2. ] label: 1\n",
            "coordinate: [7.7 2.8 6.7 2. ] label: 2\n",
            "coordinate: [6.3 2.7 4.9 1.8] label: 1\n",
            "coordinate: [6.7 3.3 5.7 2.1] label: 2\n",
            "coordinate: [7.2 3.2 6.  1.8] label: 2\n",
            "coordinate: [6.2 2.8 4.8 1.8] label: 1\n",
            "coordinate: [6.1 3.  4.9 1.8] label: 1\n",
            "coordinate: [6.4 2.8 5.6 2.1] label: 2\n",
            "coordinate: [7.2 3.  5.8 1.6] label: 2\n",
            "coordinate: [7.4 2.8 6.1 1.9] label: 2\n",
            "coordinate: [7.9 3.8 6.4 2. ] label: 2\n",
            "coordinate: [6.4 2.8 5.6 2.2] label: 2\n",
            "coordinate: [6.3 2.8 5.1 1.5] label: 1\n",
            "coordinate: [6.1 2.6 5.6 1.4] label: 2\n",
            "coordinate: [7.7 3.  6.1 2.3] label: 2\n",
            "coordinate: [6.3 3.4 5.6 2.4] label: 2\n",
            "coordinate: [6.4 3.1 5.5 1.8] label: 2\n",
            "coordinate: [6.  3.  4.8 1.8] label: 1\n",
            "coordinate: [6.9 3.1 5.4 2.1] label: 2\n",
            "coordinate: [6.7 3.1 5.6 2.4] label: 2\n",
            "coordinate: [6.9 3.1 5.1 2.3] label: 2\n",
            "coordinate: [5.8 2.7 5.1 1.9] label: 1\n",
            "coordinate: [6.8 3.2 5.9 2.3] label: 2\n",
            "coordinate: [6.7 3.3 5.7 2.5] label: 2\n",
            "coordinate: [6.7 3.  5.2 2.3] label: 2\n",
            "coordinate: [6.3 2.5 5.  1.9] label: 1\n",
            "coordinate: [6.5 3.  5.2 2. ] label: 2\n",
            "coordinate: [6.2 3.4 5.4 2.3] label: 2\n",
            "coordinate: [5.9 3.  5.1 1.8] label: 1\n"
          ],
          "name": "stdout"
        },
        {
          "output_type": "display_data",
          "data": {
            "image/png": "[encoded data removed]",
            "text/plain": [
              "<Figure size 432x288 with 1 Axes>"
            ]
          },
          "metadata": {
            "tags": [],
            "needs_background": "light"
          }
        }
      ]
    }
  ]
}