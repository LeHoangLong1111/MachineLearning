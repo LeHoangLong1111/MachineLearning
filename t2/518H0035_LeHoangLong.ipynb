{
  "nbformat": 4,
  "nbformat_minor": 0,
  "metadata": {
    "colab": {
      "name": "518H0035_LeHoangLong.ipynb",
      "provenance": [],
      "collapsed_sections": []
    },
    "kernelspec": {
      "name": "python3",
      "display_name": "Python 3"
    }
  },
  "cells": [
    {
      "cell_type": "code",
      "metadata": {
        "id": "SfxLk2jfhECk"
      },
      "source": [
        "import numpy as np\r\n",
        "import matplotlib.pyplot as plt\r\n",
        "from sklearn import preprocessing"
      ],
      "execution_count": 27,
      "outputs": []
    },
    {
      "cell_type": "code",
      "metadata": {
        "id": "_Bt9zTT5hI7-"
      },
      "source": [
        "height= [5,5.11,5.6,5.9,4.8,5.8,5.3,5.8,5.5,5.6]\r\n",
        "age = [45,26,30,34,40,36,19,28,23,32]\r\n",
        "weight = [77,47, 55, 59, 72, 60, 40, 60, 45, 58]\r\n",
        "label = ['H','L','M','M','H','M','L','M','L','M']\r\n",
        "height_x=5.5\r\n",
        "age_y=38\r\n"
      ],
      "execution_count": 34,
      "outputs": []
    },
    {
      "cell_type": "code",
      "metadata": {
        "id": "nsquxGZ4iDSr"
      },
      "source": [
        "# tính khoảng cách\r\n",
        "import math\r\n",
        "def get_distance(a,b,X_train,Y_train): # điểm test là (a,b)\r\n",
        "    distance = []\r\n",
        "    for i in range(len(X_train)):\r\n",
        "        d = (X_train[i]-a)**2 + (Y_train[i]-b)**2\r\n",
        "        distance.append(math.sqrt(d))\r\n",
        "    return distance "
      ],
      "execution_count": 32,
      "outputs": []
    },
    {
      "cell_type": "code",
      "metadata": {
        "colab": {
          "base_uri": "https://localhost:8080/"
        },
        "id": "B8HEyvp6sxwM",
        "outputId": "1d8fac86-df6d-4227-966f-b82f434d8d64"
      },
      "source": [
        "d = get_distance(height_x,age_y,height,age)\r\n",
        "print(d)"
      ],
      "execution_count": 35,
      "outputs": [
        {
          "output_type": "stream",
          "text": [
            "[7.0178344238090995, 12.006335827387138, 8.000624975587845, 4.019950248448356, 2.118962010041709, 2.0223748416156684, 19.001052602421794, 10.004498987955369, 15.0, 6.000833275470999]\n"
          ],
          "name": "stdout"
        }
      ]
    },
    {
      "cell_type": "code",
      "metadata": {
        "colab": {
          "base_uri": "https://localhost:8080/"
        },
        "id": "E3M59xNwuGav",
        "outputId": "11701aa2-3efc-4e8d-9222-b0b8b83eb3b4"
      },
      "source": [
        "import numpy as np\r\n",
        "from collections import Counter\r\n",
        "a=[]\r\n",
        "b=[]\r\n",
        "index = np.argsort(d)\r\n",
        "print(index)\r\n",
        "k = 7\r\n",
        "k_index = index[:k]\r\n",
        "print(k_index)\r\n",
        "for i in k_index:\r\n",
        "    a=np.append(a, label[i])\r\n",
        "    b=np.append(b, weight[i])\r\n",
        "print(\"Weight dự đoán là: \", int(np.mean(b)))\r\n",
        "print(\"Loại dự đoán là: \", Counter(a).most_common()[0][0])"
      ],
      "execution_count": 38,
      "outputs": [
        {
          "output_type": "stream",
          "text": [
            "[5 4 3 9 0 2 7 1 8 6]\n",
            "[5 4 3 9 0 2 7]\n",
            "Weight dự đoán:  63\n",
            "Loại dự đoán:  M\n"
          ],
          "name": "stdout"
        }
      ]
    }
  ]
}