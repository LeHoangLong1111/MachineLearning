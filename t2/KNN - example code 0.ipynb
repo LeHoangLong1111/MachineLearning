{
 "cells": [
  {
   "cell_type": "code",
   "execution_count": 1,
   "metadata": {},
   "outputs": [],
   "source": [
    "import numpy as np\n",
    "import matplotlib.pyplot as plt\n",
    "import pandas as pd "
   ]
  },
  {
   "cell_type": "code",
   "execution_count": 2,
   "metadata": {},
   "outputs": [
    {
     "data": {
      "image/png": "[encoded data removed]",
      "text/plain": [
       "<Figure size 432x288 with 1 Axes>"
      ]
     },
     "metadata": {
      "needs_background": "light"
     },
     "output_type": "display_data"
    }
   ],
   "source": [
    "x1 = np.random.rand(6)\n",
    "y1 = np.random.rand(6)\n",
    "x2 = np.random.rand(10)\n",
    "y2 = np.random.rand(10)\n",
    "plt.plot(x1,y1,'bo')\n",
    "plt.plot(x2,y2,'r*')\n",
    "plt.show()"
   ]
  },
  {
   "cell_type": "code",
   "execution_count": 3,
   "metadata": {},
   "outputs": [
    {
     "name": "stdout",
     "output_type": "stream",
     "text": [
      "16\n",
      "16\n"
     ]
    }
   ],
   "source": [
    "# nối x1,x2 và y1, y2\n",
    "x_train = np.concatenate((x1,x2),axis=0)\n",
    "y_train = np.concatenate((y1,y2),axis=0)\n",
    "print(len(x_train))\n",
    "print(len(y_train))"
   ]
  },
  {
   "cell_type": "code",
   "execution_count": 4,
   "metadata": {},
   "outputs": [],
   "source": [
    "import math\n",
    "def get_distance(a,b): # điểm test là (a,b)\n",
    "    distance = []\n",
    "    for i in range(len(x_train)):\n",
    "        d = (x_train[i]-a)**2 + (y_train[i]-b)**2\n",
    "        distance.append(math.sqrt(d))\n",
    "    return distance "
   ]
  },
  {
   "cell_type": "code",
   "execution_count": 5,
   "metadata": {},
   "outputs": [],
   "source": [
    "x = np.random.rand(3)\n",
    "y = np.random.rand(3)"
   ]
  },
  {
   "cell_type": "code",
   "execution_count": 6,
   "metadata": {},
   "outputs": [
    {
     "data": {
      "image/png": "[encoded data removed]",
      "text/plain": [
       "<Figure size 432x288 with 1 Axes>"
      ]
     },
     "metadata": {
      "needs_background": "light"
     },
     "output_type": "display_data"
    }
   ],
   "source": [
    "plt.plot(x1,y1,'bo')\n",
    "plt.plot(x2,y2,'ro')\n",
    "plt.plot(x[:1],y[:1],'y^')\n",
    "plt.show()"
   ]
  },
  {
   "cell_type": "code",
   "execution_count": 21,
   "metadata": {},
   "outputs": [
    {
     "name": "stdout",
     "output_type": "stream",
     "text": [
      "0 :  0.2610671031133077\n",
      "1 :  0.7150733813502482\n",
      "2 :  0.7514085311969636\n",
      "3 :  0.3848857438280361\n",
      "4 :  0.5056538899220373\n",
      "5 :  0.36089719499993583\n",
      "6 :  0.5159934080846785\n",
      "7 :  0.24645095408427184\n",
      "8 :  0.18767889863159004\n",
      "9 :  0.27089628415015676\n",
      "10 :  0.5830554424617589\n",
      "11 :  0.6440536988015924\n",
      "12 :  0.15371904056273167\n",
      "13 :  0.6460851874442542\n",
      "14 :  0.6026846461240024\n",
      "15 :  0.48021044292556725\n"
     ]
    }
   ],
   "source": [
    "# tính khoảng cách\n",
    "d = get_distance(x[0],y[0])\n",
    "for i in range(len(d)):\n",
    "    print(i,': ',d[i])"
   ]
  },
  {
   "cell_type": "code",
   "execution_count": 26,
   "metadata": {},
   "outputs": [
    {
     "name": "stdout",
     "output_type": "stream",
     "text": [
      "[12  8  7  0  9  5  3 15  4  6 10 14 11 13  1  2]\n",
      "[12  8  7  0  9]\n"
     ]
    }
   ],
   "source": [
    "# lấy k vị trí gần nhất \n",
    "# -> sort and get index\n",
    "index = np.argsort(d)\n",
    "print(index)\n",
    "k = 5\n",
    "k_index = index[:k]\n",
    "print(k_index)"
   ]
  },
  {
   "cell_type": "code",
   "execution_count": 27,
   "metadata": {},
   "outputs": [
    {
     "name": "stdout",
     "output_type": "stream",
     "text": [
      "count1 =  1\n",
      "count2 =  4\n"
     ]
    }
   ],
   "source": [
    "# kiểm tra xem có bao nhiêu phần tử thuộc tâp (x1,y1) và bao nhiêu phần tử thuộc tập (x2,y2)\n",
    "count1=0\n",
    "count2=0\n",
    "for i in k_index:\n",
    "    if i<len(x1):\n",
    "        count1 += 1\n",
    "    else:\n",
    "        count2 += 1\n",
    "print('count1 = ',count1)\n",
    "print('count2 = ',count2)"
   ]
  },
  {
   "cell_type": "code",
   "execution_count": null,
   "metadata": {},
   "outputs": [],
   "source": []
  }
 ],
 "metadata": {
  "kernelspec": {
   "display_name": "Python 3",
   "language": "python",
   "name": "python3"
  },
  "language_info": {
   "codemirror_mode": {
    "name": "ipython",
    "version": 3
   },
   "file_extension": ".py",
   "mimetype": "text/x-python",
   "name": "python",
   "nbconvert_exporter": "python",
   "pygments_lexer": "ipython3",
   "version": "3.7.5"
  }
 },
 "nbformat": 4,
 "nbformat_minor": 2
}
